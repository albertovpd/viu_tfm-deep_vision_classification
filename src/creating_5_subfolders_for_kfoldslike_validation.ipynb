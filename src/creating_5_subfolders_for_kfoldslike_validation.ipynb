{
 "cells": [
  {
   "cell_type": "markdown",
   "metadata": {
    "id": "k7KEbs7yDlLi"
   },
   "source": [
    "# Physically separated stratified k-folds falidation.\n",
    "\n",
    "- take 150 pics of each class for the validation dataset.\n",
    "\n",
    "With the rest of pictures:\n",
    "- regular partitions:\n",
    "    - 5 folders for train/test datasets.\n",
    "    - They will have shuffled data (so the 5 folders will have different pics in train/test datasets).\n",
    "    \n",
    "- irregular partitions:\n",
    "    - create folders with each time less pictures, to get the study of how lack of input data affetcs the model."
   ]
  },
  {
   "cell_type": "code",
   "execution_count": 1,
   "metadata": {
    "colab": {
     "base_uri": "https://localhost:8080/"
    },
    "id": "P9QvcGu9Dgky",
    "outputId": "a57396b5-0356-4393-bcb8-c71d9babd58a"
   },
   "outputs": [],
   "source": [
    "# Google Drive stuff\n",
    "#from google.colab import drive\n",
    "#drive.mount('/content/drive/', force_remount=True)"
   ]
  },
  {
   "cell_type": "markdown",
   "metadata": {
    "id": "zaGu4X1PjIcW"
   },
   "source": [
    "- libraries"
   ]
  },
  {
   "cell_type": "code",
   "execution_count": 2,
   "metadata": {
    "id": "J4MavW5KGvgS"
   },
   "outputs": [],
   "source": [
    "# local path\n",
    "from dotenv import load_dotenv\n",
    "import os\n",
    "import numpy as np\n",
    "import shutil\n",
    "import random"
   ]
  },
  {
   "cell_type": "markdown",
   "metadata": {
    "id": "s1a-LWavG41f"
   },
   "source": [
    "- paths"
   ]
  },
  {
   "cell_type": "code",
   "execution_count": 3,
   "metadata": {
    "id": "s_b-tNYrG4ky"
   },
   "outputs": [],
   "source": [
    "# for google drive\n",
    "# base_folder = \"/content/drive/My Drive/2-Estudios/viu-master_ai/tfm-deep_vision/\"\n",
    "\n",
    "# local\n",
    "load_dotenv()\n",
    "base_folder = os.environ.get(\"INPUT_PATH\")\n",
    "\n",
    "# pics located in\n",
    "root_dir  = base_folder+\"House_Room_Dataset-5_rooms/\"\n",
    "# my train/test/val folders will be created in\n",
    "input_destination = base_folder+\"dataset_1val_5traintest_folders/\""
   ]
  },
  {
   "cell_type": "code",
   "execution_count": 4,
   "metadata": {
    "colab": {
     "base_uri": "https://localhost:8080/"
    },
    "id": "iZ6Bn_O5F_o3",
    "outputId": "beb5fd86-53ee-471c-ce5a-31b05c9da6b1"
   },
   "outputs": [
    {
     "data": {
      "text/plain": [
       "['Dinning', 'Bedroom', 'Livingroom', 'Kitchen', 'Bathroom']"
      ]
     },
     "execution_count": 4,
     "metadata": {},
     "output_type": "execute_result"
    }
   ],
   "source": [
    "classes_dir = os.listdir(root_dir)\n",
    "classes_dir"
   ]
  },
  {
   "cell_type": "markdown",
   "metadata": {},
   "source": [
    "# Validation folder.\n",
    "\n",
    "Supposing train-test folders are for training models and validation folder for comparing them / fine tuning.\n",
    "- Creating the *validation set* with 150 pictures of every class. \n",
    "- The rest of pics go to the training and test set, in 5 shuffled folders."
   ]
  },
  {
   "cell_type": "code",
   "execution_count": 12,
   "metadata": {},
   "outputs": [
    {
     "name": "stdout",
     "output_type": "stream",
     "text": [
      "\n",
      " ***************************** \n",
      " _tfm-deep_vision_classification/input/dataset_1val_5traintest_folders/ \n",
      " Total images:  Dinning 1158 \n",
      " Validation:  150 \n",
      " Train and testing:  1008 \n",
      " *****************************\n",
      "\n",
      " ***************************** \n",
      " _tfm-deep_vision_classification/input/dataset_1val_5traintest_folders/ \n",
      " Total images:  Bedroom 1248 \n",
      " Validation:  150 \n",
      " Train and testing:  1098 \n",
      " *****************************\n",
      "\n",
      " ***************************** \n",
      " _tfm-deep_vision_classification/input/dataset_1val_5traintest_folders/ \n",
      " Total images:  Livingroom 1273 \n",
      " Validation:  150 \n",
      " Train and testing:  1123 \n",
      " *****************************\n",
      "\n",
      " ***************************** \n",
      " _tfm-deep_vision_classification/input/dataset_1val_5traintest_folders/ \n",
      " Total images:  Kitchen 965 \n",
      " Validation:  150 \n",
      " Train and testing:  815 \n",
      " *****************************\n",
      "\n",
      " ***************************** \n",
      " _tfm-deep_vision_classification/input/dataset_1val_5traintest_folders/ \n",
      " Total images:  Bathroom 606 \n",
      " Validation:  150 \n",
      " Train and testing:  456 \n",
      " *****************************\n"
     ]
    }
   ],
   "source": [
    "for cls in classes_dir:\n",
    "    # create subfolders with fraction\n",
    "    \n",
    "    os.makedirs(input_destination + 'val_ds/' + cls, exist_ok = True)    \n",
    "    os.makedirs(input_destination + 'train_test_ds/' + cls, exist_ok = True)\n",
    "    # for each class, let's counts its elements\n",
    "    src = root_dir + cls\n",
    "    allFileNames = os.listdir(src)\n",
    "\n",
    "    # shuffle it and split into train/test/val\n",
    "    np.random.seed()\n",
    "    np.random.shuffle(allFileNames)\n",
    "    val_ds, train_test_ds = np.split(np.array(allFileNames),[150])\n",
    "    \n",
    "    # save their initial path\n",
    "    val_ds = [src+'/'+ name  for name in val_ds.tolist()]\n",
    "    train_test_ds  = [src+'/' + name for name in train_test_ds.tolist()]\n",
    "    print(\"\\n *****************************\",\n",
    "          \"\\n\", input_destination[-70:] ,\n",
    "          \"\\n Total images: \",cls, len(allFileNames),\n",
    "          '\\n Validation: ', len(val_ds),\n",
    "          '\\n Train and testing: ', len(train_test_ds),\n",
    "          '\\n *****************************')\n",
    "    \n",
    "    # copy files from the initial path to this subfolders\n",
    "    for name in val_ds:\n",
    "        shutil.copy(name, input_destination +'val_ds/' + cls)\n",
    "    for name in train_test_ds:\n",
    "        shutil.copy(name, input_destination +'train_test_ds/' + cls)"
   ]
  },
  {
   "cell_type": "markdown",
   "metadata": {},
   "source": [
    "# Regular partitions.\n",
    "\n",
    "For train/test dataset.\n",
    "- Each one will have 2 folders for training (80%) and testing (20%), maintaining datset proportions.\n",
    "- Run this 5 times."
   ]
  },
  {
   "cell_type": "code",
   "execution_count": 13,
   "metadata": {},
   "outputs": [
    {
     "data": {
      "text/plain": [
       "'-deep_vision_classification/input/dataset_1val_5traintest_folders/train_test_ds/'"
      ]
     },
     "execution_count": 13,
     "metadata": {},
     "output_type": "execute_result"
    }
   ],
   "source": [
    "input_destination = input_destination+\"train_test_ds/\"\n",
    "input_destination[-80:]"
   ]
  },
  {
   "cell_type": "code",
   "execution_count": 19,
   "metadata": {},
   "outputs": [
    {
     "name": "stdout",
     "output_type": "stream",
     "text": [
      "\n",
      " ***************************** \n",
      " -deep_vision_classification/input/dataset_1val_5traintest_folders/train_test_ds/traintest_regular_partitions/fold4/ \n",
      " Total images:  Dinning 1008 \n",
      " Training:  806 \n",
      " Testing:  202 \n",
      " *****************************\n",
      "\n",
      " ***************************** \n",
      " -deep_vision_classification/input/dataset_1val_5traintest_folders/train_test_ds/traintest_regular_partitions/fold4/ \n",
      " Total images:  Bedroom 1098 \n",
      " Training:  878 \n",
      " Testing:  220 \n",
      " *****************************\n",
      "\n",
      " ***************************** \n",
      " -deep_vision_classification/input/dataset_1val_5traintest_folders/train_test_ds/traintest_regular_partitions/fold4/ \n",
      " Total images:  Livingroom 1123 \n",
      " Training:  898 \n",
      " Testing:  225 \n",
      " *****************************\n",
      "\n",
      " ***************************** \n",
      " -deep_vision_classification/input/dataset_1val_5traintest_folders/train_test_ds/traintest_regular_partitions/fold4/ \n",
      " Total images:  Kitchen 815 \n",
      " Training:  652 \n",
      " Testing:  163 \n",
      " *****************************\n",
      "\n",
      " ***************************** \n",
      " -deep_vision_classification/input/dataset_1val_5traintest_folders/train_test_ds/traintest_regular_partitions/fold4/ \n",
      " Total images:  Bathroom 456 \n",
      " Training:  364 \n",
      " Testing:  92 \n",
      " *****************************\n"
     ]
    }
   ],
   "source": [
    "train_ratio = 0.8\n",
    "# change manually the name of the folder\n",
    "folder = \"traintest_regular_partitions/fold4/\"\n",
    "for cls in classes_dir:\n",
    "    # create subfolders    \n",
    "    os.makedirs(input_destination + folder +'train_ds/' + cls, exist_ok=True)\n",
    "    os.makedirs(input_destination + folder +'test_ds/' + cls, exist_ok=True)\n",
    "    \n",
    "    # for each class, count its elements\n",
    "    src = input_destination + cls\n",
    "    allFileNames = os.listdir(src)\n",
    "\n",
    "    # shuffle it and split into train/test\n",
    "    np.random.seed()\n",
    "    np.random.shuffle(allFileNames)\n",
    "    train_FileNames, test_FileNames = np.split(np.array(allFileNames),[int(train_ratio * len(allFileNames))])\n",
    "    \n",
    "    # save their initial path\n",
    "    train_FileNames = [src+'/'+ name  for name in train_FileNames.tolist()]\n",
    "    test_FileNames  = [src+'/' + name for name in test_FileNames.tolist()]\n",
    "    print(\"\\n *****************************\",\n",
    "          \"\\n\", input_destination[-80:] + folder,\n",
    "          \"\\n Total images: \",cls, len(allFileNames),\n",
    "          '\\n Training: ', len(train_FileNames),\n",
    "          '\\n Testing: ', len(test_FileNames),\n",
    "          '\\n *****************************')\n",
    "    \n",
    "    # copy files from the initial path to the final folders\n",
    "    for name in train_FileNames:\n",
    "        shutil.copy(name, input_destination + folder +'train_ds/' + cls)\n",
    "    for name in test_FileNames:\n",
    "        shutil.copy(name, input_destination + folder +'test_ds/' + cls)"
   ]
  },
  {
   "cell_type": "markdown",
   "metadata": {},
   "source": [
    "# Irregular partitions\n",
    "\n",
    "Without using the 150 pics of each class I took to create the *val dataset*, now let's create 4 folders, in which I'll have each time fewer pics for the *train dataset*. This will display how the lack of input data affects capabilities of NN and also, how it's performing while adding synthetic data."
   ]
  },
  {
   "cell_type": "code",
   "execution_count": 17,
   "metadata": {},
   "outputs": [
    {
     "data": {
      "text/plain": [
       "'08'"
      ]
     },
     "execution_count": 17,
     "metadata": {},
     "output_type": "execute_result"
    }
   ],
   "source": []
  },
  {
   "cell_type": "code",
   "execution_count": 5,
   "metadata": {},
   "outputs": [
    {
     "data": {
      "text/plain": [
       "'-deep_vision_classification/input/dataset_1val_5traintest_folders/train_test_ds/'"
      ]
     },
     "execution_count": 5,
     "metadata": {},
     "output_type": "execute_result"
    }
   ],
   "source": [
    "input_destination = input_destination+\"train_test_ds/\"\n",
    "input_destination[-80:]"
   ]
  },
  {
   "cell_type": "code",
   "execution_count": 15,
   "metadata": {},
   "outputs": [
    {
     "name": "stdout",
     "output_type": "stream",
     "text": [
      "\n",
      " ***************************** \n",
      " -deep_vision_classification/input/dataset_1val_5traintest_folders/train_test_ds/traintest_irregular_partitions/fold03/ \n",
      " Total images: for Dinning : 1008. Percentaje used in training: 0.3 \n",
      " Original train_ds:  Dinning 806 \n",
      " Training:  241 \n",
      " Testing:  202 \n",
      " *****************************\n",
      "\n",
      " ***************************** \n",
      " -deep_vision_classification/input/dataset_1val_5traintest_folders/train_test_ds/traintest_irregular_partitions/fold03/ \n",
      " Total images: for Bedroom : 1098. Percentaje used in training: 0.3 \n",
      " Original train_ds:  Bedroom 878 \n",
      " Training:  263 \n",
      " Testing:  220 \n",
      " *****************************\n",
      "\n",
      " ***************************** \n",
      " -deep_vision_classification/input/dataset_1val_5traintest_folders/train_test_ds/traintest_irregular_partitions/fold03/ \n",
      " Total images: for Livingroom : 1123. Percentaje used in training: 0.3 \n",
      " Original train_ds:  Livingroom 898 \n",
      " Training:  269 \n",
      " Testing:  225 \n",
      " *****************************\n",
      "\n",
      " ***************************** \n",
      " -deep_vision_classification/input/dataset_1val_5traintest_folders/train_test_ds/traintest_irregular_partitions/fold03/ \n",
      " Total images: for Kitchen : 815. Percentaje used in training: 0.3 \n",
      " Original train_ds:  Kitchen 652 \n",
      " Training:  195 \n",
      " Testing:  163 \n",
      " *****************************\n",
      "\n",
      " ***************************** \n",
      " -deep_vision_classification/input/dataset_1val_5traintest_folders/train_test_ds/traintest_irregular_partitions/fold03/ \n",
      " Total images: for Bathroom : 456. Percentaje used in training: 0.3 \n",
      " Original train_ds:  Bathroom 364 \n",
      " Training:  109 \n",
      " Testing:  92 \n",
      " *****************************\n"
     ]
    }
   ],
   "source": [
    "reduced_ratio = 0.30\n",
    "train_ratio = 0.8\n",
    "# change manually the name of the folder\n",
    "folder = \"traintest_irregular_partitions/fold\"+str(reduced_ratio).replace(\".\",\"\")+\"/\"\n",
    "for cls in classes_dir:\n",
    "    # create subfolders    \n",
    "    os.makedirs(input_destination + folder +'train_ds/' + cls, exist_ok=True)\n",
    "    os.makedirs(input_destination + folder +'test_ds/' + cls, exist_ok=True)\n",
    "    \n",
    "    # for each class, count its elements\n",
    "    src = input_destination + cls\n",
    "    allFileNames = os.listdir(src)\n",
    "\n",
    "    # shuffle it and split into train/test\n",
    "    np.random.seed()\n",
    "    np.random.shuffle(allFileNames)\n",
    "    train_FileNames, test_FileNames = np.split(np.array(allFileNames),[int(train_ratio * len(allFileNames))])\n",
    "    train_ds, discard = np.split(np.array(train_FileNames),[int(reduced_ratio * len(train_FileNames))])\n",
    "\n",
    "    \n",
    "    # save their initial path\n",
    "    train_ds = [src+'/'+ name  for name in train_ds.tolist()]\n",
    "    #print(train_ds)\n",
    "    test_FileNames  = [src+'/' + name for name in test_FileNames.tolist()]\n",
    "    print(\"\\n *****************************\",\n",
    "          \"\\n\", input_destination[-80:] + folder,\n",
    "          \"\\n Total images: for {} : {}. Percentaje used in training: {}\".format(cls, len(allFileNames), reduced_ratio),\n",
    "          \"\\n Original train_ds: \",cls, len(train_FileNames),\n",
    "          '\\n Training: ', len(train_ds),\n",
    "          '\\n Testing: ', len(test_FileNames),\n",
    "          '\\n *****************************')\n",
    "\n",
    "    # copy files from the initial path to the final folders\n",
    "    for name in train_ds:\n",
    "        shutil.copy(name, input_destination + folder +'train_ds/' + cls)\n",
    "    for name in test_FileNames:\n",
    "        shutil.copy(name, input_destination + folder +'test_ds/' + cls)"
   ]
  },
  {
   "cell_type": "code",
   "execution_count": null,
   "metadata": {},
   "outputs": [],
   "source": [
    "# this way the taken fraction is decreasing for train and test set, but you want a decrease just in the train set\n",
    "'''reduced_ratio = 0.6\n",
    "train_ratio = 0.8\n",
    "# change manually the name of the folder\n",
    "folder = \"traintest_irregular_partitions/fold06/\"\n",
    "for cls in classes_dir:\n",
    "    # create subfolders    \n",
    "    os.makedirs(input_destination + folder +'train_ds/' + cls, exist_ok=True)\n",
    "    os.makedirs(input_destination + folder +'test_ds/' + cls, exist_ok=True)\n",
    "    \n",
    "    # for each class, count its elements\n",
    "    src = input_destination + cls\n",
    "    allFileNames = os.listdir(src)\n",
    "\n",
    "    # shuffle it and split into train/test\n",
    "    np.random.seed()\n",
    "    np.random.shuffle(allFileNames)\n",
    "    work_with, discard = np.split(np.array(allFileNames),[int(reduced_ratio * len(allFileNames))])\n",
    "    train_FileNames, test_FileNames = np.split(np.array(work_with),[int(train_ratio * len(work_with))])\n",
    "    \n",
    "    # save their initial path\n",
    "    train_FileNames = [src+'/'+ name  for name in train_FileNames.tolist()]\n",
    "    test_FileNames  = [src+'/' + name for name in test_FileNames.tolist()]\n",
    "    print(\"\\n *****************************\",\n",
    "          \"\\n\", input_destination[-80:] + folder,\n",
    "          \"\\n Total images: \",cls, len(allFileNames),\n",
    "          \"\\n After removing percentaje: \",cls, len(work_with),\n",
    "          '\\n Training: ', len(train_FileNames),\n",
    "          '\\n Testing: ', len(test_FileNames),\n",
    "          '\\n *****************************')\n",
    "    \n",
    "    # copy files from the initial path to the final folders\n",
    "    for name in train_FileNames:\n",
    "        shutil.copy(name, input_destination + folder +'train_ds/' + cls)\n",
    "    for name in test_FileNames:\n",
    "        shutil.copy(name, input_destination + folder +'test_ds/' + cls)'''"
   ]
  },
  {
   "cell_type": "code",
   "execution_count": null,
   "metadata": {},
   "outputs": [],
   "source": []
  }
 ],
 "metadata": {
  "colab": {
   "collapsed_sections": [],
   "name": "tfm-creating_2_folders_5_classes.ipynb",
   "provenance": []
  },
  "kernelspec": {
   "display_name": "Python 3",
   "language": "python",
   "name": "python3"
  },
  "language_info": {
   "codemirror_mode": {
    "name": "ipython",
    "version": 3
   },
   "file_extension": ".py",
   "mimetype": "text/x-python",
   "name": "python",
   "nbconvert_exporter": "python",
   "pygments_lexer": "ipython3",
   "version": "3.7.6"
  }
 },
 "nbformat": 4,
 "nbformat_minor": 4
}
