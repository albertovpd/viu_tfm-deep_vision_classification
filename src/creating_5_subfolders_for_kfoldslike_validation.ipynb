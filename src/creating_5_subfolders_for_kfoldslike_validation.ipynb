{
 "cells": [
  {
   "cell_type": "markdown",
   "metadata": {
    "id": "k7KEbs7yDlLi"
   },
   "source": [
    "# Working with *image_dataset_from_directory()*.\n",
    "\n",
    "Shown here => https://github.com/albertovpd/viu_tfm-deep_vision_classification/blob/3folders_08trainds/src/tfm_2022_02_05.ipynb , it looks like nns are not learning anything but resnet50.\n",
    "Let's create the following:\n",
    "5 folders, each one will have its train and validation set, and each one of them will have folders with the 5 classes.\n",
    "\n",
    "I'll run the model in the 5 different folders hoping to get more or less the same learning curves in all of them. This is kind of a homemade cross validation \n",
    "\n",
    "# Splitting data\n",
    "\n",
    "- let's create 5 folders with random percentajes of the input data\n",
    "- that folders will contain 2 subfolders, train and test\n",
    "- every train and test folder will  have a subfolder with each class"
   ]
  },
  {
   "cell_type": "code",
   "execution_count": 1,
   "metadata": {
    "colab": {
     "base_uri": "https://localhost:8080/"
    },
    "id": "P9QvcGu9Dgky",
    "outputId": "a57396b5-0356-4393-bcb8-c71d9babd58a"
   },
   "outputs": [],
   "source": [
    "# Google Drive stuff\n",
    "#from google.colab import drive\n",
    "#drive.mount('/content/drive/', force_remount=True)"
   ]
  },
  {
   "cell_type": "markdown",
   "metadata": {
    "id": "zaGu4X1PjIcW"
   },
   "source": [
    "- libraries"
   ]
  },
  {
   "cell_type": "code",
   "execution_count": 1,
   "metadata": {
    "id": "J4MavW5KGvgS"
   },
   "outputs": [],
   "source": [
    "# local path\n",
    "from dotenv import load_dotenv\n",
    "import os\n",
    "import numpy as np\n",
    "import shutil\n",
    "import random"
   ]
  },
  {
   "cell_type": "markdown",
   "metadata": {
    "id": "s1a-LWavG41f"
   },
   "source": [
    "- paths"
   ]
  },
  {
   "cell_type": "code",
   "execution_count": 2,
   "metadata": {
    "id": "s_b-tNYrG4ky"
   },
   "outputs": [],
   "source": [
    "# for google drive\n",
    "# base_folder = \"/content/drive/My Drive/2-Estudios/viu-master_ai/tfm-deep_vision/\"\n",
    "\n",
    "# local\n",
    "load_dotenv()\n",
    "base_folder = os.environ.get(\"INPUT_PATH\")\n",
    "\n",
    "# pics located in\n",
    "root_dir  = base_folder+\"House_Room_Dataset-5_rooms/\"\n",
    "# my train/test/val folders will be created in\n",
    "input_destination = base_folder+\"dataset_1val_5traintest_folders/\""
   ]
  },
  {
   "cell_type": "code",
   "execution_count": 3,
   "metadata": {
    "colab": {
     "base_uri": "https://localhost:8080/"
    },
    "id": "iZ6Bn_O5F_o3",
    "outputId": "beb5fd86-53ee-471c-ce5a-31b05c9da6b1"
   },
   "outputs": [
    {
     "data": {
      "text/plain": [
       "['Dinning', 'Bedroom', 'Livingroom', 'Kitchen', 'Bathroom']"
      ]
     },
     "execution_count": 3,
     "metadata": {},
     "output_type": "execute_result"
    }
   ],
   "source": [
    "classes_dir = os.listdir(root_dir)\n",
    "classes_dir"
   ]
  },
  {
   "cell_type": "markdown",
   "metadata": {},
   "source": [
    "### Validation folder.\n",
    "\n",
    "- Creating the *validation set* with 150 pictures of every class. \n",
    "- The rest of pics go to the training and test set, in 5 shuffled folders."
   ]
  },
  {
   "cell_type": "code",
   "execution_count": 5,
   "metadata": {},
   "outputs": [
    {
     "name": "stdout",
     "output_type": "stream",
     "text": [
      "\n",
      " ***************************** \n",
      " _tfm-deep_vision_classification/input/dataset_1val_5traintest_folders/ \n",
      " Total images:  Dinning 1158 \n",
      " Validation:  150 \n",
      " Train and testing:  1008 \n",
      " *****************************\n",
      "\n",
      " ***************************** \n",
      " _tfm-deep_vision_classification/input/dataset_1val_5traintest_folders/ \n",
      " Total images:  Bedroom 1248 \n",
      " Validation:  150 \n",
      " Train and testing:  1098 \n",
      " *****************************\n",
      "\n",
      " ***************************** \n",
      " _tfm-deep_vision_classification/input/dataset_1val_5traintest_folders/ \n",
      " Total images:  Livingroom 1273 \n",
      " Validation:  150 \n",
      " Train and testing:  1123 \n",
      " *****************************\n",
      "\n",
      " ***************************** \n",
      " _tfm-deep_vision_classification/input/dataset_1val_5traintest_folders/ \n",
      " Total images:  Kitchen 965 \n",
      " Validation:  150 \n",
      " Train and testing:  815 \n",
      " *****************************\n",
      "\n",
      " ***************************** \n",
      " _tfm-deep_vision_classification/input/dataset_1val_5traintest_folders/ \n",
      " Total images:  Bathroom 606 \n",
      " Validation:  150 \n",
      " Train and testing:  456 \n",
      " *****************************\n"
     ]
    }
   ],
   "source": [
    "for cls in classes_dir:\n",
    "    # create subfolders with fraction\n",
    "    \n",
    "    os.makedirs(input_destination + 'val_ds/' + cls, exist_ok = True)    \n",
    "    os.makedirs(input_destination + 'train_test_ds/' + cls, exist_ok = True)\n",
    "    # for each class, let's counts its elements\n",
    "    src = root_dir + cls\n",
    "    allFileNames = os.listdir(src)\n",
    "\n",
    "    # shuffle it and split into train/test/val\n",
    "    np.random.seed()\n",
    "    np.random.shuffle(allFileNames)\n",
    "    val_ds, train_test_ds = np.split(np.array(allFileNames),[150])\n",
    "    \n",
    "    # save their initial path\n",
    "    val_ds = [src+'/'+ name  for name in val_ds.tolist()]\n",
    "    train_test_ds  = [src+'/' + name for name in train_test_ds.tolist()]\n",
    "    print(\"\\n *****************************\",\n",
    "          \"\\n\", input_destination[-70:] ,\n",
    "          \"\\n Total images: \",cls, len(allFileNames),\n",
    "          '\\n Validation: ', len(val_ds),\n",
    "          '\\n Train and testing: ', len(train_test_ds),\n",
    "          '\\n *****************************')\n",
    "    \n",
    "    # copy files from the initial path to this subfolders\n",
    "    for name in val_ds:\n",
    "        shutil.copy(name, input_destination +'val_ds/' + cls)\n",
    "    for name in train_test_ds:\n",
    "        shutil.copy(name, input_destination +'train_test_ds/' + cls)"
   ]
  },
  {
   "cell_type": "markdown",
   "metadata": {},
   "source": [
    "### Creating the 5 folds for train and test.\n",
    "- Each one will have 2 folders for training (80%) and testing (20%), maintaining datset proportions.\n",
    "- Run this 5 times."
   ]
  },
  {
   "cell_type": "code",
   "execution_count": 3,
   "metadata": {},
   "outputs": [
    {
     "data": {
      "text/plain": [
       "'-deep_vision_classification/input/dataset_1val_5traintest_folders/train_test_ds/'"
      ]
     },
     "execution_count": 3,
     "metadata": {},
     "output_type": "execute_result"
    }
   ],
   "source": [
    "input_destination = input_destination+\"train_test_ds/\"\n",
    "input_destination[-80:]"
   ]
  },
  {
   "cell_type": "code",
   "execution_count": 6,
   "metadata": {},
   "outputs": [],
   "source": [
    "# let's take a random fraction\n",
    "np.random.seed()\n",
    "#fraction = float(random.randrange(30, 80))/100\n",
    "#fraction_name = \"fold\"+str(fraction).replace(\".\",\"\")+\"/\"\n",
    "#print(fraction, fraction_name)"
   ]
  },
  {
   "cell_type": "code",
   "execution_count": null,
   "metadata": {},
   "outputs": [],
   "source": [
    "train_ratio = 0.8\n",
    "\n",
    "for cls in classes_dir:\n",
    "    # create subfolders with fraction\n",
    "    \n",
    "    os.makedirs(input_destination + fraction_name +'train_ds/' + cls, exist_ok=True)\n",
    "    os.makedirs(input_destination + fraction_name +'test_ds/' + cls, exist_ok=True)\n",
    "    \n",
    "    # for each class, let's counts its elements\n",
    "    src = root_dir + cls\n",
    "    allFileNames = os.listdir(src)\n",
    "\n",
    "    # shuffle it and split into train/test/val\n",
    "    np.random.seed()\n",
    "    np.random.shuffle(allFileNames)\n",
    "    sliced_list, discard = np.split(allFileNames, [int(len(allFileNames)*fraction)])\n",
    "    train_FileNames, test_FileNames = np.split(np.array(sliced_list),[int(train_ratio * len(sliced_list))])\n",
    "    \n",
    "    # save their initial path\n",
    "    train_FileNames = [src+'/'+ name  for name in train_FileNames.tolist()]\n",
    "    test_FileNames  = [src+'/' + name for name in test_FileNames.tolist()]\n",
    "    print(\"\\n *****************************\",\n",
    "          \"\\n\", input_destination + fraction_name,\n",
    "          \"\\n Total images: \",cls, len(sliced_list),\n",
    "          '\\n Training: ', len(train_FileNames),\n",
    "          '\\n Testing: ', len(test_FileNames),\n",
    "          '\\n *****************************')\n",
    "    \n",
    "    # copy files from the initial path to the final folders\n",
    "    for name in train_FileNames:\n",
    "        shutil.copy(name, input_destination + fraction_name +'train_ds/' + cls)\n",
    "    for name in test_FileNames:\n",
    "        shutil.copy(name, input_destination + fraction_name +'test_ds/' + cls)"
   ]
  }
 ],
 "metadata": {
  "colab": {
   "collapsed_sections": [],
   "name": "tfm-creating_2_folders_5_classes.ipynb",
   "provenance": []
  },
  "kernelspec": {
   "display_name": "Python 3",
   "language": "python",
   "name": "python3"
  },
  "language_info": {
   "codemirror_mode": {
    "name": "ipython",
    "version": 3
   },
   "file_extension": ".py",
   "mimetype": "text/x-python",
   "name": "python",
   "nbconvert_exporter": "python",
   "pygments_lexer": "ipython3",
   "version": "3.7.6"
  }
 },
 "nbformat": 4,
 "nbformat_minor": 4
}
