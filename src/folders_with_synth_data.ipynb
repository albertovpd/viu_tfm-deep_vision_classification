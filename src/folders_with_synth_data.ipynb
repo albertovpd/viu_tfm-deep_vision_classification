{
 "cells": [
  {
   "cell_type": "markdown",
   "metadata": {},
   "source": [
    "# Creating folders with synthetic data.\n",
    "\n",
    "In this notebook https://github.com/albertovpd/viu_tfm-deep_vision_classification/blob/kfolds_validation/src/creating_5_subfolders_for_kfoldslike_validation.ipynb were did the following:\n",
    "- For all available data, it was shuffled and taken 150 pics of each class for the test set.\n",
    "- The remaining pics were at first shuffled again, and then distributed in train/validation folders (80-20%).\n",
    "\n",
    "Now, 3 new folders will be created with 50, 250 and 480 synthetic pics for each class. So:\n",
    "- The same 150 pics are taken for the test set.\n",
    "- The same train/validation distribution (80-20%) is taken.\n",
    "- 50 synth pics of each class are randomly chosen, added to the real ones to create the folder *\"synth50_train_val_ds\"*. The same process is repeated with 250 and 480 synth pics."
   ]
  },
  {
   "cell_type": "code",
   "execution_count": 1,
   "metadata": {},
   "outputs": [],
   "source": [
    "# local path\n",
    "from dotenv import load_dotenv\n",
    "import os\n",
    "import numpy as np\n",
    "import shutil\n",
    "import random\n",
    "import shutil"
   ]
  },
  {
   "cell_type": "code",
   "execution_count": 2,
   "metadata": {},
   "outputs": [],
   "source": [
    "# local\n",
    "load_dotenv()\n",
    "base_folder = os.environ.get(\"INPUT_PATH\")\n",
    "\n",
    "real_input  = base_folder + \"dataset_1test_5trainval_folders/train_val_ds/\"\n",
    "synth_input = base_folder + \"common_misclassifications/mosaics/\"\n",
    "synth_output= base_folder + \"dataset_synth_data-1test_3trainval/train_val_ds/\"\n",
    "\n",
    "classes = {\n",
    "    'Dinning/' : 'dinning_fakes/', \n",
    "   'Bedroom/' : 'bedroom_fakes/',\n",
    "   'Livingroom/' : 'livingroom_fakes/',\n",
    "   'Kitchen/' : 'kitchen_fakes/',\n",
    "   'Bathroom/': 'bathroom_fakes/'\n",
    "            }\n",
    "\n",
    "new_folders = {\n",
    "    \"synth50_train_val_ds/\" : 50, \n",
    "    \"synth250_train_val_ds/\": 250, \n",
    "    \"synth480_train_val_ds/\": 480\n",
    "                }"
   ]
  },
  {
   "cell_type": "code",
   "execution_count": 3,
   "metadata": {},
   "outputs": [],
   "source": [
    "# copying all real pics to the 3 new folders\n",
    "for n in new_folders:\n",
    "    for c in classes:\n",
    "        \n",
    "        # create the new folders\n",
    "        os.makedirs(synth_output + n + c, exist_ok = True)\n",
    "        \n",
    "        # copying real pics to new folders\n",
    "        real_pics = os.listdir(real_input+c)\n",
    "        for r in real_pics:\n",
    "            shutil.copyfile(real_input + c + r, synth_output + n + c + r)"
   ]
  },
  {
   "cell_type": "code",
   "execution_count": 4,
   "metadata": {},
   "outputs": [],
   "source": [
    "# copying fake pics to the new folders\n",
    "for n in new_folders:\n",
    "    for c in classes:\n",
    "        \n",
    "        # locate fake pics and shuffle them\n",
    "        fake_pics = os.listdir(synth_input+classes[c])\n",
    "        np.random.seed()\n",
    "        np.random.shuffle(fake_pics)\n",
    "        \n",
    "        # create a list of 50, 250 and 480 synthetic shuffled pics\n",
    "        fake_shuffled, _ = np.split(np.array(fake_pics),[new_folders[n]])\n",
    "        #print(n, c, len(fake_shuffled))\n",
    "        \n",
    "        # copy that pics into the new folders\n",
    "        for f in fake_shuffled:\n",
    "            shutil.copyfile(synth_input + classes[c] + f, synth_output + n + c + f)\n",
    "            #print(synth_output + n + c+f)"
   ]
  }
 ],
 "metadata": {
  "kernelspec": {
   "display_name": "mlsklearn",
   "language": "python",
   "name": "mlsklearn"
  },
  "language_info": {
   "codemirror_mode": {
    "name": "ipython",
    "version": 3
   },
   "file_extension": ".py",
   "mimetype": "text/x-python",
   "name": "python",
   "nbconvert_exporter": "python",
   "pygments_lexer": "ipython3",
   "version": "3.7.6"
  }
 },
 "nbformat": 4,
 "nbformat_minor": 4
}
