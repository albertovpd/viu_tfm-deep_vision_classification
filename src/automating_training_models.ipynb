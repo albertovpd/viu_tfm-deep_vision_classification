{
 "cells": [
  {
   "cell_type": "markdown",
   "metadata": {
    "id": "Mx6oAosiMINc"
   },
   "source": [
    "\n",
    "-----------------------------------------------------\n",
    "### Notebook Documentation.\n",
    "#### 1. TFM\n",
    "---------------------------------\n",
    "Different architectures / parameters.\n"
   ]
  },
  {
   "cell_type": "code",
   "execution_count": null,
   "metadata": {
    "colab": {
     "base_uri": "https://localhost:8080/"
    },
    "id": "d7_tt-sZ5mVV",
    "outputId": "fa218d16-64fa-430a-99f5-db2ca50f7ca2"
   },
   "outputs": [],
   "source": [
    "# Google Drive stuff\n",
    "from google.colab import drive\n",
    "drive.mount('/content/drive/', force_remount=True)"
   ]
  },
  {
   "cell_type": "markdown",
   "metadata": {
    "id": "NjywOt4u6KTk"
   },
   "source": [
    "- libraries"
   ]
  },
  {
   "cell_type": "code",
   "execution_count": null,
   "metadata": {
    "colab": {
     "base_uri": "https://localhost:8080/"
    },
    "id": "GMWNLczJ5xdP",
    "outputId": "3d426d71-6176-4ff5-8884-3a3648ee422c"
   },
   "outputs": [],
   "source": [
    "%tensorflow_version 2.x\n",
    "import tensorflow as tf\n",
    "device_name = tf.test.gpu_device_name()\n",
    "if device_name != '/device:GPU:0':\n",
    "  raise SystemError('GPU device not found')\n",
    "print('Found GPU at: {}'.format(device_name))"
   ]
  },
  {
   "cell_type": "code",
   "execution_count": null,
   "metadata": {
    "id": "FPytttC66F8-"
   },
   "outputs": [],
   "source": [
    "%tensorflow_version 2.x\n",
    "# batch ingestion of pics without pickle\n",
    "from tensorflow.keras.preprocessing import image_dataset_from_directory\n",
    "\n",
    "# nns\n",
    "from tensorflow.keras.applications import VGG16, VGG19,Xception, InceptionResNetV2, DenseNet121, ResNet50 \n",
    "\n",
    "from tensorflow.keras import Model\n",
    "from tensorflow.keras.models import Sequential, load_model\n",
    "from tensorflow.keras import layers # for data augmentation\n",
    "#from tensorflow.keras.layers import GlobalAveragePooling2D, Dense, Dropout, MaxPooling2D, Flatten # Input, Conv2D, \n",
    "#from tensorflow.keras.layers import Layer\n",
    "\n",
    "# optimization\n",
    "from tensorflow.keras.optimizers import Adam #, SGD\n",
    "from tensorflow.keras.losses import SparseCategoricalCrossentropy, categorical_crossentropy\n",
    "from tensorflow.keras.callbacks import EarlyStopping\n",
    "\n",
    "# metrics\n",
    "from sklearn.metrics import confusion_matrix\n",
    "from sklearn.metrics import classification_report\n",
    "#from sklearn.metrics import plot_precision_recall_curve\n",
    "from itertools import chain # to flatten the real labels array from validation set\n",
    "import json # to save in a file metrics\n",
    "#from datetime import datetime # to name results\n",
    "\n",
    "# viz & arrays\n",
    "import numpy as np\n",
    "import pandas as pd\n",
    "import matplotlib.pyplot as plt\n",
    "import seaborn as sns\n",
    "%matplotlib inline\n",
    "\n",
    "\n",
    "# my functions\n",
    "from my_functions_trainvaltest import (vgg19_vgg16,\n",
    "                                       generic_last_2layers,\n",
    "                                       plotting_model,\n",
    "                                       model_evaluation,\n",
    "                                       classification_report_pic,\n",
    "                                       confusion_matrix_report\n",
    "                                      )"
   ]
  },
  {
   "cell_type": "markdown",
   "metadata": {
    "id": "-Qp53K55IRfa"
   },
   "source": [
    "- paths"
   ]
  },
  {
   "cell_type": "code",
   "execution_count": null,
   "metadata": {
    "id": "h1_973fd7X3a"
   },
   "outputs": [],
   "source": [
    "# paths i'll use\n",
    "base_folder = \"/content/drive/My Drive/2-Estudios/viu-master_ai/tfm-deep_vision/\"\n",
    "input_folder = base_folder+\"input/\" #for pickling data\n",
    "input = input_folder+\"House_Room_Dataset-5_rooms\" # for requesting directly pics\n",
    "src_folder =  base_folder+\"src/\"\n",
    "output_folder = base_folder + \"/output/\"\n",
    "\n",
    "# insert the directory for using my functions in this notebook\n",
    "import sys\n",
    "sys.path.insert(0,\"/content/drive/My Drive/2-Estudios/viu-master_ai/tfm-deep_vision/src/\")"
   ]
  },
  {
   "cell_type": "markdown",
   "metadata": {
    "id": "ks03Ovwc7mw_"
   },
   "source": [
    "# getting pics from folder instead of pickling them\n",
    "\n",
    "In previous versions I used a pickled dataset to work with. That was quite a mess, because it loads the full dataset in memory, so sometimes the notebook crashed. Now I batch process the pictures with this keras method => https://keras.io/examples/vision/image_classification_from_scratch/\n",
    "- *image_dataset_from_directory* has no train-test-val. it has just train-val."
   ]
  },
  {
   "cell_type": "code",
   "execution_count": null,
   "metadata": {
    "id": "TakQZqY55K2_"
   },
   "outputs": [],
   "source": [
    "image_size = (128,128)\n",
    "batch_size = 128 # 32"
   ]
  },
  {
   "cell_type": "code",
   "execution_count": null,
   "metadata": {
    "colab": {
     "base_uri": "https://localhost:8080/"
    },
    "id": "dWM7vP9h6QLO",
    "outputId": "a45c26d4-ddde-4451-c56e-b671a5d12a4d"
   },
   "outputs": [],
   "source": [
    "# train set\n",
    "# https://www.tensorflow.org/tutorials/images/classification\n",
    "train_ds = image_dataset_from_directory(\n",
    "    input,\n",
    "    class_names=[\"Bedroom\",\"Bathroom\",\"Dinning\",\"Livingroom\",\"Kitchen\"],\n",
    "    # labels='inferred',\n",
    "    # label_mode='categorical',\n",
    "    validation_split=0.2,\n",
    "    subset=\"training\",\n",
    "    seed=42,\n",
    "    image_size= image_size,\n",
    "    batch_size= batch_size,\n",
    "    color_mode='rgb'\n",
    ")"
   ]
  },
  {
   "cell_type": "code",
   "execution_count": null,
   "metadata": {
    "colab": {
     "base_uri": "https://localhost:8080/"
    },
    "id": "XPutZ0bi7w1l",
    "outputId": "94c65684-aa6f-4848-bcd1-a0b23ce1d447"
   },
   "outputs": [],
   "source": [
    "# validation set (use the same seed and split)\n",
    "val_ds = image_dataset_from_directory( # utilizar el de validación como test\n",
    "    input,\n",
    "    # labels='inferred',\n",
    "    # label_mode='categorical',\n",
    "    class_names=[\"Bedroom\",\"Bathroom\",\"Dinning\",\"Livingroom\",\"Kitchen\"],\n",
    "    validation_split=0.2,\n",
    "    subset=\"validation\",\n",
    "    seed=42,\n",
    "    image_size=image_size,\n",
    "    batch_size=batch_size,\n",
    "    color_mode='rgb'\n",
    ")"
   ]
  },
  {
   "cell_type": "code",
   "execution_count": null,
   "metadata": {
    "colab": {
     "base_uri": "https://localhost:8080/"
    },
    "id": "0AiLOUx08BLt",
    "outputId": "59025aeb-7740-4f84-afbd-d147a29903f2"
   },
   "outputs": [],
   "source": [
    "class_names = train_ds.class_names\n",
    "class_names"
   ]
  },
  {
   "cell_type": "markdown",
   "metadata": {
    "id": "42IAC7MO8gcG"
   },
   "source": [
    "# data augmentation"
   ]
  },
  {
   "cell_type": "code",
   "execution_count": null,
   "metadata": {
    "colab": {
     "base_uri": "https://localhost:8080/",
     "height": 575
    },
    "id": "bvf-Kx178IP2",
    "outputId": "b257edb9-b5ed-4d20-d4eb-055fe48bca25"
   },
   "outputs": [],
   "source": [
    "# https://www.tensorflow.org/guide/keras/preprocessing_layers\n",
    "data_augmentation = Sequential(  \n",
    "  [\n",
    "    layers.RandomFlip(\"horizontal\",input_shape=(image_size[0],image_size[1],3)),\n",
    "    layers.RandomRotation(0.1),\n",
    "    layers.RandomZoom(0.005),\n",
    "    #random_invert(0.2),  # color inversion\n",
    "    layers.RandomContrast(0.1),\n",
    "    #Contrast(),\n",
    "    #layers.RandomCrop(image_size[0],image_size[1]), \n",
    "    layers.RandomWidth(0.05, interpolation=\"gaussian\"),\n",
    "    layers.RandomHeight(0.05),\n",
    "    layers.RandomTranslation((-0.2,0.3),(-0.2,0.3), fill_mode='constant',interpolation='bilinear', seed=None, fill_value=0.0),\n",
    "  ]\n",
    ")\n",
    "\n",
    "plt.figure(figsize=(10, 10))\n",
    "for images, _ in train_ds.take(1):\n",
    "  for i in range(9):\n",
    "    augmented_images = data_augmentation(images)\n",
    "    ax = plt.subplot(3, 3, i + 1)\n",
    "    plt.imshow(augmented_images[0].numpy().astype(\"uint8\"))\n",
    "    plt.axis(\"off\")"
   ]
  },
  {
   "cell_type": "markdown",
   "metadata": {
    "id": "ksxlGXIJ8znp"
   },
   "source": [
    "# Models with/without data augmentation"
   ]
  },
  {
   "cell_type": "code",
   "execution_count": null,
   "metadata": {
    "colab": {
     "base_uri": "https://localhost:8080/"
    },
    "id": "xMkxJX5mFZfi",
    "outputId": "7ed7748f-5d6b-4710-c6e6-977d683d41e5"
   },
   "outputs": [],
   "source": [
    "base_model_vgg16 = VGG16(include_top=False, weights='imagenet', input_shape=(128, 128, 3), classes = 5, classifier_activation='softmax')\n",
    "base_model_vgg19 = VGG19(include_top=False, weights='imagenet', input_shape=(128, 128, 3), classes = 5, classifier_activation='softmax')\n",
    "base_model_xception    =  Xception(include_top=False, weights='imagenet', input_shape=(128, 128, 3), classes = 5, classifier_activation='softmax')\n",
    "base_model_inception   = InceptionResNetV2(include_top=False, weights='imagenet', input_shape=(128, 128, 3), classes = 5, classifier_activation='softmax')\n",
    "base_model_densenet121 = DenseNet121(include_top=False, weights='imagenet', input_shape=(128, 128, 3), classes = 5) # has no classifier activation args\n",
    "base_model_resnet50    = ResNet50(include_top=False, weights='imagenet', input_shape=(128, 128, 3), classes = 5) # has no classifier activation args\n",
    "\n",
    "models_dict = {\n",
    "    # vgg16\n",
    "    \"vgg16_NOdataAug_NOdropout\"      : vgg19_vgg16(data_augmentation=None, \n",
    "                                                   base_model= base_model_vgg16, dropout_layers=False, \n",
    "                                                   dropout_position= None, \n",
    "                                                   dropout_percent=None, \n",
    "                                                   num_classes=5),\n",
    "    \n",
    "    \"vgg16_dataAug_dropoutFirst02\"   : vgg19_vgg16(data_augmentation=data_augmentation,  \n",
    "                                                   base_model= base_model_vgg16, dropout_layers=True,  \n",
    "                                                   dropout_position= \"first\",  \n",
    "                                                   dropout_percent=0.2,  \n",
    "                                                   num_classes=5),\n",
    "    \n",
    "    \"vgg16_NOdataAug_dropoutFirst02\" : vgg19_vgg16(data_augmentation=None,               \n",
    "                                                   base_model= base_model_vgg16, dropout_layers=True,  \n",
    "                                                   dropout_position= \"first\",  \n",
    "                                                   dropout_percent=0.2,  \n",
    "                                                   num_classes=5),\n",
    "    \n",
    "    \"vgg16_dataAug_dropoutMiddle02\"  : vgg19_vgg16(data_augmentation=data_augmentation,  \n",
    "                                                   base_model= base_model_vgg16, \n",
    "                                                   dropout_layers=True,  \n",
    "                                                   dropout_position= \"middle\", \n",
    "                                                   dropout_percent=0.2,  \n",
    "                                                   num_classes=5),\n",
    "    \n",
    "    \"vgg16_NOdataAug_dropoutMiddle02\": vgg19_vgg16(data_augmentation=None,               \n",
    "                                                   base_model= base_model_vgg16, \n",
    "                                                   dropout_layers=True,  \n",
    "                                                   dropout_position= \"middle\", \n",
    "                                                   dropout_percent=0.2,  \n",
    "                                                   num_classes=5),\n",
    "    \n",
    "    \"vgg16_dataAug_NOdropout\"        : vgg19_vgg16(data_augmentation=data_augmentation,  \n",
    "                                                   base_model= base_model_vgg16, \n",
    "                                                   dropout_layers=False, \n",
    "                                                   dropout_position= None,     \n",
    "                                                   dropout_percent=None, \n",
    "                                                   num_classes=5),   \n",
    "    # vgg19\n",
    "    \"vgg19_NOdataAug_NOdropout\"      : vgg19_vgg16(data_augmentation=None,               \n",
    "                                                   base_model= base_model_vgg19, \n",
    "                                                   dropout_layers=False, \n",
    "                                                   dropout_position= None,     \n",
    "                                                   dropout_percent=None, \n",
    "                                                   num_classes=5),\n",
    "    \n",
    "    \"vgg19_dataAug_dropoutFirst02\"   : vgg19_vgg16(data_augmentation=data_augmentation,  \n",
    "                                                   base_model= base_model_vgg19, \n",
    "                                                   dropout_layers=True,  \n",
    "                                                   dropout_position= \"first\",  \n",
    "                                                   dropout_percent=0.2,  \n",
    "                                                   num_classes=5),\n",
    "    \n",
    "    \"vgg19_NOdataAug_dropoutFirst02\" : vgg19_vgg16(data_augmentation=None,               \n",
    "                                                   base_model= base_model_vgg19, \n",
    "                                                   dropout_layers=True,  \n",
    "                                                   dropout_position= \"first\",  \n",
    "                                                   dropout_percent=0.2,  \n",
    "                                                   num_classes=5),\n",
    "    \n",
    "    \"vgg19_dataAug_dropoutMiddle02\"  : vgg19_vgg16(data_augmentation=data_augmentation,  \n",
    "                                                   base_model= base_model_vgg19, \n",
    "                                                   dropout_layers=True,  \n",
    "                                                   dropout_position= \"middle\", \n",
    "                                                   dropout_percent=0.2,  \n",
    "                                                   num_classes=5),\n",
    "    \n",
    "    \"vgg19_NOdataAug_dropoutMiddle02\": vgg19_vgg16(data_augmentation=None,               \n",
    "                                                   base_model= base_model_vgg19, \n",
    "                                                   dropout_layers=True,  \n",
    "                                                   dropout_position= \"middle\", \n",
    "                                                   dropout_percent=0.2,  \n",
    "                                                   num_classes=5),\n",
    "    \n",
    "    \"vgg19_dataAug_NOdropout\"        : vgg19_vgg16(data_augmentation=data_augmentation,  \n",
    "                                                   base_model= base_model_vgg19, \n",
    "                                                   dropout_layers=False, \n",
    "                                                   dropout_position= None,     \n",
    "                                                   dropout_percent=None, \n",
    "                                                   num_classes=5),    \n",
    "    # xception\n",
    "    \"xception_NOdataAug_NOdropout\"     : generic_last_2layers(data_augmentation=None,  \n",
    "                                                              nn=base_model_xception, \n",
    "                                                              neurons_final_layer=5, \n",
    "                                                              dropout_layers=False, \n",
    "                                                              dropout_position=None,     \n",
    "                                                              dropout_percent = None),\n",
    "    \n",
    "    \"xception_dataAug_NOdropout\"       : generic_last_2layers(data_augmentation,       \n",
    "                                                              nn=base_model_xception, \n",
    "                                                              neurons_final_layer=5, \n",
    "                                                              dropout_layers=False, \n",
    "                                                              dropout_position=None,     \n",
    "                                                              dropout_percent = None),\n",
    "    \n",
    "    \"xception_dataAug_dropoutFirst02\"  : generic_last_2layers(data_augmentation,       \n",
    "                                                              nn=base_model_xception, \n",
    "                                                              neurons_final_layer=5, \n",
    "                                                              dropout_layers=True,  \n",
    "                                                              dropout_position=\"first\",  \n",
    "                                                              dropout_percent = 0.2),\n",
    "    \n",
    "    \"xception_NOdataAug_dropoutFirst02\": generic_last_2layers(data_augmentation= None, \n",
    "                                                              nn=base_model_xception, \n",
    "                                                              neurons_final_layer=5, \n",
    "                                                              dropout_layers=True,  \n",
    "                                                              dropout_position=\"first\",  \n",
    "                                                              dropout_percent = 0.2),\n",
    "    \n",
    "    \"xception_dataAug_dropoutMid02\"    : generic_last_2layers(data_augmentation,       \n",
    "                                                              nn=base_model_xception, \n",
    "                                                              neurons_final_layer=5, \n",
    "                                                              dropout_layers=True,  \n",
    "                                                              dropout_position=\"middle\", \n",
    "                                                              dropout_percent = 0.2),\n",
    "    \n",
    "    \"xception_NOdataAug_dropoutMid02\"  : generic_last_2layers(data_augmentation= None, \n",
    "                                                              nn=base_model_xception, \n",
    "                                                              neurons_final_layer=5, \n",
    "                                                              dropout_layers=True,  \n",
    "                                                              dropout_position=\"middle\", \n",
    "                                                              dropout_percent = 0.2),    \n",
    "    # # inception resnet v2\n",
    "    \"InceptionResNetV2_NOdataAug_NOdropout\"     : generic_last_2layers(data_augmentation=None,  \n",
    "                                                                       nn=base_model_inception, \n",
    "                                                                       neurons_final_layer=5, \n",
    "                                                                       dropout_layers=False, \n",
    "                                                                       dropout_position=None,     \n",
    "                                                                       dropout_percent = None),\n",
    "    \n",
    "    \"InceptionResNetV2_dataAug_NOdropout\"       : generic_last_2layers(data_augmentation,       \n",
    "                                                                       nn=base_model_inception, \n",
    "                                                                       neurons_final_layer=5, \n",
    "                                                                       dropout_layers=False, \n",
    "                                                                       dropout_position=None,     \n",
    "                                                                       dropout_percent = None),\n",
    "    \n",
    "    \"InceptionResNetV2_dataAug_dropoutFirst02\"  : generic_last_2layers(data_augmentation,       \n",
    "                                                                       nn=base_model_inception, \n",
    "                                                                       neurons_final_layer=5, \n",
    "                                                                       dropout_layers=True,  \n",
    "                                                                       dropout_position=\"first\",  \n",
    "                                                                       dropout_percent = 0.2),\n",
    "    \n",
    "    \"InceptionResNetV2_NOdataAug_dropoutFirst02\": generic_last_2layers(data_augmentation= None, \n",
    "                                                                       nn=base_model_inception, \n",
    "                                                                       neurons_final_layer=5, \n",
    "                                                                       dropout_layers=True,  \n",
    "                                                                       dropout_position=\"first\",  \n",
    "                                                                       dropout_percent = 0.2),\n",
    "    \n",
    "    \"InceptionResNetV2_dataAug_dropoutMid02\"    : generic_last_2layers(data_augmentation,       \n",
    "                                                                       nn=base_model_inception, \n",
    "                                                                       neurons_final_layer=5, \n",
    "                                                                       dropout_layers=True,  \n",
    "                                                                       dropout_position=\"middle\", \n",
    "                                                                       dropout_percent = 0.2),\n",
    "    \n",
    "    \"InceptionResNetV2_NOdataAug_dropoutMid02\"  : generic_last_2layers(data_augmentation= None, \n",
    "                                                                       nn=base_model_inception, \n",
    "                                                                       neurons_final_layer=5, \n",
    "                                                                       dropout_layers=True, \n",
    "                                                                       dropout_position=\"middle\", \n",
    "                                                                       dropout_percent = 0.2),\n",
    "    # densenet121\n",
    "    \"densenet121_NOdataAug_NOdropout\"     : generic_last_2layers(data_augmentation=None,  \n",
    "                                                                 nn=base_model_densenet121, \n",
    "                                                                 neurons_final_layer=5, \n",
    "                                                                 dropout_layers=False, \n",
    "                                                                 dropout_position=None,     \n",
    "                                                                 dropout_percent = None),\n",
    "    \n",
    "    \"densenet121_dataAug_NOdropout\"       : generic_last_2layers(data_augmentation,       \n",
    "                                                                 nn=base_model_densenet121, \n",
    "                                                                 neurons_final_layer=5, \n",
    "                                                                 dropout_layers=False, \n",
    "                                                                 dropout_position=None,     \n",
    "                                                                 dropout_percent = None),\n",
    "    \n",
    "    \"densenet121_dataAug_dropoutFirst02\"  : generic_last_2layers(data_augmentation,       \n",
    "                                                                 nn=base_model_densenet121, \n",
    "                                                                 neurons_final_layer=5, \n",
    "                                                                 dropout_layers=True,  \n",
    "                                                                 dropout_position=\"first\",  \n",
    "                                                                 dropout_percent = 0.2),\n",
    "    \n",
    "    \"densenet121_NOdataAug_dropoutFirst02\": generic_last_2layers(data_augmentation= None, \n",
    "                                                                 nn=base_model_densenet121, \n",
    "                                                                 neurons_final_layer=5, \n",
    "                                                                 dropout_layers=True,  \n",
    "                                                                 dropout_position=\"first\",  \n",
    "                                                                 dropout_percent = 0.2),\n",
    "    \n",
    "    \"densenet121_dataAug_dropoutMid02\"    : generic_last_2layers(data_augmentation,       \n",
    "                                                                 nn=base_model_densenet121, \n",
    "                                                                 neurons_final_layer=5, \n",
    "                                                                 dropout_layers=True,  \n",
    "                                                                 dropout_position=\"middle\", \n",
    "                                                                 dropout_percent = 0.2),\n",
    "    \n",
    "    \"densenet121_NOdataAug_dropoutMid02\"  : generic_last_2layers(data_augmentation= None, \n",
    "                                                                 nn=base_model_densenet121, \n",
    "                                                                 neurons_final_layer=5, \n",
    "                                                                 dropout_layers=True,  \n",
    "                                                                 dropout_position=\"middle\",\n",
    "                                                                 dropout_percent = 0.2),\n",
    "    # resnet50\n",
    "    \"resnet50_NOdataAug_NOdropout\"     : generic_last_2layers(data_augmentation=None,  \n",
    "                                                              nn=base_model_resnet50,\n",
    "                                                              neurons_final_layer=5, \n",
    "                                                              dropout_layers=False, \n",
    "                                                              dropout_position=None,     \n",
    "                                                              dropout_percent = None),\n",
    "    \n",
    "    \"resnet50_dataAug_NOdropout\"       : generic_last_2layers(data_augmentation,       \n",
    "                                                              nn=base_model_resnet50, \n",
    "                                                              neurons_final_layer=5, \n",
    "                                                              dropout_layers=False, \n",
    "                                                              dropout_position=None,     \n",
    "                                                              dropout_percent = None),\n",
    "    \n",
    "    \"resnet50_dataAug_dropoutFirst02\"  : generic_last_2layers(data_augmentation,       \n",
    "                                                              nn=base_model_resnet50, \n",
    "                                                              neurons_final_layer=5, \n",
    "                                                              dropout_layers=True,  \n",
    "                                                              dropout_position=\"first\", \n",
    "                                                              dropout_percent = 0.2),\n",
    "    \n",
    "    \"resnet50_NOdataAug_dropoutFirst02\": generic_last_2layers(data_augmentation= None, \n",
    "                                                              nn=base_model_resnet50, \n",
    "                                                              neurons_final_layer=5, \n",
    "                                                              dropout_layers=True,  \n",
    "                                                              dropout_position=\"first\",  \n",
    "                                                              dropout_percent = 0.2),\n",
    "    \n",
    "    \"resnet50_dataAug_dropoutMid02\"    : generic_last_2layers(data_augmentation,       \n",
    "                                                              nn=base_model_resnet50, \n",
    "                                                              neurons_final_layer=5, \n",
    "                                                              dropout_layers=True,  \n",
    "                                                              dropout_position=\"middle\",\n",
    "                                                              dropout_percent = 0.2),\n",
    "    \n",
    "    \"resnet50_NOdataAug_dropoutMid02\"  : generic_last_2layers(data_augmentation= None, \n",
    "                                                              nn=base_model_resnet50, \n",
    "                                                              neurons_final_layer=5, \n",
    "                                                              dropout_layers=True,  \n",
    "                                                              dropout_position=\"middle\", \n",
    "                                                              dropout_percent = 0.2),\n",
    "}"
   ]
  },
  {
   "cell_type": "code",
   "execution_count": null,
   "metadata": {
    "colab": {
     "base_uri": "https://localhost:8080/",
     "height": 1000
    },
    "id": "ZFqrdiZE9nSe",
    "outputId": "9ac7df52-e10c-45da-8079-97a120436552"
   },
   "outputs": [],
   "source": [
    "callbacks = [\n",
    "    EarlyStopping(\n",
    "        # Stop training when the metric is no longer improving\n",
    "        monitor=\"val_accuracy\", mode=\"max\", #  \"val_loss\",\n",
    "        # \"no longer improving\" being defined as \"no better than 1e-4 less\"\n",
    "        min_delta=1e-4,\n",
    "        # \"no longer improving\" being further defined as \"for at least 10 epochs\"\n",
    "        patience=10,\n",
    "        verbose=1\n",
    "    )\n",
    "]\n",
    "\n",
    "epochs = 300\n",
    "for m in models_dict:\n",
    "  print(\"\\n\", m)\n",
    "  models_dict[m].summary()\n",
    "\n",
    "  models_dict[m].compile( optimizer = \"adam\", \n",
    "                loss=SparseCategoricalCrossentropy(from_logits=True) ,#'categorical_crossentropy', , \n",
    "                metrics=['accuracy'] # \"recall\"\n",
    "                )\n",
    "\n",
    "  history = models_dict[m].fit(\n",
    "        train_ds,\n",
    "        validation_data=val_ds,\n",
    "        epochs=epochs,\n",
    "        callbacks = callbacks # <=== REMOVE CALLBACK for full results\n",
    "        )\n",
    "  \n",
    "  number_of_epochs_it_ran = len(history.history['loss']) \n",
    "  print(\"run epochs: \",number_of_epochs_it_ran)\n",
    "  name = m\n",
    "  models_dict[m].save(output_folder+name+\".h5\")\n",
    "\n",
    "  # saving model accuracy/loss graph\n",
    "  plotting_model(history,number_of_epochs_it_ran, name, output_folder+name+\"-loss_accuracy.png\") \n",
    "  \n",
    "  # saving model metrics to json\n",
    "  evaluation = models_dict[m].evaluate(val_ds, batch_size=batch_size, return_dict=True)\n",
    "  model_evaluation(evaluation, output_folder, name)\n",
    "\n",
    "  # get inferences\n",
    "  y_pred_float = models_dict[m].predict(val_ds)\n",
    "  y_pred = np.argmax(y_pred_float, axis=1) \n",
    "\n",
    "  # classification and confusion matrix reports\n",
    "  classification_report_pic(y_pred, validation_ds,  class_names, output_folder, name)\n",
    "  confusion_matrix_report(y_pred, validation_ds, class_names, output_folder, name)"
   ]
  },
  {
   "cell_type": "markdown",
   "metadata": {
    "id": "AbRNMh9hLsYO"
   },
   "source": [
    "- load a trained model"
   ]
  },
  {
   "cell_type": "code",
   "execution_count": null,
   "metadata": {
    "colab": {
     "base_uri": "https://localhost:8080/"
    },
    "id": "pyoCJPI19Lm2",
    "outputId": "f439d9ee-4f0c-48a8-de56-fcd1a6bbc101"
   },
   "outputs": [],
   "source": [
    "# error above for misplacing y_pred and val_ds in function args\n",
    "densenet121 = load_model(output_folder+\"densenet121_dataAug_dropoutFirst02.h5\")\n",
    "evaluation  = densenet121.evaluate(val_ds, batch_size=batch_size, return_dict=True)"
   ]
  },
  {
   "cell_type": "code",
   "execution_count": null,
   "metadata": {
    "colab": {
     "base_uri": "https://localhost:8080/"
    },
    "id": "RRNyhxHMM6b6",
    "outputId": "bdfab8bf-7908-4de2-c3cf-1fdb85ad0a87"
   },
   "outputs": [],
   "source": [
    "# saving model metrics to json\n",
    "model_evaluation(evaluation, output_folder, \"densenet121_dataAug_dropoutFirst02.h5\")"
   ]
  },
  {
   "cell_type": "code",
   "execution_count": null,
   "metadata": {
    "id": "w3nkh4PRNc8N"
   },
   "outputs": [],
   "source": [
    "# get inferences\n",
    "y_pred_float = models_dict[m].predict(val_ds)\n",
    "y_pred = np.argmax(y_pred_float, axis=1) "
   ]
  },
  {
   "cell_type": "code",
   "execution_count": null,
   "metadata": {
    "colab": {
     "base_uri": "https://localhost:8080/",
     "height": 1000
    },
    "id": "Jz_8lLW6L7PZ",
    "outputId": "73fbacb2-d741-4e7c-c71a-1a0b2f0ae820"
   },
   "outputs": [],
   "source": [
    "# classification and confusion matrix reports\n",
    "classification_report_pic(y_pred, val_ds,  class_names, output_folder, \"densenet121_dataAug_dropoutFirst02.h5\")\n",
    "confusion_matrix_report(y_pred, val_ds, class_names, output_folder, \"densenet121_dataAug_dropoutFirst02.h5\")"
   ]
  }
 ],
 "metadata": {
  "accelerator": "GPU",
  "colab": {
   "collapsed_sections": [],
   "name": "tfm-2021-01-03.ipynb",
   "provenance": []
  },
  "kernelspec": {
   "display_name": "Python 3",
   "language": "python",
   "name": "python3"
  },
  "language_info": {
   "codemirror_mode": {
    "name": "ipython",
    "version": 3
   },
   "file_extension": ".py",
   "mimetype": "text/x-python",
   "name": "python",
   "nbconvert_exporter": "python",
   "pygments_lexer": "ipython3",
   "version": "3.7.6"
  }
 },
 "nbformat": 4,
 "nbformat_minor": 4
}
