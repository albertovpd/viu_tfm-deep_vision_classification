{
 "cells": [
  {
   "cell_type": "markdown",
   "metadata": {
    "id": "k7KEbs7yDlLi"
   },
   "source": [
    "# Working with *image_dataset_from_directory()*.\n",
    "\n",
    "Shown here => https://github.com/albertovpd/viu_tfm-deep_vision_classification/blob/3folders_08trainds/src/tfm_2022_02_05.ipynb , it looks like nns are not learning anything but resnet50.\n",
    "Let's create the following:\n",
    "5 folders, each one will have its train and validation set, and each one of them will have folders with the 5 classes.\n",
    "\n",
    "I'll run the model in the 5 different folders hoping to get more or less the same learning curves in all of them. This is kind of a homemade cross validation "
   ]
  },
  {
   "cell_type": "code",
   "execution_count": 27,
   "metadata": {
    "colab": {
     "base_uri": "https://localhost:8080/"
    },
    "id": "P9QvcGu9Dgky",
    "outputId": "a57396b5-0356-4393-bcb8-c71d9babd58a"
   },
   "outputs": [],
   "source": [
    "# Google Drive stuff\n",
    "#from google.colab import drive\n",
    "#drive.mount('/content/drive/', force_remount=True)"
   ]
  },
  {
   "cell_type": "markdown",
   "metadata": {
    "id": "zaGu4X1PjIcW"
   },
   "source": [
    "- libraries"
   ]
  },
  {
   "cell_type": "code",
   "execution_count": 28,
   "metadata": {
    "id": "J4MavW5KGvgS"
   },
   "outputs": [],
   "source": [
    "# local path\n",
    "from dotenv import load_dotenv\n",
    "import os\n",
    "import numpy as np\n",
    "import shutil\n",
    "import random"
   ]
  },
  {
   "cell_type": "markdown",
   "metadata": {
    "id": "s1a-LWavG41f"
   },
   "source": [
    "- paths"
   ]
  },
  {
   "cell_type": "code",
   "execution_count": 29,
   "metadata": {
    "id": "s_b-tNYrG4ky"
   },
   "outputs": [],
   "source": [
    "# for google drive\n",
    "# base_folder = \"/content/drive/My Drive/2-Estudios/viu-master_ai/tfm-deep_vision/\"\n",
    "\n",
    "# local\n",
    "load_dotenv()\n",
    "base_folder = os.environ.get(\"INPUT_PATH\")\n",
    "\n",
    "# pics located in\n",
    "root_dir  = base_folder+\"House_Room_Dataset-5_rooms/\"\n",
    "# my train/test/val folders will be created in\n",
    "input_destination = base_folder+\"folds_validation/\""
   ]
  },
  {
   "cell_type": "markdown",
   "metadata": {
    "id": "Z-IzpuPPHcuz"
   },
   "source": [
    "# splitting data\n",
    "\n",
    "- let's create 5 folders with random percentajes of the input data\n",
    "- that folders will contain 2 subfolders, train and test\n",
    "- every train and test folder will  have a subfolder with each class"
   ]
  },
  {
   "cell_type": "code",
   "execution_count": 31,
   "metadata": {
    "colab": {
     "base_uri": "https://localhost:8080/"
    },
    "id": "iZ6Bn_O5F_o3",
    "outputId": "beb5fd86-53ee-471c-ce5a-31b05c9da6b1"
   },
   "outputs": [
    {
     "data": {
      "text/plain": [
       "['Dinning', 'Bedroom', 'Livingroom', 'Kitchen', 'Bathroom']"
      ]
     },
     "execution_count": 31,
     "metadata": {},
     "output_type": "execute_result"
    }
   ],
   "source": [
    "classes_dir = os.listdir(root_dir)\n",
    "classes_dir"
   ]
  },
  {
   "cell_type": "markdown",
   "metadata": {},
   "source": [
    "- running this 5 times"
   ]
  },
  {
   "cell_type": "code",
   "execution_count": 96,
   "metadata": {},
   "outputs": [
    {
     "name": "stdout",
     "output_type": "stream",
     "text": [
      "0.62 fold062/\n"
     ]
    }
   ],
   "source": [
    "# let's take a random fraction\n",
    "np.random.seed()\n",
    "fraction = float(random.randrange(30, 80))/100\n",
    "fraction_name = \"fold\"+str(fraction).replace(\".\",\"\")+\"/\"\n",
    "print(fraction, fraction_name)"
   ]
  },
  {
   "cell_type": "code",
   "execution_count": 97,
   "metadata": {},
   "outputs": [
    {
     "name": "stdout",
     "output_type": "stream",
     "text": [
      "\n",
      " ***************************** \n",
      " /home/vargas/Documents/data/viu_tfm-deep_vision_classification/input/folds_validation/fold062/ \n",
      " Total images:  Dinning 717 \n",
      " Training:  573 \n",
      " Testing:  144 \n",
      " *****************************\n",
      "\n",
      " ***************************** \n",
      " /home/vargas/Documents/data/viu_tfm-deep_vision_classification/input/folds_validation/fold062/ \n",
      " Total images:  Bedroom 773 \n",
      " Training:  618 \n",
      " Testing:  155 \n",
      " *****************************\n",
      "\n",
      " ***************************** \n",
      " /home/vargas/Documents/data/viu_tfm-deep_vision_classification/input/folds_validation/fold062/ \n",
      " Total images:  Livingroom 789 \n",
      " Training:  631 \n",
      " Testing:  158 \n",
      " *****************************\n",
      "\n",
      " ***************************** \n",
      " /home/vargas/Documents/data/viu_tfm-deep_vision_classification/input/folds_validation/fold062/ \n",
      " Total images:  Kitchen 598 \n",
      " Training:  478 \n",
      " Testing:  120 \n",
      " *****************************\n",
      "\n",
      " ***************************** \n",
      " /home/vargas/Documents/data/viu_tfm-deep_vision_classification/input/folds_validation/fold062/ \n",
      " Total images:  Bathroom 375 \n",
      " Training:  300 \n",
      " Testing:  75 \n",
      " *****************************\n"
     ]
    }
   ],
   "source": [
    "train_ratio = 0.8\n",
    "\n",
    "for cls in classes_dir:\n",
    "    # create subfolders with fraction\n",
    "    \n",
    "    os.makedirs(input_destination + fraction_name +'train_ds/' + cls, exist_ok=True)\n",
    "    os.makedirs(input_destination + fraction_name +'test_ds/' + cls, exist_ok=True)\n",
    "    \n",
    "    # for each class, let's counts its elements\n",
    "    src = root_dir + cls\n",
    "    allFileNames = os.listdir(src)\n",
    "\n",
    "    # shuffle it and split into train/test/val\n",
    "    np.random.seed()\n",
    "    np.random.shuffle(allFileNames)\n",
    "    sliced_list, discard = np.split(allFileNames, [int(len(allFileNames)*fraction)])\n",
    "    train_FileNames, test_FileNames = np.split(np.array(sliced_list),[int(train_ratio * len(sliced_list))])\n",
    "    \n",
    "    # save their initial path\n",
    "    train_FileNames = [src+'/'+ name  for name in train_FileNames.tolist()]\n",
    "    test_FileNames  = [src+'/' + name for name in test_FileNames.tolist()]\n",
    "    print(\"\\n *****************************\",\n",
    "          \"\\n\", input_destination + fraction_name,\n",
    "          \"\\n Total images: \",cls, len(sliced_list),\n",
    "          '\\n Training: ', len(train_FileNames),\n",
    "          '\\n Testing: ', len(test_FileNames),\n",
    "          '\\n *****************************')\n",
    "    \n",
    "    # copy files from the initial path to the final folders\n",
    "    for name in train_FileNames:\n",
    "        shutil.copy(name, input_destination + fraction_name +'train_ds/' + cls)\n",
    "    for name in test_FileNames:\n",
    "        shutil.copy(name, input_destination + fraction_name +'test_ds/' + cls)"
   ]
  }
 ],
 "metadata": {
  "colab": {
   "collapsed_sections": [],
   "name": "tfm-creating_2_folders_5_classes.ipynb",
   "provenance": []
  },
  "kernelspec": {
   "display_name": "Python 3",
   "language": "python",
   "name": "python3"
  },
  "language_info": {
   "codemirror_mode": {
    "name": "ipython",
    "version": 3
   },
   "file_extension": ".py",
   "mimetype": "text/x-python",
   "name": "python",
   "nbconvert_exporter": "python",
   "pygments_lexer": "ipython3",
   "version": "3.7.6"
  }
 },
 "nbformat": 4,
 "nbformat_minor": 4
}
