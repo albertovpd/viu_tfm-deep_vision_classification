{
 "cells": [
  {
   "cell_type": "markdown",
   "metadata": {},
   "source": [
    "# Cropping synthetic data\n",
    "\n",
    "- What pictures are always misclassified by every model were targeted in this notebook => https://github.com/albertovpd/viu_tfm-deep_vision_classification/blob/synthetic_data_study/src/synthetic_data_pre_study.ipynb\n",
    "- For that pics, synthetic data were created to increase the volume of them, expecting to have a better performance => https://github.com/albertovpd/viu_tfm-deep_vision_classification/blob/synthetic_data_study/src/gans_diffaug_pytorch_my_dataset.ipynb\n",
    "\n",
    "Now the output of that is a 7680x4096 mosaic with 30*16 pics, making a total of 480 fake pictures for every class.\n",
    "\n",
    "That pics have to be cropped and inserted in their corresponding class folder, to train again the models with that and check if there's any improvement.\n",
    "\n",
    "Bathroom synthetic ouptut:\n",
    "\n",
    "![alt text](../output/livingroom_fakes000160.png \"pic\")\n",
    "\n",
    "Zooming a sample:\n",
    "\n",
    "![alt](../output/livingroom_fakes000160_1280_5120.png)"
   ]
  },
  {
   "cell_type": "code",
   "execution_count": 7,
   "metadata": {},
   "outputs": [],
   "source": [
    "import os\n",
    "from PIL import Image\n",
    "from itertools import product"
   ]
  },
  {
   "cell_type": "markdown",
   "metadata": {},
   "source": [
    "- functions"
   ]
  },
  {
   "cell_type": "code",
   "execution_count": 8,
   "metadata": {},
   "outputs": [],
   "source": [
    "def tile(filename, dir_in, dir_out, d):\n",
    "    '''\n",
    "    https://stackoverflow.com/questions/5953373/how-to-split-image-into-multiple-pieces-in-python\n",
    "    filename: pic\n",
    "    dir_in: where the pic is located\n",
    "    dir_out : where cropped pics will be stored\n",
    "    d : resolution (in my case 264x264)\n",
    "    '''\n",
    "    \n",
    "    name, ext = os.path.splitext(filename)\n",
    "    img = Image.open(os.path.join(dir_in, filename))\n",
    "    w, h = img.size\n",
    "    \n",
    "    grid = product(range(0, h-h%d, d), range(0, w-w%d, d))\n",
    "    for i, j in grid:\n",
    "        box = (j, i, j+d, i+d)\n",
    "        out = os.path.join(dir_out, f'{name}_{i}_{j}{ext}')\n",
    "        img.crop(box).save(out)"
   ]
  },
  {
   "cell_type": "markdown",
   "metadata": {},
   "source": [
    "- start"
   ]
  },
  {
   "cell_type": "code",
   "execution_count": 15,
   "metadata": {},
   "outputs": [
    {
     "data": {
      "text/plain": [
       "{'bathroom_fakes/': 'bathroom_fakes000160.png',\n",
       " 'bedroom_fakes/': 'bedroom_fakes000200.png',\n",
       " 'dinning_fakes/': 'dinning_fakes000200.png',\n",
       " 'kitchen_fakes/': 'kitchen_fakes000160.png',\n",
       " 'livingroom_fakes/': 'livingroom_fakes000160.png'}"
      ]
     },
     "execution_count": 15,
     "metadata": {},
     "output_type": "execute_result"
    }
   ],
   "source": [
    "base_output = \"../input/common_misclassifications/mosaics/\"\n",
    "mosaics = sorted(os.listdir(base_output))\n",
    "folders = [\"bathroom_fakes/\", \"bedroom_fakes/\", \"dinning_fakes/\", \"kitchen_fakes/\", \"livingroom_fakes/\"]\n",
    "paths = dict(zip(folders, mosaics))\n",
    "paths"
   ]
  },
  {
   "cell_type": "code",
   "execution_count": 17,
   "metadata": {},
   "outputs": [],
   "source": [
    "for p in paths:\n",
    "    \n",
    "    # create the folder if doesn't exist\n",
    "    folder = base_output+p\n",
    "    if not os.path.exists(folder):\n",
    "        os.makedirs(folder)\n",
    "    \n",
    "    # split there the corresponding mosaic\n",
    "    tile(paths[p], base_output, folder, 256)"
   ]
  },
  {
   "cell_type": "markdown",
   "metadata": {},
   "source": [
    "- Now they have to be merged with the real pics. For each class different folders will be created, in which fake pics will be shuffled before taking 50, 250 and 480 pics. Whit that folders we'll be able to study models performance vs increase of fake pics"
   ]
  },
  {
   "cell_type": "code",
   "execution_count": null,
   "metadata": {},
   "outputs": [],
   "source": []
  }
 ],
 "metadata": {
  "kernelspec": {
   "display_name": "mlsklearn",
   "language": "python",
   "name": "mlsklearn"
  },
  "language_info": {
   "codemirror_mode": {
    "name": "ipython",
    "version": 3
   },
   "file_extension": ".py",
   "mimetype": "text/x-python",
   "name": "python",
   "nbconvert_exporter": "python",
   "pygments_lexer": "ipython3",
   "version": "3.7.6"
  }
 },
 "nbformat": 4,
 "nbformat_minor": 4
}
