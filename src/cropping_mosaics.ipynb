{
 "cells": [
  {
   "cell_type": "markdown",
   "metadata": {},
   "source": [
    "# Cropping synthetic data\n",
    "\n",
    "- What pictures are always misclassified by every model were targeted in this notebook => https://github.com/albertovpd/viu_tfm-deep_vision_classification/blob/synthetic_data_study/src/synthetic_data_pre_study.ipynb\n",
    "- For that pics, synthetic data were created to increase the volume of them, expecting to have a better performance => https://github.com/albertovpd/viu_tfm-deep_vision_classification/blob/synthetic_data_study/src/gans_diffaug_pytorch_my_dataset.ipynb\n",
    "\n",
    "Now the output of that is a 7680x4096 mosaic with 29*16 pics, making a total of 464 fake pictures for every class.\n",
    "\n",
    "That pics have to be cropped and inserted in their corresponding class folder, to train again the models with that and check if there's any improvement.\n",
    "\n",
    "Bathroom synthetic ouptut:\n",
    "![alt text](../output/bathroom_fakes000160.png \"pic\")"
   ]
  },
  {
   "cell_type": "code",
   "execution_count": 3,
   "metadata": {},
   "outputs": [],
   "source": [
    "import os\n",
    "from PIL import Image\n",
    "from itertools import product"
   ]
  },
  {
   "cell_type": "markdown",
   "metadata": {},
   "source": [
    "- functions"
   ]
  },
  {
   "cell_type": "code",
   "execution_count": 4,
   "metadata": {},
   "outputs": [],
   "source": [
    "def tile(filename, dir_in, dir_out, d):\n",
    "    name, ext = os.path.splitext(filename)\n",
    "    img = Image.open(os.path.join(dir_in, filename))\n",
    "    w, h = img.size\n",
    "    \n",
    "    grid = product(range(0, h-h%d, d), range(0, w-w%d, d))\n",
    "    for i, j in grid:\n",
    "        box = (j, i, j+d, i+d)\n",
    "        out = os.path.join(dir_out, f'{name}_{i}_{j}{ext}')\n",
    "        img.crop(box).save(out)"
   ]
  },
  {
   "cell_type": "code",
   "execution_count": 16,
   "metadata": {},
   "outputs": [],
   "source": [
    "from PIL import Image\n",
    "import os\n",
    "\n",
    "def imgcrop(input, xPieces, yPieces, output):\n",
    "    filename, file_extension = os.path.splitext(input)\n",
    "    im = Image.open(input)\n",
    "    imgwidth, imgheight = im.size\n",
    "    height = imgheight // yPieces\n",
    "    width = imgwidth // xPieces\n",
    "    for i in range(0, yPieces):\n",
    "        for j in range(0, xPieces):\n",
    "            box = (j * width, i * height, (j + 1) * width, (i + 1) * height)\n",
    "            a = im.crop(box)\n",
    "            \n",
    "            if not os.path.exists(output):\n",
    "                os.makedirs(output)\n",
    "            try:\n",
    "                a.save(output + filename + \"-\" + str(i) + \"-\" + str(j) + file_extension)\n",
    "            except:\n",
    "                pass"
   ]
  },
  {
   "cell_type": "markdown",
   "metadata": {},
   "source": [
    "- start"
   ]
  },
  {
   "cell_type": "code",
   "execution_count": 17,
   "metadata": {},
   "outputs": [
    {
     "data": {
      "text/plain": [
       "['livingroom_fakes000160.png',\n",
       " 'kitchen_fakes000160.png',\n",
       " 'bedroom_fakes000200.png',\n",
       " 'bathroom_fakes000160.png',\n",
       " 'dinning_fakes000200.png']"
      ]
     },
     "execution_count": 17,
     "metadata": {},
     "output_type": "execute_result"
    }
   ],
   "source": [
    "os.listdir(\"../input/common_misclassifications/mosaics/\")"
   ]
  },
  {
   "cell_type": "code",
   "execution_count": 18,
   "metadata": {},
   "outputs": [],
   "source": [
    "base_output = \"../input/common_misclassifications/mosaics/\""
   ]
  },
  {
   "cell_type": "code",
   "execution_count": 19,
   "metadata": {},
   "outputs": [],
   "source": [
    "imgcrop(base_output+'livingroom_fakes000160.png', 29, 16, base_output+\"livingroom/\")"
   ]
  },
  {
   "cell_type": "code",
   "execution_count": null,
   "metadata": {},
   "outputs": [],
   "source": []
  }
 ],
 "metadata": {
  "kernelspec": {
   "display_name": "mlsklearn",
   "language": "python",
   "name": "mlsklearn"
  },
  "language_info": {
   "codemirror_mode": {
    "name": "ipython",
    "version": 3
   },
   "file_extension": ".py",
   "mimetype": "text/x-python",
   "name": "python",
   "nbconvert_exporter": "python",
   "pygments_lexer": "ipython3",
   "version": "3.7.6"
  }
 },
 "nbformat": 4,
 "nbformat_minor": 4
}
