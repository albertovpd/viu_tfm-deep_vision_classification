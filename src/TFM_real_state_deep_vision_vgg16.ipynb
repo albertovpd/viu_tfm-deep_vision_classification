{
  "nbformat": 4,
  "nbformat_minor": 0,
  "metadata": {
    "accelerator": "GPU",
    "colab": {
      "name": "TFM-real_state-deep_vision-vgg16.ipynb",
      "provenance": [],
      "collapsed_sections": []
    },
    "kernelspec": {
      "display_name": "Python 3",
      "name": "python3"
    },
    "language_info": {
      "name": "python"
    }
  },
  "cells": [
    {
      "cell_type": "markdown",
      "metadata": {
        "id": "hDYS919NYJnS"
      },
      "source": [
        "# TFM. Deep Visin applied to Real state.\n"
      ]
    },
    {
      "cell_type": "code",
      "metadata": {
        "colab": {
          "base_uri": "https://localhost:8080/"
        },
        "id": "lnTgtRXyFgQf",
        "outputId": "b1fb8679-acde-41b3-aaff-12305d273069"
      },
      "source": [
        "# google stuff\n",
        "from google.colab import drive\n",
        "drive.mount('/content/drive/', force_remount=True)"
      ],
      "execution_count": 3,
      "outputs": [
        {
          "output_type": "stream",
          "name": "stdout",
          "text": [
            "Mounted at /content/drive/\n"
          ]
        }
      ]
    },
    {
      "cell_type": "code",
      "metadata": {
        "colab": {
          "base_uri": "https://localhost:8080/"
        },
        "id": "X-OjRNxnu-lo",
        "outputId": "91f18d6b-ace0-46b7-9e5b-bd335a22dc77"
      },
      "source": [
        "%tensorflow_version 2.x\n",
        "import tensorflow as tf\n",
        "device_name = tf.test.gpu_device_name()\n",
        "if device_name != '/device:GPU:0':\n",
        "  raise SystemError('GPU device not found')\n",
        "print('Found GPU at: {}'.format(device_name))"
      ],
      "execution_count": 4,
      "outputs": [
        {
          "output_type": "stream",
          "name": "stdout",
          "text": [
            "Found GPU at: /device:GPU:0\n"
          ]
        }
      ]
    },
    {
      "cell_type": "markdown",
      "metadata": {
        "id": "4VR2oTMsT5R5"
      },
      "source": [
        "- libraries"
      ]
    },
    {
      "cell_type": "code",
      "metadata": {
        "id": "NAI9T4pWTfME"
      },
      "source": [
        "%tensorflow_version 2.x\n",
        "from sklearn.model_selection import train_test_split\n",
        "from sklearn.preprocessing import LabelBinarizer\n",
        "\n",
        "import tensorflow as tf\n",
        "from tensorflow.keras.applications import imagenet_utils\n",
        "from tensorflow.keras.preprocessing.image import ImageDataGenerator\n",
        "\n",
        "# architecture \n",
        "from tensorflow.keras.models import Sequential\n",
        "from tensorflow.keras import layers\n",
        "from tensorflow.keras import Model\n",
        "\n",
        "# metrics\n",
        "from sklearn.metrics import confusion_matrix\n",
        "from sklearn.metrics import classification_report\n",
        "\n",
        "\n",
        "# optimization\n",
        "from tensorflow.keras.optimizers import Adam\n",
        "from keras import regularizers\n",
        "from tensorflow.keras.layers import Input, Conv2D, Dense, Dropout, BatchNormalization, MaxPooling2D, Flatten, ZeroPadding2D\n",
        "from tensorflow.keras.regularizers import l1_l2, l2\n",
        "\n",
        "# pre-trained models\n",
        "from tensorflow.keras.applications import VGG16, ResNet50, VGG19\n",
        "\n",
        "import os\n",
        "import pickle\n",
        "import tarfile\n",
        "\n",
        "# counting classes with library\n",
        "from collections import Counter\n",
        "\n",
        "# viz & arrays\n",
        "import numpy as np\n",
        "import pandas as pd\n",
        "import matplotlib.pyplot as plt\n",
        "import matplotlib.image as mpimg\n",
        "%matplotlib inline"
      ],
      "execution_count": 5,
      "outputs": []
    },
    {
      "cell_type": "markdown",
      "metadata": {
        "id": "3_vhk7DsTuS-"
      },
      "source": [
        "- base directory"
      ]
    },
    {
      "cell_type": "code",
      "metadata": {
        "colab": {
          "base_uri": "https://localhost:8080/"
        },
        "id": "GNqmOv5jUtLN",
        "outputId": "81ef11c1-7774-42b1-fd87-a075fade78af"
      },
      "source": [
        "!ls \"/content/drive/My Drive/2-Estudios/viu-master_ai/tfm-deep_vision/\""
      ],
      "execution_count": 6,
      "outputs": [
        {
          "output_type": "stream",
          "name": "stdout",
          "text": [
            " AlbertoVargas-sistema_clasificacion_viviendas_imagenes.gslides   input    src\n",
            "'Dudas y seguimiento TFM.gdoc'\t\t\t\t\t  output\n"
          ]
        }
      ]
    },
    {
      "cell_type": "code",
      "metadata": {
        "id": "nJakVe6hTvc7"
      },
      "source": [
        "base_folder = \"/content/drive/My Drive/2-Estudios/viu-master_ai/tfm-deep_vision/\"\n",
        "input_folder = base_folder+\"input/\"\n",
        "src_folder =  base_folder+\"src/\"\n",
        "output_folder = base_folder + \"/output/\""
      ],
      "execution_count": 7,
      "outputs": []
    },
    {
      "cell_type": "markdown",
      "metadata": {
        "id": "AhT4ucStG1Oy"
      },
      "source": [
        "- functions"
      ]
    },
    {
      "cell_type": "code",
      "metadata": {
        "id": "-HbqBwIc-Ust"
      },
      "source": [
        "# insert the directory\n",
        "import sys\n",
        "sys.path.insert(0,\"/content/drive/My Drive/2-Estudios/viu-master_ai/tfm-deep_vision/src/\")"
      ],
      "execution_count": 8,
      "outputs": []
    },
    {
      "cell_type": "code",
      "metadata": {
        "id": "vY2L-r1j9jex"
      },
      "source": [
        "from my_functions import freezing_layers"
      ],
      "execution_count": 9,
      "outputs": []
    },
    {
      "cell_type": "markdown",
      "metadata": {
        "id": "rv82I6XgW4Xr"
      },
      "source": [
        "# load pickling data allocated in Drive"
      ]
    },
    {
      "cell_type": "code",
      "metadata": {
        "id": "I_-1T12qUwbw"
      },
      "source": [
        "with open(input_folder+\"pickle_all_images_df.pickle\", \"rb\") as input_file:\n",
        "    data_x = pickle.load(input_file)\n",
        "with open(input_folder+\"pickle_all_classes.pickle\", \"rb\") as input_file:\n",
        "    data_y = pickle.load(input_file)"
      ],
      "execution_count": 10,
      "outputs": []
    },
    {
      "cell_type": "markdown",
      "metadata": {
        "id": "jvtNMgL5XNvJ"
      },
      "source": [
        "- some preview"
      ]
    },
    {
      "cell_type": "code",
      "metadata": {
        "colab": {
          "base_uri": "https://localhost:8080/"
        },
        "id": "TK9hZmmvnhuk",
        "outputId": "de9921d6-2760-4481-9fc9-3d4b935805bf"
      },
      "source": [
        "print(Counter(data_y))"
      ],
      "execution_count": 11,
      "outputs": [
        {
          "output_type": "stream",
          "name": "stdout",
          "text": [
            "Counter({'Livingroom': 1273, 'Bedroom': 1248, 'Dinning': 1158, 'Kitchen': 965, 'Bathroom': 606})\n"
          ]
        }
      ]
    },
    {
      "cell_type": "code",
      "metadata": {
        "id": "h0sqnwHXzYPG"
      },
      "source": [
        "classes_list = list(Counter(data_y).keys())"
      ],
      "execution_count": 12,
      "outputs": []
    },
    {
      "cell_type": "markdown",
      "metadata": {
        "id": "z2mFBMbcnwYK"
      },
      "source": [
        "- i'll have to deal with this unbalanced classes later. \n",
        "- let's begin with the simplest stuff first"
      ]
    },
    {
      "cell_type": "code",
      "metadata": {
        "colab": {
          "base_uri": "https://localhost:8080/"
        },
        "id": "NPSuYmXIXEOf",
        "outputId": "b04c8bea-fde0-4170-894b-0f99466905ec"
      },
      "source": [
        "print(\"pics shape: \",data_x.shape,\n",
        "      \"\\nnumber of classes: \", len(set(data_y))\n",
        "      )"
      ],
      "execution_count": 13,
      "outputs": [
        {
          "output_type": "stream",
          "name": "stdout",
          "text": [
            "pics shape:  (5250, 128, 128, 3) \n",
            "number of classes:  5\n"
          ]
        }
      ]
    },
    {
      "cell_type": "code",
      "metadata": {
        "colab": {
          "base_uri": "https://localhost:8080/",
          "height": 285
        },
        "id": "gVaTkKsTXPy8",
        "outputId": "52bb207c-9b29-490d-f3ea-a45a1b50b60b"
      },
      "source": [
        "# # showing some stuff \n",
        "print(data_y[42])\n",
        "imgplot = plt.imshow(data_x[42])\n",
        "plt.show()"
      ],
      "execution_count": 14,
      "outputs": [
        {
          "output_type": "stream",
          "name": "stdout",
          "text": [
            "Dinning\n"
          ]
        },
        {
          "output_type": "display_data",
          "data": {
            "image/png": "[encoded data removed]",
            "text/plain": [
              "<Figure size 432x288 with 1 Axes>"
            ]
          },
          "metadata": {
            "needs_background": "light"
          }
        }
      ]
    },
    {
      "cell_type": "markdown",
      "metadata": {
        "id": "11MeRxdDq2dE"
      },
      "source": [
        "- transforming y-label into numeric"
      ]
    },
    {
      "cell_type": "code",
      "metadata": {
        "id": "wPDqUdWYqT8b"
      },
      "source": [
        "# transforming labels into numeric\n",
        "y = np.unique(data_y)\n",
        "mapping = { key : value for key,value in zip(y,range(len(y)))}\n",
        "data_y_num = np.array([mapping[i] for i in data_y])"
      ],
      "execution_count": 15,
      "outputs": []
    },
    {
      "cell_type": "code",
      "metadata": {
        "id": "2xa6_PfLq9VF",
        "colab": {
          "base_uri": "https://localhost:8080/"
        },
        "outputId": "f965655f-c1cb-46c4-be99-3bf3ae028e4a"
      },
      "source": [
        "test_size_1st_split = 0.3\n",
        "test_size_2nd_split= 0.5\n",
        "\n",
        "x_train, x_test, y_train, y_test = train_test_split(data_x, data_y_num, test_size=test_size_1st_split)\n",
        "x_val, x_test, y_val, y_test = train_test_split(x_test, y_test, test_size=test_size_2nd_split) \n",
        "allx= len(data_x)\n",
        "print(round(len(x_train)/allx,2), round(len(x_val)/allx,2), round(len(x_test)/allx,2))\n",
        "del data_y\n",
        "del data_x\n",
        "\n",
        "#One-hot encoding\n",
        "lb = LabelBinarizer()\n",
        "y_train = lb.fit_transform(y_train)\n",
        "y_test = lb.transform(y_test)\n",
        "y_val = lb.transform(y_val)"
      ],
      "execution_count": 16,
      "outputs": [
        {
          "output_type": "stream",
          "name": "stdout",
          "text": [
            "0.7 0.15 0.15\n"
          ]
        }
      ]
    },
    {
      "cell_type": "code",
      "metadata": {
        "colab": {
          "base_uri": "https://localhost:8080/"
        },
        "id": "y0F2d57AstAI",
        "outputId": "31e7da29-8c11-43ab-ccc5-5c5743c5b6a1"
      },
      "source": [
        "print(\"train:  \", x_train.shape, y_train.shape,\n",
        "      \"\\ntest: \", x_test.shape,y_test.shape,\n",
        "      \"\\nval:  \", x_val.shape, y_val.shape)"
      ],
      "execution_count": 17,
      "outputs": [
        {
          "output_type": "stream",
          "name": "stdout",
          "text": [
            "train:   (3675, 128, 128, 3) (3675, 5) \n",
            "test:  (788, 128, 128, 3) (788, 5) \n",
            "val:   (787, 128, 128, 3) (787, 5)\n"
          ]
        }
      ]
    },
    {
      "cell_type": "code",
      "metadata": {
        "id": "vVbXD-Pqy84G"
      },
      "source": [
        "#Data Augmentation first\n",
        "train_generator = ImageDataGenerator(rotation_range=2, horizontal_flip=True, zoom_range=.1)\n",
        "val_generator = ImageDataGenerator(rotation_range=2, horizontal_flip=True, zoom_range=.1)\n",
        "test_generator = ImageDataGenerator(rotation_range=2, horizontal_flip= True, zoom_range=.1)\n",
        "\n",
        "#Fitting the augmentation defined above to the data\n",
        "train_generator.fit(x_train)\n",
        "val_generator.fit(x_val)\n",
        "test_generator.fit(x_test)"
      ],
      "execution_count": 18,
      "outputs": []
    },
    {
      "cell_type": "markdown",
      "metadata": {
        "id": "7HjH6u9a_StU"
      },
      "source": [
        "## VGG16\n",
        "\n",
        "let's \n",
        "- remove the last layer and change it by a final layer with 5 neurons for our 5 classes (this is done loading all but last layer).\n",
        "- freeze layers"
      ]
    },
    {
      "cell_type": "code",
      "metadata": {
        "colab": {
          "base_uri": "https://localhost:8080/"
        },
        "id": "ni4d-pJr_VFI",
        "outputId": "d2f78f54-5b01-41ab-b822-992c5b13fca4"
      },
      "source": [
        "# https://www.tensorflow.org/api_docs/python/tf/keras/applications/vgg16/VGG16\n",
        "base_model_vgg16 = VGG16(include_top=False, weights='imagenet', input_shape=(128, 128, 3), classes = y_train.shape[1], classifier_activation='softmax')\n",
        "pre_trained_vgg16 = Sequential() # to add more stuff\n",
        "\n",
        "for layer in base_model_vgg16.layers[:-1]: # not loading the last layer\n",
        "    pre_trained_vgg16.add(layer)    \n",
        "\n",
        "pre_trained_vgg16.add(Flatten()) # before the final layer has the shape (None, 8, 8, 5). I do need (0, 5)\n",
        "\n",
        "# Freeze the layers \n",
        "for layer in pre_trained_vgg16.layers:\n",
        "    layer.trainable = False\n",
        "\n",
        "# Add 'softmax' instead of earlier 'prediction' layer.\n",
        "pre_trained_vgg16.add(Dense(4096,activation=('relu')))\n",
        "pre_trained_vgg16.add(Dense(4096,activation=('relu'))) \n",
        "pre_trained_vgg16.add(Dense(5,activation=('softmax'))) \n",
        "pre_trained_vgg16.summary()"
      ],
      "execution_count": 23,
      "outputs": [
        {
          "output_type": "stream",
          "name": "stdout",
          "text": [
            "Downloading data from https://storage.googleapis.com/tensorflow/keras-applications/vgg16/vgg16_weights_tf_dim_ordering_tf_kernels_notop.h5\n",
            "58892288/58889256 [==============================] - 1s 0us/step\n",
            "58900480/58889256 [==============================] - 1s 0us/step\n",
            "Model: \"sequential_2\"\n",
            "_________________________________________________________________\n",
            "Layer (type)                 Output Shape              Param #   \n",
            "=================================================================\n",
            "block1_conv1 (Conv2D)        (None, 128, 128, 64)      1792      \n",
            "_________________________________________________________________\n",
            "block1_conv2 (Conv2D)        (None, 128, 128, 64)      36928     \n",
            "_________________________________________________________________\n",
            "block1_pool (MaxPooling2D)   (None, 64, 64, 64)        0         \n",
            "_________________________________________________________________\n",
            "block2_conv1 (Conv2D)        (None, 64, 64, 128)       73856     \n",
            "_________________________________________________________________\n",
            "block2_conv2 (Conv2D)        (None, 64, 64, 128)       147584    \n",
            "_________________________________________________________________\n",
            "block2_pool (MaxPooling2D)   (None, 32, 32, 128)       0         \n",
            "_________________________________________________________________\n",
            "block3_conv1 (Conv2D)        (None, 32, 32, 256)       295168    \n",
            "_________________________________________________________________\n",
            "block3_conv2 (Conv2D)        (None, 32, 32, 256)       590080    \n",
            "_________________________________________________________________\n",
            "block3_conv3 (Conv2D)        (None, 32, 32, 256)       590080    \n",
            "_________________________________________________________________\n",
            "block3_pool (MaxPooling2D)   (None, 16, 16, 256)       0         \n",
            "_________________________________________________________________\n",
            "block4_conv1 (Conv2D)        (None, 16, 16, 512)       1180160   \n",
            "_________________________________________________________________\n",
            "block4_conv2 (Conv2D)        (None, 16, 16, 512)       2359808   \n",
            "_________________________________________________________________\n",
            "block4_conv3 (Conv2D)        (None, 16, 16, 512)       2359808   \n",
            "_________________________________________________________________\n",
            "block4_pool (MaxPooling2D)   (None, 8, 8, 512)         0         \n",
            "_________________________________________________________________\n",
            "block5_conv1 (Conv2D)        (None, 8, 8, 512)         2359808   \n",
            "_________________________________________________________________\n",
            "block5_conv2 (Conv2D)        (None, 8, 8, 512)         2359808   \n",
            "_________________________________________________________________\n",
            "block5_conv3 (Conv2D)        (None, 8, 8, 512)         2359808   \n",
            "_________________________________________________________________\n",
            "flatten_1 (Flatten)          (None, 32768)             0         \n",
            "_________________________________________________________________\n",
            "dense_1 (Dense)              (None, 4096)              134221824 \n",
            "_________________________________________________________________\n",
            "dense_2 (Dense)              (None, 4096)              16781312  \n",
            "_________________________________________________________________\n",
            "dense_3 (Dense)              (None, 5)                 20485     \n",
            "=================================================================\n",
            "Total params: 165,738,309\n",
            "Trainable params: 151,023,621\n",
            "Non-trainable params: 14,714,688\n",
            "_________________________________________________________________\n"
          ]
        }
      ]
    },
    {
      "cell_type": "markdown",
      "metadata": {
        "id": "DPh9UdLvxp4q"
      },
      "source": [
        "- training"
      ]
    },
    {
      "cell_type": "code",
      "metadata": {
        "id": "2WmyRh5mzwJ5"
      },
      "source": [
        "#Learning Rate Annealer - decreases the learning rate after a certain number of epochs if the error rate does not change. Here, through this technique, \n",
        "# we will monitor the validation accuracy and if it seems to be a plateau in 3 epochs, it will reduce the learning rate by 0.01.\n",
        "from keras.callbacks import ReduceLROnPlateau\n",
        "\n",
        "lrr= ReduceLROnPlateau(monitor='accuracy', factor=.001, patience=3, min_lr=1e-4) # \"val_acc \" warning"
      ],
      "execution_count": 24,
      "outputs": []
    },
    {
      "cell_type": "code",
      "metadata": {
        "id": "4UGNYbAZyJAk"
      },
      "source": [
        "#Initializing the hyperparameters\n",
        "from tensorflow.keras.optimizers import SGD, Adam\n",
        "batch_size= 128\n",
        "epochs=200\n",
        "learn_rate=.01\n",
        "sgd=SGD(learning_rate=learn_rate,momentum=.9,nesterov=False)\n",
        "adam=Adam(learning_rate=learn_rate, beta_1=0.9, beta_2=0.999, epsilon=None, decay=0.0, amsgrad=False)\n",
        "# crossentroty: logaritmic metric from 0.99 (terrible) to 0 (too much perfect)=> https://machinelearningmastery.com/loss-and-loss-functions-for-training-deep-learning-neural-networks/\n",
        "pre_trained_vgg16.compile(optimizer=adam,loss='categorical_crossentropy',metrics=['accuracy'] ) # quizás no haga falta para que te valsa validation accuracy"
      ],
      "execution_count": 27,
      "outputs": []
    },
    {
      "cell_type": "code",
      "metadata": {
        "colab": {
          "base_uri": "https://localhost:8080/"
        },
        "id": "J4nHlAv2xpTB",
        "outputId": "df9ff2de-85c7-4f40-db29-1c3434b0e74e"
      },
      "source": [
        "#Training the model - al usar esta config no tengo un array de val_accuracy, val_loss https://stackoverflow.com/questions/55746382/why-val-loss-and-val-acc-are-not-displaying\n",
        "\n",
        "model_vgg16= pre_trained_vgg16.fit_generator(\n",
        "    train_generator.flow(x_train, y_train, batch_size= batch_size),\n",
        "    epochs = epochs, \n",
        "    validation_data = val_generator.flow(x_val, y_val, batch_size = batch_size), \n",
        "    steps_per_epoch = len(x_train)//batch_size , # to avoid running out of data error\n",
        "    validation_steps  = len(x_test)//batch_size, # to avoid running out of data error\n",
        "    callbacks=[lrr], # añadir early stopping\n",
        "    verbose = 1\n",
        "    )"
      ],
      "execution_count": 28,
      "outputs": [
        {
          "output_type": "stream",
          "name": "stderr",
          "text": [
            "/usr/local/lib/python3.7/dist-packages/keras/engine/training.py:1972: UserWarning: `Model.fit_generator` is deprecated and will be removed in a future version. Please use `Model.fit`, which supports generators.\n",
            "  warnings.warn('`Model.fit_generator` is deprecated and '\n"
          ]
        },
        {
          "output_type": "stream",
          "name": "stdout",
          "text": [
            "Epoch 1/200\n",
            "28/28 [==============================] - 71s 1s/step - loss: 433.8241 - accuracy: 0.2120 - val_loss: 1.8561 - val_accuracy: 0.2227\n",
            "Epoch 2/200\n",
            "28/28 [==============================] - 21s 749ms/step - loss: 1.8778 - accuracy: 0.2862 - val_loss: 1.8643 - val_accuracy: 0.3242\n",
            "Epoch 3/200\n",
            "28/28 [==============================] - 21s 744ms/step - loss: 1.8200 - accuracy: 0.2890 - val_loss: 2.0229 - val_accuracy: 0.2552\n",
            "Epoch 4/200\n",
            "28/28 [==============================] - 21s 740ms/step - loss: 1.7334 - accuracy: 0.2695 - val_loss: 1.4805 - val_accuracy: 0.3372\n",
            "Epoch 5/200\n",
            "28/28 [==============================] - 21s 749ms/step - loss: 1.4787 - accuracy: 0.3905 - val_loss: 1.3519 - val_accuracy: 0.4049\n",
            "Epoch 6/200\n",
            "28/28 [==============================] - 21s 742ms/step - loss: 1.2407 - accuracy: 0.4725 - val_loss: 1.2899 - val_accuracy: 0.4440\n",
            "Epoch 7/200\n",
            "28/28 [==============================] - 21s 739ms/step - loss: 1.1310 - accuracy: 0.5224 - val_loss: 1.2368 - val_accuracy: 0.4766\n",
            "Epoch 8/200\n",
            "28/28 [==============================] - 21s 745ms/step - loss: 1.0939 - accuracy: 0.5740 - val_loss: 1.1834 - val_accuracy: 0.4961\n",
            "Epoch 9/200\n",
            "28/28 [==============================] - 21s 736ms/step - loss: 1.1654 - accuracy: 0.5980 - val_loss: 1.2061 - val_accuracy: 0.5156\n",
            "Epoch 10/200\n",
            "28/28 [==============================] - 21s 733ms/step - loss: 0.9877 - accuracy: 0.6042 - val_loss: 1.1331 - val_accuracy: 0.5417\n",
            "Epoch 11/200\n",
            "28/28 [==============================] - 21s 729ms/step - loss: 0.8231 - accuracy: 0.6679 - val_loss: 1.1805 - val_accuracy: 0.5352\n",
            "Epoch 12/200\n",
            "28/28 [==============================] - 21s 733ms/step - loss: 0.8486 - accuracy: 0.6614 - val_loss: 1.3132 - val_accuracy: 0.4883\n",
            "Epoch 13/200\n",
            "28/28 [==============================] - 21s 733ms/step - loss: 0.7627 - accuracy: 0.6876 - val_loss: 1.1562 - val_accuracy: 0.5677\n",
            "Epoch 14/200\n",
            "28/28 [==============================] - 20s 728ms/step - loss: 0.7239 - accuracy: 0.7107 - val_loss: 1.1830 - val_accuracy: 0.5703\n",
            "Epoch 15/200\n",
            "28/28 [==============================] - 21s 727ms/step - loss: 0.6610 - accuracy: 0.7463 - val_loss: 1.2021 - val_accuracy: 0.5781\n",
            "Epoch 16/200\n",
            "28/28 [==============================] - 21s 731ms/step - loss: 0.6726 - accuracy: 0.7305 - val_loss: 1.1925 - val_accuracy: 0.5625\n",
            "Epoch 17/200\n",
            "28/28 [==============================] - 21s 726ms/step - loss: 0.6361 - accuracy: 0.7578 - val_loss: 1.2138 - val_accuracy: 0.5872\n",
            "Epoch 18/200\n",
            "28/28 [==============================] - 21s 732ms/step - loss: 1.5229 - accuracy: 0.5980 - val_loss: 1.5916 - val_accuracy: 0.4870\n",
            "Epoch 19/200\n",
            "28/28 [==============================] - 21s 743ms/step - loss: 1.4025 - accuracy: 0.5816 - val_loss: 1.2914 - val_accuracy: 0.4935\n",
            "Epoch 20/200\n",
            "28/28 [==============================] - 21s 749ms/step - loss: 0.9002 - accuracy: 0.6431 - val_loss: 1.1699 - val_accuracy: 0.5521\n",
            "Epoch 21/200\n",
            "28/28 [==============================] - 21s 751ms/step - loss: 0.6623 - accuracy: 0.7494 - val_loss: 1.1562 - val_accuracy: 0.5573\n",
            "Epoch 22/200\n",
            "28/28 [==============================] - 21s 741ms/step - loss: 0.6787 - accuracy: 0.7395 - val_loss: 1.1292 - val_accuracy: 0.5664\n",
            "Epoch 23/200\n",
            "28/28 [==============================] - 21s 739ms/step - loss: 0.6538 - accuracy: 0.7519 - val_loss: 1.1721 - val_accuracy: 0.5599\n",
            "Epoch 24/200\n",
            "28/28 [==============================] - 21s 739ms/step - loss: 0.6459 - accuracy: 0.7564 - val_loss: 1.1586 - val_accuracy: 0.5534\n",
            "Epoch 25/200\n",
            "28/28 [==============================] - 21s 751ms/step - loss: 0.6475 - accuracy: 0.7570 - val_loss: 1.1289 - val_accuracy: 0.5964\n",
            "Epoch 26/200\n",
            "28/28 [==============================] - 21s 741ms/step - loss: 0.6340 - accuracy: 0.7567 - val_loss: 1.1144 - val_accuracy: 0.5911\n",
            "Epoch 27/200\n",
            "28/28 [==============================] - 21s 735ms/step - loss: 0.6153 - accuracy: 0.7621 - val_loss: 1.1809 - val_accuracy: 0.5794\n",
            "Epoch 28/200\n",
            "28/28 [==============================] - 21s 739ms/step - loss: 0.6184 - accuracy: 0.7632 - val_loss: 1.1648 - val_accuracy: 0.5729\n",
            "Epoch 29/200\n",
            "28/28 [==============================] - 21s 739ms/step - loss: 0.5987 - accuracy: 0.7716 - val_loss: 1.1047 - val_accuracy: 0.5911\n",
            "Epoch 30/200\n",
            "28/28 [==============================] - 21s 746ms/step - loss: 0.5887 - accuracy: 0.7793 - val_loss: 1.1837 - val_accuracy: 0.5794\n",
            "Epoch 31/200\n",
            "28/28 [==============================] - 21s 748ms/step - loss: 0.5736 - accuracy: 0.7826 - val_loss: 1.1457 - val_accuracy: 0.5820\n",
            "Epoch 32/200\n",
            "28/28 [==============================] - 21s 745ms/step - loss: 0.5596 - accuracy: 0.7840 - val_loss: 1.1140 - val_accuracy: 0.6055\n",
            "Epoch 33/200\n",
            "28/28 [==============================] - 21s 742ms/step - loss: 0.5453 - accuracy: 0.7933 - val_loss: 1.0934 - val_accuracy: 0.6172\n",
            "Epoch 34/200\n",
            "28/28 [==============================] - 21s 742ms/step - loss: 0.5253 - accuracy: 0.8072 - val_loss: 1.1408 - val_accuracy: 0.6081\n",
            "Epoch 35/200\n",
            "28/28 [==============================] - 21s 744ms/step - loss: 0.5236 - accuracy: 0.8052 - val_loss: 1.1163 - val_accuracy: 0.6237\n",
            "Epoch 36/200\n",
            "28/28 [==============================] - 21s 749ms/step - loss: 0.5172 - accuracy: 0.8043 - val_loss: 1.1314 - val_accuracy: 0.6133\n",
            "Epoch 37/200\n",
            "28/28 [==============================] - 21s 748ms/step - loss: 0.5000 - accuracy: 0.8111 - val_loss: 1.1056 - val_accuracy: 0.5990\n",
            "Epoch 38/200\n",
            "28/28 [==============================] - 21s 743ms/step - loss: 0.4965 - accuracy: 0.8151 - val_loss: 1.1591 - val_accuracy: 0.6094\n",
            "Epoch 39/200\n",
            "28/28 [==============================] - 21s 747ms/step - loss: 0.4805 - accuracy: 0.8234 - val_loss: 1.1338 - val_accuracy: 0.5977\n",
            "Epoch 40/200\n",
            "28/28 [==============================] - 21s 746ms/step - loss: 0.4740 - accuracy: 0.8213 - val_loss: 1.1595 - val_accuracy: 0.6211\n",
            "Epoch 41/200\n",
            "28/28 [==============================] - 21s 743ms/step - loss: 0.4846 - accuracy: 0.8193 - val_loss: 1.1281 - val_accuracy: 0.6237\n",
            "Epoch 42/200\n",
            "28/28 [==============================] - 21s 741ms/step - loss: 0.4719 - accuracy: 0.8276 - val_loss: 1.1204 - val_accuracy: 0.6133\n",
            "Epoch 43/200\n",
            "28/28 [==============================] - 21s 737ms/step - loss: 0.4806 - accuracy: 0.8224 - val_loss: 1.1515 - val_accuracy: 0.6094\n",
            "Epoch 44/200\n",
            "28/28 [==============================] - 21s 736ms/step - loss: 0.4602 - accuracy: 0.8339 - val_loss: 1.1209 - val_accuracy: 0.6185\n",
            "Epoch 45/200\n",
            "28/28 [==============================] - 21s 740ms/step - loss: 0.4590 - accuracy: 0.8244 - val_loss: 1.0984 - val_accuracy: 0.6354\n",
            "Epoch 46/200\n",
            "28/28 [==============================] - 21s 738ms/step - loss: 0.4409 - accuracy: 0.8334 - val_loss: 1.1041 - val_accuracy: 0.6367\n",
            "Epoch 47/200\n",
            "28/28 [==============================] - 21s 741ms/step - loss: 0.4473 - accuracy: 0.8385 - val_loss: 1.1185 - val_accuracy: 0.6185\n",
            "Epoch 48/200\n",
            "28/28 [==============================] - 21s 740ms/step - loss: 0.4368 - accuracy: 0.8373 - val_loss: 1.0833 - val_accuracy: 0.6211\n",
            "Epoch 49/200\n",
            "28/28 [==============================] - 21s 740ms/step - loss: 0.4233 - accuracy: 0.8421 - val_loss: 1.1668 - val_accuracy: 0.6263\n",
            "Epoch 50/200\n",
            "28/28 [==============================] - 21s 739ms/step - loss: 0.4199 - accuracy: 0.8427 - val_loss: 1.1394 - val_accuracy: 0.6380\n",
            "Epoch 51/200\n",
            "28/28 [==============================] - 21s 744ms/step - loss: 0.4211 - accuracy: 0.8449 - val_loss: 1.0852 - val_accuracy: 0.6250\n",
            "Epoch 52/200\n",
            "28/28 [==============================] - 21s 737ms/step - loss: 0.4105 - accuracy: 0.8416 - val_loss: 1.1363 - val_accuracy: 0.6146\n",
            "Epoch 53/200\n",
            "28/28 [==============================] - 21s 739ms/step - loss: 0.4101 - accuracy: 0.8495 - val_loss: 1.1434 - val_accuracy: 0.6250\n",
            "Epoch 54/200\n",
            "28/28 [==============================] - 21s 738ms/step - loss: 0.4051 - accuracy: 0.8506 - val_loss: 1.1131 - val_accuracy: 0.6328\n",
            "Epoch 55/200\n",
            "28/28 [==============================] - 21s 740ms/step - loss: 0.4085 - accuracy: 0.8480 - val_loss: 1.1348 - val_accuracy: 0.6341\n",
            "Epoch 56/200\n",
            "28/28 [==============================] - 21s 743ms/step - loss: 0.4119 - accuracy: 0.8458 - val_loss: 1.1453 - val_accuracy: 0.6237\n",
            "Epoch 57/200\n",
            "28/28 [==============================] - 21s 738ms/step - loss: 0.3938 - accuracy: 0.8554 - val_loss: 1.1409 - val_accuracy: 0.6224\n",
            "Epoch 58/200\n",
            "28/28 [==============================] - 21s 732ms/step - loss: 0.3977 - accuracy: 0.8540 - val_loss: 1.1224 - val_accuracy: 0.6393\n",
            "Epoch 59/200\n",
            "28/28 [==============================] - 21s 733ms/step - loss: 0.3889 - accuracy: 0.8542 - val_loss: 1.1513 - val_accuracy: 0.6406\n",
            "Epoch 60/200\n",
            "28/28 [==============================] - 21s 731ms/step - loss: 0.3850 - accuracy: 0.8616 - val_loss: 1.1735 - val_accuracy: 0.6224\n",
            "Epoch 61/200\n",
            "28/28 [==============================] - 21s 736ms/step - loss: 0.3783 - accuracy: 0.8636 - val_loss: 1.1373 - val_accuracy: 0.6445\n",
            "Epoch 62/200\n",
            "28/28 [==============================] - 21s 733ms/step - loss: 0.3787 - accuracy: 0.8557 - val_loss: 1.1228 - val_accuracy: 0.6380\n",
            "Epoch 63/200\n",
            "28/28 [==============================] - 21s 731ms/step - loss: 0.3755 - accuracy: 0.8666 - val_loss: 1.0834 - val_accuracy: 0.6458\n",
            "Epoch 64/200\n",
            "28/28 [==============================] - 21s 731ms/step - loss: 0.3640 - accuracy: 0.8740 - val_loss: 1.1102 - val_accuracy: 0.6393\n",
            "Epoch 65/200\n",
            "28/28 [==============================] - 21s 731ms/step - loss: 0.3638 - accuracy: 0.8633 - val_loss: 1.1108 - val_accuracy: 0.6615\n",
            "Epoch 66/200\n",
            "28/28 [==============================] - 21s 732ms/step - loss: 0.3458 - accuracy: 0.8751 - val_loss: 1.1209 - val_accuracy: 0.6393\n",
            "Epoch 67/200\n",
            "28/28 [==============================] - 21s 735ms/step - loss: 0.3553 - accuracy: 0.8717 - val_loss: 1.1831 - val_accuracy: 0.6211\n",
            "Epoch 68/200\n",
            "28/28 [==============================] - 21s 733ms/step - loss: 0.3592 - accuracy: 0.8712 - val_loss: 1.1741 - val_accuracy: 0.6380\n",
            "Epoch 69/200\n",
            "28/28 [==============================] - 21s 734ms/step - loss: 0.3550 - accuracy: 0.8695 - val_loss: 1.1583 - val_accuracy: 0.6484\n",
            "Epoch 70/200\n",
            "28/28 [==============================] - 21s 739ms/step - loss: 0.3592 - accuracy: 0.8692 - val_loss: 1.1915 - val_accuracy: 0.6302\n",
            "Epoch 71/200\n",
            "28/28 [==============================] - 21s 734ms/step - loss: 0.3398 - accuracy: 0.8816 - val_loss: 1.1359 - val_accuracy: 0.6445\n",
            "Epoch 72/200\n",
            "28/28 [==============================] - 21s 731ms/step - loss: 0.3410 - accuracy: 0.8745 - val_loss: 1.1461 - val_accuracy: 0.6367\n",
            "Epoch 73/200\n",
            "28/28 [==============================] - 21s 738ms/step - loss: 0.3276 - accuracy: 0.8805 - val_loss: 1.1902 - val_accuracy: 0.6406\n",
            "Epoch 74/200\n",
            "28/28 [==============================] - 21s 734ms/step - loss: 0.3368 - accuracy: 0.8774 - val_loss: 1.1354 - val_accuracy: 0.6458\n",
            "Epoch 75/200\n",
            "28/28 [==============================] - 21s 736ms/step - loss: 0.3355 - accuracy: 0.8802 - val_loss: 1.1882 - val_accuracy: 0.6328\n",
            "Epoch 76/200\n",
            "28/28 [==============================] - 21s 737ms/step - loss: 0.3270 - accuracy: 0.8844 - val_loss: 1.1660 - val_accuracy: 0.6549\n",
            "Epoch 77/200\n",
            "28/28 [==============================] - 21s 743ms/step - loss: 0.3303 - accuracy: 0.8788 - val_loss: 1.1423 - val_accuracy: 0.6549\n",
            "Epoch 78/200\n",
            "28/28 [==============================] - 21s 743ms/step - loss: 0.3138 - accuracy: 0.8875 - val_loss: 1.2110 - val_accuracy: 0.6471\n",
            "Epoch 79/200\n",
            "28/28 [==============================] - 21s 739ms/step - loss: 0.3159 - accuracy: 0.8844 - val_loss: 1.1627 - val_accuracy: 0.6406\n",
            "Epoch 80/200\n",
            "28/28 [==============================] - 21s 740ms/step - loss: 0.3225 - accuracy: 0.8830 - val_loss: 1.2020 - val_accuracy: 0.6497\n",
            "Epoch 81/200\n",
            "28/28 [==============================] - 21s 741ms/step - loss: 0.3109 - accuracy: 0.8926 - val_loss: 1.1837 - val_accuracy: 0.6471\n",
            "Epoch 82/200\n",
            "28/28 [==============================] - 21s 738ms/step - loss: 0.3109 - accuracy: 0.8875 - val_loss: 1.2174 - val_accuracy: 0.6484\n",
            "Epoch 83/200\n",
            "28/28 [==============================] - 21s 744ms/step - loss: 0.2977 - accuracy: 0.8926 - val_loss: 1.2108 - val_accuracy: 0.6497\n",
            "Epoch 84/200\n",
            "28/28 [==============================] - 21s 738ms/step - loss: 0.3126 - accuracy: 0.8912 - val_loss: 1.1630 - val_accuracy: 0.6289\n",
            "Epoch 85/200\n",
            "28/28 [==============================] - 21s 730ms/step - loss: 0.3047 - accuracy: 0.8900 - val_loss: 1.2282 - val_accuracy: 0.6302\n",
            "Epoch 86/200\n",
            "28/28 [==============================] - 21s 731ms/step - loss: 0.2859 - accuracy: 0.8996 - val_loss: 1.1795 - val_accuracy: 0.6406\n",
            "Epoch 87/200\n",
            "28/28 [==============================] - 22s 781ms/step - loss: 0.2829 - accuracy: 0.9050 - val_loss: 1.2235 - val_accuracy: 0.6380\n",
            "Epoch 88/200\n",
            "28/28 [==============================] - 20s 728ms/step - loss: 0.2982 - accuracy: 0.8917 - val_loss: 1.2076 - val_accuracy: 0.6341\n",
            "Epoch 89/200\n",
            "28/28 [==============================] - 21s 733ms/step - loss: 0.2905 - accuracy: 0.8999 - val_loss: 1.2627 - val_accuracy: 0.6302\n",
            "Epoch 90/200\n",
            "28/28 [==============================] - 21s 731ms/step - loss: 0.2752 - accuracy: 0.9044 - val_loss: 1.1938 - val_accuracy: 0.6484\n",
            "Epoch 91/200\n",
            "28/28 [==============================] - 20s 729ms/step - loss: 0.2971 - accuracy: 0.8957 - val_loss: 1.2211 - val_accuracy: 0.6458\n",
            "Epoch 92/200\n",
            "28/28 [==============================] - 21s 729ms/step - loss: 0.2850 - accuracy: 0.8996 - val_loss: 1.2063 - val_accuracy: 0.6367\n",
            "Epoch 93/200\n",
            "28/28 [==============================] - 21s 737ms/step - loss: 0.2845 - accuracy: 0.9005 - val_loss: 1.1628 - val_accuracy: 0.6576\n",
            "Epoch 94/200\n",
            "28/28 [==============================] - 21s 737ms/step - loss: 0.2877 - accuracy: 0.8968 - val_loss: 1.1937 - val_accuracy: 0.6497\n",
            "Epoch 95/200\n",
            "28/28 [==============================] - 21s 734ms/step - loss: 0.2588 - accuracy: 0.9081 - val_loss: 1.2816 - val_accuracy: 0.6354\n",
            "Epoch 96/200\n",
            "28/28 [==============================] - 21s 731ms/step - loss: 0.2730 - accuracy: 0.9084 - val_loss: 1.2433 - val_accuracy: 0.6445\n",
            "Epoch 97/200\n",
            "28/28 [==============================] - 21s 731ms/step - loss: 0.2722 - accuracy: 0.9070 - val_loss: 1.2225 - val_accuracy: 0.6406\n",
            "Epoch 98/200\n",
            "28/28 [==============================] - 21s 733ms/step - loss: 0.2781 - accuracy: 0.9019 - val_loss: 1.2274 - val_accuracy: 0.6510\n",
            "Epoch 99/200\n",
            "28/28 [==============================] - 21s 738ms/step - loss: 0.2724 - accuracy: 0.9041 - val_loss: 1.2156 - val_accuracy: 0.6406\n",
            "Epoch 100/200\n",
            "28/28 [==============================] - 21s 730ms/step - loss: 0.2668 - accuracy: 0.9025 - val_loss: 1.2339 - val_accuracy: 0.6354\n",
            "Epoch 101/200\n",
            "28/28 [==============================] - 21s 732ms/step - loss: 0.2653 - accuracy: 0.9081 - val_loss: 1.2876 - val_accuracy: 0.6419\n",
            "Epoch 102/200\n",
            "28/28 [==============================] - 21s 737ms/step - loss: 0.2556 - accuracy: 0.9123 - val_loss: 1.2748 - val_accuracy: 0.6432\n",
            "Epoch 103/200\n",
            "28/28 [==============================] - 21s 730ms/step - loss: 0.2653 - accuracy: 0.9050 - val_loss: 1.2637 - val_accuracy: 0.6406\n",
            "Epoch 104/200\n",
            "28/28 [==============================] - 21s 735ms/step - loss: 0.2649 - accuracy: 0.9098 - val_loss: 1.3113 - val_accuracy: 0.6393\n",
            "Epoch 105/200\n",
            "28/28 [==============================] - 21s 734ms/step - loss: 0.2500 - accuracy: 0.9081 - val_loss: 1.2680 - val_accuracy: 0.6393\n",
            "Epoch 106/200\n",
            "28/28 [==============================] - 21s 735ms/step - loss: 0.2507 - accuracy: 0.9109 - val_loss: 1.2409 - val_accuracy: 0.6471\n",
            "Epoch 107/200\n",
            "28/28 [==============================] - 21s 730ms/step - loss: 0.2531 - accuracy: 0.9154 - val_loss: 1.2892 - val_accuracy: 0.6367\n",
            "Epoch 108/200\n",
            "28/28 [==============================] - 21s 731ms/step - loss: 0.2525 - accuracy: 0.9154 - val_loss: 1.2522 - val_accuracy: 0.6549\n",
            "Epoch 109/200\n",
            "28/28 [==============================] - 21s 731ms/step - loss: 0.2490 - accuracy: 0.9151 - val_loss: 1.2582 - val_accuracy: 0.6367\n",
            "Epoch 110/200\n",
            "28/28 [==============================] - 21s 732ms/step - loss: 0.2450 - accuracy: 0.9165 - val_loss: 1.3565 - val_accuracy: 0.6497\n",
            "Epoch 111/200\n",
            "28/28 [==============================] - 21s 735ms/step - loss: 0.2331 - accuracy: 0.9157 - val_loss: 1.2973 - val_accuracy: 0.6354\n",
            "Epoch 112/200\n",
            "28/28 [==============================] - 21s 733ms/step - loss: 0.2385 - accuracy: 0.9165 - val_loss: 1.3192 - val_accuracy: 0.6406\n",
            "Epoch 113/200\n",
            "28/28 [==============================] - 21s 742ms/step - loss: 0.2299 - accuracy: 0.9205 - val_loss: 1.2830 - val_accuracy: 0.6393\n",
            "Epoch 114/200\n",
            "28/28 [==============================] - 21s 734ms/step - loss: 0.2323 - accuracy: 0.9278 - val_loss: 1.2799 - val_accuracy: 0.6523\n",
            "Epoch 115/200\n",
            "28/28 [==============================] - 21s 735ms/step - loss: 0.2334 - accuracy: 0.9194 - val_loss: 1.2396 - val_accuracy: 0.6536\n",
            "Epoch 116/200\n",
            "28/28 [==============================] - 21s 740ms/step - loss: 0.2268 - accuracy: 0.9239 - val_loss: 1.3061 - val_accuracy: 0.6432\n",
            "Epoch 117/200\n",
            "28/28 [==============================] - 21s 740ms/step - loss: 0.2228 - accuracy: 0.9222 - val_loss: 1.3040 - val_accuracy: 0.6510\n",
            "Epoch 118/200\n",
            "28/28 [==============================] - 21s 746ms/step - loss: 0.2080 - accuracy: 0.9301 - val_loss: 1.3363 - val_accuracy: 0.6406\n",
            "Epoch 119/200\n",
            "28/28 [==============================] - 21s 743ms/step - loss: 0.2276 - accuracy: 0.9185 - val_loss: 1.3471 - val_accuracy: 0.6497\n",
            "Epoch 120/200\n",
            "28/28 [==============================] - 21s 735ms/step - loss: 0.2255 - accuracy: 0.9239 - val_loss: 1.2921 - val_accuracy: 0.6471\n",
            "Epoch 121/200\n",
            "28/28 [==============================] - 21s 736ms/step - loss: 0.2275 - accuracy: 0.9230 - val_loss: 1.2854 - val_accuracy: 0.6315\n",
            "Epoch 122/200\n",
            "28/28 [==============================] - 21s 740ms/step - loss: 0.2186 - accuracy: 0.9250 - val_loss: 1.3751 - val_accuracy: 0.6367\n",
            "Epoch 123/200\n",
            "28/28 [==============================] - 21s 740ms/step - loss: 0.2128 - accuracy: 0.9321 - val_loss: 1.3590 - val_accuracy: 0.6315\n",
            "Epoch 124/200\n",
            "28/28 [==============================] - 21s 736ms/step - loss: 0.2078 - accuracy: 0.9292 - val_loss: 1.3513 - val_accuracy: 0.6445\n",
            "Epoch 125/200\n",
            "28/28 [==============================] - 21s 738ms/step - loss: 0.2070 - accuracy: 0.9304 - val_loss: 1.2707 - val_accuracy: 0.6641\n",
            "Epoch 126/200\n",
            "28/28 [==============================] - 21s 731ms/step - loss: 0.2080 - accuracy: 0.9352 - val_loss: 1.3983 - val_accuracy: 0.6302\n",
            "Epoch 127/200\n",
            "28/28 [==============================] - 21s 736ms/step - loss: 0.2152 - accuracy: 0.9225 - val_loss: 1.3476 - val_accuracy: 0.6497\n",
            "Epoch 128/200\n",
            "28/28 [==============================] - 21s 731ms/step - loss: 0.2089 - accuracy: 0.9267 - val_loss: 1.2947 - val_accuracy: 0.6667\n",
            "Epoch 129/200\n",
            "28/28 [==============================] - 21s 733ms/step - loss: 0.2065 - accuracy: 0.9301 - val_loss: 1.3761 - val_accuracy: 0.6341\n",
            "Epoch 130/200\n",
            "28/28 [==============================] - 21s 737ms/step - loss: 0.2049 - accuracy: 0.9304 - val_loss: 1.3302 - val_accuracy: 0.6510\n",
            "Epoch 131/200\n",
            "28/28 [==============================] - 21s 735ms/step - loss: 0.2060 - accuracy: 0.9295 - val_loss: 1.3448 - val_accuracy: 0.6562\n",
            "Epoch 132/200\n",
            "28/28 [==============================] - 21s 736ms/step - loss: 0.2105 - accuracy: 0.9278 - val_loss: 1.3254 - val_accuracy: 0.6510\n",
            "Epoch 133/200\n",
            "28/28 [==============================] - 21s 730ms/step - loss: 0.2055 - accuracy: 0.9261 - val_loss: 1.3643 - val_accuracy: 0.6289\n",
            "Epoch 134/200\n",
            "28/28 [==============================] - 21s 735ms/step - loss: 0.1973 - accuracy: 0.9363 - val_loss: 1.3842 - val_accuracy: 0.6406\n",
            "Epoch 135/200\n",
            "28/28 [==============================] - 21s 733ms/step - loss: 0.1908 - accuracy: 0.9383 - val_loss: 1.3165 - val_accuracy: 0.6497\n",
            "Epoch 136/200\n",
            "28/28 [==============================] - 21s 735ms/step - loss: 0.1924 - accuracy: 0.9380 - val_loss: 1.3773 - val_accuracy: 0.6380\n",
            "Epoch 137/200\n",
            "28/28 [==============================] - 21s 732ms/step - loss: 0.1925 - accuracy: 0.9337 - val_loss: 1.3979 - val_accuracy: 0.6393\n",
            "Epoch 138/200\n",
            "28/28 [==============================] - 21s 731ms/step - loss: 0.1920 - accuracy: 0.9346 - val_loss: 1.4234 - val_accuracy: 0.6289\n",
            "Epoch 139/200\n",
            "28/28 [==============================] - 21s 732ms/step - loss: 0.1869 - accuracy: 0.9397 - val_loss: 1.4515 - val_accuracy: 0.6367\n",
            "Epoch 140/200\n",
            "28/28 [==============================] - 21s 728ms/step - loss: 0.1829 - accuracy: 0.9414 - val_loss: 1.4396 - val_accuracy: 0.6315\n",
            "Epoch 141/200\n",
            "28/28 [==============================] - 20s 730ms/step - loss: 0.1905 - accuracy: 0.9391 - val_loss: 1.4199 - val_accuracy: 0.6445\n",
            "Epoch 142/200\n",
            "28/28 [==============================] - 20s 726ms/step - loss: 0.1919 - accuracy: 0.9366 - val_loss: 1.4332 - val_accuracy: 0.6354\n",
            "Epoch 143/200\n",
            "28/28 [==============================] - 20s 728ms/step - loss: 0.1760 - accuracy: 0.9414 - val_loss: 1.4156 - val_accuracy: 0.6497\n",
            "Epoch 144/200\n",
            "28/28 [==============================] - 20s 727ms/step - loss: 0.1762 - accuracy: 0.9371 - val_loss: 1.4221 - val_accuracy: 0.6419\n",
            "Epoch 145/200\n",
            "28/28 [==============================] - 20s 728ms/step - loss: 0.1877 - accuracy: 0.9371 - val_loss: 1.4595 - val_accuracy: 0.6302\n",
            "Epoch 146/200\n",
            "28/28 [==============================] - 21s 730ms/step - loss: 0.1751 - accuracy: 0.9419 - val_loss: 1.4689 - val_accuracy: 0.6133\n",
            "Epoch 147/200\n",
            "28/28 [==============================] - 21s 730ms/step - loss: 0.1788 - accuracy: 0.9397 - val_loss: 1.5261 - val_accuracy: 0.6198\n",
            "Epoch 148/200\n",
            "28/28 [==============================] - 21s 726ms/step - loss: 0.1640 - accuracy: 0.9470 - val_loss: 1.3545 - val_accuracy: 0.6471\n",
            "Epoch 149/200\n",
            "28/28 [==============================] - 21s 739ms/step - loss: 0.1799 - accuracy: 0.9402 - val_loss: 1.4407 - val_accuracy: 0.6250\n",
            "Epoch 150/200\n",
            "28/28 [==============================] - 20s 726ms/step - loss: 0.1794 - accuracy: 0.9416 - val_loss: 1.4125 - val_accuracy: 0.6589\n",
            "Epoch 151/200\n",
            "28/28 [==============================] - 20s 727ms/step - loss: 0.1768 - accuracy: 0.9368 - val_loss: 1.4579 - val_accuracy: 0.6406\n",
            "Epoch 152/200\n",
            "28/28 [==============================] - 20s 731ms/step - loss: 0.1671 - accuracy: 0.9447 - val_loss: 1.4820 - val_accuracy: 0.6393\n",
            "Epoch 153/200\n",
            "28/28 [==============================] - 20s 724ms/step - loss: 0.1690 - accuracy: 0.9445 - val_loss: 1.4695 - val_accuracy: 0.6328\n",
            "Epoch 154/200\n",
            "28/28 [==============================] - 20s 729ms/step - loss: 0.1592 - accuracy: 0.9470 - val_loss: 1.4773 - val_accuracy: 0.6367\n",
            "Epoch 155/200\n",
            "28/28 [==============================] - 20s 723ms/step - loss: 0.1667 - accuracy: 0.9467 - val_loss: 1.4445 - val_accuracy: 0.6107\n",
            "Epoch 156/200\n",
            "28/28 [==============================] - 21s 733ms/step - loss: 0.1595 - accuracy: 0.9481 - val_loss: 1.5106 - val_accuracy: 0.6224\n",
            "Epoch 157/200\n",
            "28/28 [==============================] - 21s 728ms/step - loss: 0.1553 - accuracy: 0.9509 - val_loss: 1.4905 - val_accuracy: 0.6328\n",
            "Epoch 158/200\n",
            "28/28 [==============================] - 21s 736ms/step - loss: 0.1590 - accuracy: 0.9493 - val_loss: 1.5091 - val_accuracy: 0.6354\n",
            "Epoch 159/200\n",
            "28/28 [==============================] - 21s 735ms/step - loss: 0.1629 - accuracy: 0.9490 - val_loss: 1.5701 - val_accuracy: 0.6328\n",
            "Epoch 160/200\n",
            "28/28 [==============================] - 21s 736ms/step - loss: 0.1510 - accuracy: 0.9571 - val_loss: 1.5445 - val_accuracy: 0.6302\n",
            "Epoch 161/200\n",
            "28/28 [==============================] - 21s 734ms/step - loss: 0.1614 - accuracy: 0.9462 - val_loss: 1.6408 - val_accuracy: 0.6276\n",
            "Epoch 162/200\n",
            "28/28 [==============================] - 21s 732ms/step - loss: 0.1554 - accuracy: 0.9490 - val_loss: 1.4990 - val_accuracy: 0.6458\n",
            "Epoch 163/200\n",
            "28/28 [==============================] - 21s 736ms/step - loss: 0.1611 - accuracy: 0.9464 - val_loss: 1.5064 - val_accuracy: 0.6523\n",
            "Epoch 164/200\n",
            "28/28 [==============================] - 21s 731ms/step - loss: 0.1542 - accuracy: 0.9501 - val_loss: 1.5431 - val_accuracy: 0.6341\n",
            "Epoch 165/200\n",
            "28/28 [==============================] - 21s 734ms/step - loss: 0.1444 - accuracy: 0.9524 - val_loss: 1.5517 - val_accuracy: 0.6432\n",
            "Epoch 166/200\n",
            "28/28 [==============================] - 21s 733ms/step - loss: 0.1446 - accuracy: 0.9518 - val_loss: 1.5276 - val_accuracy: 0.6393\n",
            "Epoch 167/200\n",
            "28/28 [==============================] - 20s 728ms/step - loss: 0.1454 - accuracy: 0.9521 - val_loss: 1.4740 - val_accuracy: 0.6458\n",
            "Epoch 168/200\n",
            "28/28 [==============================] - 20s 728ms/step - loss: 0.1456 - accuracy: 0.9532 - val_loss: 1.4989 - val_accuracy: 0.6562\n",
            "Epoch 169/200\n",
            "28/28 [==============================] - 20s 727ms/step - loss: 0.1444 - accuracy: 0.9504 - val_loss: 1.6091 - val_accuracy: 0.6367\n",
            "Epoch 170/200\n",
            "28/28 [==============================] - 20s 722ms/step - loss: 0.1482 - accuracy: 0.9532 - val_loss: 1.5099 - val_accuracy: 0.6276\n",
            "Epoch 171/200\n",
            "28/28 [==============================] - 20s 720ms/step - loss: 0.1483 - accuracy: 0.9532 - val_loss: 1.5648 - val_accuracy: 0.6289\n",
            "Epoch 172/200\n",
            "28/28 [==============================] - 20s 724ms/step - loss: 0.1379 - accuracy: 0.9557 - val_loss: 1.5247 - val_accuracy: 0.6354\n",
            "Epoch 173/200\n",
            "28/28 [==============================] - 20s 721ms/step - loss: 0.1391 - accuracy: 0.9524 - val_loss: 1.5687 - val_accuracy: 0.6393\n",
            "Epoch 174/200\n",
            "28/28 [==============================] - 20s 715ms/step - loss: 0.1368 - accuracy: 0.9580 - val_loss: 1.6092 - val_accuracy: 0.6406\n",
            "Epoch 175/200\n",
            "28/28 [==============================] - 20s 718ms/step - loss: 0.1309 - accuracy: 0.9583 - val_loss: 1.5241 - val_accuracy: 0.6484\n",
            "Epoch 176/200\n",
            "28/28 [==============================] - 20s 720ms/step - loss: 0.1344 - accuracy: 0.9580 - val_loss: 1.5159 - val_accuracy: 0.6419\n",
            "Epoch 177/200\n",
            "28/28 [==============================] - 20s 716ms/step - loss: 0.1319 - accuracy: 0.9591 - val_loss: 1.5016 - val_accuracy: 0.6471\n",
            "Epoch 178/200\n",
            "28/28 [==============================] - 20s 719ms/step - loss: 0.1341 - accuracy: 0.9560 - val_loss: 1.5606 - val_accuracy: 0.6458\n",
            "Epoch 179/200\n",
            "28/28 [==============================] - 20s 726ms/step - loss: 0.1302 - accuracy: 0.9569 - val_loss: 1.5141 - val_accuracy: 0.6367\n",
            "Epoch 180/200\n",
            "28/28 [==============================] - 20s 726ms/step - loss: 0.1309 - accuracy: 0.9560 - val_loss: 1.5321 - val_accuracy: 0.6510\n",
            "Epoch 181/200\n",
            "28/28 [==============================] - 21s 730ms/step - loss: 0.1293 - accuracy: 0.9594 - val_loss: 1.7391 - val_accuracy: 0.6315\n",
            "Epoch 182/200\n",
            "28/28 [==============================] - 20s 727ms/step - loss: 0.1256 - accuracy: 0.9594 - val_loss: 1.6088 - val_accuracy: 0.6367\n",
            "Epoch 183/200\n",
            "28/28 [==============================] - 20s 727ms/step - loss: 0.1314 - accuracy: 0.9608 - val_loss: 1.6273 - val_accuracy: 0.6367\n",
            "Epoch 184/200\n",
            "28/28 [==============================] - 20s 727ms/step - loss: 0.1341 - accuracy: 0.9571 - val_loss: 1.5786 - val_accuracy: 0.6380\n",
            "Epoch 185/200\n",
            "28/28 [==============================] - 20s 721ms/step - loss: 0.1267 - accuracy: 0.9597 - val_loss: 1.5597 - val_accuracy: 0.6497\n",
            "Epoch 186/200\n",
            "28/28 [==============================] - 20s 727ms/step - loss: 0.1270 - accuracy: 0.9594 - val_loss: 1.6786 - val_accuracy: 0.6354\n",
            "Epoch 187/200\n",
            "28/28 [==============================] - 20s 726ms/step - loss: 0.1262 - accuracy: 0.9594 - val_loss: 1.5583 - val_accuracy: 0.6328\n",
            "Epoch 188/200\n",
            "28/28 [==============================] - 20s 725ms/step - loss: 0.1195 - accuracy: 0.9633 - val_loss: 1.6132 - val_accuracy: 0.6445\n",
            "Epoch 189/200\n",
            "28/28 [==============================] - 20s 730ms/step - loss: 0.1218 - accuracy: 0.9622 - val_loss: 1.5944 - val_accuracy: 0.6549\n",
            "Epoch 190/200\n",
            "28/28 [==============================] - 20s 725ms/step - loss: 0.1158 - accuracy: 0.9617 - val_loss: 1.6557 - val_accuracy: 0.6107\n",
            "Epoch 191/200\n",
            "28/28 [==============================] - 20s 725ms/step - loss: 0.1279 - accuracy: 0.9591 - val_loss: 1.6657 - val_accuracy: 0.6315\n",
            "Epoch 192/200\n",
            "28/28 [==============================] - 20s 731ms/step - loss: 0.1089 - accuracy: 0.9670 - val_loss: 1.6358 - val_accuracy: 0.6406\n",
            "Epoch 193/200\n",
            "28/28 [==============================] - 20s 726ms/step - loss: 0.1146 - accuracy: 0.9611 - val_loss: 1.6109 - val_accuracy: 0.6393\n",
            "Epoch 194/200\n",
            "28/28 [==============================] - 20s 723ms/step - loss: 0.1190 - accuracy: 0.9597 - val_loss: 1.7015 - val_accuracy: 0.6367\n",
            "Epoch 195/200\n",
            "28/28 [==============================] - 20s 722ms/step - loss: 0.1193 - accuracy: 0.9645 - val_loss: 1.6524 - val_accuracy: 0.6341\n",
            "Epoch 196/200\n",
            "28/28 [==============================] - 20s 725ms/step - loss: 0.1120 - accuracy: 0.9625 - val_loss: 1.7052 - val_accuracy: 0.6419\n",
            "Epoch 197/200\n",
            "28/28 [==============================] - 20s 727ms/step - loss: 0.1154 - accuracy: 0.9650 - val_loss: 1.7358 - val_accuracy: 0.6328\n",
            "Epoch 198/200\n",
            "28/28 [==============================] - 20s 722ms/step - loss: 0.1058 - accuracy: 0.9684 - val_loss: 1.7234 - val_accuracy: 0.6393\n",
            "Epoch 199/200\n",
            "28/28 [==============================] - 20s 726ms/step - loss: 0.1129 - accuracy: 0.9639 - val_loss: 1.5736 - val_accuracy: 0.6432\n",
            "Epoch 200/200\n",
            "28/28 [==============================] - 20s 724ms/step - loss: 0.1118 - accuracy: 0.9636 - val_loss: 1.6777 - val_accuracy: 0.6315\n"
          ]
        }
      ]
    },
    {
      "cell_type": "code",
      "metadata": {
        "id": "S1M62kGY6Eh2"
      },
      "source": [
        "#save model (before fit_generator)\n",
        "pre_trained_vgg16.save(output_folder+\"20211010-vgg16_1.h5\")"
      ],
      "execution_count": null,
      "outputs": []
    },
    {
      "cell_type": "code",
      "metadata": {
        "colab": {
          "base_uri": "https://localhost:8080/",
          "height": 296
        },
        "id": "Lvx7XQdbxi2j",
        "outputId": "a5de78cb-6f9d-4cba-d691-cece9ed07885"
      },
      "source": [
        "#Plotting the training and validation loss and accuracy\n",
        "f,ax=plt.subplots(2,1) \n",
        "\n",
        "#Loss\n",
        "ax[0].plot(np.arange(0, epochs), model_vgg16.history[\"loss\"], label=\"train_loss\")\n",
        "ax[0].plot(np.arange(0, epochs), model_vgg16.history[\"val_loss\"], label=\"val_loss\")\n",
        "ax[0].legend()\n",
        "plt.xlabel(\"Epoch #\")\n",
        "plt.ylabel(\"Loss/Accuracy\")\n",
        "#Accuracy\n",
        "ax[1].plot(np.arange(0, epochs), model_vgg16.history[\"accuracy\"], label=\"train_acc\")\n",
        "ax[1].plot(np.arange(0, epochs), model_vgg16.history[\"val_accuracy\"], label=\"val_acc\")\n",
        "ax[1].legend()\n",
        "#plt.legend()\n",
        "#plt.title(\"Training Loss and Accuracy\")\n",
        "plt.xlabel(\"Epoch #\")\n",
        "plt.ylabel(\"Loss/Accuracy\")"
      ],
      "execution_count": null,
      "outputs": [
        {
          "output_type": "execute_result",
          "data": {
            "text/plain": [
              "Text(0, 0.5, 'Loss/Accuracy')"
            ]
          },
          "metadata": {},
          "execution_count": 41
        },
        {
          "output_type": "display_data",
          "data": {
            "image/png": "[encoded data removed]",
            "text/plain": [
              "<Figure size 432x288 with 2 Axes>"
            ]
          },
          "metadata": {
            "needs_background": "light"
          }
        }
      ]
    },
    {
      "cell_type": "code",
      "metadata": {
        "colab": {
          "base_uri": "https://localhost:8080/"
        },
        "id": "Opo2OaQCxi5X",
        "outputId": "9d53bebb-92e0-497b-a583-2d6cbf13a060"
      },
      "source": [
        "#Evaluatin\n",
        "print(\"[INFO]: Model godness...\")\n",
        "y_pred = pre_trained_vgg16.predict(x_test, batch_size=128)\n",
        "y_true=np.argmax(y_test,axis=1)\n",
        "print(classification_report(y_test.argmax(axis=1), y_pred.argmax(axis=1), target_names = classes_list ))"
      ],
      "execution_count": null,
      "outputs": [
        {
          "output_type": "stream",
          "name": "stdout",
          "text": [
            "[INFO]: Model godness...\n",
            "              precision    recall  f1-score   support\n",
            "\n",
            "     Dinning       0.74      0.65      0.69        97\n",
            "     Bedroom       0.73      0.76      0.75       175\n",
            "  Livingroom       0.69      0.68      0.69       171\n",
            "     Kitchen       0.62      0.78      0.69       143\n",
            "    Bathroom       0.66      0.56      0.60       202\n",
            "\n",
            "    accuracy                           0.68       788\n",
            "   macro avg       0.69      0.69      0.68       788\n",
            "weighted avg       0.69      0.68      0.68       788\n",
            "\n"
          ]
        }
      ]
    },
    {
      "cell_type": "code",
      "metadata": {
        "id": "XvsdlaQ5_J7w"
      },
      "source": [
        ""
      ],
      "execution_count": null,
      "outputs": []
    },
    {
      "cell_type": "markdown",
      "metadata": {
        "id": "CR4xUbL8B3tu"
      },
      "source": [
        "------------------------------------\n",
        "\n",
        "## resnet50\n",
        "\n",
        "let's \n",
        "- remove the last layer and change it by a final layer with 5 neurons for our 5 classes (this is done loading all but last layer).\n",
        "- freeze layers\n",
        "\n",
        "Estaba teniendo problemas con establecer Sequential() con la resnet. antes lo hacía como la primera celda muteada y daba error. abajo me sale bien, no entiendo muy bien por qué todavía"
      ]
    },
    {
      "cell_type": "code",
      "metadata": {
        "id": "oGN9dfchDhit"
      },
      "source": [
        "#base_model_resnet50.summary()"
      ],
      "execution_count": null,
      "outputs": []
    },
    {
      "cell_type": "code",
      "metadata": {
        "id": "0LMkV9teB3tz"
      },
      "source": [
        "# #https://www.tensorflow.org/api_docs/python/tf/keras/applications/resnet50/ResNet50\n",
        "# base_model_resnet50= ResNet50(include_top=False, weights='imagenet', input_shape=(128, 128, 3), classes = y_train.shape[1], classifier_activation='softmax')\n",
        "# pre_trained_resnet50 = Sequential() # to add more stuff\n",
        "\n",
        "# for layer in base_model_resnet50.layers[:-1]: # not loading the last layer\n",
        "#     pre_trained_resnet50.add(layer)    \n",
        "\n",
        "# pre_trained_resnet50.add(Flatten()) # before the final layer has the shape (None, 8, 8, 5). I do need (0, 5)\n",
        "\n",
        "# # Freeze the layers \n",
        "# for layer in pre_trained_resnet50.layers:\n",
        "#     layer.trainable = False\n",
        "\n",
        "# # Add 'softmax' instead of earlier 'prediction' layer.\n",
        "# pre_trained_resnet50.add(Dense(5,activation=('softmax'))) \n",
        "# pre_trained_resnet50.summary()"
      ],
      "execution_count": null,
      "outputs": []
    },
    {
      "cell_type": "code",
      "metadata": {
        "id": "IAMqmszHFoDN"
      },
      "source": [
        "pre_trained_resnet50 = Sequential()\n",
        "# NOTE that this layer will be set below as NOT TRAINABLE, i.e., use it as is\n",
        "pre_trained_resnet50.add(ResNet50(include_top=False, weights='imagenet', input_shape=(128, 128, 3), classes = y_train.shape[1], classifier_activation='softmax'))\n",
        "pre_trained_resnet50.add(Flatten()) # before the final layer has the shape (None, 4, 4, 5). I do need (0, 5)\n",
        "pre_trained_resnet50.add(Dense(5,activation=('softmax'))) \n",
        "\n",
        "# Say not to train first layer (ResNet) model as it is already trained\n",
        "pre_trained_resnet50.layers[0].trainable = False"
      ],
      "execution_count": null,
      "outputs": []
    },
    {
      "cell_type": "code",
      "metadata": {
        "colab": {
          "base_uri": "https://localhost:8080/"
        },
        "id": "kHItJlJ8Gcq6",
        "outputId": "82cb0615-a4ea-4a20-fea7-f1ade942a3c5"
      },
      "source": [
        "pre_trained_resnet50.summary()"
      ],
      "execution_count": null,
      "outputs": [
        {
          "output_type": "stream",
          "name": "stdout",
          "text": [
            "Model: \"sequential_3\"\n",
            "_________________________________________________________________\n",
            "Layer (type)                 Output Shape              Param #   \n",
            "=================================================================\n",
            "resnet50 (Functional)        (None, 4, 4, 2048)        23587712  \n",
            "_________________________________________________________________\n",
            "flatten_1 (Flatten)          (None, 32768)             0         \n",
            "_________________________________________________________________\n",
            "dense_2 (Dense)              (None, 5)                 163845    \n",
            "=================================================================\n",
            "Total params: 23,751,557\n",
            "Trainable params: 163,845\n",
            "Non-trainable params: 23,587,712\n",
            "_________________________________________________________________\n"
          ]
        }
      ]
    },
    {
      "cell_type": "markdown",
      "metadata": {
        "id": "RSe1j5R1B3t5"
      },
      "source": [
        "- training"
      ]
    },
    {
      "cell_type": "code",
      "metadata": {
        "id": "-3Gc2Q7jB3t6"
      },
      "source": [
        "#Learning Rate Annealer - decreases the learning rate after a certain number of epochs if the error rate does not change. Here, through this technique, \n",
        "# we will monitor the validation accuracy and if it seems to be a plateau in 3 epochs, it will reduce the learning rate by 0.01.\n",
        "from keras.callbacks import ReduceLROnPlateau\n",
        "\n",
        "lrr= ReduceLROnPlateau(monitor='accuracy', factor=.01, patience=3, min_lr=1e-5) # \"val_acc \" warning"
      ],
      "execution_count": null,
      "outputs": []
    },
    {
      "cell_type": "code",
      "metadata": {
        "id": "8nq9NObbB3t7"
      },
      "source": [
        "#Initializing the hyperparameters\n",
        "from tensorflow.keras.optimizers import SGD, Adam\n",
        "batch_size= 128\n",
        "epochs=50\n",
        "learn_rate=.001\n",
        "sgd=SGD(learning_rate=learn_rate,momentum=.9,nesterov=False)\n",
        "adam=Adam(learning_rate=learn_rate, beta_1=0.9, beta_2=0.999, epsilon=None, decay=0.0, amsgrad=False)\n",
        "# crossentroty: logaritmic metric from 0.99 (terrible) to 0 (too much perfect)=> https://machinelearningmastery.com/loss-and-loss-functions-for-training-deep-learning-neural-networks/\n",
        "pre_trained_resnet50.compile(optimizer=adam,loss='categorical_crossentropy',metrics=['accuracy'])"
      ],
      "execution_count": null,
      "outputs": []
    },
    {
      "cell_type": "code",
      "metadata": {
        "colab": {
          "base_uri": "https://localhost:8080/"
        },
        "id": "j-MJSVILB3t7",
        "outputId": "b14cbd95-8ed6-4af7-b4ad-cf027abf8408"
      },
      "source": [
        "#Training the model - al usar esta config no tengo un array de val_accuracy, val_loss https://stackoverflow.com/questions/55746382/why-val-loss-and-val-acc-are-not-displaying\n",
        "\n",
        "model_resnet50= pre_trained_resnet50.fit_generator(\n",
        "    train_generator.flow(x_train, y_train, batch_size= batch_size),\n",
        "    epochs = epochs, \n",
        "    validation_data = val_generator.flow(x_val, y_val, batch_size = batch_size), \n",
        "    steps_per_epoch = len(x_train)//batch_size , # to avoid running out of data error\n",
        "    validation_steps  = len(x_test)//batch_size, # to avoid running out of data error\n",
        "    callbacks=[lrr], \n",
        "    verbose = 1\n",
        "    )"
      ],
      "execution_count": null,
      "outputs": [
        {
          "output_type": "stream",
          "name": "stderr",
          "text": [
            "/usr/local/lib/python3.7/dist-packages/keras/engine/training.py:1972: UserWarning: `Model.fit_generator` is deprecated and will be removed in a future version. Please use `Model.fit`, which supports generators.\n",
            "  warnings.warn('`Model.fit_generator` is deprecated and '\n"
          ]
        },
        {
          "output_type": "stream",
          "name": "stdout",
          "text": [
            "Epoch 1/50\n",
            "28/28 [==============================] - 56s 833ms/step - loss: 1.6210 - accuracy: 0.2467 - val_loss: 1.5597 - val_accuracy: 0.2721\n",
            "Epoch 2/50\n",
            "28/28 [==============================] - 19s 691ms/step - loss: 1.5277 - accuracy: 0.2915 - val_loss: 1.5017 - val_accuracy: 0.3255\n",
            "Epoch 3/50\n",
            "28/28 [==============================] - 19s 692ms/step - loss: 1.4751 - accuracy: 0.3296 - val_loss: 1.5086 - val_accuracy: 0.2878\n",
            "Epoch 4/50\n",
            "28/28 [==============================] - 19s 692ms/step - loss: 1.4889 - accuracy: 0.3327 - val_loss: 1.4957 - val_accuracy: 0.3320\n",
            "Epoch 5/50\n",
            "28/28 [==============================] - 19s 691ms/step - loss: 1.4350 - accuracy: 0.3727 - val_loss: 1.4481 - val_accuracy: 0.3815\n",
            "Epoch 6/50\n",
            "28/28 [==============================] - 19s 694ms/step - loss: 1.4230 - accuracy: 0.3690 - val_loss: 1.4405 - val_accuracy: 0.3737\n",
            "Epoch 7/50\n",
            "28/28 [==============================] - 20s 711ms/step - loss: 1.4179 - accuracy: 0.3981 - val_loss: 1.4476 - val_accuracy: 0.3906\n",
            "Epoch 8/50\n",
            "28/28 [==============================] - 20s 714ms/step - loss: 1.3937 - accuracy: 0.4023 - val_loss: 1.4181 - val_accuracy: 0.4036\n",
            "Epoch 9/50\n",
            "28/28 [==============================] - 20s 701ms/step - loss: 1.3835 - accuracy: 0.4057 - val_loss: 1.4270 - val_accuracy: 0.3854\n",
            "Epoch 10/50\n",
            "28/28 [==============================] - 20s 699ms/step - loss: 1.3755 - accuracy: 0.4105 - val_loss: 1.4307 - val_accuracy: 0.3711\n",
            "Epoch 11/50\n",
            "28/28 [==============================] - 20s 698ms/step - loss: 1.3621 - accuracy: 0.4167 - val_loss: 1.4243 - val_accuracy: 0.3854\n",
            "Epoch 12/50\n",
            "28/28 [==============================] - 19s 694ms/step - loss: 1.3647 - accuracy: 0.3998 - val_loss: 1.4000 - val_accuracy: 0.3958\n",
            "Epoch 13/50\n",
            "28/28 [==============================] - 19s 695ms/step - loss: 1.3658 - accuracy: 0.4116 - val_loss: 1.4535 - val_accuracy: 0.3516\n",
            "Epoch 14/50\n",
            "28/28 [==============================] - 20s 695ms/step - loss: 1.3507 - accuracy: 0.4260 - val_loss: 1.4077 - val_accuracy: 0.3802\n",
            "Epoch 15/50\n",
            "28/28 [==============================] - 20s 697ms/step - loss: 1.3442 - accuracy: 0.4201 - val_loss: 1.3772 - val_accuracy: 0.4010\n",
            "Epoch 16/50\n",
            "28/28 [==============================] - 20s 697ms/step - loss: 1.3365 - accuracy: 0.4229 - val_loss: 1.4559 - val_accuracy: 0.3802\n",
            "Epoch 17/50\n",
            "28/28 [==============================] - 20s 697ms/step - loss: 1.3284 - accuracy: 0.4347 - val_loss: 1.3910 - val_accuracy: 0.4193\n",
            "Epoch 18/50\n",
            "28/28 [==============================] - 19s 692ms/step - loss: 1.3197 - accuracy: 0.4359 - val_loss: 1.3814 - val_accuracy: 0.3841\n",
            "Epoch 19/50\n",
            "28/28 [==============================] - 19s 691ms/step - loss: 1.3222 - accuracy: 0.4204 - val_loss: 1.4089 - val_accuracy: 0.3997\n",
            "Epoch 20/50\n",
            "28/28 [==============================] - 19s 690ms/step - loss: 1.3283 - accuracy: 0.4209 - val_loss: 1.3977 - val_accuracy: 0.3945\n",
            "Epoch 21/50\n",
            "28/28 [==============================] - 19s 688ms/step - loss: 1.3116 - accuracy: 0.4381 - val_loss: 1.3725 - val_accuracy: 0.4062\n",
            "Epoch 22/50\n",
            "28/28 [==============================] - 20s 695ms/step - loss: 1.2960 - accuracy: 0.4545 - val_loss: 1.3507 - val_accuracy: 0.4115\n",
            "Epoch 23/50\n",
            "28/28 [==============================] - 19s 693ms/step - loss: 1.2921 - accuracy: 0.4573 - val_loss: 1.3523 - val_accuracy: 0.4310\n",
            "Epoch 24/50\n",
            "28/28 [==============================] - 20s 713ms/step - loss: 1.2945 - accuracy: 0.4598 - val_loss: 1.3727 - val_accuracy: 0.4154\n",
            "Epoch 25/50\n",
            "28/28 [==============================] - 20s 713ms/step - loss: 1.2816 - accuracy: 0.4626 - val_loss: 1.3747 - val_accuracy: 0.4232\n",
            "Epoch 26/50\n",
            "28/28 [==============================] - 20s 706ms/step - loss: 1.2872 - accuracy: 0.4556 - val_loss: 1.3451 - val_accuracy: 0.4284\n",
            "Epoch 27/50\n",
            "28/28 [==============================] - 19s 690ms/step - loss: 1.2709 - accuracy: 0.4607 - val_loss: 1.3639 - val_accuracy: 0.4284\n",
            "Epoch 28/50\n",
            "28/28 [==============================] - 19s 694ms/step - loss: 1.2971 - accuracy: 0.4471 - val_loss: 1.3293 - val_accuracy: 0.4297\n",
            "Epoch 29/50\n",
            "28/28 [==============================] - 19s 691ms/step - loss: 1.2622 - accuracy: 0.4748 - val_loss: 1.3417 - val_accuracy: 0.4375\n",
            "Epoch 30/50\n",
            "28/28 [==============================] - 19s 691ms/step - loss: 1.2514 - accuracy: 0.4880 - val_loss: 1.3462 - val_accuracy: 0.4349\n",
            "Epoch 31/50\n",
            "28/28 [==============================] - 19s 694ms/step - loss: 1.2505 - accuracy: 0.4860 - val_loss: 1.3353 - val_accuracy: 0.4349\n",
            "Epoch 32/50\n",
            "28/28 [==============================] - 19s 691ms/step - loss: 1.2521 - accuracy: 0.4920 - val_loss: 1.3402 - val_accuracy: 0.4284\n",
            "Epoch 33/50\n",
            "28/28 [==============================] - 19s 695ms/step - loss: 1.2559 - accuracy: 0.4813 - val_loss: 1.3341 - val_accuracy: 0.4284\n",
            "Epoch 34/50\n",
            "28/28 [==============================] - 20s 698ms/step - loss: 1.2525 - accuracy: 0.4841 - val_loss: 1.3402 - val_accuracy: 0.4362\n",
            "Epoch 35/50\n",
            "28/28 [==============================] - 20s 695ms/step - loss: 1.2545 - accuracy: 0.4855 - val_loss: 1.3212 - val_accuracy: 0.4505\n",
            "Epoch 36/50\n",
            "28/28 [==============================] - 20s 697ms/step - loss: 1.2529 - accuracy: 0.4925 - val_loss: 1.3111 - val_accuracy: 0.4570\n",
            "Epoch 37/50\n",
            "28/28 [==============================] - 19s 692ms/step - loss: 1.2441 - accuracy: 0.4945 - val_loss: 1.3432 - val_accuracy: 0.4401\n",
            "Epoch 38/50\n",
            "28/28 [==============================] - 19s 693ms/step - loss: 1.2529 - accuracy: 0.4889 - val_loss: 1.3380 - val_accuracy: 0.4349\n",
            "Epoch 39/50\n",
            "28/28 [==============================] - 19s 695ms/step - loss: 1.2450 - accuracy: 0.5027 - val_loss: 1.3491 - val_accuracy: 0.4245\n",
            "Epoch 40/50\n",
            "28/28 [==============================] - 19s 693ms/step - loss: 1.2530 - accuracy: 0.4841 - val_loss: 1.3234 - val_accuracy: 0.4427\n",
            "Epoch 41/50\n",
            "28/28 [==============================] - 20s 713ms/step - loss: 1.2534 - accuracy: 0.4750 - val_loss: 1.3264 - val_accuracy: 0.4284\n",
            "Epoch 42/50\n",
            "28/28 [==============================] - 20s 712ms/step - loss: 1.2442 - accuracy: 0.4894 - val_loss: 1.3312 - val_accuracy: 0.4297\n",
            "Epoch 43/50\n",
            "28/28 [==============================] - 20s 696ms/step - loss: 1.2516 - accuracy: 0.4889 - val_loss: 1.3467 - val_accuracy: 0.4401\n",
            "Epoch 44/50\n",
            "28/28 [==============================] - 19s 692ms/step - loss: 1.2463 - accuracy: 0.4855 - val_loss: 1.3156 - val_accuracy: 0.4609\n",
            "Epoch 45/50\n",
            "28/28 [==============================] - 19s 690ms/step - loss: 1.2469 - accuracy: 0.4801 - val_loss: 1.3413 - val_accuracy: 0.4375\n",
            "Epoch 46/50\n",
            "28/28 [==============================] - 19s 690ms/step - loss: 1.2529 - accuracy: 0.4829 - val_loss: 1.3319 - val_accuracy: 0.4440\n",
            "Epoch 47/50\n",
            "28/28 [==============================] - 19s 692ms/step - loss: 1.2521 - accuracy: 0.4939 - val_loss: 1.3338 - val_accuracy: 0.4414\n",
            "Epoch 48/50\n",
            "28/28 [==============================] - 19s 693ms/step - loss: 1.2476 - accuracy: 0.4875 - val_loss: 1.3386 - val_accuracy: 0.4349\n",
            "Epoch 49/50\n",
            "28/28 [==============================] - 19s 692ms/step - loss: 1.2487 - accuracy: 0.4852 - val_loss: 1.3147 - val_accuracy: 0.4492\n",
            "Epoch 50/50\n",
            "28/28 [==============================] - 19s 694ms/step - loss: 1.2442 - accuracy: 0.4922 - val_loss: 1.3221 - val_accuracy: 0.4570\n"
          ]
        }
      ]
    },
    {
      "cell_type": "code",
      "metadata": {
        "id": "uG082HnVB3t8",
        "colab": {
          "base_uri": "https://localhost:8080/"
        },
        "outputId": "d5a2c997-c6c7-418b-c28a-8a16cdc8df3a"
      },
      "source": [
        "#save model (before fit_generator)\n",
        "pre_trained_resnet50.save(output_folder+\"20211010-resnet50_1.h5\")"
      ],
      "execution_count": null,
      "outputs": [
        {
          "output_type": "stream",
          "name": "stderr",
          "text": [
            "/usr/local/lib/python3.7/dist-packages/keras/utils/generic_utils.py:497: CustomMaskWarning: Custom mask layers require a config and must override get_config. When loading, the custom mask layer must be passed to the custom_objects argument.\n",
            "  category=CustomMaskWarning)\n"
          ]
        }
      ]
    },
    {
      "cell_type": "code",
      "metadata": {
        "colab": {
          "base_uri": "https://localhost:8080/",
          "height": 296
        },
        "id": "CZqqHtKcB3t-",
        "outputId": "e1d560a0-6347-42c7-c4ff-c3189928e527"
      },
      "source": [
        "#Plotting the training and validation loss and accuracy\n",
        "f,ax=plt.subplots(2,1) \n",
        "\n",
        "#Loss\n",
        "ax[0].plot(np.arange(0, epochs), model_resnet50.history[\"loss\"], label=\"train_loss\")\n",
        "ax[0].plot(np.arange(0, epochs), model_resnet50.history[\"val_loss\"], label=\"val_loss\")\n",
        "ax[0].legend()\n",
        "plt.xlabel(\"Epoch #\")\n",
        "plt.ylabel(\"Loss/Accuracy\")\n",
        "#Accuracy\n",
        "ax[1].plot(np.arange(0, epochs), model_resnet50.history[\"accuracy\"], label=\"train_acc\")\n",
        "ax[1].plot(np.arange(0, epochs), model_resnet50.history[\"val_accuracy\"], label=\"val_acc\")\n",
        "ax[1].legend()\n",
        "#plt.legend()\n",
        "#plt.title(\"Training Loss and Accuracy\")\n",
        "plt.xlabel(\"Epoch #\")\n",
        "plt.ylabel(\"Loss/Accuracy\")"
      ],
      "execution_count": null,
      "outputs": [
        {
          "output_type": "execute_result",
          "data": {
            "text/plain": [
              "Text(0, 0.5, 'Loss/Accuracy')"
            ]
          },
          "metadata": {},
          "execution_count": 31
        },
        {
          "output_type": "display_data",
          "data": {
            "image/png": "[encoded data removed]",
            "text/plain": [
              "<Figure size 432x288 with 2 Axes>"
            ]
          },
          "metadata": {
            "needs_background": "light"
          }
        }
      ]
    },
    {
      "cell_type": "code",
      "metadata": {
        "colab": {
          "base_uri": "https://localhost:8080/"
        },
        "id": "g8LQg9XqB3t_",
        "outputId": "44bb4ccd-51bf-4cb8-9aae-0f4a9b049a96"
      },
      "source": [
        "#Evaluatin\n",
        "print(\"[INFO]: Model godness...\")\n",
        "y_pred = pre_trained_resnet50.predict(x_test, batch_size=128)\n",
        "y_true=np.argmax(y_test,axis=1)\n",
        "print(classification_report(y_test.argmax(axis=1), y_pred.argmax(axis=1), target_names = classes_list ))"
      ],
      "execution_count": null,
      "outputs": [
        {
          "output_type": "stream",
          "name": "stdout",
          "text": [
            "[INFO]: Model godness...\n",
            "              precision    recall  f1-score   support\n",
            "\n",
            "     Dinning       0.69      0.45      0.55       104\n",
            "     Bedroom       0.46      0.54      0.50       185\n",
            "  Livingroom       0.50      0.50      0.50       169\n",
            "     Kitchen       0.44      0.31      0.36       159\n",
            "    Bathroom       0.36      0.47      0.41       171\n",
            "\n",
            "    accuracy                           0.46       788\n",
            "   macro avg       0.49      0.45      0.46       788\n",
            "weighted avg       0.47      0.46      0.46       788\n",
            "\n"
          ]
        }
      ]
    },
    {
      "cell_type": "code",
      "metadata": {
        "id": "rLGRQxPVBwGx"
      },
      "source": [
        ""
      ],
      "execution_count": null,
      "outputs": []
    },
    {
      "cell_type": "markdown",
      "metadata": {
        "id": "bZ9bjZIUmrNY"
      },
      "source": [
        "## VGG19"
      ]
    },
    {
      "cell_type": "code",
      "metadata": {
        "id": "uLBFamwrawYQ"
      },
      "source": [
        "#Data Augmentation first\n",
        "train_generator = ImageDataGenerator(rotation_range=2, horizontal_flip=True, zoom_range=.1)\n",
        "val_generator = ImageDataGenerator(rotation_range=2, horizontal_flip=True, zoom_range=.1)\n",
        "test_generator = ImageDataGenerator(rotation_range=2, horizontal_flip= True, zoom_range=.1)\n",
        "\n",
        "#Fitting the augmentation defined above to the data\n",
        "train_generator.fit(x_train)\n",
        "val_generator.fit(x_val)\n",
        "test_generator.fit(x_test)"
      ],
      "execution_count": null,
      "outputs": []
    },
    {
      "cell_type": "code",
      "metadata": {
        "id": "PXYrLOFFa3iX"
      },
      "source": [
        "#Defining the VGG Convolutional Neural Net\n",
        "base_model_vgg = VGG19(include_top = False, weights = 'imagenet', input_shape = (128, 128, 3), classes = y_train.shape[1])\n",
        "base_model_vgg.summary()"
      ],
      "execution_count": null,
      "outputs": []
    },
    {
      "cell_type": "code",
      "metadata": {
        "id": "DRPff3G1EU2b"
      },
      "source": [
        "#freezing_layers(base_model_vgg,'block5_conv1')"
      ],
      "execution_count": null,
      "outputs": []
    },
    {
      "cell_type": "code",
      "metadata": {
        "colab": {
          "base_uri": "https://localhost:8080/"
        },
        "id": "fnSUe57ia3lO",
        "outputId": "04c071b8-4eed-4208-e148-9051bcf63df6"
      },
      "source": [
        "base_model_vgg.trainable = False  \n",
        "#Adding the final layers to the above base models where the actual classification is done in the dense layers\n",
        "pre_trained_vgg= Sequential()\n",
        "pre_trained_vgg.add(base_model_vgg) # adding pre-trained model\n",
        "pre_trained_vgg.add(Flatten()) \n",
        "#Adding the Dense layers along with activation and batch normalization\n",
        "pre_trained_vgg.add(Dense(1024,activation=('relu'),input_dim=512))\n",
        "pre_trained_vgg.add(Dense(512,activation=('relu'))) \n",
        "pre_trained_vgg.add(Dense(256,activation=('relu'))) \n",
        "pre_trained_vgg.add(Dropout(.3))\n",
        "pre_trained_vgg.add(Dense(128,activation=('relu')))\n",
        "pre_trained_vgg.add(Dropout(.2))\n",
        "pre_trained_vgg.add(Dense(5,activation=('softmax'))) \n",
        "\n",
        "#Checking the final model summary\n",
        "pre_trained_vgg.summary()"
      ],
      "execution_count": null,
      "outputs": [
        {
          "output_type": "stream",
          "name": "stdout",
          "text": [
            "Model: \"sequential\"\n",
            "_________________________________________________________________\n",
            "Layer (type)                 Output Shape              Param #   \n",
            "=================================================================\n",
            "vgg19 (Functional)           (None, 4, 4, 512)         20024384  \n",
            "_________________________________________________________________\n",
            "flatten (Flatten)            (None, 8192)              0         \n",
            "_________________________________________________________________\n",
            "dense (Dense)                (None, 1024)              8389632   \n",
            "_________________________________________________________________\n",
            "dense_1 (Dense)              (None, 512)               524800    \n",
            "_________________________________________________________________\n",
            "dense_2 (Dense)              (None, 256)               131328    \n",
            "_________________________________________________________________\n",
            "dropout (Dropout)            (None, 256)               0         \n",
            "_________________________________________________________________\n",
            "dense_3 (Dense)              (None, 128)               32896     \n",
            "_________________________________________________________________\n",
            "dropout_1 (Dropout)          (None, 128)               0         \n",
            "_________________________________________________________________\n",
            "dense_4 (Dense)              (None, 5)                 645       \n",
            "=================================================================\n",
            "Total params: 29,103,685\n",
            "Trainable params: 9,079,301\n",
            "Non-trainable params: 20,024,384\n",
            "_________________________________________________________________\n"
          ]
        }
      ]
    },
    {
      "cell_type": "markdown",
      "metadata": {
        "id": "ALcU46fL_fTx"
      },
      "source": [
        "### analytics india"
      ]
    },
    {
      "cell_type": "code",
      "metadata": {
        "id": "EBsEAjnCa3e4"
      },
      "source": [
        "#Learning Rate Annealer - decreases the learning rate after a certain number of epochs if the error rate does not change. Here, through this technique, \n",
        "# we will monitor the validation accuracy and if it seems to be a plateau in 3 epochs, it will reduce the learning rate by 0.01.\n",
        "from keras.callbacks import ReduceLROnPlateau\n",
        "\n",
        "lrr= ReduceLROnPlateau(monitor='accuracy', factor=.01, patience=3, min_lr=1e-5) # \"val_acc \" warning\n"
      ],
      "execution_count": null,
      "outputs": []
    },
    {
      "cell_type": "code",
      "metadata": {
        "id": "xO2j4ygra3oW"
      },
      "source": [
        "#Initializing the hyperparameters\n",
        "from tensorflow.keras.optimizers import SGD, Adam\n",
        "batch_size= 128\n",
        "epochs=50\n",
        "learn_rate=.001\n",
        "sgd=SGD(learning_rate=learn_rate,momentum=.9,nesterov=False)\n",
        "adam=Adam(learning_rate=learn_rate, beta_1=0.9, beta_2=0.999, epsilon=None, decay=0.0, amsgrad=False)\n",
        "# crossentroty: logaritmic metric from 0.99 (terrible) to 0 (too much perfect)=> https://machinelearningmastery.com/loss-and-loss-functions-for-training-deep-learning-neural-networks/\n",
        "pre_trained_vgg.compile(optimizer=adam,loss='categorical_crossentropy',metrics=['accuracy'])"
      ],
      "execution_count": null,
      "outputs": []
    },
    {
      "cell_type": "code",
      "metadata": {
        "colab": {
          "base_uri": "https://localhost:8080/"
        },
        "id": "c_5qR_YMcAq4",
        "outputId": "2f1224f7-679d-4c1e-e361-d82f93c173e5"
      },
      "source": [
        "#Training the model - al usar esta config no tengo un array de val_accuracy, val_loss https://stackoverflow.com/questions/55746382/why-val-loss-and-val-acc-are-not-displaying\n",
        "vgg19_pre = pre_trained_vgg.fit_generator(\n",
        "    train_generator.flow(x_train, y_train, batch_size= batch_size),\n",
        "    epochs = epochs, \n",
        "    validation_data = val_generator.flow(x_val, y_val, batch_size = batch_size), \n",
        "    steps_per_epoch = len(x_train)//batch_size , # to avoid running out of data error\n",
        "    validation_steps  = len(x_test)//batch_size, # to avoid running out of data error\n",
        "    callbacks=[lrr], \n",
        "    verbose = 1\n",
        "    )"
      ],
      "execution_count": null,
      "outputs": [
        {
          "output_type": "stream",
          "name": "stderr",
          "text": [
            "/usr/local/lib/python3.7/dist-packages/keras/engine/training.py:1972: UserWarning: `Model.fit_generator` is deprecated and will be removed in a future version. Please use `Model.fit`, which supports generators.\n",
            "  warnings.warn('`Model.fit_generator` is deprecated and '\n"
          ]
        },
        {
          "output_type": "stream",
          "name": "stdout",
          "text": [
            "Epoch 1/50\n",
            "28/28 [==============================] - 16s 588ms/step - loss: 0.0575 - accuracy: 0.9828 - val_loss: 1.4313 - val_accuracy: 0.6914\n",
            "Epoch 2/50\n",
            "28/28 [==============================] - 16s 568ms/step - loss: 0.0591 - accuracy: 0.9822 - val_loss: 1.3357 - val_accuracy: 0.7005\n",
            "Epoch 3/50\n",
            "28/28 [==============================] - 16s 575ms/step - loss: 0.0536 - accuracy: 0.9831 - val_loss: 1.3518 - val_accuracy: 0.6888\n",
            "Epoch 4/50\n",
            "28/28 [==============================] - 16s 575ms/step - loss: 0.0582 - accuracy: 0.9834 - val_loss: 1.4315 - val_accuracy: 0.6901\n",
            "Epoch 5/50\n",
            "28/28 [==============================] - 16s 571ms/step - loss: 0.0464 - accuracy: 0.9859 - val_loss: 1.3313 - val_accuracy: 0.6914\n",
            "Epoch 6/50\n",
            "28/28 [==============================] - 16s 580ms/step - loss: 0.0582 - accuracy: 0.9834 - val_loss: 1.3834 - val_accuracy: 0.7018\n",
            "Epoch 7/50\n",
            "28/28 [==============================] - 16s 587ms/step - loss: 0.0532 - accuracy: 0.9859 - val_loss: 1.3130 - val_accuracy: 0.6992\n",
            "Epoch 8/50\n",
            "28/28 [==============================] - 16s 573ms/step - loss: 0.0438 - accuracy: 0.9865 - val_loss: 1.4627 - val_accuracy: 0.6758\n",
            "Epoch 9/50\n",
            "28/28 [==============================] - 16s 573ms/step - loss: 0.0442 - accuracy: 0.9839 - val_loss: 1.4024 - val_accuracy: 0.6966\n",
            "Epoch 10/50\n",
            "28/28 [==============================] - 16s 568ms/step - loss: 0.0512 - accuracy: 0.9851 - val_loss: 1.3761 - val_accuracy: 0.7005\n",
            "Epoch 11/50\n",
            "28/28 [==============================] - 16s 575ms/step - loss: 0.0486 - accuracy: 0.9862 - val_loss: 1.5111 - val_accuracy: 0.6732\n",
            "Epoch 12/50\n",
            "28/28 [==============================] - 16s 578ms/step - loss: 0.0479 - accuracy: 0.9865 - val_loss: 1.4807 - val_accuracy: 0.6797\n",
            "Epoch 13/50\n",
            "28/28 [==============================] - 16s 578ms/step - loss: 0.0462 - accuracy: 0.9873 - val_loss: 1.4082 - val_accuracy: 0.6927\n",
            "Epoch 14/50\n",
            "28/28 [==============================] - 16s 572ms/step - loss: 0.0462 - accuracy: 0.9876 - val_loss: 1.3693 - val_accuracy: 0.7044\n",
            "Epoch 15/50\n",
            "28/28 [==============================] - 16s 579ms/step - loss: 0.0516 - accuracy: 0.9825 - val_loss: 1.4524 - val_accuracy: 0.6836\n",
            "Epoch 16/50\n",
            "28/28 [==============================] - 16s 583ms/step - loss: 0.0432 - accuracy: 0.9870 - val_loss: 1.4238 - val_accuracy: 0.6966\n",
            "Epoch 17/50\n",
            "28/28 [==============================] - 16s 581ms/step - loss: 0.0436 - accuracy: 0.9856 - val_loss: 1.4536 - val_accuracy: 0.6927\n",
            "Epoch 18/50\n",
            "28/28 [==============================] - 16s 580ms/step - loss: 0.0441 - accuracy: 0.9865 - val_loss: 1.4509 - val_accuracy: 0.6901\n",
            "Epoch 19/50\n",
            "28/28 [==============================] - 16s 582ms/step - loss: 0.0396 - accuracy: 0.9879 - val_loss: 1.4326 - val_accuracy: 0.7161\n",
            "Epoch 20/50\n",
            "28/28 [==============================] - 16s 582ms/step - loss: 0.0420 - accuracy: 0.9876 - val_loss: 1.3969 - val_accuracy: 0.7096\n",
            "Epoch 21/50\n",
            "28/28 [==============================] - 16s 580ms/step - loss: 0.0490 - accuracy: 0.9867 - val_loss: 1.4886 - val_accuracy: 0.7005\n",
            "Epoch 22/50\n",
            "28/28 [==============================] - 16s 581ms/step - loss: 0.0433 - accuracy: 0.9882 - val_loss: 1.4198 - val_accuracy: 0.6927\n",
            "Epoch 23/50\n",
            "28/28 [==============================] - 16s 580ms/step - loss: 0.0471 - accuracy: 0.9848 - val_loss: 1.4438 - val_accuracy: 0.6810\n",
            "Epoch 24/50\n",
            "28/28 [==============================] - 16s 584ms/step - loss: 0.0392 - accuracy: 0.9870 - val_loss: 1.3874 - val_accuracy: 0.7044\n",
            "Epoch 25/50\n",
            "28/28 [==============================] - 16s 584ms/step - loss: 0.0434 - accuracy: 0.9853 - val_loss: 1.4771 - val_accuracy: 0.6823\n",
            "Epoch 26/50\n",
            "28/28 [==============================] - 16s 583ms/step - loss: 0.0372 - accuracy: 0.9890 - val_loss: 1.4955 - val_accuracy: 0.6797\n",
            "Epoch 27/50\n",
            "28/28 [==============================] - 16s 585ms/step - loss: 0.0388 - accuracy: 0.9893 - val_loss: 1.5112 - val_accuracy: 0.6901\n",
            "Epoch 28/50\n",
            "28/28 [==============================] - 16s 584ms/step - loss: 0.0406 - accuracy: 0.9884 - val_loss: 1.4789 - val_accuracy: 0.6953\n",
            "Epoch 29/50\n",
            "28/28 [==============================] - 16s 579ms/step - loss: 0.0404 - accuracy: 0.9884 - val_loss: 1.3915 - val_accuracy: 0.6940\n",
            "Epoch 30/50\n",
            "28/28 [==============================] - 16s 579ms/step - loss: 0.0410 - accuracy: 0.9876 - val_loss: 1.6697 - val_accuracy: 0.6771\n",
            "Epoch 31/50\n",
            "28/28 [==============================] - 16s 580ms/step - loss: 0.0449 - accuracy: 0.9859 - val_loss: 1.5611 - val_accuracy: 0.6784\n",
            "Epoch 32/50\n",
            "28/28 [==============================] - 16s 578ms/step - loss: 0.0373 - accuracy: 0.9887 - val_loss: 1.4765 - val_accuracy: 0.6953\n",
            "Epoch 33/50\n",
            "28/28 [==============================] - 16s 578ms/step - loss: 0.0352 - accuracy: 0.9887 - val_loss: 1.4983 - val_accuracy: 0.6940\n",
            "Epoch 34/50\n",
            "28/28 [==============================] - 16s 581ms/step - loss: 0.0390 - accuracy: 0.9865 - val_loss: 1.4954 - val_accuracy: 0.6901\n",
            "Epoch 35/50\n",
            "28/28 [==============================] - 16s 582ms/step - loss: 0.0391 - accuracy: 0.9862 - val_loss: 1.4455 - val_accuracy: 0.7005\n",
            "Epoch 36/50\n",
            "28/28 [==============================] - 16s 583ms/step - loss: 0.0396 - accuracy: 0.9901 - val_loss: 1.4796 - val_accuracy: 0.7109\n",
            "Epoch 37/50\n",
            "28/28 [==============================] - 16s 581ms/step - loss: 0.0404 - accuracy: 0.9890 - val_loss: 1.5531 - val_accuracy: 0.6888\n",
            "Epoch 38/50\n",
            "28/28 [==============================] - 16s 585ms/step - loss: 0.0376 - accuracy: 0.9893 - val_loss: 1.5088 - val_accuracy: 0.7057\n",
            "Epoch 39/50\n",
            "28/28 [==============================] - 16s 577ms/step - loss: 0.0297 - accuracy: 0.9927 - val_loss: 1.4278 - val_accuracy: 0.7018\n",
            "Epoch 40/50\n",
            "28/28 [==============================] - 16s 581ms/step - loss: 0.0339 - accuracy: 0.9901 - val_loss: 1.5040 - val_accuracy: 0.6914\n",
            "Epoch 41/50\n",
            "28/28 [==============================] - 16s 585ms/step - loss: 0.0378 - accuracy: 0.9884 - val_loss: 1.5627 - val_accuracy: 0.6823\n",
            "Epoch 42/50\n",
            "28/28 [==============================] - 16s 582ms/step - loss: 0.0370 - accuracy: 0.9893 - val_loss: 1.5516 - val_accuracy: 0.7018\n",
            "Epoch 43/50\n",
            "28/28 [==============================] - 16s 581ms/step - loss: 0.0322 - accuracy: 0.9910 - val_loss: 1.4281 - val_accuracy: 0.6888\n",
            "Epoch 44/50\n",
            "28/28 [==============================] - 16s 585ms/step - loss: 0.0358 - accuracy: 0.9907 - val_loss: 1.4412 - val_accuracy: 0.6953\n",
            "Epoch 45/50\n",
            "28/28 [==============================] - 16s 584ms/step - loss: 0.0316 - accuracy: 0.9924 - val_loss: 1.6856 - val_accuracy: 0.6719\n",
            "Epoch 46/50\n",
            "28/28 [==============================] - 16s 575ms/step - loss: 0.0358 - accuracy: 0.9901 - val_loss: 1.4995 - val_accuracy: 0.6888\n",
            "Epoch 47/50\n",
            "28/28 [==============================] - 16s 579ms/step - loss: 0.0371 - accuracy: 0.9879 - val_loss: 1.5197 - val_accuracy: 0.7018\n",
            "Epoch 48/50\n",
            "28/28 [==============================] - 16s 581ms/step - loss: 0.0371 - accuracy: 0.9882 - val_loss: 1.5191 - val_accuracy: 0.6914\n",
            "Epoch 49/50\n",
            "28/28 [==============================] - 16s 578ms/step - loss: 0.0296 - accuracy: 0.9921 - val_loss: 1.5184 - val_accuracy: 0.6810\n",
            "Epoch 50/50\n",
            "28/28 [==============================] - 16s 581ms/step - loss: 0.0331 - accuracy: 0.9907 - val_loss: 1.5570 - val_accuracy: 0.6784\n"
          ]
        }
      ]
    },
    {
      "cell_type": "code",
      "metadata": {
        "id": "X2qBo4lgLwRi"
      },
      "source": [
        "!ls output_folder "
      ],
      "execution_count": null,
      "outputs": []
    },
    {
      "cell_type": "code",
      "metadata": {
        "id": "WEj-Qt0MLbTM"
      },
      "source": [
        "#save model\n",
        "pre_trained_vgg.save(output_folder+\"deepCNN_vgg19_1.h5\")"
      ],
      "execution_count": null,
      "outputs": []
    },
    {
      "cell_type": "code",
      "metadata": {
        "colab": {
          "base_uri": "https://localhost:8080/",
          "height": 299
        },
        "id": "S_OD-bDeN4MY",
        "outputId": "52eb4f92-85e4-4850-fcd4-e82b3baffc68"
      },
      "source": [
        "#Plotting the training and validation loss and accuracy\n",
        "f,ax=plt.subplots(2,1) \n",
        "\n",
        "#Loss\n",
        "ax[0].plot(np.arange(0, epochs), vgg19_pre.history[\"loss\"], label=\"train_loss\")\n",
        "ax[0].plot(np.arange(0, epochs), vgg19_pre.history[\"val_loss\"], label=\"val_loss\")\n",
        "ax[0].legend()\n",
        "plt.xlabel(\"Epoch #\")\n",
        "plt.ylabel(\"Loss/Accuracy\")\n",
        "#Accuracy\n",
        "ax[1].plot(np.arange(0, epochs), vgg19_pre.history[\"accuracy\"], label=\"train_acc\")\n",
        "ax[1].plot(np.arange(0, epochs), vgg19_pre.history[\"val_accuracy\"], label=\"val_acc\")\n",
        "ax[1].legend()\n",
        "#plt.legend()\n",
        "#plt.title(\"Training Loss and Accuracy\")\n",
        "plt.xlabel(\"Epoch #\")\n",
        "plt.ylabel(\"Loss/Accuracy\")"
      ],
      "execution_count": null,
      "outputs": [
        {
          "output_type": "execute_result",
          "data": {
            "text/plain": [
              "Text(0, 0.5, 'Loss/Accuracy')"
            ]
          },
          "metadata": {},
          "execution_count": 37
        },
        {
          "output_type": "display_data",
          "data": {
            "image/png": "[encoded data removed]",
            "text/plain": [
              "<Figure size 432x288 with 2 Axes>"
            ]
          },
          "metadata": {}
        }
      ]
    },
    {
      "cell_type": "code",
      "metadata": {
        "colab": {
          "base_uri": "https://localhost:8080/"
        },
        "id": "NP0Cox2iOQuh",
        "outputId": "1e8b0c93-3acd-4f74-b662-3d53d139e6e6"
      },
      "source": [
        "#Evaluatin\n",
        "print(\"[INFO]: Model godness...\")\n",
        "y_pred = pre_trained_vgg.predict(x_test, batch_size=128)\n",
        "y_true=np.argmax(y_test,axis=1)\n",
        "print(classification_report(y_test.argmax(axis=1), y_pred.argmax(axis=1), target_names = classes_list ))"
      ],
      "execution_count": null,
      "outputs": [
        {
          "output_type": "stream",
          "name": "stdout",
          "text": [
            "[INFO]: Model godness...\n",
            "              precision    recall  f1-score   support\n",
            "\n",
            "     Dinning       0.76      0.68      0.72        88\n",
            "     Bedroom       0.76      0.78      0.77       178\n",
            "  Livingroom       0.64      0.67      0.65       182\n",
            "     Kitchen       0.62      0.65      0.63       141\n",
            "    Bathroom       0.60      0.57      0.58       199\n",
            "\n",
            "    accuracy                           0.66       788\n",
            "   macro avg       0.67      0.67      0.67       788\n",
            "weighted avg       0.67      0.66      0.66       788\n",
            "\n"
          ]
        }
      ]
    },
    {
      "cell_type": "code",
      "metadata": {
        "id": "Oc8UR6fDmYgg"
      },
      "source": [
        ""
      ],
      "execution_count": null,
      "outputs": []
    }
  ]
}