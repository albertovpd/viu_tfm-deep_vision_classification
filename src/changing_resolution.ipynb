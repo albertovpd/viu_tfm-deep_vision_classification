{
  "nbformat": 4,
  "nbformat_minor": 0,
  "metadata": {
    "colab": {
      "name": "changing_resolution.ipynb",
      "provenance": [],
      "collapsed_sections": []
    },
    "kernelspec": {
      "name": "python3",
      "display_name": "Python 3"
    },
    "language_info": {
      "name": "python"
    }
  },
  "cells": [
    {
      "cell_type": "markdown",
      "source": [
        "for creating synthetic data using this repository => https://github.com/mit-han-lab/data-efficient-gans , I have to:\n",
        "- change the resolution of my pics to 256x256\n",
        "- switch to png format\n",
        "- save them in a zip folder"
      ],
      "metadata": {
        "id": "lfOo1BOgWNM9"
      }
    },
    {
      "cell_type": "code",
      "execution_count": 7,
      "metadata": {
        "colab": {
          "base_uri": "https://localhost:8080/"
        },
        "id": "WnCv9rfW6ANV",
        "outputId": "70e574aa-212e-492f-bb83-0930e2eee182"
      },
      "outputs": [
        {
          "output_type": "stream",
          "name": "stdout",
          "text": [
            "Mounted at /content/drive/\n"
          ]
        }
      ],
      "source": [
        "# Google Drive stuff\n",
        "from google.colab import drive\n",
        "drive.mount('/content/drive/', force_remount=True)"
      ]
    },
    {
      "cell_type": "code",
      "source": [
        "import os\n",
        "from PIL import Image"
      ],
      "metadata": {
        "id": "LscLlEl26EmV"
      },
      "execution_count": 8,
      "outputs": []
    },
    {
      "cell_type": "markdown",
      "source": [
        "- just for the bathroom class"
      ],
      "metadata": {
        "id": "0o4MM3vCXkeg"
      }
    },
    {
      "cell_type": "code",
      "source": [
        "bath_input = \"/content/drive/My Drive/2-Estudios/viu-master_ai/tfm-deep_vision/input/common_misclassifications/Bathroom/\" \n",
        "bath_output =  \"/content/drive/My Drive/2-Estudios/viu-master_ai/tfm-deep_vision/input/common_misclassifications/Bathroom256/\" "
      ],
      "metadata": {
        "id": "hbYARNsX6NSd"
      },
      "execution_count": 3,
      "outputs": []
    },
    {
      "cell_type": "code",
      "source": [
        "pic_list = os.listdir(bath_input)"
      ],
      "metadata": {
        "id": "gHpvQHv96cGp"
      },
      "execution_count": 4,
      "outputs": []
    },
    {
      "cell_type": "code",
      "source": [
        "pic_list[0][:-4]"
      ],
      "metadata": {
        "colab": {
          "base_uri": "https://localhost:8080/",
          "height": 35
        },
        "id": "NsyKys4O7HKU",
        "outputId": "979421df-993d-4bf2-98a3-7d44c940328f"
      },
      "execution_count": 5,
      "outputs": [
        {
          "output_type": "execute_result",
          "data": {
            "text/plain": [
              "'bath_900'"
            ],
            "application/vnd.google.colaboratory.intrinsic+json": {
              "type": "string"
            }
          },
          "metadata": {},
          "execution_count": 5
        }
      ]
    },
    {
      "cell_type": "code",
      "source": [
        "size = 256, 256\n",
        "for p in pic_list:  \n",
        "  im = Image.open(bath_input + p)\n",
        "  im_resized = im.resize(size, Image.ANTIALIAS)\n",
        "  im_resized.save(bath_output+p[:-4]+\".png\", \"PNG\")"
      ],
      "metadata": {
        "id": "B2X0Pzrt6gP-"
      },
      "execution_count": null,
      "outputs": []
    },
    {
      "cell_type": "markdown",
      "source": [
        "- for the rest of classes"
      ],
      "metadata": {
        "id": "vuBnDGftXmqc"
      }
    },
    {
      "cell_type": "code",
      "source": [
        "input_path = \"/content/drive/My Drive/2-Estudios/viu-master_ai/tfm-deep_vision/input/common_misclassifications/\" \n",
        "classes = [\"Bedroom\", \"Dinning\", \"Kitchen\", \"Livingroom\"]"
      ],
      "metadata": {
        "id": "6gAaRIyJXjKN"
      },
      "execution_count": 9,
      "outputs": []
    },
    {
      "cell_type": "code",
      "source": [
        "size = 256, 256\n",
        "for c in classes:\n",
        "  # read path\n",
        "  c_input = input_path+c+\"/\"\n",
        "  pic_list = os.listdir(c_input)\n",
        "  print(pic_list[0][:-4])\n",
        "\n",
        "  # store results\n",
        "  output_path = input_path+c+\"256/\"\n",
        "  os.makedirs(output_path, exist_ok=False)\n",
        "  print(output_path)\n",
        "  \n",
        "  for p in pic_list:  \n",
        "    im = Image.open(c_input + p)\n",
        "    im_resized = im.resize(size, Image.ANTIALIAS)    \n",
        "    im_resized.save(output_path+p[:-4]+\".png\", \"PNG\")\n",
        "\n"
      ],
      "metadata": {
        "colab": {
          "base_uri": "https://localhost:8080/"
        },
        "id": "ctXmGqazXG8m",
        "outputId": "5050cdf1-ef54-4259-ac24-a698303b907e"
      },
      "execution_count": 10,
      "outputs": [
        {
          "output_type": "stream",
          "name": "stdout",
          "text": [
            "bed_1350\n",
            "/content/drive/My Drive/2-Estudios/viu-master_ai/tfm-deep_vision/input/common_misclassifications/Bedroom256/\n",
            "din_493\n",
            "/content/drive/My Drive/2-Estudios/viu-master_ai/tfm-deep_vision/input/common_misclassifications/Dinning256/\n",
            "kitchen_1200\n",
            "/content/drive/My Drive/2-Estudios/viu-master_ai/tfm-deep_vision/input/common_misclassifications/Kitchen256/\n",
            "living_473\n",
            "/content/drive/My Drive/2-Estudios/viu-master_ai/tfm-deep_vision/input/common_misclassifications/Livingroom256/\n"
          ]
        }
      ]
    }
  ]
}