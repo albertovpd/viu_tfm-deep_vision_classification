{
  "nbformat": 4,
  "nbformat_minor": 0,
  "metadata": {
    "accelerator": "GPU",
    "colab": {
      "name": "TFM-real_state-deep_vision.ipynb",
      "provenance": [],
      "collapsed_sections": []
    },
    "kernelspec": {
      "display_name": "Python 3",
      "name": "python3"
    },
    "language_info": {
      "name": "python"
    }
  },
  "cells": [
    {
      "cell_type": "markdown",
      "metadata": {
        "id": "hDYS919NYJnS"
      },
      "source": [
        "# TFM. Deep Visin applied to Real state.\n",
        "\n",
        "- Tensorflow-GPU on Colab => https://colab.research.google.com/notebooks/gpu.ipynb#scrollTo=oM_8ELnJq_wd\n",
        "- Why using GPU for Deep Learning => https://towardsdatascience.com/what-is-a-gpu-and-do-you-need-one-in-deep-learning-718b9597aa0d\n",
        "\n",
        "\n",
        "Developer stuff:\n",
        "- https://github.com/users/albertovpd/projects/8\n",
        "- https://github.com/albertovpd/viu-fundamentos_redes_neuronales/tree/main/colabs/tasks\n",
        "- https://github.com/albertovpd/viu-fundamentos_redes_neuronales/blob/main/colabs/clase_2y3-Introduccion_a_Deep_Learning_Colab_ipynb.ipynb\n",
        "\n",
        "- https://analyticsindiamag.com/transfer-learning-for-multi-class-image-classification-using-deep-convolutional-neural-network/\n",
        "- https://machinelearningmastery.com/learning-curves-for-diagnosing-machine-learning-model-performance/\n",
        "- https://towardsdatascience.com/handling-overfitting-in-deep-learning-models-c760ee047c6e\n",
        "- https://www.kaggle.com/ryanholbrook/overfitting-and-underfitting\n"
      ]
    },
    {
      "cell_type": "code",
      "metadata": {
        "colab": {
          "base_uri": "https://localhost:8080/"
        },
        "id": "lnTgtRXyFgQf",
        "outputId": "459131cc-93a5-474a-c32f-7bb563439198"
      },
      "source": [
        "# google stuff\n",
        "from google.colab import drive\n",
        "drive.mount('/content/drive/', force_remount=True)"
      ],
      "execution_count": 1,
      "outputs": [
        {
          "output_type": "stream",
          "name": "stdout",
          "text": [
            "Mounted at /content/drive/\n"
          ]
        }
      ]
    },
    {
      "cell_type": "code",
      "metadata": {
        "colab": {
          "base_uri": "https://localhost:8080/"
        },
        "id": "X-OjRNxnu-lo",
        "outputId": "003dbd4b-7711-4b8a-c96d-f3795a0b665d"
      },
      "source": [
        "%tensorflow_version 2.x\n",
        "import tensorflow as tf\n",
        "device_name = tf.test.gpu_device_name()\n",
        "if device_name != '/device:GPU:0':\n",
        "  raise SystemError('GPU device not found')\n",
        "print('Found GPU at: {}'.format(device_name))"
      ],
      "execution_count": 2,
      "outputs": [
        {
          "output_type": "stream",
          "name": "stdout",
          "text": [
            "Found GPU at: /device:GPU:0\n"
          ]
        }
      ]
    },
    {
      "cell_type": "markdown",
      "metadata": {
        "id": "4VR2oTMsT5R5"
      },
      "source": [
        "- libraries"
      ]
    },
    {
      "cell_type": "code",
      "metadata": {
        "id": "NAI9T4pWTfME"
      },
      "source": [
        "%tensorflow_version 2.x\n",
        "from sklearn.model_selection import train_test_split\n",
        "from sklearn.preprocessing import LabelBinarizer\n",
        "\n",
        "import tensorflow as tf\n",
        "from tensorflow.keras.applications import imagenet_utils\n",
        "from tensorflow.keras.preprocessing.image import ImageDataGenerator\n",
        "\n",
        "# architecture \n",
        "from tensorflow.keras.models import Sequential\n",
        "from tensorflow.keras import layers\n",
        "from tensorflow.keras import Model\n",
        "\n",
        "# metrics\n",
        "from sklearn.metrics import confusion_matrix\n",
        "from sklearn.metrics import classification_report\n",
        "\n",
        "\n",
        "# optimization\n",
        "from tensorflow.keras.optimizers import Adam\n",
        "from keras import regularizers\n",
        "from tensorflow.keras.layers import Input, Conv2D, Dense, Dropout, BatchNormalization, MaxPooling2D, Flatten, ZeroPadding2D\n",
        "from tensorflow.keras.regularizers import l1_l2, l2\n",
        "\n",
        "# pre-trained models\n",
        "from tensorflow.keras.applications import VGG19\n",
        "from tensorflow.keras.applications import ResNet50\n",
        "\n",
        "import os\n",
        "import pickle\n",
        "import tarfile\n",
        "\n",
        "# counting classes with library\n",
        "from collections import Counter\n",
        "\n",
        "# viz & arrays\n",
        "import numpy as np\n",
        "import pandas as pd\n",
        "import matplotlib.pyplot as plt\n",
        "import matplotlib.image as mpimg\n",
        "%matplotlib inline\n",
        "\n"
      ],
      "execution_count": 47,
      "outputs": []
    },
    {
      "cell_type": "markdown",
      "metadata": {
        "id": "3_vhk7DsTuS-"
      },
      "source": [
        "- base directory"
      ]
    },
    {
      "cell_type": "code",
      "metadata": {
        "colab": {
          "base_uri": "https://localhost:8080/"
        },
        "id": "GNqmOv5jUtLN",
        "outputId": "f5f9d438-3adc-43af-f1e3-adf30f8a1067"
      },
      "source": [
        "!ls \"/content/drive/My Drive/2-Estudios/viu-master_ai/tfm-deep_vision/\""
      ],
      "execution_count": 4,
      "outputs": [
        {
          "output_type": "stream",
          "name": "stdout",
          "text": [
            "AlbertoVargas-sistema_clasificacion_viviendas_imagenes.gslides\toutput\n",
            "input\t\t\t\t\t\t\t\tsrc\n"
          ]
        }
      ]
    },
    {
      "cell_type": "code",
      "metadata": {
        "id": "nJakVe6hTvc7"
      },
      "source": [
        "base_folder = \"/content/drive/My Drive/2-Estudios/viu-master_ai/tfm-deep_vision/\"\n",
        "input_folder = base_folder+\"input/\"\n",
        "src_folder =  base_folder+\"src/\"\n",
        "output_folder = base_folder + \"/output/\""
      ],
      "execution_count": 5,
      "outputs": []
    },
    {
      "cell_type": "markdown",
      "metadata": {
        "id": "AhT4ucStG1Oy"
      },
      "source": [
        "- functions"
      ]
    },
    {
      "cell_type": "code",
      "metadata": {
        "id": "oInJPonbG2qm"
      },
      "source": [
        "def freezing_layers(model, block: str):\n",
        "  '''\n",
        "  for transfer-learning\n",
        "  it freezes all layers until the selected block\n",
        "  '''\n",
        "  for layer in model.layers:\n",
        "    if layer.name == block:\n",
        "      break\n",
        "\n",
        "    layer.trainable = False\n",
        "    print(\"layer \" + layer.name + \" frozen\")"
      ],
      "execution_count": 6,
      "outputs": []
    },
    {
      "cell_type": "markdown",
      "metadata": {
        "id": "rv82I6XgW4Xr"
      },
      "source": [
        "# load pickling data allocated in Drive"
      ]
    },
    {
      "cell_type": "code",
      "metadata": {
        "id": "I_-1T12qUwbw"
      },
      "source": [
        "with open(input_folder+\"pickle_all_images_df.pickle\", \"rb\") as input_file:\n",
        "    data_x = pickle.load(input_file)\n",
        "with open(input_folder+\"pickle_all_classes.pickle\", \"rb\") as input_file:\n",
        "    data_y = pickle.load(input_file)"
      ],
      "execution_count": 7,
      "outputs": []
    },
    {
      "cell_type": "markdown",
      "metadata": {
        "id": "jvtNMgL5XNvJ"
      },
      "source": [
        "- some preview"
      ]
    },
    {
      "cell_type": "code",
      "metadata": {
        "colab": {
          "base_uri": "https://localhost:8080/"
        },
        "id": "TK9hZmmvnhuk",
        "outputId": "575a6a04-2f87-4cb9-ce5d-242f3cfcc9b0"
      },
      "source": [
        "print(Counter(data_y))"
      ],
      "execution_count": 8,
      "outputs": [
        {
          "output_type": "stream",
          "name": "stdout",
          "text": [
            "Counter({'Livingroom': 1273, 'Bedroom': 1248, 'Dinning': 1158, 'Kitchen': 965, 'Bathroom': 606})\n"
          ]
        }
      ]
    },
    {
      "cell_type": "code",
      "metadata": {
        "id": "h0sqnwHXzYPG"
      },
      "source": [
        "classes_list = list(Counter(data_y).keys())"
      ],
      "execution_count": 9,
      "outputs": []
    },
    {
      "cell_type": "markdown",
      "metadata": {
        "id": "z2mFBMbcnwYK"
      },
      "source": [
        "- i'll have to deal with this unbalanced classes later. \n",
        "- let's begin with the simplest stuff first"
      ]
    },
    {
      "cell_type": "code",
      "metadata": {
        "colab": {
          "base_uri": "https://localhost:8080/"
        },
        "id": "NPSuYmXIXEOf",
        "outputId": "a342b8c2-bbab-4597-b4d0-9f0b41b8b731"
      },
      "source": [
        "print(\"pics shape: \",data_x.shape,\n",
        "      \"\\nnumber of classes: \", len(set(data_y))\n",
        "      )"
      ],
      "execution_count": 10,
      "outputs": [
        {
          "output_type": "stream",
          "name": "stdout",
          "text": [
            "pics shape:  (5250, 128, 128, 3) \n",
            "number of classes:  5\n"
          ]
        }
      ]
    },
    {
      "cell_type": "code",
      "metadata": {
        "colab": {
          "base_uri": "https://localhost:8080/",
          "height": 285
        },
        "id": "gVaTkKsTXPy8",
        "outputId": "f821d708-28fc-443b-c5aa-33c96938dd70"
      },
      "source": [
        "# showing some stuff \n",
        "print(data_y[42])\n",
        "imgplot = plt.imshow(data_x[42])\n",
        "plt.show()"
      ],
      "execution_count": 11,
      "outputs": [
        {
          "output_type": "stream",
          "name": "stdout",
          "text": [
            "Dinning\n"
          ]
        },
        {
          "output_type": "display_data",
          "data": {
            "image/png": "[encoded data removed]",
            "text/plain": [
              "<Figure size 432x288 with 1 Axes>"
            ]
          },
          "metadata": {
            "needs_background": "light"
          }
        }
      ]
    },
    {
      "cell_type": "markdown",
      "metadata": {
        "id": "11MeRxdDq2dE"
      },
      "source": [
        "- we have to transform y-label into numeric"
      ]
    },
    {
      "cell_type": "code",
      "metadata": {
        "id": "wPDqUdWYqT8b"
      },
      "source": [
        "# transforming labels into numeric\n",
        "y = np.unique(data_y)\n",
        "mapping = { key : value for key,value in zip(y,range(len(y)))}\n",
        "data_y_num = np.array([mapping[i] for i in data_y])"
      ],
      "execution_count": 12,
      "outputs": []
    },
    {
      "cell_type": "code",
      "metadata": {
        "id": "2xa6_PfLq9VF",
        "colab": {
          "base_uri": "https://localhost:8080/"
        },
        "outputId": "50c313de-86ca-44c9-aa89-f82264111196"
      },
      "source": [
        "#train_ratio = 0.7\n",
        "#validation_ratio = 0.15\n",
        "#test_ratio = 0.15\n",
        "\n",
        "x_train, x_test, y_train, y_test = train_test_split(data_x, data_y_num, test_size=0.3)\n",
        "x_val, x_test, y_val, y_test = train_test_split(x_test, y_test, test_size=0.5) \n",
        "allx= len(data_x)\n",
        "print(round(len(x_train)/allx,2), round(len(x_val)/allx,2), round(len(x_test)/allx,2))\n",
        "del data_y\n",
        "del data_x\n",
        "\n",
        "#One-hot encoding\n",
        "lb = LabelBinarizer()\n",
        "y_train = lb.fit_transform(y_train)\n",
        "y_test = lb.transform(y_test)\n",
        "y_val = lb.transform(y_val)"
      ],
      "execution_count": 13,
      "outputs": [
        {
          "output_type": "stream",
          "name": "stdout",
          "text": [
            "0.7 0.15 0.15\n"
          ]
        }
      ]
    },
    {
      "cell_type": "code",
      "metadata": {
        "colab": {
          "base_uri": "https://localhost:8080/"
        },
        "id": "y0F2d57AstAI",
        "outputId": "b6acc11b-33ce-49d5-c6a5-841a0e0a249a"
      },
      "source": [
        "print(\"train:  \", x_train.shape, y_train.shape,\n",
        "      \"\\ntest: \", x_test.shape,y_test.shape,\n",
        "      \"\\nval:  \", x_val.shape, y_val.shape)"
      ],
      "execution_count": 14,
      "outputs": [
        {
          "output_type": "stream",
          "name": "stdout",
          "text": [
            "train:   (3675, 128, 128, 3) (3675, 5) \n",
            "test:  (788, 128, 128, 3) (788, 5) \n",
            "val:   (787, 128, 128, 3) (787, 5)\n"
          ]
        }
      ]
    },
    {
      "cell_type": "markdown",
      "metadata": {
        "id": "nxC0ef8nX1MA"
      },
      "source": [
        "---------------------------------------------------\n",
        "---------------------------------------------------\n",
        "\n",
        "\n",
        "# Step 1. Pretrained NN performance.\n",
        "\n",
        "- Basic NN start:\n",
        "    - Alexnet\n",
        "    - ResNet\n",
        "    - SqueezeNet\n",
        "    - EfficientNet\n",
        "    - any other I think it could be great\n",
        "    - vgg19\n",
        "\n",
        "    -----------------------------------------------\n",
        "    "
      ]
    },
    {
      "cell_type": "markdown",
      "metadata": {
        "id": "bZ9bjZIUmrNY"
      },
      "source": [
        "## VGG19"
      ]
    },
    {
      "cell_type": "code",
      "metadata": {
        "id": "uLBFamwrawYQ"
      },
      "source": [
        "#Data Augmentation first\n",
        "train_generator = ImageDataGenerator(rotation_range=2, horizontal_flip=True, zoom_range=.1)\n",
        "val_generator = ImageDataGenerator(rotation_range=2, horizontal_flip=True, zoom_range=.1)\n",
        "test_generator = ImageDataGenerator(rotation_range=2, horizontal_flip= True, zoom_range=.1)\n",
        "\n",
        "#Fitting the augmentation defined above to the data\n",
        "train_generator.fit(x_train)\n",
        "val_generator.fit(x_val)\n",
        "test_generator.fit(x_test)"
      ],
      "execution_count": 15,
      "outputs": []
    },
    {
      "cell_type": "code",
      "metadata": {
        "id": "PXYrLOFFa3iX",
        "colab": {
          "base_uri": "https://localhost:8080/"
        },
        "outputId": "db93c462-9dfc-421e-e93f-6c10ec3ab813"
      },
      "source": [
        "#Defining the VGG Convolutional Neural Net\n",
        "base_model_vgg = VGG19(include_top = False, weights = 'imagenet', input_shape = (128, 128, 3), classes = y_train.shape[1])\n",
        "base_model_vgg.summary()"
      ],
      "execution_count": 16,
      "outputs": [
        {
          "output_type": "stream",
          "name": "stdout",
          "text": [
            "Model: \"vgg19\"\n",
            "_________________________________________________________________\n",
            "Layer (type)                 Output Shape              Param #   \n",
            "=================================================================\n",
            "input_1 (InputLayer)         [(None, 128, 128, 3)]     0         \n",
            "_________________________________________________________________\n",
            "block1_conv1 (Conv2D)        (None, 128, 128, 64)      1792      \n",
            "_________________________________________________________________\n",
            "block1_conv2 (Conv2D)        (None, 128, 128, 64)      36928     \n",
            "_________________________________________________________________\n",
            "block1_pool (MaxPooling2D)   (None, 64, 64, 64)        0         \n",
            "_________________________________________________________________\n",
            "block2_conv1 (Conv2D)        (None, 64, 64, 128)       73856     \n",
            "_________________________________________________________________\n",
            "block2_conv2 (Conv2D)        (None, 64, 64, 128)       147584    \n",
            "_________________________________________________________________\n",
            "block2_pool (MaxPooling2D)   (None, 32, 32, 128)       0         \n",
            "_________________________________________________________________\n",
            "block3_conv1 (Conv2D)        (None, 32, 32, 256)       295168    \n",
            "_________________________________________________________________\n",
            "block3_conv2 (Conv2D)        (None, 32, 32, 256)       590080    \n",
            "_________________________________________________________________\n",
            "block3_conv3 (Conv2D)        (None, 32, 32, 256)       590080    \n",
            "_________________________________________________________________\n",
            "block3_conv4 (Conv2D)        (None, 32, 32, 256)       590080    \n",
            "_________________________________________________________________\n",
            "block3_pool (MaxPooling2D)   (None, 16, 16, 256)       0         \n",
            "_________________________________________________________________\n",
            "block4_conv1 (Conv2D)        (None, 16, 16, 512)       1180160   \n",
            "_________________________________________________________________\n",
            "block4_conv2 (Conv2D)        (None, 16, 16, 512)       2359808   \n",
            "_________________________________________________________________\n",
            "block4_conv3 (Conv2D)        (None, 16, 16, 512)       2359808   \n",
            "_________________________________________________________________\n",
            "block4_conv4 (Conv2D)        (None, 16, 16, 512)       2359808   \n",
            "_________________________________________________________________\n",
            "block4_pool (MaxPooling2D)   (None, 8, 8, 512)         0         \n",
            "_________________________________________________________________\n",
            "block5_conv1 (Conv2D)        (None, 8, 8, 512)         2359808   \n",
            "_________________________________________________________________\n",
            "block5_conv2 (Conv2D)        (None, 8, 8, 512)         2359808   \n",
            "_________________________________________________________________\n",
            "block5_conv3 (Conv2D)        (None, 8, 8, 512)         2359808   \n",
            "_________________________________________________________________\n",
            "block5_conv4 (Conv2D)        (None, 8, 8, 512)         2359808   \n",
            "_________________________________________________________________\n",
            "block5_pool (MaxPooling2D)   (None, 4, 4, 512)         0         \n",
            "=================================================================\n",
            "Total params: 20,024,384\n",
            "Trainable params: 20,024,384\n",
            "Non-trainable params: 0\n",
            "_________________________________________________________________\n"
          ]
        }
      ]
    },
    {
      "cell_type": "code",
      "metadata": {
        "id": "DRPff3G1EU2b"
      },
      "source": [
        "#freezing_layers(base_model_vgg,'block5_conv1')"
      ],
      "execution_count": 17,
      "outputs": []
    },
    {
      "cell_type": "code",
      "metadata": {
        "colab": {
          "base_uri": "https://localhost:8080/"
        },
        "id": "fnSUe57ia3lO",
        "outputId": "04c071b8-4eed-4208-e148-9051bcf63df6"
      },
      "source": [
        "base_model_vgg.trainable = False  \n",
        "#Adding the final layers to the above base models where the actual classification is done in the dense layers\n",
        "pre_trained_vgg= Sequential()\n",
        "pre_trained_vgg.add(base_model_vgg) # adding pre-trained model\n",
        "pre_trained_vgg.add(Flatten()) \n",
        "#Adding the Dense layers along with activation and batch normalization\n",
        "pre_trained_vgg.add(Dense(1024,activation=('relu'),input_dim=512))\n",
        "pre_trained_vgg.add(Dense(512,activation=('relu'))) \n",
        "pre_trained_vgg.add(Dense(256,activation=('relu'))) \n",
        "pre_trained_vgg.add(Dropout(.3))\n",
        "pre_trained_vgg.add(Dense(128,activation=('relu')))\n",
        "pre_trained_vgg.add(Dropout(.2))\n",
        "pre_trained_vgg.add(Dense(5,activation=('softmax'))) \n",
        "\n",
        "#Checking the final model summary\n",
        "pre_trained_vgg.summary()"
      ],
      "execution_count": 18,
      "outputs": [
        {
          "output_type": "stream",
          "name": "stdout",
          "text": [
            "Model: \"sequential\"\n",
            "_________________________________________________________________\n",
            "Layer (type)                 Output Shape              Param #   \n",
            "=================================================================\n",
            "vgg19 (Functional)           (None, 4, 4, 512)         20024384  \n",
            "_________________________________________________________________\n",
            "flatten (Flatten)            (None, 8192)              0         \n",
            "_________________________________________________________________\n",
            "dense (Dense)                (None, 1024)              8389632   \n",
            "_________________________________________________________________\n",
            "dense_1 (Dense)              (None, 512)               524800    \n",
            "_________________________________________________________________\n",
            "dense_2 (Dense)              (None, 256)               131328    \n",
            "_________________________________________________________________\n",
            "dropout (Dropout)            (None, 256)               0         \n",
            "_________________________________________________________________\n",
            "dense_3 (Dense)              (None, 128)               32896     \n",
            "_________________________________________________________________\n",
            "dropout_1 (Dropout)          (None, 128)               0         \n",
            "_________________________________________________________________\n",
            "dense_4 (Dense)              (None, 5)                 645       \n",
            "=================================================================\n",
            "Total params: 29,103,685\n",
            "Trainable params: 9,079,301\n",
            "Non-trainable params: 20,024,384\n",
            "_________________________________________________________________\n"
          ]
        }
      ]
    },
    {
      "cell_type": "markdown",
      "metadata": {
        "id": "ALcU46fL_fTx"
      },
      "source": [
        "### analytics india"
      ]
    },
    {
      "cell_type": "code",
      "metadata": {
        "id": "EBsEAjnCa3e4"
      },
      "source": [
        "#Learning Rate Annealer - decreases the learning rate after a certain number of epochs if the error rate does not change. Here, through this technique, \n",
        "# we will monitor the validation accuracy and if it seems to be a plateau in 3 epochs, it will reduce the learning rate by 0.01.\n",
        "from keras.callbacks import ReduceLROnPlateau\n",
        "\n",
        "lrr= ReduceLROnPlateau(monitor='accuracy', factor=.01, patience=3, min_lr=1e-5) # \"val_acc \" warning\n"
      ],
      "execution_count": 19,
      "outputs": []
    },
    {
      "cell_type": "code",
      "metadata": {
        "id": "xO2j4ygra3oW"
      },
      "source": [
        "#Initializing the hyperparameters\n",
        "from tensorflow.keras.optimizers import SGD, Adam\n",
        "batch_size= 128\n",
        "epochs=50\n",
        "learn_rate=.001\n",
        "sgd=SGD(learning_rate=learn_rate,momentum=.9,nesterov=False)\n",
        "adam=Adam(learning_rate=learn_rate, beta_1=0.9, beta_2=0.999, epsilon=None, decay=0.0, amsgrad=False)\n",
        "# crossentroty: logaritmic metric from 0.99 (terrible) to 0 (too much perfect)=> https://machinelearningmastery.com/loss-and-loss-functions-for-training-deep-learning-neural-networks/\n",
        "pre_trained_vgg.compile(optimizer=adam,loss='categorical_crossentropy',metrics=['accuracy'])"
      ],
      "execution_count": 20,
      "outputs": []
    },
    {
      "cell_type": "code",
      "metadata": {
        "colab": {
          "base_uri": "https://localhost:8080/"
        },
        "id": "c_5qR_YMcAq4",
        "outputId": "2f1224f7-679d-4c1e-e361-d82f93c173e5"
      },
      "source": [
        "#Training the model - al usar esta config no tengo un array de val_accuracy, val_loss https://stackoverflow.com/questions/55746382/why-val-loss-and-val-acc-are-not-displaying\n",
        "vgg19_pre = pre_trained_vgg.fit_generator(\n",
        "    train_generator.flow(x_train, y_train, batch_size= batch_size),\n",
        "    epochs = epochs, \n",
        "    validation_data = val_generator.flow(x_val, y_val, batch_size = batch_size), \n",
        "    steps_per_epoch = len(x_train)//batch_size , # to avoid running out of data error\n",
        "    validation_steps  = len(x_test)//batch_size, # to avoid running out of data error\n",
        "    callbacks=[lrr], \n",
        "    verbose = 1\n",
        "    )"
      ],
      "execution_count": 22,
      "outputs": [
        {
          "output_type": "stream",
          "name": "stderr",
          "text": [
            "/usr/local/lib/python3.7/dist-packages/keras/engine/training.py:1972: UserWarning: `Model.fit_generator` is deprecated and will be removed in a future version. Please use `Model.fit`, which supports generators.\n",
            "  warnings.warn('`Model.fit_generator` is deprecated and '\n"
          ]
        },
        {
          "output_type": "stream",
          "name": "stdout",
          "text": [
            "Epoch 1/50\n",
            "28/28 [==============================] - 16s 588ms/step - loss: 0.0575 - accuracy: 0.9828 - val_loss: 1.4313 - val_accuracy: 0.6914\n",
            "Epoch 2/50\n",
            "28/28 [==============================] - 16s 568ms/step - loss: 0.0591 - accuracy: 0.9822 - val_loss: 1.3357 - val_accuracy: 0.7005\n",
            "Epoch 3/50\n",
            "28/28 [==============================] - 16s 575ms/step - loss: 0.0536 - accuracy: 0.9831 - val_loss: 1.3518 - val_accuracy: 0.6888\n",
            "Epoch 4/50\n",
            "28/28 [==============================] - 16s 575ms/step - loss: 0.0582 - accuracy: 0.9834 - val_loss: 1.4315 - val_accuracy: 0.6901\n",
            "Epoch 5/50\n",
            "28/28 [==============================] - 16s 571ms/step - loss: 0.0464 - accuracy: 0.9859 - val_loss: 1.3313 - val_accuracy: 0.6914\n",
            "Epoch 6/50\n",
            "28/28 [==============================] - 16s 580ms/step - loss: 0.0582 - accuracy: 0.9834 - val_loss: 1.3834 - val_accuracy: 0.7018\n",
            "Epoch 7/50\n",
            "28/28 [==============================] - 16s 587ms/step - loss: 0.0532 - accuracy: 0.9859 - val_loss: 1.3130 - val_accuracy: 0.6992\n",
            "Epoch 8/50\n",
            "28/28 [==============================] - 16s 573ms/step - loss: 0.0438 - accuracy: 0.9865 - val_loss: 1.4627 - val_accuracy: 0.6758\n",
            "Epoch 9/50\n",
            "28/28 [==============================] - 16s 573ms/step - loss: 0.0442 - accuracy: 0.9839 - val_loss: 1.4024 - val_accuracy: 0.6966\n",
            "Epoch 10/50\n",
            "28/28 [==============================] - 16s 568ms/step - loss: 0.0512 - accuracy: 0.9851 - val_loss: 1.3761 - val_accuracy: 0.7005\n",
            "Epoch 11/50\n",
            "28/28 [==============================] - 16s 575ms/step - loss: 0.0486 - accuracy: 0.9862 - val_loss: 1.5111 - val_accuracy: 0.6732\n",
            "Epoch 12/50\n",
            "28/28 [==============================] - 16s 578ms/step - loss: 0.0479 - accuracy: 0.9865 - val_loss: 1.4807 - val_accuracy: 0.6797\n",
            "Epoch 13/50\n",
            "28/28 [==============================] - 16s 578ms/step - loss: 0.0462 - accuracy: 0.9873 - val_loss: 1.4082 - val_accuracy: 0.6927\n",
            "Epoch 14/50\n",
            "28/28 [==============================] - 16s 572ms/step - loss: 0.0462 - accuracy: 0.9876 - val_loss: 1.3693 - val_accuracy: 0.7044\n",
            "Epoch 15/50\n",
            "28/28 [==============================] - 16s 579ms/step - loss: 0.0516 - accuracy: 0.9825 - val_loss: 1.4524 - val_accuracy: 0.6836\n",
            "Epoch 16/50\n",
            "28/28 [==============================] - 16s 583ms/step - loss: 0.0432 - accuracy: 0.9870 - val_loss: 1.4238 - val_accuracy: 0.6966\n",
            "Epoch 17/50\n",
            "28/28 [==============================] - 16s 581ms/step - loss: 0.0436 - accuracy: 0.9856 - val_loss: 1.4536 - val_accuracy: 0.6927\n",
            "Epoch 18/50\n",
            "28/28 [==============================] - 16s 580ms/step - loss: 0.0441 - accuracy: 0.9865 - val_loss: 1.4509 - val_accuracy: 0.6901\n",
            "Epoch 19/50\n",
            "28/28 [==============================] - 16s 582ms/step - loss: 0.0396 - accuracy: 0.9879 - val_loss: 1.4326 - val_accuracy: 0.7161\n",
            "Epoch 20/50\n",
            "28/28 [==============================] - 16s 582ms/step - loss: 0.0420 - accuracy: 0.9876 - val_loss: 1.3969 - val_accuracy: 0.7096\n",
            "Epoch 21/50\n",
            "28/28 [==============================] - 16s 580ms/step - loss: 0.0490 - accuracy: 0.9867 - val_loss: 1.4886 - val_accuracy: 0.7005\n",
            "Epoch 22/50\n",
            "28/28 [==============================] - 16s 581ms/step - loss: 0.0433 - accuracy: 0.9882 - val_loss: 1.4198 - val_accuracy: 0.6927\n",
            "Epoch 23/50\n",
            "28/28 [==============================] - 16s 580ms/step - loss: 0.0471 - accuracy: 0.9848 - val_loss: 1.4438 - val_accuracy: 0.6810\n",
            "Epoch 24/50\n",
            "28/28 [==============================] - 16s 584ms/step - loss: 0.0392 - accuracy: 0.9870 - val_loss: 1.3874 - val_accuracy: 0.7044\n",
            "Epoch 25/50\n",
            "28/28 [==============================] - 16s 584ms/step - loss: 0.0434 - accuracy: 0.9853 - val_loss: 1.4771 - val_accuracy: 0.6823\n",
            "Epoch 26/50\n",
            "28/28 [==============================] - 16s 583ms/step - loss: 0.0372 - accuracy: 0.9890 - val_loss: 1.4955 - val_accuracy: 0.6797\n",
            "Epoch 27/50\n",
            "28/28 [==============================] - 16s 585ms/step - loss: 0.0388 - accuracy: 0.9893 - val_loss: 1.5112 - val_accuracy: 0.6901\n",
            "Epoch 28/50\n",
            "28/28 [==============================] - 16s 584ms/step - loss: 0.0406 - accuracy: 0.9884 - val_loss: 1.4789 - val_accuracy: 0.6953\n",
            "Epoch 29/50\n",
            "28/28 [==============================] - 16s 579ms/step - loss: 0.0404 - accuracy: 0.9884 - val_loss: 1.3915 - val_accuracy: 0.6940\n",
            "Epoch 30/50\n",
            "28/28 [==============================] - 16s 579ms/step - loss: 0.0410 - accuracy: 0.9876 - val_loss: 1.6697 - val_accuracy: 0.6771\n",
            "Epoch 31/50\n",
            "28/28 [==============================] - 16s 580ms/step - loss: 0.0449 - accuracy: 0.9859 - val_loss: 1.5611 - val_accuracy: 0.6784\n",
            "Epoch 32/50\n",
            "28/28 [==============================] - 16s 578ms/step - loss: 0.0373 - accuracy: 0.9887 - val_loss: 1.4765 - val_accuracy: 0.6953\n",
            "Epoch 33/50\n",
            "28/28 [==============================] - 16s 578ms/step - loss: 0.0352 - accuracy: 0.9887 - val_loss: 1.4983 - val_accuracy: 0.6940\n",
            "Epoch 34/50\n",
            "28/28 [==============================] - 16s 581ms/step - loss: 0.0390 - accuracy: 0.9865 - val_loss: 1.4954 - val_accuracy: 0.6901\n",
            "Epoch 35/50\n",
            "28/28 [==============================] - 16s 582ms/step - loss: 0.0391 - accuracy: 0.9862 - val_loss: 1.4455 - val_accuracy: 0.7005\n",
            "Epoch 36/50\n",
            "28/28 [==============================] - 16s 583ms/step - loss: 0.0396 - accuracy: 0.9901 - val_loss: 1.4796 - val_accuracy: 0.7109\n",
            "Epoch 37/50\n",
            "28/28 [==============================] - 16s 581ms/step - loss: 0.0404 - accuracy: 0.9890 - val_loss: 1.5531 - val_accuracy: 0.6888\n",
            "Epoch 38/50\n",
            "28/28 [==============================] - 16s 585ms/step - loss: 0.0376 - accuracy: 0.9893 - val_loss: 1.5088 - val_accuracy: 0.7057\n",
            "Epoch 39/50\n",
            "28/28 [==============================] - 16s 577ms/step - loss: 0.0297 - accuracy: 0.9927 - val_loss: 1.4278 - val_accuracy: 0.7018\n",
            "Epoch 40/50\n",
            "28/28 [==============================] - 16s 581ms/step - loss: 0.0339 - accuracy: 0.9901 - val_loss: 1.5040 - val_accuracy: 0.6914\n",
            "Epoch 41/50\n",
            "28/28 [==============================] - 16s 585ms/step - loss: 0.0378 - accuracy: 0.9884 - val_loss: 1.5627 - val_accuracy: 0.6823\n",
            "Epoch 42/50\n",
            "28/28 [==============================] - 16s 582ms/step - loss: 0.0370 - accuracy: 0.9893 - val_loss: 1.5516 - val_accuracy: 0.7018\n",
            "Epoch 43/50\n",
            "28/28 [==============================] - 16s 581ms/step - loss: 0.0322 - accuracy: 0.9910 - val_loss: 1.4281 - val_accuracy: 0.6888\n",
            "Epoch 44/50\n",
            "28/28 [==============================] - 16s 585ms/step - loss: 0.0358 - accuracy: 0.9907 - val_loss: 1.4412 - val_accuracy: 0.6953\n",
            "Epoch 45/50\n",
            "28/28 [==============================] - 16s 584ms/step - loss: 0.0316 - accuracy: 0.9924 - val_loss: 1.6856 - val_accuracy: 0.6719\n",
            "Epoch 46/50\n",
            "28/28 [==============================] - 16s 575ms/step - loss: 0.0358 - accuracy: 0.9901 - val_loss: 1.4995 - val_accuracy: 0.6888\n",
            "Epoch 47/50\n",
            "28/28 [==============================] - 16s 579ms/step - loss: 0.0371 - accuracy: 0.9879 - val_loss: 1.5197 - val_accuracy: 0.7018\n",
            "Epoch 48/50\n",
            "28/28 [==============================] - 16s 581ms/step - loss: 0.0371 - accuracy: 0.9882 - val_loss: 1.5191 - val_accuracy: 0.6914\n",
            "Epoch 49/50\n",
            "28/28 [==============================] - 16s 578ms/step - loss: 0.0296 - accuracy: 0.9921 - val_loss: 1.5184 - val_accuracy: 0.6810\n",
            "Epoch 50/50\n",
            "28/28 [==============================] - 16s 581ms/step - loss: 0.0331 - accuracy: 0.9907 - val_loss: 1.5570 - val_accuracy: 0.6784\n"
          ]
        }
      ]
    },
    {
      "cell_type": "code",
      "metadata": {
        "id": "X2qBo4lgLwRi"
      },
      "source": [
        "!ls output_folder "
      ],
      "execution_count": null,
      "outputs": []
    },
    {
      "cell_type": "code",
      "metadata": {
        "id": "WEj-Qt0MLbTM"
      },
      "source": [
        "#save model\n",
        "pre_trained_vgg.save(output_folder+\"deepCNN_vgg19_1.h5\")"
      ],
      "execution_count": 60,
      "outputs": []
    },
    {
      "cell_type": "code",
      "metadata": {
        "colab": {
          "base_uri": "https://localhost:8080/",
          "height": 299
        },
        "id": "S_OD-bDeN4MY",
        "outputId": "52eb4f92-85e4-4850-fcd4-e82b3baffc68"
      },
      "source": [
        "#Plotting the training and validation loss and accuracy\n",
        "f,ax=plt.subplots(2,1) \n",
        "\n",
        "#Loss\n",
        "ax[0].plot(np.arange(0, epochs), vgg19_pre.history[\"loss\"], label=\"train_loss\")\n",
        "ax[0].plot(np.arange(0, epochs), vgg19_pre.history[\"val_loss\"], label=\"val_loss\")\n",
        "ax[0].legend()\n",
        "plt.xlabel(\"Epoch #\")\n",
        "plt.ylabel(\"Loss/Accuracy\")\n",
        "#Accuracy\n",
        "ax[1].plot(np.arange(0, epochs), vgg19_pre.history[\"accuracy\"], label=\"train_acc\")\n",
        "ax[1].plot(np.arange(0, epochs), vgg19_pre.history[\"val_accuracy\"], label=\"val_acc\")\n",
        "ax[1].legend()\n",
        "#plt.legend()\n",
        "#plt.title(\"Training Loss and Accuracy\")\n",
        "plt.xlabel(\"Epoch #\")\n",
        "plt.ylabel(\"Loss/Accuracy\")"
      ],
      "execution_count": 37,
      "outputs": [
        {
          "output_type": "execute_result",
          "data": {
            "text/plain": [
              "Text(0, 0.5, 'Loss/Accuracy')"
            ]
          },
          "metadata": {},
          "execution_count": 37
        },
        {
          "output_type": "display_data",
          "data": {
            "image/png": "[encoded data removed]",
            "text/plain": [
              "<Figure size 432x288 with 2 Axes>"
            ]
          },
          "metadata": {}
        }
      ]
    },
    {
      "cell_type": "code",
      "metadata": {
        "colab": {
          "base_uri": "https://localhost:8080/"
        },
        "id": "NP0Cox2iOQuh",
        "outputId": "1e8b0c93-3acd-4f74-b662-3d53d139e6e6"
      },
      "source": [
        "#Evaluatin\n",
        "print(\"[INFO]: Model godness...\")\n",
        "y_pred = pre_trained_vgg.predict(x_test, batch_size=128)\n",
        "y_true=np.argmax(y_test,axis=1)\n",
        "print(classification_report(y_test.argmax(axis=1), y_pred.argmax(axis=1), target_names = classes_list ))"
      ],
      "execution_count": 49,
      "outputs": [
        {
          "output_type": "stream",
          "name": "stdout",
          "text": [
            "[INFO]: Model godness...\n",
            "              precision    recall  f1-score   support\n",
            "\n",
            "     Dinning       0.76      0.68      0.72        88\n",
            "     Bedroom       0.76      0.78      0.77       178\n",
            "  Livingroom       0.64      0.67      0.65       182\n",
            "     Kitchen       0.62      0.65      0.63       141\n",
            "    Bathroom       0.60      0.57      0.58       199\n",
            "\n",
            "    accuracy                           0.66       788\n",
            "   macro avg       0.67      0.67      0.67       788\n",
            "weighted avg       0.67      0.66      0.66       788\n",
            "\n"
          ]
        }
      ]
    },
    {
      "cell_type": "code",
      "metadata": {
        "id": "Oc8UR6fDmYgg"
      },
      "source": [
        ""
      ],
      "execution_count": null,
      "outputs": []
    }
  ]
}