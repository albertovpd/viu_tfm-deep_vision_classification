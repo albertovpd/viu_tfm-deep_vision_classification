{
  "nbformat": 4,
  "nbformat_minor": 0,
  "metadata": {
    "accelerator": "GPU",
    "colab": {
      "name": "TFM-real_state-deep_vision.ipynb",
      "provenance": [],
      "collapsed_sections": [
        "7HjH6u9a_StU",
        "bZ9bjZIUmrNY",
        "CR4xUbL8B3tu"
      ]
    },
    "kernelspec": {
      "display_name": "Python 3",
      "name": "python3"
    },
    "language_info": {
      "name": "python"
    }
  },
  "cells": [
    {
      "cell_type": "markdown",
      "metadata": {
        "id": "hDYS919NYJnS"
      },
      "source": [
        "# TFM. Deep Visin applied to Real state.\n",
        "\n",
        "https://docs.google.com/document/d/1z8G_THiNSHe14UcoJhIIcJL4NLlCuOiVTu6yvla37qo/edit#d\n"
      ]
    },
    {
      "cell_type": "code",
      "metadata": {
        "colab": {
          "base_uri": "https://localhost:8080/"
        },
        "id": "lnTgtRXyFgQf",
        "outputId": "5f6dee43-ced2-4521-dc73-54514c33f329"
      },
      "source": [
        "# google stuff\n",
        "from google.colab import drive\n",
        "drive.mount('/content/drive/', force_remount=True)"
      ],
      "execution_count": null,
      "outputs": [
        {
          "output_type": "stream",
          "name": "stdout",
          "text": [
            "Mounted at /content/drive/\n"
          ]
        }
      ]
    },
    {
      "cell_type": "code",
      "metadata": {
        "id": "X-OjRNxnu-lo",
        "colab": {
          "base_uri": "https://localhost:8080/"
        },
        "outputId": "f8e17912-b0de-4b1c-c675-eeec49c378a9"
      },
      "source": [
        "%tensorflow_version 2.x\n",
        "import tensorflow as tf\n",
        "device_name = tf.test.gpu_device_name()\n",
        "if device_name != '/device:GPU:0':\n",
        "  raise SystemError('GPU device not found')\n",
        "print('Found GPU at: {}'.format(device_name))"
      ],
      "execution_count": null,
      "outputs": [
        {
          "output_type": "stream",
          "name": "stdout",
          "text": [
            "Found GPU at: /device:GPU:0\n"
          ]
        }
      ]
    },
    {
      "cell_type": "markdown",
      "metadata": {
        "id": "4VR2oTMsT5R5"
      },
      "source": [
        "- libraries"
      ]
    },
    {
      "cell_type": "code",
      "metadata": {
        "id": "NAI9T4pWTfME"
      },
      "source": [
        "%tensorflow_version 2.x\n",
        "from sklearn.model_selection import train_test_split\n",
        "from sklearn.preprocessing import LabelBinarizer\n",
        "\n",
        "import tensorflow as tf\n",
        "from tensorflow.keras.applications import imagenet_utils\n",
        "from tensorflow.keras.preprocessing.image import ImageDataGenerator\n",
        "\n",
        "# architecture \n",
        "# from tensorflow.keras.models import Sequential\n",
        "# from tensorflow.keras import layers\n",
        "#from keras.layers import GlobalMaxPooling2D,GlobalAveragePooling2D\n",
        "from tensorflow.keras import Model\n",
        "\n",
        "# metrics\n",
        "from sklearn.metrics import confusion_matrix\n",
        "from sklearn.metrics import classification_report\n",
        "\n",
        "\n",
        "# optimization\n",
        "from tensorflow.keras.optimizers import Adam\n",
        "from keras import regularizers\n",
        "#from tensorflow.keras.layers import Input, Conv2D, Dense, Dropout, BatchNormalization, MaxPooling2D, Flatten, ZeroPadding2D\n",
        "from tensorflow.keras.regularizers import l1_l2, l2\n",
        "\n",
        "# pre-trained models\n",
        "#from tensorflow.keras.applications import VGG16, ResNet50, VGG19\n",
        "\n",
        "import os\n",
        "import pickle\n",
        "import tarfile\n",
        "\n",
        "# counting classes with library\n",
        "from collections import Counter\n",
        "\n",
        "# viz & arrays\n",
        "import numpy as np\n",
        "import pandas as pd\n",
        "import matplotlib.pyplot as plt\n",
        "import matplotlib.image as mpimg\n",
        "%matplotlib inline"
      ],
      "execution_count": null,
      "outputs": []
    },
    {
      "cell_type": "markdown",
      "metadata": {
        "id": "3_vhk7DsTuS-"
      },
      "source": [
        "- base directory"
      ]
    },
    {
      "cell_type": "code",
      "metadata": {
        "colab": {
          "base_uri": "https://localhost:8080/"
        },
        "id": "GNqmOv5jUtLN",
        "outputId": "f02f4614-c166-479e-d914-00336aa3a9c7"
      },
      "source": [
        "!ls \"/content/drive/My Drive/2-Estudios/viu-master_ai/tfm-deep_vision/\""
      ],
      "execution_count": null,
      "outputs": [
        {
          "output_type": "stream",
          "name": "stdout",
          "text": [
            " AlbertoVargas-sistema_clasificacion_viviendas_imagenes.gslides   input    src\n",
            "'Dudas y seguimiento TFM.gdoc'\t\t\t\t\t  output\n"
          ]
        }
      ]
    },
    {
      "cell_type": "code",
      "metadata": {
        "id": "nJakVe6hTvc7"
      },
      "source": [
        "base_folder = \"/content/drive/My Drive/2-Estudios/viu-master_ai/tfm-deep_vision/\"\n",
        "input_folder = base_folder+\"input/\"\n",
        "src_folder =  base_folder+\"src/\"\n",
        "output_folder = base_folder + \"/output/\""
      ],
      "execution_count": null,
      "outputs": []
    },
    {
      "cell_type": "markdown",
      "metadata": {
        "id": "AhT4ucStG1Oy"
      },
      "source": [
        "- functions"
      ]
    },
    {
      "cell_type": "code",
      "metadata": {
        "id": "-HbqBwIc-Ust"
      },
      "source": [
        "# insert the directory\n",
        "import sys\n",
        "sys.path.insert(0,\"/content/drive/My Drive/2-Estudios/viu-master_ai/tfm-deep_vision/src/\")"
      ],
      "execution_count": null,
      "outputs": []
    },
    {
      "cell_type": "code",
      "metadata": {
        "id": "vY2L-r1j9jex"
      },
      "source": [
        "from tensorflow.keras.layers import GlobalAveragePooling2D\n",
        "from keras.callbacks import ReduceLROnPlateau\n",
        "from tensorflow.keras.optimizers import SGD#, Adam\n",
        "\n",
        "from my_functions import freezing_layers, vgg16_19_conf, resnet50_conf, nn_parameters, plotting_model, generic_last_2layers\n",
        "from datetime import datetime"
      ],
      "execution_count": null,
      "outputs": []
    },
    {
      "cell_type": "markdown",
      "metadata": {
        "id": "rv82I6XgW4Xr"
      },
      "source": [
        "# load pickling data allocated in Drive"
      ]
    },
    {
      "cell_type": "code",
      "metadata": {
        "id": "I_-1T12qUwbw"
      },
      "source": [
        "with open(input_folder+\"pickle_all_images_df.pickle\", \"rb\") as input_file:\n",
        "    data_x = pickle.load(input_file)\n",
        "with open(input_folder+\"pickle_all_classes.pickle\", \"rb\") as input_file:\n",
        "    data_y = pickle.load(input_file)"
      ],
      "execution_count": null,
      "outputs": []
    },
    {
      "cell_type": "markdown",
      "metadata": {
        "id": "jvtNMgL5XNvJ"
      },
      "source": [
        "- some preview"
      ]
    },
    {
      "cell_type": "code",
      "metadata": {
        "id": "TK9hZmmvnhuk",
        "colab": {
          "base_uri": "https://localhost:8080/"
        },
        "outputId": "3175184e-220f-44b9-98e9-2e3175c47578"
      },
      "source": [
        "print(Counter(data_y))"
      ],
      "execution_count": null,
      "outputs": [
        {
          "output_type": "stream",
          "name": "stdout",
          "text": [
            "Counter({'Livingroom': 1273, 'Bedroom': 1248, 'Dinning': 1158, 'Kitchen': 965, 'Bathroom': 606})\n"
          ]
        }
      ]
    },
    {
      "cell_type": "code",
      "metadata": {
        "id": "h0sqnwHXzYPG"
      },
      "source": [
        "classes_list = list(Counter(data_y).keys())"
      ],
      "execution_count": null,
      "outputs": []
    },
    {
      "cell_type": "markdown",
      "metadata": {
        "id": "z2mFBMbcnwYK"
      },
      "source": [
        "- i'll have to deal with this unbalanced classes later. \n",
        "- let's begin with the simplest stuff first"
      ]
    },
    {
      "cell_type": "code",
      "metadata": {
        "id": "NPSuYmXIXEOf",
        "colab": {
          "base_uri": "https://localhost:8080/"
        },
        "outputId": "fef17479-a4ed-41b1-a0b8-f680c39e8b48"
      },
      "source": [
        "print(\"pics shape: \",data_x.shape,\n",
        "      \"\\nnumber of classes: \", len(set(data_y))\n",
        "      )"
      ],
      "execution_count": null,
      "outputs": [
        {
          "output_type": "stream",
          "name": "stdout",
          "text": [
            "pics shape:  (5250, 128, 128, 3) \n",
            "number of classes:  5\n"
          ]
        }
      ]
    },
    {
      "cell_type": "code",
      "metadata": {
        "id": "gVaTkKsTXPy8",
        "colab": {
          "base_uri": "https://localhost:8080/",
          "height": 284
        },
        "outputId": "9df7c6d9-3e19-4d8d-d41f-9b804b10b004"
      },
      "source": [
        "# # showing some stuff \n",
        "print(data_y[42])\n",
        "imgplot = plt.imshow(data_x[42])\n",
        "plt.show()"
      ],
      "execution_count": null,
      "outputs": [
        {
          "output_type": "stream",
          "name": "stdout",
          "text": [
            "Dinning\n"
          ]
        },
        {
          "output_type": "display_data",
          "data": {
            "image/png": "[encoded data removed]",
            "text/plain": [
              "<Figure size 432x288 with 1 Axes>"
            ]
          },
          "metadata": {
            "needs_background": "light"
          }
        }
      ]
    },
    {
      "cell_type": "markdown",
      "metadata": {
        "id": "11MeRxdDq2dE"
      },
      "source": [
        "- transforming y-label into numeric"
      ]
    },
    {
      "cell_type": "code",
      "metadata": {
        "id": "wPDqUdWYqT8b"
      },
      "source": [
        "# transforming labels into numeric\n",
        "y = np.unique(data_y)\n",
        "mapping = { key : value for key,value in zip(y,range(len(y)))}\n",
        "data_y_num = np.array([mapping[i] for i in data_y])"
      ],
      "execution_count": null,
      "outputs": []
    },
    {
      "cell_type": "code",
      "metadata": {
        "id": "2xa6_PfLq9VF",
        "colab": {
          "base_uri": "https://localhost:8080/"
        },
        "outputId": "9b43959e-d8c6-4b75-cf6e-afa59114e614"
      },
      "source": [
        "test_size_1st_split = 0.3\n",
        "test_size_2nd_split= 0.5\n",
        "\n",
        "x_train, x_test, y_train, y_test = train_test_split(data_x, data_y_num, test_size=test_size_1st_split)\n",
        "x_val, x_test, y_val, y_test = train_test_split(x_test, y_test, test_size=test_size_2nd_split) \n",
        "allx= len(data_x)\n",
        "print(round(len(x_train)/allx,2), round(len(x_val)/allx,2), round(len(x_test)/allx,2))\n",
        "del data_y\n",
        "del data_x\n",
        "\n",
        "#One-hot encoding\n",
        "lb = LabelBinarizer()\n",
        "y_train = lb.fit_transform(y_train)\n",
        "y_test = lb.transform(y_test)\n",
        "y_val = lb.transform(y_val)"
      ],
      "execution_count": null,
      "outputs": [
        {
          "output_type": "stream",
          "name": "stdout",
          "text": [
            "0.7 0.15 0.15\n"
          ]
        }
      ]
    },
    {
      "cell_type": "code",
      "metadata": {
        "id": "y0F2d57AstAI",
        "colab": {
          "base_uri": "https://localhost:8080/"
        },
        "outputId": "ec597dfd-4f92-4bbf-a19c-adfadfb7c4f1"
      },
      "source": [
        "print(\"train:  \", x_train.shape, y_train.shape,\n",
        "      \"\\ntest: \", x_test.shape,y_test.shape,\n",
        "      \"\\nval:  \", x_val.shape, y_val.shape)"
      ],
      "execution_count": null,
      "outputs": [
        {
          "output_type": "stream",
          "name": "stdout",
          "text": [
            "train:   (3675, 128, 128, 3) (3675, 5) \n",
            "test:  (788, 128, 128, 3) (788, 5) \n",
            "val:   (787, 128, 128, 3) (787, 5)\n"
          ]
        }
      ]
    },
    {
      "cell_type": "code",
      "metadata": {
        "id": "vVbXD-Pqy84G"
      },
      "source": [
        "#Data Augmentation first\n",
        "# antes sólo rotation_angle=2, horizontal_flip=True, zoom_range=.1\n",
        "train_generator = ImageDataGenerator(rotation_range=2, shear_range=0.2, vertical_flip=True, horizontal_flip=True, zoom_range=.1)\n",
        "val_generator = ImageDataGenerator(rotation_range=2, shear_range=0.2, vertical_flip=True, horizontal_flip=True, zoom_range=.1)\n",
        "test_generator = ImageDataGenerator(rotation_range=2, shear_range=0.2, vertical_flip=True, horizontal_flip= True, zoom_range=.1)\n",
        "\n",
        "#Fitting the augmentation defined above to the data\n",
        "train_generator.fit(x_train)\n",
        "val_generator.fit(x_val)\n",
        "test_generator.fit(x_test)"
      ],
      "execution_count": null,
      "outputs": []
    },
    {
      "cell_type": "markdown",
      "metadata": {
        "id": "bx7M6SlddHFN"
      },
      "source": [
        "# entrenar todos los modelos  con una misma configuración"
      ]
    },
    {
      "cell_type": "code",
      "metadata": {
        "id": "3kTprzeOYU3C"
      },
      "source": [
        "#Initializing the hyperparameters\n",
        "batch_size= 128\n",
        "epochs=200\n",
        "#sgd=SGD(learning_rate=.01,momentum=.9,nesterov=False)\n",
        "#sgd=Adam(learning_rate=.01, beta_1=0.9, beta_2=0.999, epsilon=None, decay=0.0, amsgrad=False)\n",
        "loss_type='categorical_crossentropy'"
      ],
      "execution_count": null,
      "outputs": []
    },
    {
      "cell_type": "code",
      "metadata": {
        "id": "T3V739AFt0me"
      },
      "source": [
        "from tensorflow.keras.applications import Xception, InceptionResNetV2, DenseNet121"
      ],
      "execution_count": null,
      "outputs": []
    },
    {
      "cell_type": "code",
      "metadata": {
        "id": "LyuFGjiNI35e",
        "colab": {
          "base_uri": "https://localhost:8080/"
        },
        "outputId": "1041fa66-a3dd-400f-ea24-c8d816b76c8d"
      },
      "source": [
        "pre_trained_vgg16 = vgg16_19_conf(\"vgg16\",5, True, 0.2, y_train)\n",
        "pre_trained_vgg19 = vgg16_19_conf(\"vgg16\",5, True, 0.2, y_train)\n",
        "pre_trained_resnet50 = resnet50_conf(5, True, 0.2, y_train)\n",
        "\n",
        "pre_trained_xception= generic_last_2layers(\n",
        "    Xception(include_top=False, weights='imagenet', input_shape=(128, 128, 3), classes = y_train.shape[1], classifier_activation='softmax'),\n",
        "    5, False, 0.2, y_train)\n",
        "\n",
        "pre_trained_xception_drop= generic_last_2layers(\n",
        "    Xception(include_top=False, weights='imagenet', input_shape=(128, 128, 3), classes = y_train.shape[1], classifier_activation='softmax'),\n",
        "    5, True, 0.2, y_train)\n",
        "\n",
        "pre_trained_inception= generic_last_2layers(\n",
        "    InceptionResNetV2(include_top=False, weights='imagenet', input_shape=(128, 128, 3), classes = y_train.shape[1], classifier_activation='softmax'),\n",
        "    5, False, 0.2, y_train)\n",
        "\n",
        "pre_trained_inception_drop= generic_last_2layers(\n",
        "    InceptionResNetV2(include_top=False, weights='imagenet', input_shape=(128, 128, 3), classes = y_train.shape[1], classifier_activation='softmax'),\n",
        "    5, True, 0.2, y_train\n",
        "    )\n",
        "# pre_trained_densenet= generic_last_2layers(\n",
        "#     DenseNet121(include_top=False, weights='imagenet', input_shape=(128, 128, 3), classes = y_train.shape[1], classifier_activation='softmax'),\n",
        "#     5, False, 0.2, y_train\n",
        "#     )\n",
        "# pre_trained_densenet_drop= generic_last_2layers(\n",
        "#     DenseNet121(include_top=False, weights='imagenet', input_shape=(128, 128, 3), classes = y_train.shape[1], classifier_activation='softmax'),\n",
        "#     5, True, 0.2, y_train\n",
        "#     )\n",
        "\n",
        "models = [#pre_trained_vgg16, \n",
        "          #pre_trained_vgg19, \n",
        "          #pre_trained_resnet50,\n",
        "          pre_trained_xception,\n",
        "          pre_trained_xception_drop,\n",
        "          pre_trained_inception,\n",
        "          pre_trained_inception_drop,\n",
        "          ]\n",
        "\n",
        "def naming_model(model):\n",
        "  '''gives a name to save it after training'''\n",
        "  if model== pre_trained_vgg16:\n",
        "    name = \"vgg16-\"+datetime.today().strftime('%Y-%m-%d-%H-%M-%S')\n",
        "  elif model == pre_trained_vgg19:\n",
        "    name = \"vgg19-\"+datetime.today().strftime('%Y-%m-%d-%H-%M-%S')\n",
        "  elif model == pre_trained_resnet50:\n",
        "    name = \"resnet50-\"+datetime.today().strftime('%Y-%m-%d-%H-%M-%S')   \n",
        "  elif model == pre_trained_xception:\n",
        "    name = \"xception-\"+datetime.today().strftime('%Y-%m-%d-%H-%M-%S')   \n",
        "  elif model == pre_trained_xception_drop:\n",
        "    name = \"xception_drop-\"+datetime.today().strftime('%Y-%m-%d-%H-%M-%S')   \n",
        "  elif model == pre_trained_inception:\n",
        "    name = \"InceptionResNetV2-\"+datetime.today().strftime('%Y-%m-%d-%H-%M-%S')   \n",
        "  elif model == pre_trained_inception_drop:\n",
        "    name = \"InceptionResNetV2_drop-\"+datetime.today().strftime('%Y-%m-%d-%H-%M-%S')   \n",
        "  return name"
      ],
      "execution_count": null,
      "outputs": [
        {
          "output_type": "stream",
          "name": "stdout",
          "text": [
            "Downloading data from https://storage.googleapis.com/tensorflow/keras-applications/vgg16/vgg16_weights_tf_dim_ordering_tf_kernels_notop.h5\n",
            "58892288/58889256 [==============================] - 1s 0us/step\n",
            "58900480/58889256 [==============================] - 1s 0us/step\n",
            "Downloading data from https://storage.googleapis.com/tensorflow/keras-applications/resnet/resnet50_weights_tf_dim_ordering_tf_kernels_notop.h5\n",
            "94773248/94765736 [==============================] - 1s 0us/step\n",
            "94781440/94765736 [==============================] - 1s 0us/step\n",
            "Downloading data from https://storage.googleapis.com/tensorflow/keras-applications/xception/xception_weights_tf_dim_ordering_tf_kernels_notop.h5\n",
            "83689472/83683744 [==============================] - 1s 0us/step\n",
            "83697664/83683744 [==============================] - 1s 0us/step\n",
            "Downloading data from https://storage.googleapis.com/tensorflow/keras-applications/inception_resnet_v2/inception_resnet_v2_weights_tf_dim_ordering_tf_kernels_notop.h5\n",
            "219062272/219055592 [==============================] - 2s 0us/step\n",
            "219070464/219055592 [==============================] - 2s 0us/step\n"
          ]
        }
      ]
    },
    {
      "cell_type": "code",
      "metadata": {
        "id": "S2OXcbjxeXvs",
        "colab": {
          "base_uri": "https://localhost:8080/",
          "height": 1000
        },
        "outputId": "f6b2ad97-2325-4149-9622-e3397488b2d1"
      },
      "source": [
        "monitor = tf.keras.callbacks.EarlyStopping(monitor='val_loss', min_delta=1e-4,patience=10,mode='auto',verbose=1, restore_best_weights=True)\n",
        "#monitor= ReduceLROnPlateau(monitor='accuracy', factor=.001, patience=3, min_lr=1e-4) # \"val_acc \" warning\n",
        "\n",
        "for model in models:\n",
        "  \n",
        "  model.compile(optimizer = \"adam\", loss=loss_type ,metrics=['accuracy'])\n",
        "  model_result= model.fit_generator(\n",
        "    train_generator.flow(x_train, y_train, batch_size= batch_size),\n",
        "    epochs = epochs, \n",
        "    validation_data = val_generator.flow(x_val, y_val, batch_size = batch_size), \n",
        "    steps_per_epoch = len(x_train)//batch_size , # to avoid running out of data error\n",
        "    validation_steps  = len(x_test)//batch_size, # to avoid running out of data error\n",
        "    callbacks=[monitor], \n",
        "    verbose = 2\n",
        "    )\n",
        "  \n",
        "  number_of_epochs_it_ran = len(model_result.history['loss']) \n",
        "  name = naming_model(model)\n",
        "  model.save(output_folder+name+\".h5\")\n",
        "\n",
        "  plotting_model(model_result,number_of_epochs_it_ran, name)\n",
        "\n",
        "  #Evaluatin\n",
        "  print(\"[INFO]: Model godness...\")\n",
        "  y_pred = model.predict(x_test, batch_size=128)\n",
        "  y_true=np.argmax(y_test,axis=1)\n",
        "  print(\"epochs: \", number_of_epochs_it_ran, \"\\n\",\n",
        "      classification_report(y_test.argmax(axis=1), y_pred.argmax(axis=1), target_names = classes_list )\n",
        "      )"
      ],
      "execution_count": null,
      "outputs": [
        {
          "output_type": "stream",
          "name": "stderr",
          "text": [
            "/usr/local/lib/python3.7/dist-packages/ipykernel_launcher.py:14: UserWarning: `Model.fit_generator` is deprecated and will be removed in a future version. Please use `Model.fit`, which supports generators.\n",
            "  \n"
          ]
        },
        {
          "output_type": "stream",
          "name": "stdout",
          "text": [
            "Epoch 1/200\n",
            "28/28 - 55s - loss: 1.4446 - accuracy: 0.3685 - val_loss: 1.2334 - val_accuracy: 0.5169 - 55s/epoch - 2s/step\n",
            "Epoch 2/200\n",
            "28/28 - 21s - loss: 1.2036 - accuracy: 0.5100 - val_loss: 1.1637 - val_accuracy: 0.5208 - 21s/epoch - 732ms/step\n",
            "Epoch 3/200\n",
            "28/28 - 21s - loss: 1.1398 - accuracy: 0.5413 - val_loss: 1.1257 - val_accuracy: 0.5612 - 21s/epoch - 733ms/step\n",
            "Epoch 4/200\n",
            "28/28 - 20s - loss: 1.1208 - accuracy: 0.5464 - val_loss: 1.1350 - val_accuracy: 0.5234 - 20s/epoch - 727ms/step\n",
            "Epoch 5/200\n",
            "28/28 - 21s - loss: 1.0724 - accuracy: 0.5830 - val_loss: 1.1073 - val_accuracy: 0.5365 - 21s/epoch - 738ms/step\n",
            "Epoch 6/200\n",
            "28/28 - 21s - loss: 1.0451 - accuracy: 0.5791 - val_loss: 1.0983 - val_accuracy: 0.5573 - 21s/epoch - 740ms/step\n",
            "Epoch 7/200\n",
            "28/28 - 21s - loss: 1.0247 - accuracy: 0.5997 - val_loss: 1.0964 - val_accuracy: 0.5742 - 21s/epoch - 741ms/step\n",
            "Epoch 8/200\n",
            "28/28 - 21s - loss: 1.0031 - accuracy: 0.6092 - val_loss: 1.0962 - val_accuracy: 0.5482 - 21s/epoch - 741ms/step\n",
            "Epoch 9/200\n",
            "28/28 - 21s - loss: 1.0058 - accuracy: 0.6047 - val_loss: 1.0740 - val_accuracy: 0.5638 - 21s/epoch - 741ms/step\n",
            "Epoch 10/200\n",
            "28/28 - 21s - loss: 1.0065 - accuracy: 0.6005 - val_loss: 1.0519 - val_accuracy: 0.5885 - 21s/epoch - 743ms/step\n",
            "Epoch 11/200\n",
            "28/28 - 21s - loss: 0.9681 - accuracy: 0.6217 - val_loss: 1.0614 - val_accuracy: 0.5938 - 21s/epoch - 741ms/step\n",
            "Epoch 12/200\n",
            "28/28 - 21s - loss: 0.9735 - accuracy: 0.6143 - val_loss: 1.0849 - val_accuracy: 0.5495 - 21s/epoch - 743ms/step\n",
            "Epoch 13/200\n",
            "28/28 - 21s - loss: 0.9707 - accuracy: 0.6180 - val_loss: 1.0636 - val_accuracy: 0.5729 - 21s/epoch - 740ms/step\n",
            "Epoch 14/200\n",
            "28/28 - 21s - loss: 0.9394 - accuracy: 0.6343 - val_loss: 1.0271 - val_accuracy: 0.5938 - 21s/epoch - 737ms/step\n",
            "Epoch 15/200\n",
            "28/28 - 21s - loss: 0.9456 - accuracy: 0.6349 - val_loss: 1.0523 - val_accuracy: 0.5990 - 21s/epoch - 738ms/step\n",
            "Epoch 16/200\n",
            "28/28 - 21s - loss: 0.9384 - accuracy: 0.6239 - val_loss: 1.0415 - val_accuracy: 0.5885 - 21s/epoch - 737ms/step\n",
            "Epoch 17/200\n",
            "28/28 - 21s - loss: 0.9298 - accuracy: 0.6304 - val_loss: 1.0293 - val_accuracy: 0.6107 - 21s/epoch - 734ms/step\n",
            "Epoch 18/200\n",
            "28/28 - 21s - loss: 0.9157 - accuracy: 0.6417 - val_loss: 1.0224 - val_accuracy: 0.5729 - 21s/epoch - 739ms/step\n",
            "Epoch 19/200\n",
            "28/28 - 21s - loss: 0.9214 - accuracy: 0.6462 - val_loss: 1.0479 - val_accuracy: 0.5742 - 21s/epoch - 737ms/step\n",
            "Epoch 20/200\n",
            "28/28 - 21s - loss: 0.9040 - accuracy: 0.6518 - val_loss: 1.0514 - val_accuracy: 0.5872 - 21s/epoch - 736ms/step\n",
            "Epoch 21/200\n",
            "28/28 - 21s - loss: 0.9031 - accuracy: 0.6476 - val_loss: 1.0433 - val_accuracy: 0.5807 - 21s/epoch - 734ms/step\n",
            "Epoch 22/200\n",
            "28/28 - 21s - loss: 0.9105 - accuracy: 0.6479 - val_loss: 1.0266 - val_accuracy: 0.5977 - 21s/epoch - 734ms/step\n",
            "Epoch 23/200\n",
            "28/28 - 21s - loss: 0.8972 - accuracy: 0.6566 - val_loss: 1.0627 - val_accuracy: 0.5716 - 21s/epoch - 732ms/step\n",
            "Epoch 24/200\n",
            "28/28 - 21s - loss: 0.8876 - accuracy: 0.6583 - val_loss: 1.0387 - val_accuracy: 0.5742 - 21s/epoch - 733ms/step\n",
            "Epoch 25/200\n",
            "28/28 - 21s - loss: 0.8911 - accuracy: 0.6577 - val_loss: 1.0091 - val_accuracy: 0.5859 - 21s/epoch - 738ms/step\n",
            "Epoch 26/200\n",
            "28/28 - 20s - loss: 0.8781 - accuracy: 0.6679 - val_loss: 1.0408 - val_accuracy: 0.6003 - 20s/epoch - 732ms/step\n",
            "Epoch 27/200\n",
            "28/28 - 21s - loss: 0.8697 - accuracy: 0.6629 - val_loss: 1.0209 - val_accuracy: 0.5977 - 21s/epoch - 738ms/step\n",
            "Epoch 28/200\n",
            "28/28 - 21s - loss: 0.8830 - accuracy: 0.6599 - val_loss: 1.0305 - val_accuracy: 0.6003 - 21s/epoch - 735ms/step\n",
            "Epoch 29/200\n",
            "28/28 - 21s - loss: 0.8754 - accuracy: 0.6583 - val_loss: 1.0144 - val_accuracy: 0.5794 - 21s/epoch - 733ms/step\n",
            "Epoch 30/200\n",
            "28/28 - 21s - loss: 0.8729 - accuracy: 0.6620 - val_loss: 1.0337 - val_accuracy: 0.5599 - 21s/epoch - 734ms/step\n",
            "Epoch 31/200\n",
            "28/28 - 20s - loss: 0.8610 - accuracy: 0.6687 - val_loss: 1.0634 - val_accuracy: 0.5781 - 20s/epoch - 731ms/step\n",
            "Epoch 32/200\n",
            "28/28 - 21s - loss: 0.8661 - accuracy: 0.6654 - val_loss: 1.0226 - val_accuracy: 0.6042 - 21s/epoch - 733ms/step\n",
            "Epoch 33/200\n",
            "28/28 - 21s - loss: 0.8478 - accuracy: 0.6783 - val_loss: 1.0218 - val_accuracy: 0.5911 - 21s/epoch - 735ms/step\n",
            "Epoch 34/200\n",
            "28/28 - 20s - loss: 0.8598 - accuracy: 0.6639 - val_loss: 1.0306 - val_accuracy: 0.5924 - 20s/epoch - 728ms/step\n",
            "Epoch 35/200\n",
            "Restoring model weights from the end of the best epoch: 25.\n",
            "28/28 - 21s - loss: 0.8541 - accuracy: 0.6625 - val_loss: 1.0320 - val_accuracy: 0.5846 - 21s/epoch - 733ms/step\n",
            "Epoch 00035: early stopping\n"
          ]
        },
        {
          "output_type": "stream",
          "name": "stderr",
          "text": [
            "/usr/local/lib/python3.7/dist-packages/keras/engine/functional.py:1410: CustomMaskWarning: Custom mask layers require a config and must override get_config. When loading, the custom mask layer must be passed to the custom_objects argument.\n",
            "  layer_config = serialize_layer_fn(layer)\n"
          ]
        },
        {
          "output_type": "display_data",
          "data": {
            "image/png": "[encoded data removed]",
            "text/plain": [
              "<Figure size 432x288 with 2 Axes>"
            ]
          },
          "metadata": {
            "needs_background": "light"
          }
        },
        {
          "output_type": "stream",
          "name": "stdout",
          "text": [
            "[INFO]: Model godness...\n",
            "epochs:  35 \n",
            "               precision    recall  f1-score   support\n",
            "\n",
            "     Dinning       0.76      0.74      0.75        85\n",
            "     Bedroom       0.77      0.70      0.73       195\n",
            "  Livingroom       0.69      0.70      0.69       175\n",
            "     Kitchen       0.66      0.63      0.64       150\n",
            "    Bathroom       0.51      0.56      0.53       183\n",
            "\n",
            "    accuracy                           0.66       788\n",
            "   macro avg       0.67      0.67      0.67       788\n",
            "weighted avg       0.67      0.66      0.66       788\n",
            "\n"
          ]
        },
        {
          "output_type": "stream",
          "name": "stderr",
          "text": [
            "/usr/local/lib/python3.7/dist-packages/ipykernel_launcher.py:14: UserWarning: `Model.fit_generator` is deprecated and will be removed in a future version. Please use `Model.fit`, which supports generators.\n",
            "  \n"
          ]
        },
        {
          "output_type": "stream",
          "name": "stdout",
          "text": [
            "Epoch 1/200\n",
            "28/28 - 25s - loss: 1.4588 - accuracy: 0.3566 - val_loss: 1.2465 - val_accuracy: 0.4896 - 25s/epoch - 903ms/step\n",
            "Epoch 2/200\n",
            "28/28 - 20s - loss: 1.2562 - accuracy: 0.4674 - val_loss: 1.1689 - val_accuracy: 0.5339 - 20s/epoch - 730ms/step\n",
            "Epoch 3/200\n",
            "28/28 - 20s - loss: 1.1678 - accuracy: 0.5125 - val_loss: 1.1216 - val_accuracy: 0.5573 - 20s/epoch - 730ms/step\n",
            "Epoch 4/200\n",
            "28/28 - 20s - loss: 1.1377 - accuracy: 0.5340 - val_loss: 1.1121 - val_accuracy: 0.5690 - 20s/epoch - 730ms/step\n",
            "Epoch 5/200\n",
            "28/28 - 20s - loss: 1.1023 - accuracy: 0.5565 - val_loss: 1.1195 - val_accuracy: 0.5534 - 20s/epoch - 726ms/step\n",
            "Epoch 6/200\n",
            "28/28 - 20s - loss: 1.0752 - accuracy: 0.5723 - val_loss: 1.0827 - val_accuracy: 0.5521 - 20s/epoch - 731ms/step\n",
            "Epoch 7/200\n",
            "28/28 - 20s - loss: 1.0664 - accuracy: 0.5768 - val_loss: 1.0950 - val_accuracy: 0.5521 - 20s/epoch - 727ms/step\n",
            "Epoch 8/200\n",
            "28/28 - 20s - loss: 1.0566 - accuracy: 0.5771 - val_loss: 1.0621 - val_accuracy: 0.5534 - 20s/epoch - 728ms/step\n",
            "Epoch 9/200\n",
            "28/28 - 20s - loss: 1.0599 - accuracy: 0.5794 - val_loss: 1.0857 - val_accuracy: 0.5729 - 20s/epoch - 723ms/step\n",
            "Epoch 10/200\n",
            "28/28 - 21s - loss: 1.0470 - accuracy: 0.5839 - val_loss: 1.0393 - val_accuracy: 0.5872 - 21s/epoch - 733ms/step\n",
            "Epoch 11/200\n",
            "28/28 - 20s - loss: 1.0092 - accuracy: 0.5966 - val_loss: 1.0605 - val_accuracy: 0.5625 - 20s/epoch - 725ms/step\n",
            "Epoch 12/200\n",
            "28/28 - 20s - loss: 1.0223 - accuracy: 0.5912 - val_loss: 1.0555 - val_accuracy: 0.5625 - 20s/epoch - 729ms/step\n",
            "Epoch 13/200\n",
            "28/28 - 20s - loss: 1.0087 - accuracy: 0.6030 - val_loss: 1.0773 - val_accuracy: 0.5651 - 20s/epoch - 731ms/step\n",
            "Epoch 14/200\n",
            "28/28 - 20s - loss: 0.9815 - accuracy: 0.6146 - val_loss: 1.0513 - val_accuracy: 0.5781 - 20s/epoch - 725ms/step\n",
            "Epoch 15/200\n",
            "28/28 - 20s - loss: 0.9871 - accuracy: 0.6138 - val_loss: 1.0646 - val_accuracy: 0.5768 - 20s/epoch - 725ms/step\n",
            "Epoch 16/200\n",
            "28/28 - 20s - loss: 0.9726 - accuracy: 0.6163 - val_loss: 1.0447 - val_accuracy: 0.5885 - 20s/epoch - 724ms/step\n",
            "Epoch 17/200\n",
            "28/28 - 20s - loss: 0.9739 - accuracy: 0.6295 - val_loss: 1.0362 - val_accuracy: 0.5872 - 20s/epoch - 727ms/step\n",
            "Epoch 18/200\n",
            "28/28 - 20s - loss: 0.9723 - accuracy: 0.6194 - val_loss: 1.0507 - val_accuracy: 0.5638 - 20s/epoch - 726ms/step\n",
            "Epoch 19/200\n",
            "28/28 - 20s - loss: 0.9811 - accuracy: 0.6135 - val_loss: 1.1078 - val_accuracy: 0.5495 - 20s/epoch - 731ms/step\n",
            "Epoch 20/200\n",
            "28/28 - 21s - loss: 0.9636 - accuracy: 0.6214 - val_loss: 1.0453 - val_accuracy: 0.5924 - 21s/epoch - 738ms/step\n",
            "Epoch 21/200\n",
            "28/28 - 21s - loss: 0.9624 - accuracy: 0.6245 - val_loss: 0.9993 - val_accuracy: 0.5885 - 21s/epoch - 743ms/step\n",
            "Epoch 22/200\n",
            "28/28 - 21s - loss: 0.9580 - accuracy: 0.6208 - val_loss: 1.0542 - val_accuracy: 0.5768 - 21s/epoch - 734ms/step\n",
            "Epoch 23/200\n",
            "28/28 - 20s - loss: 0.9562 - accuracy: 0.6355 - val_loss: 1.0373 - val_accuracy: 0.5729 - 20s/epoch - 723ms/step\n",
            "Epoch 24/200\n",
            "28/28 - 20s - loss: 0.9339 - accuracy: 0.6315 - val_loss: 1.0438 - val_accuracy: 0.5742 - 20s/epoch - 731ms/step\n",
            "Epoch 25/200\n",
            "28/28 - 21s - loss: 0.9578 - accuracy: 0.6264 - val_loss: 1.0764 - val_accuracy: 0.5638 - 21s/epoch - 741ms/step\n",
            "Epoch 26/200\n",
            "28/28 - 21s - loss: 0.9484 - accuracy: 0.6301 - val_loss: 1.0257 - val_accuracy: 0.5964 - 21s/epoch - 738ms/step\n",
            "Epoch 27/200\n",
            "28/28 - 21s - loss: 0.9412 - accuracy: 0.6326 - val_loss: 1.0526 - val_accuracy: 0.5573 - 21s/epoch - 740ms/step\n",
            "Epoch 28/200\n",
            "28/28 - 20s - loss: 0.9557 - accuracy: 0.6239 - val_loss: 1.0591 - val_accuracy: 0.5729 - 20s/epoch - 730ms/step\n",
            "Epoch 29/200\n",
            "28/28 - 20s - loss: 0.9484 - accuracy: 0.6408 - val_loss: 1.0762 - val_accuracy: 0.5443 - 20s/epoch - 723ms/step\n",
            "Epoch 30/200\n",
            "28/28 - 20s - loss: 0.9428 - accuracy: 0.6338 - val_loss: 1.0442 - val_accuracy: 0.5716 - 20s/epoch - 720ms/step\n",
            "Epoch 31/200\n",
            "Restoring model weights from the end of the best epoch: 21.\n",
            "28/28 - 20s - loss: 0.9435 - accuracy: 0.6343 - val_loss: 1.0481 - val_accuracy: 0.5820 - 20s/epoch - 726ms/step\n",
            "Epoch 00031: early stopping\n"
          ]
        },
        {
          "output_type": "stream",
          "name": "stderr",
          "text": [
            "/usr/local/lib/python3.7/dist-packages/keras/engine/functional.py:1410: CustomMaskWarning: Custom mask layers require a config and must override get_config. When loading, the custom mask layer must be passed to the custom_objects argument.\n",
            "  layer_config = serialize_layer_fn(layer)\n"
          ]
        },
        {
          "output_type": "display_data",
          "data": {
            "image/png": "[encoded data removed]",
            "text/plain": [
              "<Figure size 432x288 with 2 Axes>"
            ]
          },
          "metadata": {
            "needs_background": "light"
          }
        },
        {
          "output_type": "stream",
          "name": "stdout",
          "text": [
            "[INFO]: Model godness...\n",
            "epochs:  31 \n",
            "               precision    recall  f1-score   support\n",
            "\n",
            "     Dinning       0.72      0.74      0.73        85\n",
            "     Bedroom       0.68      0.76      0.72       195\n",
            "  Livingroom       0.63      0.70      0.66       175\n",
            "     Kitchen       0.72      0.63      0.67       150\n",
            "    Bathroom       0.56      0.48      0.52       183\n",
            "\n",
            "    accuracy                           0.65       788\n",
            "   macro avg       0.66      0.66      0.66       788\n",
            "weighted avg       0.65      0.65      0.65       788\n",
            "\n"
          ]
        },
        {
          "output_type": "stream",
          "name": "stderr",
          "text": [
            "/usr/local/lib/python3.7/dist-packages/ipykernel_launcher.py:14: UserWarning: `Model.fit_generator` is deprecated and will be removed in a future version. Please use `Model.fit`, which supports generators.\n",
            "  \n"
          ]
        },
        {
          "output_type": "stream",
          "name": "stdout",
          "text": [
            "Epoch 1/200\n",
            "28/28 - 42s - loss: 1.6408 - accuracy: 0.3451 - val_loss: 1.3076 - val_accuracy: 0.4740 - 42s/epoch - 1s/step\n",
            "Epoch 2/200\n",
            "28/28 - 22s - loss: 1.2928 - accuracy: 0.4790 - val_loss: 1.2203 - val_accuracy: 0.5117 - 22s/epoch - 772ms/step\n",
            "Epoch 3/200\n",
            "28/28 - 22s - loss: 1.1860 - accuracy: 0.5151 - val_loss: 1.1672 - val_accuracy: 0.5143 - 22s/epoch - 773ms/step\n",
            "Epoch 4/200\n",
            "28/28 - 22s - loss: 1.1397 - accuracy: 0.5312 - val_loss: 1.1238 - val_accuracy: 0.5456 - 22s/epoch - 769ms/step\n",
            "Epoch 5/200\n",
            "28/28 - 22s - loss: 1.0865 - accuracy: 0.5658 - val_loss: 1.0982 - val_accuracy: 0.5495 - 22s/epoch - 771ms/step\n",
            "Epoch 6/200\n",
            "28/28 - 21s - loss: 1.0711 - accuracy: 0.5757 - val_loss: 1.1083 - val_accuracy: 0.5456 - 21s/epoch - 766ms/step\n",
            "Epoch 7/200\n",
            "28/28 - 22s - loss: 1.0534 - accuracy: 0.5853 - val_loss: 1.0964 - val_accuracy: 0.5690 - 22s/epoch - 778ms/step\n",
            "Epoch 8/200\n",
            "28/28 - 21s - loss: 1.0516 - accuracy: 0.5805 - val_loss: 1.0839 - val_accuracy: 0.5807 - 21s/epoch - 765ms/step\n",
            "Epoch 9/200\n",
            "28/28 - 21s - loss: 1.0203 - accuracy: 0.5977 - val_loss: 1.0923 - val_accuracy: 0.5664 - 21s/epoch - 758ms/step\n",
            "Epoch 10/200\n",
            "28/28 - 21s - loss: 1.0343 - accuracy: 0.5887 - val_loss: 1.1341 - val_accuracy: 0.5586 - 21s/epoch - 760ms/step\n",
            "Epoch 11/200\n",
            "28/28 - 22s - loss: 1.0276 - accuracy: 0.5952 - val_loss: 1.0654 - val_accuracy: 0.5911 - 22s/epoch - 777ms/step\n",
            "Epoch 12/200\n",
            "28/28 - 21s - loss: 0.9880 - accuracy: 0.6081 - val_loss: 1.0706 - val_accuracy: 0.5716 - 21s/epoch - 765ms/step\n",
            "Epoch 13/200\n",
            "28/28 - 22s - loss: 0.9753 - accuracy: 0.6133 - val_loss: 1.0204 - val_accuracy: 0.6003 - 22s/epoch - 782ms/step\n",
            "Epoch 14/200\n",
            "28/28 - 21s - loss: 0.9912 - accuracy: 0.6036 - val_loss: 1.0290 - val_accuracy: 0.5977 - 21s/epoch - 761ms/step\n",
            "Epoch 15/200\n",
            "28/28 - 21s - loss: 0.9586 - accuracy: 0.6253 - val_loss: 1.0567 - val_accuracy: 0.5807 - 21s/epoch - 760ms/step\n",
            "Epoch 16/200\n",
            "28/28 - 21s - loss: 0.9500 - accuracy: 0.6338 - val_loss: 1.0491 - val_accuracy: 0.5755 - 21s/epoch - 759ms/step\n",
            "Epoch 17/200\n",
            "28/28 - 21s - loss: 0.9698 - accuracy: 0.6118 - val_loss: 1.0654 - val_accuracy: 0.5859 - 21s/epoch - 760ms/step\n",
            "Epoch 18/200\n",
            "28/28 - 21s - loss: 0.9547 - accuracy: 0.6324 - val_loss: 1.0438 - val_accuracy: 0.6094 - 21s/epoch - 763ms/step\n",
            "Epoch 19/200\n",
            "28/28 - 22s - loss: 0.9398 - accuracy: 0.6329 - val_loss: 1.0178 - val_accuracy: 0.6003 - 22s/epoch - 775ms/step\n",
            "Epoch 20/200\n",
            "28/28 - 21s - loss: 0.9524 - accuracy: 0.6191 - val_loss: 1.0509 - val_accuracy: 0.5612 - 21s/epoch - 765ms/step\n",
            "Epoch 21/200\n",
            "28/28 - 21s - loss: 0.9151 - accuracy: 0.6346 - val_loss: 1.0479 - val_accuracy: 0.6094 - 21s/epoch - 766ms/step\n",
            "Epoch 22/200\n",
            "28/28 - 22s - loss: 0.9229 - accuracy: 0.6467 - val_loss: 1.0004 - val_accuracy: 0.6029 - 22s/epoch - 780ms/step\n",
            "Epoch 23/200\n",
            "28/28 - 22s - loss: 0.9088 - accuracy: 0.6414 - val_loss: 0.9932 - val_accuracy: 0.5977 - 22s/epoch - 777ms/step\n",
            "Epoch 24/200\n",
            "28/28 - 22s - loss: 0.9163 - accuracy: 0.6434 - val_loss: 0.9722 - val_accuracy: 0.6237 - 22s/epoch - 781ms/step\n",
            "Epoch 25/200\n",
            "28/28 - 22s - loss: 0.9171 - accuracy: 0.6456 - val_loss: 0.9913 - val_accuracy: 0.6094 - 22s/epoch - 769ms/step\n",
            "Epoch 26/200\n",
            "28/28 - 21s - loss: 0.9069 - accuracy: 0.6383 - val_loss: 1.0483 - val_accuracy: 0.6016 - 21s/epoch - 767ms/step\n",
            "Epoch 27/200\n",
            "28/28 - 21s - loss: 0.9224 - accuracy: 0.6301 - val_loss: 1.0480 - val_accuracy: 0.6198 - 21s/epoch - 763ms/step\n",
            "Epoch 28/200\n",
            "28/28 - 21s - loss: 0.8914 - accuracy: 0.6541 - val_loss: 1.0165 - val_accuracy: 0.5964 - 21s/epoch - 766ms/step\n",
            "Epoch 29/200\n",
            "28/28 - 21s - loss: 0.8865 - accuracy: 0.6589 - val_loss: 0.9936 - val_accuracy: 0.6224 - 21s/epoch - 764ms/step\n",
            "Epoch 30/200\n",
            "28/28 - 21s - loss: 0.8639 - accuracy: 0.6699 - val_loss: 1.0466 - val_accuracy: 0.6042 - 21s/epoch - 764ms/step\n",
            "Epoch 31/200\n",
            "28/28 - 21s - loss: 0.8571 - accuracy: 0.6606 - val_loss: 0.9736 - val_accuracy: 0.6003 - 21s/epoch - 763ms/step\n",
            "Epoch 32/200\n",
            "28/28 - 21s - loss: 0.8762 - accuracy: 0.6546 - val_loss: 0.9996 - val_accuracy: 0.6120 - 21s/epoch - 766ms/step\n",
            "Epoch 33/200\n",
            "28/28 - 22s - loss: 0.8753 - accuracy: 0.6600 - val_loss: 1.1079 - val_accuracy: 0.5911 - 22s/epoch - 768ms/step\n",
            "Epoch 34/200\n",
            "Restoring model weights from the end of the best epoch: 24.\n",
            "28/28 - 22s - loss: 0.8664 - accuracy: 0.6603 - val_loss: 1.0402 - val_accuracy: 0.5924 - 22s/epoch - 790ms/step\n",
            "Epoch 00034: early stopping\n"
          ]
        },
        {
          "output_type": "display_data",
          "data": {
            "image/png": "[encoded data removed]",
            "text/plain": [
              "<Figure size 432x288 with 2 Axes>"
            ]
          },
          "metadata": {
            "needs_background": "light"
          }
        },
        {
          "output_type": "stream",
          "name": "stdout",
          "text": [
            "[INFO]: Model godness...\n",
            "epochs:  34 \n",
            "               precision    recall  f1-score   support\n",
            "\n",
            "     Dinning       0.73      0.69      0.71        85\n",
            "     Bedroom       0.76      0.70      0.73       195\n",
            "  Livingroom       0.61      0.73      0.66       175\n",
            "     Kitchen       0.67      0.57      0.62       150\n",
            "    Bathroom       0.54      0.57      0.56       183\n",
            "\n",
            "    accuracy                           0.65       788\n",
            "   macro avg       0.66      0.65      0.65       788\n",
            "weighted avg       0.66      0.65      0.65       788\n",
            "\n"
          ]
        },
        {
          "output_type": "stream",
          "name": "stderr",
          "text": [
            "/usr/local/lib/python3.7/dist-packages/ipykernel_launcher.py:14: UserWarning: `Model.fit_generator` is deprecated and will be removed in a future version. Please use `Model.fit`, which supports generators.\n",
            "  \n"
          ]
        },
        {
          "output_type": "stream",
          "name": "stdout",
          "text": [
            "Epoch 1/200\n",
            "28/28 - 40s - loss: 1.8770 - accuracy: 0.3307 - val_loss: 1.3420 - val_accuracy: 0.4557 - 40s/epoch - 1s/step\n",
            "Epoch 2/200\n",
            "28/28 - 22s - loss: 1.4822 - accuracy: 0.4205 - val_loss: 1.1894 - val_accuracy: 0.5365 - 22s/epoch - 793ms/step\n",
            "Epoch 3/200\n",
            "28/28 - 22s - loss: 1.3663 - accuracy: 0.4635 - val_loss: 1.1355 - val_accuracy: 0.5469 - 22s/epoch - 787ms/step\n",
            "Epoch 4/200\n",
            "28/28 - 22s - loss: 1.2955 - accuracy: 0.4849 - val_loss: 1.1276 - val_accuracy: 0.5651 - 22s/epoch - 787ms/step\n",
            "Epoch 5/200\n",
            "28/28 - 22s - loss: 1.2390 - accuracy: 0.5131 - val_loss: 1.0955 - val_accuracy: 0.5833 - 22s/epoch - 790ms/step\n",
            "Epoch 6/200\n",
            "28/28 - 22s - loss: 1.1769 - accuracy: 0.5264 - val_loss: 1.0770 - val_accuracy: 0.5729 - 22s/epoch - 785ms/step\n",
            "Epoch 7/200\n",
            "28/28 - 22s - loss: 1.2031 - accuracy: 0.5334 - val_loss: 1.1017 - val_accuracy: 0.5846 - 22s/epoch - 774ms/step\n",
            "Epoch 8/200\n",
            "28/28 - 22s - loss: 1.1806 - accuracy: 0.5421 - val_loss: 1.1181 - val_accuracy: 0.5508 - 22s/epoch - 769ms/step\n",
            "Epoch 9/200\n",
            "28/28 - 21s - loss: 1.1681 - accuracy: 0.5331 - val_loss: 1.0797 - val_accuracy: 0.5690 - 21s/epoch - 767ms/step\n",
            "Epoch 10/200\n",
            "28/28 - 21s - loss: 1.1235 - accuracy: 0.5593 - val_loss: 1.0996 - val_accuracy: 0.5521 - 21s/epoch - 765ms/step\n",
            "Epoch 11/200\n",
            "28/28 - 21s - loss: 1.1113 - accuracy: 0.5599 - val_loss: 1.1260 - val_accuracy: 0.5560 - 21s/epoch - 768ms/step\n",
            "Epoch 12/200\n",
            "28/28 - 22s - loss: 1.0682 - accuracy: 0.5827 - val_loss: 1.0662 - val_accuracy: 0.5833 - 22s/epoch - 786ms/step\n",
            "Epoch 13/200\n",
            "28/28 - 22s - loss: 1.1025 - accuracy: 0.5760 - val_loss: 1.0206 - val_accuracy: 0.6224 - 22s/epoch - 781ms/step\n",
            "Epoch 14/200\n",
            "28/28 - 21s - loss: 1.0669 - accuracy: 0.5768 - val_loss: 1.0347 - val_accuracy: 0.5964 - 21s/epoch - 765ms/step\n",
            "Epoch 15/200\n",
            "28/28 - 22s - loss: 1.0882 - accuracy: 0.5729 - val_loss: 0.9655 - val_accuracy: 0.6224 - 22s/epoch - 779ms/step\n",
            "Epoch 16/200\n",
            "28/28 - 21s - loss: 1.0539 - accuracy: 0.5836 - val_loss: 1.0217 - val_accuracy: 0.6029 - 21s/epoch - 766ms/step\n",
            "Epoch 17/200\n",
            "28/28 - 21s - loss: 1.0785 - accuracy: 0.5763 - val_loss: 1.0366 - val_accuracy: 0.6146 - 21s/epoch - 765ms/step\n",
            "Epoch 18/200\n",
            "28/28 - 21s - loss: 1.0669 - accuracy: 0.5796 - val_loss: 1.0587 - val_accuracy: 0.5833 - 21s/epoch - 765ms/step\n",
            "Epoch 19/200\n",
            "28/28 - 21s - loss: 1.0454 - accuracy: 0.5929 - val_loss: 1.0139 - val_accuracy: 0.6081 - 21s/epoch - 761ms/step\n",
            "Epoch 20/200\n",
            "28/28 - 21s - loss: 1.0403 - accuracy: 0.5889 - val_loss: 1.0273 - val_accuracy: 0.6250 - 21s/epoch - 758ms/step\n",
            "Epoch 21/200\n",
            "28/28 - 21s - loss: 1.0187 - accuracy: 0.6028 - val_loss: 1.0439 - val_accuracy: 0.6133 - 21s/epoch - 762ms/step\n",
            "Epoch 22/200\n",
            "28/28 - 21s - loss: 1.0238 - accuracy: 0.5966 - val_loss: 1.0269 - val_accuracy: 0.6133 - 21s/epoch - 756ms/step\n",
            "Epoch 23/200\n",
            "28/28 - 21s - loss: 1.0251 - accuracy: 0.6019 - val_loss: 1.0440 - val_accuracy: 0.5911 - 21s/epoch - 758ms/step\n",
            "Epoch 24/200\n",
            "28/28 - 21s - loss: 1.0000 - accuracy: 0.6045 - val_loss: 1.0122 - val_accuracy: 0.6003 - 21s/epoch - 759ms/step\n",
            "Epoch 25/200\n",
            "Restoring model weights from the end of the best epoch: 15.\n",
            "28/28 - 22s - loss: 1.0388 - accuracy: 0.5957 - val_loss: 1.0347 - val_accuracy: 0.5872 - 22s/epoch - 774ms/step\n",
            "Epoch 00025: early stopping\n"
          ]
        },
        {
          "output_type": "display_data",
          "data": {
            "image/png": "[encoded data removed]",
            "text/plain": [
              "<Figure size 432x288 with 2 Axes>"
            ]
          },
          "metadata": {
            "needs_background": "light"
          }
        },
        {
          "output_type": "stream",
          "name": "stdout",
          "text": [
            "[INFO]: Model godness...\n",
            "epochs:  25 \n",
            "               precision    recall  f1-score   support\n",
            "\n",
            "     Dinning       0.76      0.72      0.74        85\n",
            "     Bedroom       0.71      0.76      0.74       195\n",
            "  Livingroom       0.63      0.70      0.67       175\n",
            "     Kitchen       0.61      0.63      0.62       150\n",
            "    Bathroom       0.58      0.48      0.52       183\n",
            "\n",
            "    accuracy                           0.65       788\n",
            "   macro avg       0.66      0.66      0.66       788\n",
            "weighted avg       0.65      0.65      0.65       788\n",
            "\n"
          ]
        }
      ]
    },
    {
      "cell_type": "code",
      "metadata": {
        "colab": {
          "base_uri": "https://localhost:8080/",
          "height": 160
        },
        "id": "1JG12nK6PpAu",
        "outputId": "5e4a64a0-575f-40dc-f298-4d654559d4bf"
      },
      "source": [
        "asdfasdfasd"
      ],
      "execution_count": null,
      "outputs": [
        {
          "output_type": "error",
          "ename": "NameError",
          "evalue": "ignored",
          "traceback": [
            "\u001b[0;31m---------------------------------------------------------------------------\u001b[0m",
            "\u001b[0;31mNameError\u001b[0m                                 Traceback (most recent call last)",
            "\u001b[0;32m<ipython-input-21-9917c66d4a8f>\u001b[0m in \u001b[0;36m<module>\u001b[0;34m()\u001b[0m\n\u001b[0;32m----> 1\u001b[0;31m \u001b[0masdfasdfasd\u001b[0m\u001b[0;34m\u001b[0m\u001b[0;34m\u001b[0m\u001b[0m\n\u001b[0m",
            "\u001b[0;31mNameError\u001b[0m: name 'asdfasdfasd' is not defined"
          ]
        }
      ]
    },
    {
      "cell_type": "markdown",
      "metadata": {
        "id": "7HjH6u9a_StU"
      },
      "source": [
        "# VGG16\n",
        "https://www.tensorflow.org/api_docs/python/tf/keras/applications/vgg16/VGG16\n",
        "\n",
        "last layers of vgg16 are 2 dense layers of 4096 neurons and a last one of 1000 neurons (to classify 1000 different classes)\n",
        "https://miro.medium.com/max/470/1*3-TqqkRQ4rWLOMX-gvkYwA.png\n",
        "\n",
        "So, we'll do:\n",
        "- load all layers but the top model (last 3 dense layers). this will be the base model\n",
        "- freeze layers of base model (saving how they're trained)\n",
        "- we want to copy the vgg16 architecture, so we have to add manually the last layers: we'll add 2 dense layers of 4096 and change the last one designed to classifty 1000 classes for a 5-neurons layer.\n"
      ]
    },
    {
      "cell_type": "code",
      "metadata": {
        "id": "WcOq8aS7aW3T"
      },
      "source": [
        "from keras.callbacks import ReduceLROnPlateau\n",
        "#from tensorflow.keras.optimizers import SGD#, Adam"
      ],
      "execution_count": null,
      "outputs": []
    },
    {
      "cell_type": "code",
      "metadata": {
        "id": "FpBqg0-oPktK"
      },
      "source": [
        "#test = VGG16(include_top=True)\n",
        "#test.summary()"
      ],
      "execution_count": null,
      "outputs": []
    },
    {
      "cell_type": "code",
      "metadata": {
        "id": "ni4d-pJr_VFI"
      },
      "source": [
        "# no incluyo el top (las últimas capas dense, que añado al final)\n",
        "base_model_vgg16 = VGG16(include_top=False, weights='imagenet', input_shape=(128, 128, 3), classes = y_train.shape[1], classifier_activation='softmax')\n",
        "pre_trained_vgg16 = Sequential() # to add more stuff\n",
        "\n",
        "'''\n",
        "antes lo añadía todo menos la última capa, pero como estamos trabajando sin el top model, no es necesario, las 2 últimas capas no están\n",
        "(base model acaba en block5_pool (MaxPooling2D) )\n",
        "'''\n",
        "for layer in base_model_vgg16.layers:#[:-1]: # not loading the last layer\n",
        "    pre_trained_vgg16.add(layer)    \n",
        "\n",
        "# Freeze the layers \n",
        "for layer in pre_trained_vgg16.layers:\n",
        "    layer.trainable = False\n",
        "\n",
        "# before the final layer has the shape (None, 8, 8, 5). I do need (0, 5)\n",
        "pre_trained_vgg16.add(Flatten())\n",
        "\n",
        "# emulating vgg16 architecture (but we'll train on this layers)\n",
        "pre_trained_vgg16.add(Dense(4096,activation=('relu')))\n",
        "pre_trained_vgg16.add(Dense(4096,activation=('relu'))) \n",
        "pre_trained_vgg16.add(Dense(5,activation=('softmax'))) \n",
        "pre_trained_vgg16.summary()\n",
        "print(len(pre_trained_vgg16.layers))"
      ],
      "execution_count": null,
      "outputs": []
    },
    {
      "cell_type": "markdown",
      "metadata": {
        "id": "DPh9UdLvxp4q"
      },
      "source": [
        "**training**\n",
        "\n",
        "- callbacks\n",
        "  - reducelronplateau - monitor the validation accuracy and if it seems to be a plateau in 3 epochs, it will reduce the learning rate by 0.01.\n",
        "  - Learning Rate Annealer - decreases the learning rate after a certain number of epochs if the error rate does not change. Here, through this technique\n",
        "- optimizers\n",
        "  - crossentroty: logaritmic metric from 0.99 (terrible) to 0 (too much perfect)=> https://machinelearningmastery.com/loss-and-loss-functions-for-training-deep-learning-neural-networks/\n"
      ]
    },
    {
      "cell_type": "code",
      "metadata": {
        "id": "2WmyRh5mzwJ5"
      },
      "source": [
        "lrr= ReduceLROnPlateau(monitor='accuracy', factor=.001, patience=3, min_lr=1e-4) # \"val_acc \" warning\n",
        "#https://keras.io/api/callbacks/early_stopping/\n",
        "#early_stopping = tf.keras.callbacks.EarlyStopping(monitor='val_loss', patience=10)"
      ],
      "execution_count": null,
      "outputs": []
    },
    {
      "cell_type": "code",
      "metadata": {
        "id": "4UGNYbAZyJAk"
      },
      "source": [
        "#Initializing the hyperparameters\n",
        "batch_size= 128\n",
        "epochs=200\n",
        "learn_rate=.01\n",
        "sgd=SGD(learning_rate=learn_rate,momentum=.9,nesterov=False)\n",
        "#adam=Adam(learning_rate=learn_rate, beta_1=0.9, beta_2=0.999, epsilon=None, decay=0.0, amsgrad=False)\n",
        "pre_trained_vgg16.compile(optimizer=sgd,loss='categorical_crossentropy',metrics=['accuracy'] )"
      ],
      "execution_count": null,
      "outputs": []
    },
    {
      "cell_type": "code",
      "metadata": {
        "id": "J4nHlAv2xpTB"
      },
      "source": [
        "#Training the model - al usar esta config no tengo un array de val_accuracy, val_loss https://stackoverflow.com/questions/55746382/why-val-loss-and-val-acc-are-not-displaying\n",
        "model_vgg16= pre_trained_vgg16.fit_generator(\n",
        "    train_generator.flow(x_train, y_train, batch_size= batch_size),\n",
        "    epochs = epochs, \n",
        "    validation_data = val_generator.flow(x_val, y_val, batch_size = batch_size), \n",
        "    steps_per_epoch = len(x_train)//batch_size , # to avoid running out of data error\n",
        "    validation_steps  = len(x_test)//batch_size, # to avoid running out of data error\n",
        "    callbacks=[lrr], \n",
        "    verbose = 1\n",
        "    )"
      ],
      "execution_count": null,
      "outputs": []
    },
    {
      "cell_type": "code",
      "metadata": {
        "id": "S1M62kGY6Eh2"
      },
      "source": [
        "#save model (before fit_generator)\n",
        "name = \"vgg16_20211010\"\n",
        "pre_trained_vgg16.save(output_folder+name+\".h5\")"
      ],
      "execution_count": null,
      "outputs": []
    },
    {
      "cell_type": "code",
      "metadata": {
        "id": "Lvx7XQdbxi2j"
      },
      "source": [
        "#Plotting the training and validation loss and accuracy\n",
        "f,ax=plt.subplots(2,1) \n",
        "\n",
        "#Loss\n",
        "ax[0].plot(np.arange(0, epochs), model_vgg16.history[\"loss\"], label=\"train_loss\")\n",
        "ax[0].plot(np.arange(0, epochs), model_vgg16.history[\"val_loss\"], label=\"val_loss\")\n",
        "ax[0].legend()\n",
        "plt.xlabel(\"Epoch #\")\n",
        "plt.ylabel(\"Loss/Accuracy\")\n",
        "#Accuracy\n",
        "ax[1].plot(np.arange(0, epochs), model_vgg16.history[\"accuracy\"], label=\"train_acc\")\n",
        "ax[1].plot(np.arange(0, epochs), model_vgg16.history[\"val_accuracy\"], label=\"val_acc\")\n",
        "ax[1].legend()\n",
        "plt.xlabel(\"Epochs    #\"+\"-- \"+name+\"--\")\n",
        "plt.ylabel(\"Loss/Accuracy\")"
      ],
      "execution_count": null,
      "outputs": []
    },
    {
      "cell_type": "code",
      "metadata": {
        "id": "Opo2OaQCxi5X"
      },
      "source": [
        "#Evaluatin\n",
        "print(\"[INFO]: Model godness...\")\n",
        "y_pred = pre_trained_vgg16.predict(x_test, batch_size=128)\n",
        "y_true=np.argmax(y_test,axis=1)\n",
        "print(classification_report(y_test.argmax(axis=1), y_pred.argmax(axis=1), target_names = classes_list ))"
      ],
      "execution_count": null,
      "outputs": []
    },
    {
      "cell_type": "code",
      "metadata": {
        "id": "sZk5jk6BsPGA"
      },
      "source": [
        "# no incluyo el top (las últimas capas dense, que añado al final)\n",
        "base_model_vgg16 = VGG16(include_top=False, weights='imagenet', input_shape=(128, 128, 3), classes = y_train.shape[1], classifier_activation='softmax')\n",
        "pre_trained_vgg16 = Sequential() # to add more stuff\n",
        "\n",
        "'''\n",
        "antes lo añadía todo menos la última capa, pero como estamos trabajando sin el top model, no es necesario, las 2 últimas capas no están\n",
        "(base model acaba en block5_pool (MaxPooling2D) )\n",
        "'''\n",
        "for layer in base_model_vgg16.layers:#[:-1]: # not loading the last layer\n",
        "    pre_trained_vgg16.add(layer)    \n",
        "\n",
        "# Freeze the layers \n",
        "for layer in pre_trained_vgg16.layers:\n",
        "    layer.trainable = False\n",
        "\n",
        "# before the final layer has the shape (None, 8, 8, 5). I do need (0, 5)\n",
        "pre_trained_vgg16.add(Flatten())\n",
        "\n",
        "# emulating vgg16 architecture (but we'll train on this layers)\n",
        "pre_trained_vgg16.add(Dense(4096,activation=('relu')))\n",
        "pre_trained_vgg16.add(Dense(4096,activation=('relu'))) \n",
        "pre_trained_vgg16.add(Dense(5,activation=('softmax'))) \n",
        "pre_trained_vgg16.summary()\n",
        "print(len(pre_trained_vgg16.layers))"
      ],
      "execution_count": null,
      "outputs": []
    },
    {
      "cell_type": "markdown",
      "metadata": {
        "id": "bZ9bjZIUmrNY"
      },
      "source": [
        "# VGG19"
      ]
    },
    {
      "cell_type": "code",
      "metadata": {
        "id": "crCgixP6aJgG"
      },
      "source": [
        "from keras.callbacks import ReduceLROnPlateau\n",
        "from tensorflow.keras.optimizers import SGD#, Adam"
      ],
      "execution_count": null,
      "outputs": []
    },
    {
      "cell_type": "code",
      "metadata": {
        "id": "fRU1KdUAXxou"
      },
      "source": [
        "# test = VGG19(include_top = True)\n",
        "# test.summary()"
      ],
      "execution_count": null,
      "outputs": []
    },
    {
      "cell_type": "code",
      "metadata": {
        "id": "PXYrLOFFa3iX"
      },
      "source": [
        "# no incluyo el top (las últimas capas dense, que añado al final)\n",
        "base_model_vgg19 = VGG19(include_top=False, weights='imagenet', input_shape=(128, 128, 3), classes = y_train.shape[1], classifier_activation='softmax')\n",
        "pre_trained_vgg19 = Sequential() # to add more stuff\n",
        "\n",
        "for layer in base_model_vgg19.layers:\n",
        "    pre_trained_vgg19.add(layer)    \n",
        "\n",
        "# Freeze the layers \n",
        "for layer in pre_trained_vgg16.layers:\n",
        "    layer.trainable = False\n",
        "\n",
        "# before the final layer has the shape (None, 8, 8, 5). I do need (0, 5)\n",
        "pre_trained_vgg19.add(Flatten())\n",
        "\n",
        "# emulating vgg16 architecture (but we'll train on this layers)\n",
        "pre_trained_vgg19.add(Dense(4096,activation=('relu')))\n",
        "pre_trained_vgg19.add(Dense(4096,activation=('relu'))) \n",
        "pre_trained_vgg19.add(Dense(5,activation=('softmax'))) \n",
        "pre_trained_vgg19.summary()\n",
        "print(len(pre_trained_vgg16.layers))"
      ],
      "execution_count": null,
      "outputs": []
    },
    {
      "cell_type": "code",
      "metadata": {
        "id": "4aEUZWSZYzIf"
      },
      "source": [
        "lrr= ReduceLROnPlateau(monitor='accuracy', factor=.001, patience=3, min_lr=1e-4) # \"val_acc \" warning\n",
        "#https://keras.io/api/callbacks/early_stopping/\n",
        "#early_stopping = tf.keras.callbacks.EarlyStopping(monitor='val_loss', patience=10)"
      ],
      "execution_count": null,
      "outputs": []
    },
    {
      "cell_type": "code",
      "metadata": {
        "id": "Fks27OUXYzVb"
      },
      "source": [
        "#Initializing the hyperparameters\n",
        "batch_size= 128\n",
        "epochs=200\n",
        "learn_rate=.01\n",
        "sgd=SGD(learning_rate=learn_rate,momentum=.9,nesterov=False)\n",
        "#adam=Adam(learning_rate=learn_rate, beta_1=0.9, beta_2=0.999, epsilon=None, decay=0.0, amsgrad=False)\n",
        "pre_trained_vgg19.compile(optimizer=sgd,loss='categorical_crossentropy',metrics=['accuracy'] )"
      ],
      "execution_count": null,
      "outputs": []
    },
    {
      "cell_type": "code",
      "metadata": {
        "id": "uPEGKcVaYzYo"
      },
      "source": [
        "#Training the model - al usar esta config no tengo un array de val_accuracy, val_loss https://stackoverflow.com/questions/55746382/why-val-loss-and-val-acc-are-not-displaying\n",
        "model_vgg19= pre_trained_vgg19.fit_generator(\n",
        "    train_generator.flow(x_train, y_train, batch_size= batch_size),\n",
        "    epochs = epochs, \n",
        "    validation_data = val_generator.flow(x_val, y_val, batch_size = batch_size), \n",
        "    steps_per_epoch = len(x_train)//batch_size , # to avoid running out of data error\n",
        "    validation_steps  = len(x_test)//batch_size, # to avoid running out of data error\n",
        "    callbacks=[lrr], \n",
        "    verbose = 1\n",
        "    )"
      ],
      "execution_count": null,
      "outputs": []
    },
    {
      "cell_type": "code",
      "metadata": {
        "id": "WEj-Qt0MLbTM"
      },
      "source": [
        "#save model (before fit_generator)\n",
        "name = \"vgg19_20211107\"\n",
        "pre_trained_vgg16.save(output_folder+name+\".h5\")"
      ],
      "execution_count": null,
      "outputs": []
    },
    {
      "cell_type": "code",
      "metadata": {
        "id": "S_OD-bDeN4MY"
      },
      "source": [
        "#Plotting the training and validation loss and accuracy\n",
        "f,ax=plt.subplots(2,1) \n",
        "\n",
        "#Loss\n",
        "ax[0].plot(np.arange(0, epochs), model_vgg19.history[\"loss\"], label=\"train_loss\")\n",
        "ax[0].plot(np.arange(0, epochs), model_vgg19.history[\"val_loss\"], label=\"val_loss\")\n",
        "ax[0].legend()\n",
        "plt.xlabel(\"Epoch #\")\n",
        "plt.ylabel(\"Loss/Accuracy\")\n",
        "#Accuracy\n",
        "ax[1].plot(np.arange(0, epochs), model_vgg19.history[\"accuracy\"], label=\"train_acc\")\n",
        "ax[1].plot(np.arange(0, epochs), model_vgg19.history[\"val_accuracy\"], label=\"val_acc\")\n",
        "ax[1].legend()\n",
        "plt.xlabel(\"Epochs    #\"+\"-- \"+name+\"--\")\n",
        "plt.ylabel(\"Loss/Accuracy\")"
      ],
      "execution_count": null,
      "outputs": []
    },
    {
      "cell_type": "code",
      "metadata": {
        "id": "NP0Cox2iOQuh"
      },
      "source": [
        "#Evaluatin\n",
        "print(\"[INFO]: Model godness...\")\n",
        "y_pred = pre_trained_vgg19.predict(x_test, batch_size=128)\n",
        "y_true=np.argmax(y_test,axis=1)\n",
        "print(classification_report(y_test.argmax(axis=1), y_pred.argmax(axis=1), target_names = classes_list ))"
      ],
      "execution_count": null,
      "outputs": []
    },
    {
      "cell_type": "markdown",
      "metadata": {
        "id": "CR4xUbL8B3tu"
      },
      "source": [
        "------------------------------------\n",
        "\n",
        "# resnet50\n",
        "\n",
        "https://www.tensorflow.org/api_docs/python/tf/keras/applications/resnet50/ResNet50\n",
        "\n",
        "\n",
        "let's \n",
        "-  not loading the top model, create it and modify the last layer to have 5 neurons for our 5 classes (this is done loading all but last layer).\n",
        "- the difference between loading or not the mop model consists of 2 layers:\n",
        "  - avg_pool (GlobalAveragePooling2 (None, 2048)\n",
        "  - predictions (Dense)             (None, 1000) **-5 in our case because we have to infer 5 different classes-**\n",
        "  So we'll load it without the top model and later add this 2 layers.\n",
        "- freeze layers\n",
        "- Estaba teniendo problemas con establecer Sequential() con la resnet. antes lo hacía como la primera celda muteada y daba error. abajo me sale bien, no entiendo muy bien por qué todavía (otra forma de ordenar capas)"
      ]
    },
    {
      "cell_type": "code",
      "metadata": {
        "id": "uvB-WDqfaAUr"
      },
      "source": [
        "from tensorflow.keras.layers import GlobalAveragePooling2D\n",
        "from keras.callbacks import ReduceLROnPlateau\n",
        "from tensorflow.keras.optimizers import SGD#, Adam"
      ],
      "execution_count": null,
      "outputs": []
    },
    {
      "cell_type": "code",
      "metadata": {
        "id": "oGN9dfchDhit"
      },
      "source": [
        "# resnet50 = ResNet50()\n",
        "# resnet50.summary()\n",
        "\n",
        "# resnet50 = ResNet50(include_top=False, weights='imagenet', input_shape=(128, 128, 3), classes = y_train.shape[1], classifier_activation='softmax')\n",
        "# resnet50.summary()"
      ],
      "execution_count": null,
      "outputs": []
    },
    {
      "cell_type": "code",
      "metadata": {
        "id": "IAMqmszHFoDN"
      },
      "source": [
        "pre_trained_resnet50 = Sequential()\n",
        "# NOTE that this layer will be set below as NOT TRAINABLE, i.e., use it as is\n",
        "pre_trained_resnet50.add(ResNet50(include_top=False, weights='imagenet', input_shape=(128, 128, 3), classes = y_train.shape[1], classifier_activation='softmax'))\n",
        "\n",
        "# Freeze the layers \n",
        "for layer in pre_trained_resnet50.layers:\n",
        "    layer.trainable = False\n",
        "\n",
        "# https://keras.io/api/layers/pooling_layers/global_average_pooling2d/\n",
        "pre_trained_resnet50.add(GlobalAveragePooling2D())\n",
        "\n",
        "#añadimos el top model\n",
        "'''la última capa es la de 1000 neuronas y la estoy sustituyendo por la mía de 5'''\n",
        "#pre_trained_resnet50.add(Dense(1024,activation=('softmax'))) \n",
        "pre_trained_resnet50.add(Dense(5,activation=('softmax'))) \n",
        "pre_trained_resnet50.summary()"
      ],
      "execution_count": null,
      "outputs": []
    },
    {
      "cell_type": "markdown",
      "metadata": {
        "id": "RSe1j5R1B3t5"
      },
      "source": [
        "- training"
      ]
    },
    {
      "cell_type": "code",
      "metadata": {
        "id": "-3Gc2Q7jB3t6"
      },
      "source": [
        "lrr= ReduceLROnPlateau(monitor='accuracy', factor=.001, patience=3, min_lr=1e-4) # \"val_acc \" warning\n",
        "#https://keras.io/api/callbacks/early_stopping/\n",
        "#early_stopping = tf.keras.callbacks.EarlyStopping(monitor='val_loss', patience=10)"
      ],
      "execution_count": null,
      "outputs": []
    },
    {
      "cell_type": "code",
      "metadata": {
        "id": "8nq9NObbB3t7"
      },
      "source": [
        "#Initializing the hyperparameters\n",
        "batch_size= 128\n",
        "epochs=200\n",
        "learn_rate=.01\n",
        "sgd=SGD(learning_rate=learn_rate,momentum=.9,nesterov=False)\n",
        "#adam=Adam(learning_rate=learn_rate, beta_1=0.9, beta_2=0.999, epsilon=None, decay=0.0, amsgrad=False)\n",
        "pre_trained_resnet50.compile(optimizer=sgd,loss='categorical_crossentropy',metrics=['accuracy'] )"
      ],
      "execution_count": null,
      "outputs": []
    },
    {
      "cell_type": "code",
      "metadata": {
        "id": "j-MJSVILB3t7"
      },
      "source": [
        "#Training the model - al usar esta config no tengo un array de val_accuracy, val_loss https://stackoverflow.com/questions/55746382/why-val-loss-and-val-acc-are-not-displaying\n",
        "\n",
        "model_resnet50= pre_trained_resnet50.fit_generator(\n",
        "    train_generator.flow(x_train, y_train, batch_size= batch_size),\n",
        "    epochs = epochs, \n",
        "    validation_data = val_generator.flow(x_val, y_val, batch_size = batch_size), \n",
        "    steps_per_epoch = len(x_train)//batch_size , # to avoid running out of data error\n",
        "    validation_steps  = len(x_test)//batch_size, # to avoid running out of data error\n",
        "    callbacks=[lrr], \n",
        "    verbose = 1\n",
        "    )"
      ],
      "execution_count": null,
      "outputs": []
    },
    {
      "cell_type": "code",
      "metadata": {
        "id": "uG082HnVB3t8"
      },
      "source": [
        "#save model (before fit_generator)\n",
        "pre_trained_resnet50.save(output_folder+\"resnet50-2021-11-06.h5\")"
      ],
      "execution_count": null,
      "outputs": []
    },
    {
      "cell_type": "code",
      "metadata": {
        "id": "CZqqHtKcB3t-"
      },
      "source": [
        "#Plotting the training and validation loss and accuracy\n",
        "f,ax=plt.subplots(2,1) \n",
        "\n",
        "#Loss\n",
        "ax[0].plot(np.arange(0, epochs), model_resnet50.history[\"loss\"], label=\"train_loss\")\n",
        "ax[0].plot(np.arange(0, epochs), model_resnet50.history[\"val_loss\"], label=\"val_loss\")\n",
        "ax[0].legend()\n",
        "plt.xlabel(\"Epoch #\")\n",
        "plt.ylabel(\"Loss/Accuracy\")\n",
        "#Accuracy\n",
        "ax[1].plot(np.arange(0, epochs), model_resnet50.history[\"accuracy\"], label=\"train_acc\")\n",
        "ax[1].plot(np.arange(0, epochs), model_resnet50.history[\"val_accuracy\"], label=\"val_acc\")\n",
        "ax[1].legend()\n",
        "#plt.legend()\n",
        "#plt.title(\"Training Loss and Accuracy\")\n",
        "plt.xlabel(\"Epoch #\")\n",
        "plt.ylabel(\"Loss/Accuracy\")"
      ],
      "execution_count": null,
      "outputs": []
    },
    {
      "cell_type": "code",
      "metadata": {
        "id": "g8LQg9XqB3t_"
      },
      "source": [
        "#Evaluatin\n",
        "print(\"[INFO]: Model godness...\")\n",
        "y_pred = pre_trained_resnet50.predict(x_test, batch_size=128)\n",
        "y_true=np.argmax(y_test,axis=1)\n",
        "print(classification_report(y_test.argmax(axis=1), y_pred.argmax(axis=1), target_names = classes_list ))"
      ],
      "execution_count": null,
      "outputs": []
    }
  ]
}