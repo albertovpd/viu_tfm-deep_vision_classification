{
  "nbformat": 4,
  "nbformat_minor": 0,
  "metadata": {
    "accelerator": "GPU",
    "colab": {
      "name": "TFM-real_state-deep_vision.ipynb",
      "provenance": [],
      "collapsed_sections": [
        "7HjH6u9a_StU",
        "bZ9bjZIUmrNY",
        "CR4xUbL8B3tu"
      ]
    },
    "kernelspec": {
      "display_name": "Python 3",
      "name": "python3"
    },
    "language_info": {
      "name": "python"
    }
  },
  "cells": [
    {
      "cell_type": "markdown",
      "metadata": {
        "id": "hDYS919NYJnS"
      },
      "source": [
        "# TFM. Deep Visin applied to Real state.\n",
        "\n",
        "https://docs.google.com/document/d/1z8G_THiNSHe14UcoJhIIcJL4NLlCuOiVTu6yvla37qo/edit#d\n"
      ]
    },
    {
      "cell_type": "code",
      "metadata": {
        "colab": {
          "base_uri": "https://localhost:8080/"
        },
        "id": "lnTgtRXyFgQf",
        "outputId": "0b9135fc-b01b-4517-f3e9-80798746124b"
      },
      "source": [
        "# google stuff\n",
        "from google.colab import drive\n",
        "drive.mount('/content/drive/', force_remount=True)"
      ],
      "execution_count": 4,
      "outputs": [
        {
          "output_type": "stream",
          "name": "stdout",
          "text": [
            "Mounted at /content/drive/\n"
          ]
        }
      ]
    },
    {
      "cell_type": "code",
      "metadata": {
        "id": "X-OjRNxnu-lo",
        "colab": {
          "base_uri": "https://localhost:8080/"
        },
        "outputId": "f07f8fd7-013b-4c10-ec10-22b01cd024ad"
      },
      "source": [
        "%tensorflow_version 2.x\n",
        "import tensorflow as tf\n",
        "device_name = tf.test.gpu_device_name()\n",
        "if device_name != '/device:GPU:0':\n",
        "  raise SystemError('GPU device not found')\n",
        "print('Found GPU at: {}'.format(device_name))"
      ],
      "execution_count": 5,
      "outputs": [
        {
          "output_type": "stream",
          "name": "stdout",
          "text": [
            "Found GPU at: /device:GPU:0\n"
          ]
        }
      ]
    },
    {
      "cell_type": "markdown",
      "metadata": {
        "id": "4VR2oTMsT5R5"
      },
      "source": [
        "- libraries"
      ]
    },
    {
      "cell_type": "code",
      "metadata": {
        "id": "NAI9T4pWTfME"
      },
      "source": [
        "%tensorflow_version 2.x\n",
        "from sklearn.model_selection import train_test_split\n",
        "from sklearn.preprocessing import LabelBinarizer\n",
        "\n",
        "import tensorflow as tf\n",
        "from tensorflow.keras.applications import imagenet_utils\n",
        "from tensorflow.keras.preprocessing.image import ImageDataGenerator\n",
        "\n",
        "# architecture \n",
        "# from tensorflow.keras.models import Sequential\n",
        "# from tensorflow.keras import layers\n",
        "#from keras.layers import GlobalMaxPooling2D,GlobalAveragePooling2D\n",
        "from tensorflow.keras import Model\n",
        "\n",
        "# metrics\n",
        "from sklearn.metrics import confusion_matrix\n",
        "from sklearn.metrics import classification_report\n",
        "\n",
        "\n",
        "# optimization\n",
        "from tensorflow.keras.optimizers import Adam\n",
        "from keras import regularizers\n",
        "#from tensorflow.keras.layers import Input, Conv2D, Dense, Dropout, BatchNormalization, MaxPooling2D, Flatten, ZeroPadding2D\n",
        "from tensorflow.keras.regularizers import l1_l2, l2\n",
        "\n",
        "# pre-trained models\n",
        "#from tensorflow.keras.applications import VGG16, ResNet50, VGG19\n",
        "\n",
        "import os\n",
        "import pickle\n",
        "import tarfile\n",
        "\n",
        "# counting classes with library\n",
        "from collections import Counter\n",
        "\n",
        "# viz & arrays\n",
        "import numpy as np\n",
        "import pandas as pd\n",
        "import matplotlib.pyplot as plt\n",
        "import matplotlib.image as mpimg\n",
        "%matplotlib inline"
      ],
      "execution_count": 6,
      "outputs": []
    },
    {
      "cell_type": "markdown",
      "metadata": {
        "id": "3_vhk7DsTuS-"
      },
      "source": [
        "- base directory"
      ]
    },
    {
      "cell_type": "code",
      "metadata": {
        "colab": {
          "base_uri": "https://localhost:8080/"
        },
        "id": "GNqmOv5jUtLN",
        "outputId": "4207f5a6-40ab-460f-8b5d-e0d0cbf5fbbf"
      },
      "source": [
        "!ls \"/content/drive/My Drive/2-Estudios/viu-master_ai/tfm-deep_vision/\""
      ],
      "execution_count": 7,
      "outputs": [
        {
          "output_type": "stream",
          "name": "stdout",
          "text": [
            " AlbertoVargas-sistema_clasificacion_viviendas_imagenes.gslides\n",
            "'Dudas y seguimiento TFM.gdoc'\n",
            " input\n",
            " output\n",
            "'performance of NN.gdoc'\n",
            " src\n"
          ]
        }
      ]
    },
    {
      "cell_type": "code",
      "metadata": {
        "id": "nJakVe6hTvc7"
      },
      "source": [
        "base_folder = \"/content/drive/My Drive/2-Estudios/viu-master_ai/tfm-deep_vision/\"\n",
        "input_folder = base_folder+\"input/\"\n",
        "src_folder =  base_folder+\"src/\"\n",
        "output_folder = base_folder + \"/output/\""
      ],
      "execution_count": 8,
      "outputs": []
    },
    {
      "cell_type": "markdown",
      "metadata": {
        "id": "AhT4ucStG1Oy"
      },
      "source": [
        "- functions"
      ]
    },
    {
      "cell_type": "code",
      "metadata": {
        "id": "-HbqBwIc-Ust"
      },
      "source": [
        "# insert the directory\n",
        "import sys\n",
        "sys.path.insert(0,\"/content/drive/My Drive/2-Estudios/viu-master_ai/tfm-deep_vision/src/\")"
      ],
      "execution_count": 9,
      "outputs": []
    },
    {
      "cell_type": "code",
      "metadata": {
        "id": "vY2L-r1j9jex"
      },
      "source": [
        "from tensorflow.keras.layers import GlobalAveragePooling2D\n",
        "from keras.callbacks import ReduceLROnPlateau\n",
        "from tensorflow.keras.optimizers import SGD#, Adam\n",
        "\n",
        "from my_functions import freezing_layers, vgg16_19_conf, resnet50_conf, nn_parameters, plotting_model, generic_last_2layers\n",
        "from datetime import datetime"
      ],
      "execution_count": 10,
      "outputs": []
    },
    {
      "cell_type": "markdown",
      "metadata": {
        "id": "rv82I6XgW4Xr"
      },
      "source": [
        "# load pickling data allocated in Drive"
      ]
    },
    {
      "cell_type": "code",
      "metadata": {
        "id": "I_-1T12qUwbw"
      },
      "source": [
        "with open(input_folder+\"pickle_all_images_df.pickle\", \"rb\") as input_file:\n",
        "    data_x = pickle.load(input_file)\n",
        "with open(input_folder+\"pickle_all_classes.pickle\", \"rb\") as input_file:\n",
        "    data_y = pickle.load(input_file)"
      ],
      "execution_count": 11,
      "outputs": []
    },
    {
      "cell_type": "markdown",
      "metadata": {
        "id": "jvtNMgL5XNvJ"
      },
      "source": [
        "- some preview"
      ]
    },
    {
      "cell_type": "code",
      "metadata": {
        "colab": {
          "base_uri": "https://localhost:8080/"
        },
        "id": "TK9hZmmvnhuk",
        "outputId": "17a3731e-d2b6-4685-ce58-58231eac0597"
      },
      "source": [
        "print(Counter(data_y))"
      ],
      "execution_count": 12,
      "outputs": [
        {
          "output_type": "stream",
          "name": "stdout",
          "text": [
            "Counter({'Livingroom': 1273, 'Bedroom': 1248, 'Dinning': 1158, 'Kitchen': 965, 'Bathroom': 606})\n"
          ]
        }
      ]
    },
    {
      "cell_type": "code",
      "metadata": {
        "id": "h0sqnwHXzYPG"
      },
      "source": [
        "classes_list = list(Counter(data_y).keys())"
      ],
      "execution_count": 13,
      "outputs": []
    },
    {
      "cell_type": "markdown",
      "metadata": {
        "id": "z2mFBMbcnwYK"
      },
      "source": [
        "- i'll have to deal with this unbalanced classes later. \n",
        "- let's begin with the simplest stuff first"
      ]
    },
    {
      "cell_type": "code",
      "metadata": {
        "colab": {
          "base_uri": "https://localhost:8080/"
        },
        "id": "NPSuYmXIXEOf",
        "outputId": "c767cf65-bec7-4676-9000-1067a3c7fc83"
      },
      "source": [
        "print(\"pics shape: \",data_x.shape,\n",
        "      \"\\nnumber of classes: \", len(set(data_y))\n",
        "      )"
      ],
      "execution_count": 14,
      "outputs": [
        {
          "output_type": "stream",
          "name": "stdout",
          "text": [
            "pics shape:  (5250, 128, 128, 3) \n",
            "number of classes:  5\n"
          ]
        }
      ]
    },
    {
      "cell_type": "code",
      "metadata": {
        "colab": {
          "base_uri": "https://localhost:8080/",
          "height": 285
        },
        "id": "gVaTkKsTXPy8",
        "outputId": "299ff315-0419-4e0f-94ab-6a58fafb411d"
      },
      "source": [
        "# # showing some stuff \n",
        "print(data_y[42])\n",
        "imgplot = plt.imshow(data_x[42])\n",
        "plt.show()"
      ],
      "execution_count": 15,
      "outputs": [
        {
          "output_type": "stream",
          "name": "stdout",
          "text": [
            "Dinning\n"
          ]
        },
        {
          "output_type": "display_data",
          "data": {
            "image/png": "[encoded data removed]",
            "text/plain": [
              "<Figure size 432x288 with 1 Axes>"
            ]
          },
          "metadata": {
            "needs_background": "light"
          }
        }
      ]
    },
    {
      "cell_type": "markdown",
      "metadata": {
        "id": "11MeRxdDq2dE"
      },
      "source": [
        "- transforming y-label into numeric"
      ]
    },
    {
      "cell_type": "code",
      "metadata": {
        "id": "wPDqUdWYqT8b"
      },
      "source": [
        "# transforming labels into numeric\n",
        "y = np.unique(data_y)\n",
        "mapping = { key : value for key,value in zip(y,range(len(y)))}\n",
        "data_y_num = np.array([mapping[i] for i in data_y])"
      ],
      "execution_count": 16,
      "outputs": []
    },
    {
      "cell_type": "code",
      "metadata": {
        "id": "2xa6_PfLq9VF",
        "colab": {
          "base_uri": "https://localhost:8080/"
        },
        "outputId": "e972ea22-9088-4b95-ddcc-9fad3d48c8f0"
      },
      "source": [
        "test_size_1st_split = 0.3\n",
        "test_size_2nd_split= 0.5\n",
        "\n",
        "x_train, x_test, y_train, y_test = train_test_split(data_x, data_y_num, test_size=test_size_1st_split)\n",
        "x_val, x_test, y_val, y_test = train_test_split(x_test, y_test, test_size=test_size_2nd_split) \n",
        "allx= len(data_x)\n",
        "print(round(len(x_train)/allx,2), round(len(x_val)/allx,2), round(len(x_test)/allx,2))\n",
        "del data_y\n",
        "del data_x\n",
        "\n",
        "#One-hot encoding\n",
        "lb = LabelBinarizer()\n",
        "y_train = lb.fit_transform(y_train)\n",
        "y_test = lb.transform(y_test)\n",
        "y_val = lb.transform(y_val)"
      ],
      "execution_count": 17,
      "outputs": [
        {
          "output_type": "stream",
          "name": "stdout",
          "text": [
            "0.7 0.15 0.15\n"
          ]
        }
      ]
    },
    {
      "cell_type": "code",
      "metadata": {
        "colab": {
          "base_uri": "https://localhost:8080/"
        },
        "id": "y0F2d57AstAI",
        "outputId": "f2695d07-703c-4773-d67b-baaceb15709a"
      },
      "source": [
        "print(\"train:  \", x_train.shape, y_train.shape,\n",
        "      \"\\ntest: \", x_test.shape,y_test.shape,\n",
        "      \"\\nval:  \", x_val.shape, y_val.shape)"
      ],
      "execution_count": 18,
      "outputs": [
        {
          "output_type": "stream",
          "name": "stdout",
          "text": [
            "train:   (3675, 128, 128, 3) (3675, 5) \n",
            "test:  (788, 128, 128, 3) (788, 5) \n",
            "val:   (787, 128, 128, 3) (787, 5)\n"
          ]
        }
      ]
    },
    {
      "cell_type": "code",
      "metadata": {
        "id": "vVbXD-Pqy84G"
      },
      "source": [
        "#Data Augmentation first\n",
        "# antes sólo rotation_angle=2, horizontal_flip=True, zoom_range=.1\n",
        "train_generator = ImageDataGenerator(rotation_range=2, shear_range=0.2, vertical_flip=True, horizontal_flip=True, zoom_range=.1)\n",
        "val_generator = ImageDataGenerator(rotation_range=2, shear_range=0.2, vertical_flip=True, horizontal_flip=True, zoom_range=.1)\n",
        "test_generator = ImageDataGenerator(rotation_range=2, shear_range=0.2, vertical_flip=True, horizontal_flip= True, zoom_range=.1)\n",
        "\n",
        "#Fitting the augmentation defined above to the data\n",
        "train_generator.fit(x_train)\n",
        "val_generator.fit(x_val)\n",
        "test_generator.fit(x_test)"
      ],
      "execution_count": 19,
      "outputs": []
    },
    {
      "cell_type": "markdown",
      "metadata": {
        "id": "bx7M6SlddHFN"
      },
      "source": [
        "# entrenar todos los modelos  con una misma configuración"
      ]
    },
    {
      "cell_type": "code",
      "metadata": {
        "id": "3kTprzeOYU3C"
      },
      "source": [
        "#Initializing the hyperparameters\n",
        "batch_size= 128\n",
        "epochs=200\n",
        "#sgd=SGD(learning_rate=.01,momentum=.9,nesterov=False)\n",
        "#sgd=Adam(learning_rate=.01, beta_1=0.9, beta_2=0.999, epsilon=None, decay=0.0, amsgrad=False)\n",
        "loss_type='categorical_crossentropy'"
      ],
      "execution_count": 26,
      "outputs": []
    },
    {
      "cell_type": "code",
      "metadata": {
        "id": "T3V739AFt0me"
      },
      "source": [
        "from tensorflow.keras.applications import Xception, InceptionResNetV2, DenseNet121"
      ],
      "execution_count": 21,
      "outputs": []
    },
    {
      "cell_type": "code",
      "metadata": {
        "id": "LyuFGjiNI35e",
        "colab": {
          "base_uri": "https://localhost:8080/"
        },
        "outputId": "ca096166-171b-4beb-ded9-3330242ae2f4"
      },
      "source": [
        "pre_trained_vgg16 = vgg16_19_conf(\"vgg16\",5, True, 0.2, y_train)\n",
        "pre_trained_vgg19 = vgg16_19_conf(\"vgg16\",5, True, 0.2, y_train)\n",
        "pre_trained_resnet50 = resnet50_conf(5, True, 0.2, y_train)\n",
        "\n",
        "pre_trained_xception= generic_last_2layers(\n",
        "    Xception(include_top=False, weights='imagenet', input_shape=(128, 128, 3), classes = y_train.shape[1], classifier_activation='softmax'),\n",
        "    5, False, 0.2, y_train)\n",
        "\n",
        "pre_trained_xception_drop= generic_last_2layers(\n",
        "    Xception(include_top=False, weights='imagenet', input_shape=(128, 128, 3), classes = y_train.shape[1], classifier_activation='softmax'),\n",
        "    5, True, 0.2, y_train)\n",
        "\n",
        "pre_trained_inception= generic_last_2layers(\n",
        "    InceptionResNetV2(include_top=False, weights='imagenet', input_shape=(128, 128, 3), classes = y_train.shape[1], classifier_activation='softmax'),\n",
        "    5, False, 0.2, y_train)\n",
        "\n",
        "pre_trained_inception_drop= generic_last_2layers(\n",
        "    InceptionResNetV2(include_top=False, weights='imagenet', input_shape=(128, 128, 3), classes = y_train.shape[1], classifier_activation='softmax'),\n",
        "    5, True, 0.2, y_train\n",
        "    )\n",
        "# pre_trained_densenet= generic_last_2layers(\n",
        "#     DenseNet121(include_top=False, weights='imagenet', input_shape=(128, 128, 3), classes = y_train.shape[1], classifier_activation='softmax'),\n",
        "#     5, False, 0.2, y_train\n",
        "#     )\n",
        "# pre_trained_densenet_drop= generic_last_2layers(\n",
        "#     DenseNet121(include_top=False, weights='imagenet', input_shape=(128, 128, 3), classes = y_train.shape[1], classifier_activation='softmax'),\n",
        "#     5, True, 0.2, y_train\n",
        "#     )\n",
        "\n",
        "models = [#pre_trained_vgg16, \n",
        "          #pre_trained_vgg19, \n",
        "          #pre_trained_resnet50,\n",
        "          pre_trained_xception,\n",
        "          pre_trained_xception_drop,\n",
        "          pre_trained_inception,\n",
        "          pre_trained_inception_drop,\n",
        "          ]\n",
        "\n",
        "def naming_model(model):\n",
        "  '''gives a name to save it after training'''\n",
        "  if model== pre_trained_vgg16:\n",
        "    name = \"vgg16-\"+datetime.today().strftime('%Y-%m-%d-%H-%M-%S')\n",
        "  elif model == pre_trained_vgg19:\n",
        "    name = \"vgg19-\"+datetime.today().strftime('%Y-%m-%d-%H-%M-%S')\n",
        "  elif model == pre_trained_resnet50:\n",
        "    name = \"resnet50-\"+datetime.today().strftime('%Y-%m-%d-%H-%M-%S')   \n",
        "  elif model == pre_trained_xception:\n",
        "    name = \"xception-\"+datetime.today().strftime('%Y-%m-%d-%H-%M-%S')   \n",
        "  elif model == pre_trained_xception_drop:\n",
        "    name = \"xception_drop-\"+datetime.today().strftime('%Y-%m-%d-%H-%M-%S')   \n",
        "  elif model == pre_trained_inception:\n",
        "    name = \"InceptionResNetV2-\"+datetime.today().strftime('%Y-%m-%d-%H-%M-%S')   \n",
        "  elif model == pre_trained_inception_drop:\n",
        "    name = \"InceptionResNetV2_drop-\"+datetime.today().strftime('%Y-%m-%d-%H-%M-%S')   \n",
        "  return name"
      ],
      "execution_count": 22,
      "outputs": [
        {
          "output_type": "stream",
          "name": "stdout",
          "text": [
            "Downloading data from https://storage.googleapis.com/tensorflow/keras-applications/vgg16/vgg16_weights_tf_dim_ordering_tf_kernels_notop.h5\n",
            "58892288/58889256 [==============================] - 1s 0us/step\n",
            "58900480/58889256 [==============================] - 1s 0us/step\n",
            "Downloading data from https://storage.googleapis.com/tensorflow/keras-applications/resnet/resnet50_weights_tf_dim_ordering_tf_kernels_notop.h5\n",
            "94773248/94765736 [==============================] - 1s 0us/step\n",
            "94781440/94765736 [==============================] - 1s 0us/step\n",
            "Downloading data from https://storage.googleapis.com/tensorflow/keras-applications/xception/xception_weights_tf_dim_ordering_tf_kernels_notop.h5\n",
            "83689472/83683744 [==============================] - 2s 0us/step\n",
            "83697664/83683744 [==============================] - 2s 0us/step\n",
            "Downloading data from https://storage.googleapis.com/tensorflow/keras-applications/inception_resnet_v2/inception_resnet_v2_weights_tf_dim_ordering_tf_kernels_notop.h5\n",
            "219062272/219055592 [==============================] - 3s 0us/step\n",
            "219070464/219055592 [==============================] - 3s 0us/step\n"
          ]
        }
      ]
    },
    {
      "cell_type": "code",
      "metadata": {
        "colab": {
          "base_uri": "https://localhost:8080/",
          "height": 1000
        },
        "id": "S2OXcbjxeXvs",
        "outputId": "727a43d7-b2aa-4a09-adce-13187de38ddd"
      },
      "source": [
        "monitor = tf.keras.callbacks.EarlyStopping(monitor='val_loss', min_delta=1e-3,patience=10,mode='auto',verbose=1, restore_best_weights=True)\n",
        "#monitor= ReduceLROnPlateau(monitor='accuracy', factor=.001, patience=3, min_lr=1e-4) # \"val_acc \" warning\n",
        "\n",
        "for model in models:\n",
        "  \n",
        "  model.compile(optimizer = \"adam\", loss=loss_type ,metrics=['accuracy'])\n",
        "  model_result= model.fit_generator(\n",
        "    train_generator.flow(x_train, y_train, batch_size= batch_size),\n",
        "    epochs = epochs, \n",
        "    validation_data = val_generator.flow(x_val, y_val, batch_size = batch_size), \n",
        "    steps_per_epoch = len(x_train)//batch_size , # to avoid running out of data error\n",
        "    validation_steps  = len(x_test)//batch_size, # to avoid running out of data error\n",
        "    callbacks=[monitor], \n",
        "    verbose = 2\n",
        "    )\n",
        "  \n",
        "  number_of_epochs_it_ran = len(model_result.history['loss']) \n",
        "  name = naming_model(model)\n",
        "  model.save(output_folder+name+\".h5\")\n",
        "\n",
        "  plotting_model(model_result,number_of_epochs_it_ran, name)\n",
        "\n",
        "  #Evaluatin\n",
        "  print(\"[INFO]: Model godness...\")\n",
        "  y_pred = model.predict(x_test, batch_size=128)\n",
        "  y_true=np.argmax(y_test,axis=1)\n",
        "  print(\"epochs: \", number_of_epochs_it_ran, \"\\n\",\n",
        "      classification_report(y_test.argmax(axis=1), y_pred.argmax(axis=1), target_names = classes_list )\n",
        "      )"
      ],
      "execution_count": 27,
      "outputs": [
        {
          "output_type": "stream",
          "name": "stderr",
          "text": [
            "/usr/local/lib/python3.7/dist-packages/keras/engine/training.py:1972: UserWarning: `Model.fit_generator` is deprecated and will be removed in a future version. Please use `Model.fit`, which supports generators.\n",
            "  warnings.warn('`Model.fit_generator` is deprecated and '\n"
          ]
        },
        {
          "output_type": "stream",
          "name": "stdout",
          "text": [
            "Epoch 1/2\n",
            "28/28 - 25s - loss: 1.1324 - accuracy: 0.5413 - val_loss: 1.1543 - val_accuracy: 0.5273\n",
            "Epoch 2/2\n",
            "28/28 - 21s - loss: 1.0891 - accuracy: 0.5670 - val_loss: 1.1244 - val_accuracy: 0.5482\n"
          ]
        },
        {
          "output_type": "stream",
          "name": "stderr",
          "text": [
            "/usr/local/lib/python3.7/dist-packages/keras/utils/generic_utils.py:497: CustomMaskWarning: Custom mask layers require a config and must override get_config. When loading, the custom mask layer must be passed to the custom_objects argument.\n",
            "  category=CustomMaskWarning)\n"
          ]
        },
        {
          "output_type": "display_data",
          "data": {
            "image/png": "[encoded data removed]",
            "text/plain": [
              "<Figure size 432x288 with 2 Axes>"
            ]
          },
          "metadata": {
            "needs_background": "light"
          }
        },
        {
          "output_type": "stream",
          "name": "stdout",
          "text": [
            "[INFO]: Model godness...\n",
            "epochs:  2 \n",
            "               precision    recall  f1-score   support\n",
            "\n",
            "     Dinning       0.73      0.64      0.69        95\n",
            "     Bedroom       0.67      0.60      0.63       184\n",
            "  Livingroom       0.73      0.53      0.61       179\n",
            "     Kitchen       0.60      0.62      0.61       154\n",
            "    Bathroom       0.42      0.59      0.49       176\n",
            "\n",
            "    accuracy                           0.59       788\n",
            "   macro avg       0.63      0.60      0.61       788\n",
            "weighted avg       0.62      0.59      0.60       788\n",
            "\n"
          ]
        },
        {
          "output_type": "stream",
          "name": "stderr",
          "text": [
            "/usr/local/lib/python3.7/dist-packages/keras/engine/training.py:1972: UserWarning: `Model.fit_generator` is deprecated and will be removed in a future version. Please use `Model.fit`, which supports generators.\n",
            "  warnings.warn('`Model.fit_generator` is deprecated and '\n"
          ]
        },
        {
          "output_type": "stream",
          "name": "stdout",
          "text": [
            "Epoch 1/2\n"
          ]
        },
        {
          "output_type": "error",
          "ename": "KeyboardInterrupt",
          "evalue": "ignored",
          "traceback": [
            "\u001b[0;31m---------------------------------------------------------------------------\u001b[0m",
            "\u001b[0;31mKeyboardInterrupt\u001b[0m                         Traceback (most recent call last)",
            "\u001b[0;32m<ipython-input-27-c4a8a00ccec0>\u001b[0m in \u001b[0;36m<module>\u001b[0;34m()\u001b[0m\n\u001b[1;32m     12\u001b[0m     \u001b[0mvalidation_steps\u001b[0m  \u001b[0;34m=\u001b[0m \u001b[0mlen\u001b[0m\u001b[0;34m(\u001b[0m\u001b[0mx_test\u001b[0m\u001b[0;34m)\u001b[0m\u001b[0;34m//\u001b[0m\u001b[0mbatch_size\u001b[0m\u001b[0;34m,\u001b[0m \u001b[0;31m# to avoid running out of data error\u001b[0m\u001b[0;34m\u001b[0m\u001b[0;34m\u001b[0m\u001b[0m\n\u001b[1;32m     13\u001b[0m     \u001b[0mcallbacks\u001b[0m\u001b[0;34m=\u001b[0m\u001b[0;34m[\u001b[0m\u001b[0mmonitor\u001b[0m\u001b[0;34m]\u001b[0m\u001b[0;34m,\u001b[0m\u001b[0;34m\u001b[0m\u001b[0;34m\u001b[0m\u001b[0m\n\u001b[0;32m---> 14\u001b[0;31m     \u001b[0mverbose\u001b[0m \u001b[0;34m=\u001b[0m \u001b[0;36m2\u001b[0m\u001b[0;34m\u001b[0m\u001b[0;34m\u001b[0m\u001b[0m\n\u001b[0m\u001b[1;32m     15\u001b[0m     )\n\u001b[1;32m     16\u001b[0m \u001b[0;34m\u001b[0m\u001b[0m\n",
            "\u001b[0;32m/usr/local/lib/python3.7/dist-packages/keras/engine/training.py\u001b[0m in \u001b[0;36mfit_generator\u001b[0;34m(self, generator, steps_per_epoch, epochs, verbose, callbacks, validation_data, validation_steps, validation_freq, class_weight, max_queue_size, workers, use_multiprocessing, shuffle, initial_epoch)\u001b[0m\n\u001b[1;32m   1987\u001b[0m         \u001b[0muse_multiprocessing\u001b[0m\u001b[0;34m=\u001b[0m\u001b[0muse_multiprocessing\u001b[0m\u001b[0;34m,\u001b[0m\u001b[0;34m\u001b[0m\u001b[0;34m\u001b[0m\u001b[0m\n\u001b[1;32m   1988\u001b[0m         \u001b[0mshuffle\u001b[0m\u001b[0;34m=\u001b[0m\u001b[0mshuffle\u001b[0m\u001b[0;34m,\u001b[0m\u001b[0;34m\u001b[0m\u001b[0;34m\u001b[0m\u001b[0m\n\u001b[0;32m-> 1989\u001b[0;31m         initial_epoch=initial_epoch)\n\u001b[0m\u001b[1;32m   1990\u001b[0m \u001b[0;34m\u001b[0m\u001b[0m\n\u001b[1;32m   1991\u001b[0m   \u001b[0;34m@\u001b[0m\u001b[0mdoc_controls\u001b[0m\u001b[0;34m.\u001b[0m\u001b[0mdo_not_generate_docs\u001b[0m\u001b[0;34m\u001b[0m\u001b[0;34m\u001b[0m\u001b[0m\n",
            "\u001b[0;32m/usr/local/lib/python3.7/dist-packages/keras/engine/training.py\u001b[0m in \u001b[0;36mfit\u001b[0;34m(self, x, y, batch_size, epochs, verbose, callbacks, validation_split, validation_data, shuffle, class_weight, sample_weight, initial_epoch, steps_per_epoch, validation_steps, validation_batch_size, validation_freq, max_queue_size, workers, use_multiprocessing)\u001b[0m\n\u001b[1;32m   1182\u001b[0m                 _r=1):\n\u001b[1;32m   1183\u001b[0m               \u001b[0mcallbacks\u001b[0m\u001b[0;34m.\u001b[0m\u001b[0mon_train_batch_begin\u001b[0m\u001b[0;34m(\u001b[0m\u001b[0mstep\u001b[0m\u001b[0;34m)\u001b[0m\u001b[0;34m\u001b[0m\u001b[0;34m\u001b[0m\u001b[0m\n\u001b[0;32m-> 1184\u001b[0;31m               \u001b[0mtmp_logs\u001b[0m \u001b[0;34m=\u001b[0m \u001b[0mself\u001b[0m\u001b[0;34m.\u001b[0m\u001b[0mtrain_function\u001b[0m\u001b[0;34m(\u001b[0m\u001b[0miterator\u001b[0m\u001b[0;34m)\u001b[0m\u001b[0;34m\u001b[0m\u001b[0;34m\u001b[0m\u001b[0m\n\u001b[0m\u001b[1;32m   1185\u001b[0m               \u001b[0;32mif\u001b[0m \u001b[0mdata_handler\u001b[0m\u001b[0;34m.\u001b[0m\u001b[0mshould_sync\u001b[0m\u001b[0;34m:\u001b[0m\u001b[0;34m\u001b[0m\u001b[0;34m\u001b[0m\u001b[0m\n\u001b[1;32m   1186\u001b[0m                 \u001b[0mcontext\u001b[0m\u001b[0;34m.\u001b[0m\u001b[0masync_wait\u001b[0m\u001b[0;34m(\u001b[0m\u001b[0;34m)\u001b[0m\u001b[0;34m\u001b[0m\u001b[0;34m\u001b[0m\u001b[0m\n",
            "\u001b[0;32m/usr/local/lib/python3.7/dist-packages/tensorflow/python/eager/def_function.py\u001b[0m in \u001b[0;36m__call__\u001b[0;34m(self, *args, **kwds)\u001b[0m\n\u001b[1;32m    883\u001b[0m \u001b[0;34m\u001b[0m\u001b[0m\n\u001b[1;32m    884\u001b[0m       \u001b[0;32mwith\u001b[0m \u001b[0mOptionalXlaContext\u001b[0m\u001b[0;34m(\u001b[0m\u001b[0mself\u001b[0m\u001b[0;34m.\u001b[0m\u001b[0m_jit_compile\u001b[0m\u001b[0;34m)\u001b[0m\u001b[0;34m:\u001b[0m\u001b[0;34m\u001b[0m\u001b[0;34m\u001b[0m\u001b[0m\n\u001b[0;32m--> 885\u001b[0;31m         \u001b[0mresult\u001b[0m \u001b[0;34m=\u001b[0m \u001b[0mself\u001b[0m\u001b[0;34m.\u001b[0m\u001b[0m_call\u001b[0m\u001b[0;34m(\u001b[0m\u001b[0;34m*\u001b[0m\u001b[0margs\u001b[0m\u001b[0;34m,\u001b[0m \u001b[0;34m**\u001b[0m\u001b[0mkwds\u001b[0m\u001b[0;34m)\u001b[0m\u001b[0;34m\u001b[0m\u001b[0;34m\u001b[0m\u001b[0m\n\u001b[0m\u001b[1;32m    886\u001b[0m \u001b[0;34m\u001b[0m\u001b[0m\n\u001b[1;32m    887\u001b[0m       \u001b[0mnew_tracing_count\u001b[0m \u001b[0;34m=\u001b[0m \u001b[0mself\u001b[0m\u001b[0;34m.\u001b[0m\u001b[0mexperimental_get_tracing_count\u001b[0m\u001b[0;34m(\u001b[0m\u001b[0;34m)\u001b[0m\u001b[0;34m\u001b[0m\u001b[0;34m\u001b[0m\u001b[0m\n",
            "\u001b[0;32m/usr/local/lib/python3.7/dist-packages/tensorflow/python/eager/def_function.py\u001b[0m in \u001b[0;36m_call\u001b[0;34m(self, *args, **kwds)\u001b[0m\n\u001b[1;32m    948\u001b[0m         \u001b[0;31m# Lifting succeeded, so variables are initialized and we can run the\u001b[0m\u001b[0;34m\u001b[0m\u001b[0;34m\u001b[0m\u001b[0;34m\u001b[0m\u001b[0m\n\u001b[1;32m    949\u001b[0m         \u001b[0;31m# stateless function.\u001b[0m\u001b[0;34m\u001b[0m\u001b[0;34m\u001b[0m\u001b[0;34m\u001b[0m\u001b[0m\n\u001b[0;32m--> 950\u001b[0;31m         \u001b[0;32mreturn\u001b[0m \u001b[0mself\u001b[0m\u001b[0;34m.\u001b[0m\u001b[0m_stateless_fn\u001b[0m\u001b[0;34m(\u001b[0m\u001b[0;34m*\u001b[0m\u001b[0margs\u001b[0m\u001b[0;34m,\u001b[0m \u001b[0;34m**\u001b[0m\u001b[0mkwds\u001b[0m\u001b[0;34m)\u001b[0m\u001b[0;34m\u001b[0m\u001b[0;34m\u001b[0m\u001b[0m\n\u001b[0m\u001b[1;32m    951\u001b[0m     \u001b[0;32melse\u001b[0m\u001b[0;34m:\u001b[0m\u001b[0;34m\u001b[0m\u001b[0;34m\u001b[0m\u001b[0m\n\u001b[1;32m    952\u001b[0m       \u001b[0m_\u001b[0m\u001b[0;34m,\u001b[0m \u001b[0m_\u001b[0m\u001b[0;34m,\u001b[0m \u001b[0m_\u001b[0m\u001b[0;34m,\u001b[0m \u001b[0mfiltered_flat_args\u001b[0m \u001b[0;34m=\u001b[0m\u001b[0;31m \u001b[0m\u001b[0;31m\\\u001b[0m\u001b[0;34m\u001b[0m\u001b[0;34m\u001b[0m\u001b[0m\n",
            "\u001b[0;32m/usr/local/lib/python3.7/dist-packages/tensorflow/python/eager/function.py\u001b[0m in \u001b[0;36m__call__\u001b[0;34m(self, *args, **kwargs)\u001b[0m\n\u001b[1;32m   3038\u001b[0m        filtered_flat_args) = self._maybe_define_function(args, kwargs)\n\u001b[1;32m   3039\u001b[0m     return graph_function._call_flat(\n\u001b[0;32m-> 3040\u001b[0;31m         filtered_flat_args, captured_inputs=graph_function.captured_inputs)  # pylint: disable=protected-access\n\u001b[0m\u001b[1;32m   3041\u001b[0m \u001b[0;34m\u001b[0m\u001b[0m\n\u001b[1;32m   3042\u001b[0m   \u001b[0;34m@\u001b[0m\u001b[0mproperty\u001b[0m\u001b[0;34m\u001b[0m\u001b[0;34m\u001b[0m\u001b[0m\n",
            "\u001b[0;32m/usr/local/lib/python3.7/dist-packages/tensorflow/python/eager/function.py\u001b[0m in \u001b[0;36m_call_flat\u001b[0;34m(self, args, captured_inputs, cancellation_manager)\u001b[0m\n\u001b[1;32m   1962\u001b[0m       \u001b[0;31m# No tape is watching; skip to running the function.\u001b[0m\u001b[0;34m\u001b[0m\u001b[0;34m\u001b[0m\u001b[0;34m\u001b[0m\u001b[0m\n\u001b[1;32m   1963\u001b[0m       return self._build_call_outputs(self._inference_function.call(\n\u001b[0;32m-> 1964\u001b[0;31m           ctx, args, cancellation_manager=cancellation_manager))\n\u001b[0m\u001b[1;32m   1965\u001b[0m     forward_backward = self._select_forward_and_backward_functions(\n\u001b[1;32m   1966\u001b[0m         \u001b[0margs\u001b[0m\u001b[0;34m,\u001b[0m\u001b[0;34m\u001b[0m\u001b[0;34m\u001b[0m\u001b[0m\n",
            "\u001b[0;32m/usr/local/lib/python3.7/dist-packages/tensorflow/python/eager/function.py\u001b[0m in \u001b[0;36mcall\u001b[0;34m(self, ctx, args, cancellation_manager)\u001b[0m\n\u001b[1;32m    594\u001b[0m               \u001b[0minputs\u001b[0m\u001b[0;34m=\u001b[0m\u001b[0margs\u001b[0m\u001b[0;34m,\u001b[0m\u001b[0;34m\u001b[0m\u001b[0;34m\u001b[0m\u001b[0m\n\u001b[1;32m    595\u001b[0m               \u001b[0mattrs\u001b[0m\u001b[0;34m=\u001b[0m\u001b[0mattrs\u001b[0m\u001b[0;34m,\u001b[0m\u001b[0;34m\u001b[0m\u001b[0;34m\u001b[0m\u001b[0m\n\u001b[0;32m--> 596\u001b[0;31m               ctx=ctx)\n\u001b[0m\u001b[1;32m    597\u001b[0m         \u001b[0;32melse\u001b[0m\u001b[0;34m:\u001b[0m\u001b[0;34m\u001b[0m\u001b[0;34m\u001b[0m\u001b[0m\n\u001b[1;32m    598\u001b[0m           outputs = execute.execute_with_cancellation(\n",
            "\u001b[0;32m/usr/local/lib/python3.7/dist-packages/tensorflow/python/eager/execute.py\u001b[0m in \u001b[0;36mquick_execute\u001b[0;34m(op_name, num_outputs, inputs, attrs, ctx, name)\u001b[0m\n\u001b[1;32m     58\u001b[0m     \u001b[0mctx\u001b[0m\u001b[0;34m.\u001b[0m\u001b[0mensure_initialized\u001b[0m\u001b[0;34m(\u001b[0m\u001b[0;34m)\u001b[0m\u001b[0;34m\u001b[0m\u001b[0;34m\u001b[0m\u001b[0m\n\u001b[1;32m     59\u001b[0m     tensors = pywrap_tfe.TFE_Py_Execute(ctx._handle, device_name, op_name,\n\u001b[0;32m---> 60\u001b[0;31m                                         inputs, attrs, num_outputs)\n\u001b[0m\u001b[1;32m     61\u001b[0m   \u001b[0;32mexcept\u001b[0m \u001b[0mcore\u001b[0m\u001b[0;34m.\u001b[0m\u001b[0m_NotOkStatusException\u001b[0m \u001b[0;32mas\u001b[0m \u001b[0me\u001b[0m\u001b[0;34m:\u001b[0m\u001b[0;34m\u001b[0m\u001b[0;34m\u001b[0m\u001b[0m\n\u001b[1;32m     62\u001b[0m     \u001b[0;32mif\u001b[0m \u001b[0mname\u001b[0m \u001b[0;32mis\u001b[0m \u001b[0;32mnot\u001b[0m \u001b[0;32mNone\u001b[0m\u001b[0;34m:\u001b[0m\u001b[0;34m\u001b[0m\u001b[0;34m\u001b[0m\u001b[0m\n",
            "\u001b[0;31mKeyboardInterrupt\u001b[0m: "
          ]
        }
      ]
    },
    {
      "cell_type": "markdown",
      "metadata": {
        "id": "7HjH6u9a_StU"
      },
      "source": [
        "# VGG16\n",
        "https://www.tensorflow.org/api_docs/python/tf/keras/applications/vgg16/VGG16\n",
        "\n",
        "last layers of vgg16 are 2 dense layers of 4096 neurons and a last one of 1000 neurons (to classify 1000 different classes)\n",
        "https://miro.medium.com/max/470/1*3-TqqkRQ4rWLOMX-gvkYwA.png\n",
        "\n",
        "So, we'll do:\n",
        "- load all layers but the top model (last 3 dense layers). this will be the base model\n",
        "- freeze layers of base model (saving how they're trained)\n",
        "- we want to copy the vgg16 architecture, so we have to add manually the last layers: we'll add 2 dense layers of 4096 and change the last one designed to classifty 1000 classes for a 5-neurons layer.\n"
      ]
    },
    {
      "cell_type": "code",
      "metadata": {
        "id": "WcOq8aS7aW3T"
      },
      "source": [
        "from keras.callbacks import ReduceLROnPlateau\n",
        "#from tensorflow.keras.optimizers import SGD#, Adam"
      ],
      "execution_count": null,
      "outputs": []
    },
    {
      "cell_type": "code",
      "metadata": {
        "id": "FpBqg0-oPktK"
      },
      "source": [
        "#test = VGG16(include_top=True)\n",
        "#test.summary()"
      ],
      "execution_count": null,
      "outputs": []
    },
    {
      "cell_type": "code",
      "metadata": {
        "id": "ni4d-pJr_VFI"
      },
      "source": [
        "# no incluyo el top (las últimas capas dense, que añado al final)\n",
        "base_model_vgg16 = VGG16(include_top=False, weights='imagenet', input_shape=(128, 128, 3), classes = y_train.shape[1], classifier_activation='softmax')\n",
        "pre_trained_vgg16 = Sequential() # to add more stuff\n",
        "\n",
        "'''\n",
        "antes lo añadía todo menos la última capa, pero como estamos trabajando sin el top model, no es necesario, las 2 últimas capas no están\n",
        "(base model acaba en block5_pool (MaxPooling2D) )\n",
        "'''\n",
        "for layer in base_model_vgg16.layers:#[:-1]: # not loading the last layer\n",
        "    pre_trained_vgg16.add(layer)    \n",
        "\n",
        "# Freeze the layers \n",
        "for layer in pre_trained_vgg16.layers:\n",
        "    layer.trainable = False\n",
        "\n",
        "# before the final layer has the shape (None, 8, 8, 5). I do need (0, 5)\n",
        "pre_trained_vgg16.add(Flatten())\n",
        "\n",
        "# emulating vgg16 architecture (but we'll train on this layers)\n",
        "pre_trained_vgg16.add(Dense(4096,activation=('relu')))\n",
        "pre_trained_vgg16.add(Dense(4096,activation=('relu'))) \n",
        "pre_trained_vgg16.add(Dense(5,activation=('softmax'))) \n",
        "pre_trained_vgg16.summary()\n",
        "print(len(pre_trained_vgg16.layers))"
      ],
      "execution_count": null,
      "outputs": []
    },
    {
      "cell_type": "markdown",
      "metadata": {
        "id": "DPh9UdLvxp4q"
      },
      "source": [
        "**training**\n",
        "\n",
        "- callbacks\n",
        "  - reducelronplateau - monitor the validation accuracy and if it seems to be a plateau in 3 epochs, it will reduce the learning rate by 0.01.\n",
        "  - Learning Rate Annealer - decreases the learning rate after a certain number of epochs if the error rate does not change. Here, through this technique\n",
        "- optimizers\n",
        "  - crossentroty: logaritmic metric from 0.99 (terrible) to 0 (too much perfect)=> https://machinelearningmastery.com/loss-and-loss-functions-for-training-deep-learning-neural-networks/\n"
      ]
    },
    {
      "cell_type": "code",
      "metadata": {
        "id": "2WmyRh5mzwJ5"
      },
      "source": [
        "lrr= ReduceLROnPlateau(monitor='accuracy', factor=.001, patience=3, min_lr=1e-4) # \"val_acc \" warning\n",
        "#https://keras.io/api/callbacks/early_stopping/\n",
        "#early_stopping = tf.keras.callbacks.EarlyStopping(monitor='val_loss', patience=10)"
      ],
      "execution_count": null,
      "outputs": []
    },
    {
      "cell_type": "code",
      "metadata": {
        "id": "4UGNYbAZyJAk"
      },
      "source": [
        "#Initializing the hyperparameters\n",
        "batch_size= 128\n",
        "epochs=200\n",
        "learn_rate=.01\n",
        "sgd=SGD(learning_rate=learn_rate,momentum=.9,nesterov=False)\n",
        "#adam=Adam(learning_rate=learn_rate, beta_1=0.9, beta_2=0.999, epsilon=None, decay=0.0, amsgrad=False)\n",
        "pre_trained_vgg16.compile(optimizer=sgd,loss='categorical_crossentropy',metrics=['accuracy'] )"
      ],
      "execution_count": null,
      "outputs": []
    },
    {
      "cell_type": "code",
      "metadata": {
        "id": "J4nHlAv2xpTB"
      },
      "source": [
        "#Training the model - al usar esta config no tengo un array de val_accuracy, val_loss https://stackoverflow.com/questions/55746382/why-val-loss-and-val-acc-are-not-displaying\n",
        "model_vgg16= pre_trained_vgg16.fit_generator(\n",
        "    train_generator.flow(x_train, y_train, batch_size= batch_size),\n",
        "    epochs = epochs, \n",
        "    validation_data = val_generator.flow(x_val, y_val, batch_size = batch_size), \n",
        "    steps_per_epoch = len(x_train)//batch_size , # to avoid running out of data error\n",
        "    validation_steps  = len(x_test)//batch_size, # to avoid running out of data error\n",
        "    callbacks=[lrr], \n",
        "    verbose = 1\n",
        "    )"
      ],
      "execution_count": null,
      "outputs": []
    },
    {
      "cell_type": "code",
      "metadata": {
        "id": "S1M62kGY6Eh2"
      },
      "source": [
        "#save model (before fit_generator)\n",
        "name = \"vgg16_20211010\"\n",
        "pre_trained_vgg16.save(output_folder+name+\".h5\")"
      ],
      "execution_count": null,
      "outputs": []
    },
    {
      "cell_type": "code",
      "metadata": {
        "id": "Lvx7XQdbxi2j"
      },
      "source": [
        "#Plotting the training and validation loss and accuracy\n",
        "f,ax=plt.subplots(2,1) \n",
        "\n",
        "#Loss\n",
        "ax[0].plot(np.arange(0, epochs), model_vgg16.history[\"loss\"], label=\"train_loss\")\n",
        "ax[0].plot(np.arange(0, epochs), model_vgg16.history[\"val_loss\"], label=\"val_loss\")\n",
        "ax[0].legend()\n",
        "plt.xlabel(\"Epoch #\")\n",
        "plt.ylabel(\"Loss/Accuracy\")\n",
        "#Accuracy\n",
        "ax[1].plot(np.arange(0, epochs), model_vgg16.history[\"accuracy\"], label=\"train_acc\")\n",
        "ax[1].plot(np.arange(0, epochs), model_vgg16.history[\"val_accuracy\"], label=\"val_acc\")\n",
        "ax[1].legend()\n",
        "plt.xlabel(\"Epochs    #\"+\"-- \"+name+\"--\")\n",
        "plt.ylabel(\"Loss/Accuracy\")"
      ],
      "execution_count": null,
      "outputs": []
    },
    {
      "cell_type": "code",
      "metadata": {
        "id": "Opo2OaQCxi5X"
      },
      "source": [
        "#Evaluatin\n",
        "print(\"[INFO]: Model godness...\")\n",
        "y_pred = pre_trained_vgg16.predict(x_test, batch_size=128)\n",
        "y_true=np.argmax(y_test,axis=1)\n",
        "print(classification_report(y_test.argmax(axis=1), y_pred.argmax(axis=1), target_names = classes_list ))"
      ],
      "execution_count": null,
      "outputs": []
    },
    {
      "cell_type": "code",
      "metadata": {
        "id": "sZk5jk6BsPGA"
      },
      "source": [
        "# no incluyo el top (las últimas capas dense, que añado al final)\n",
        "base_model_vgg16 = VGG16(include_top=False, weights='imagenet', input_shape=(128, 128, 3), classes = y_train.shape[1], classifier_activation='softmax')\n",
        "pre_trained_vgg16 = Sequential() # to add more stuff\n",
        "\n",
        "'''\n",
        "antes lo añadía todo menos la última capa, pero como estamos trabajando sin el top model, no es necesario, las 2 últimas capas no están\n",
        "(base model acaba en block5_pool (MaxPooling2D) )\n",
        "'''\n",
        "for layer in base_model_vgg16.layers:#[:-1]: # not loading the last layer\n",
        "    pre_trained_vgg16.add(layer)    \n",
        "\n",
        "# Freeze the layers \n",
        "for layer in pre_trained_vgg16.layers:\n",
        "    layer.trainable = False\n",
        "\n",
        "# before the final layer has the shape (None, 8, 8, 5). I do need (0, 5)\n",
        "pre_trained_vgg16.add(Flatten())\n",
        "\n",
        "# emulating vgg16 architecture (but we'll train on this layers)\n",
        "pre_trained_vgg16.add(Dense(4096,activation=('relu')))\n",
        "pre_trained_vgg16.add(Dense(4096,activation=('relu'))) \n",
        "pre_trained_vgg16.add(Dense(5,activation=('softmax'))) \n",
        "pre_trained_vgg16.summary()\n",
        "print(len(pre_trained_vgg16.layers))"
      ],
      "execution_count": null,
      "outputs": []
    },
    {
      "cell_type": "markdown",
      "metadata": {
        "id": "bZ9bjZIUmrNY"
      },
      "source": [
        "# VGG19"
      ]
    },
    {
      "cell_type": "code",
      "metadata": {
        "id": "crCgixP6aJgG"
      },
      "source": [
        "from keras.callbacks import ReduceLROnPlateau\n",
        "from tensorflow.keras.optimizers import SGD#, Adam"
      ],
      "execution_count": null,
      "outputs": []
    },
    {
      "cell_type": "code",
      "metadata": {
        "id": "fRU1KdUAXxou"
      },
      "source": [
        "# test = VGG19(include_top = True)\n",
        "# test.summary()"
      ],
      "execution_count": null,
      "outputs": []
    },
    {
      "cell_type": "code",
      "metadata": {
        "id": "PXYrLOFFa3iX"
      },
      "source": [
        "# no incluyo el top (las últimas capas dense, que añado al final)\n",
        "base_model_vgg19 = VGG19(include_top=False, weights='imagenet', input_shape=(128, 128, 3), classes = y_train.shape[1], classifier_activation='softmax')\n",
        "pre_trained_vgg19 = Sequential() # to add more stuff\n",
        "\n",
        "for layer in base_model_vgg19.layers:\n",
        "    pre_trained_vgg19.add(layer)    \n",
        "\n",
        "# Freeze the layers \n",
        "for layer in pre_trained_vgg16.layers:\n",
        "    layer.trainable = False\n",
        "\n",
        "# before the final layer has the shape (None, 8, 8, 5). I do need (0, 5)\n",
        "pre_trained_vgg19.add(Flatten())\n",
        "\n",
        "# emulating vgg16 architecture (but we'll train on this layers)\n",
        "pre_trained_vgg19.add(Dense(4096,activation=('relu')))\n",
        "pre_trained_vgg19.add(Dense(4096,activation=('relu'))) \n",
        "pre_trained_vgg19.add(Dense(5,activation=('softmax'))) \n",
        "pre_trained_vgg19.summary()\n",
        "print(len(pre_trained_vgg16.layers))"
      ],
      "execution_count": null,
      "outputs": []
    },
    {
      "cell_type": "code",
      "metadata": {
        "id": "4aEUZWSZYzIf"
      },
      "source": [
        "lrr= ReduceLROnPlateau(monitor='accuracy', factor=.001, patience=3, min_lr=1e-4) # \"val_acc \" warning\n",
        "#https://keras.io/api/callbacks/early_stopping/\n",
        "#early_stopping = tf.keras.callbacks.EarlyStopping(monitor='val_loss', patience=10)"
      ],
      "execution_count": null,
      "outputs": []
    },
    {
      "cell_type": "code",
      "metadata": {
        "id": "Fks27OUXYzVb"
      },
      "source": [
        "#Initializing the hyperparameters\n",
        "batch_size= 128\n",
        "epochs=200\n",
        "learn_rate=.01\n",
        "sgd=SGD(learning_rate=learn_rate,momentum=.9,nesterov=False)\n",
        "#adam=Adam(learning_rate=learn_rate, beta_1=0.9, beta_2=0.999, epsilon=None, decay=0.0, amsgrad=False)\n",
        "pre_trained_vgg19.compile(optimizer=sgd,loss='categorical_crossentropy',metrics=['accuracy'] )"
      ],
      "execution_count": null,
      "outputs": []
    },
    {
      "cell_type": "code",
      "metadata": {
        "id": "uPEGKcVaYzYo"
      },
      "source": [
        "#Training the model - al usar esta config no tengo un array de val_accuracy, val_loss https://stackoverflow.com/questions/55746382/why-val-loss-and-val-acc-are-not-displaying\n",
        "model_vgg19= pre_trained_vgg19.fit_generator(\n",
        "    train_generator.flow(x_train, y_train, batch_size= batch_size),\n",
        "    epochs = epochs, \n",
        "    validation_data = val_generator.flow(x_val, y_val, batch_size = batch_size), \n",
        "    steps_per_epoch = len(x_train)//batch_size , # to avoid running out of data error\n",
        "    validation_steps  = len(x_test)//batch_size, # to avoid running out of data error\n",
        "    callbacks=[lrr], \n",
        "    verbose = 1\n",
        "    )"
      ],
      "execution_count": null,
      "outputs": []
    },
    {
      "cell_type": "code",
      "metadata": {
        "id": "WEj-Qt0MLbTM"
      },
      "source": [
        "#save model (before fit_generator)\n",
        "name = \"vgg19_20211107\"\n",
        "pre_trained_vgg16.save(output_folder+name+\".h5\")"
      ],
      "execution_count": null,
      "outputs": []
    },
    {
      "cell_type": "code",
      "metadata": {
        "id": "S_OD-bDeN4MY"
      },
      "source": [
        "#Plotting the training and validation loss and accuracy\n",
        "f,ax=plt.subplots(2,1) \n",
        "\n",
        "#Loss\n",
        "ax[0].plot(np.arange(0, epochs), model_vgg19.history[\"loss\"], label=\"train_loss\")\n",
        "ax[0].plot(np.arange(0, epochs), model_vgg19.history[\"val_loss\"], label=\"val_loss\")\n",
        "ax[0].legend()\n",
        "plt.xlabel(\"Epoch #\")\n",
        "plt.ylabel(\"Loss/Accuracy\")\n",
        "#Accuracy\n",
        "ax[1].plot(np.arange(0, epochs), model_vgg19.history[\"accuracy\"], label=\"train_acc\")\n",
        "ax[1].plot(np.arange(0, epochs), model_vgg19.history[\"val_accuracy\"], label=\"val_acc\")\n",
        "ax[1].legend()\n",
        "plt.xlabel(\"Epochs    #\"+\"-- \"+name+\"--\")\n",
        "plt.ylabel(\"Loss/Accuracy\")"
      ],
      "execution_count": null,
      "outputs": []
    },
    {
      "cell_type": "code",
      "metadata": {
        "id": "NP0Cox2iOQuh"
      },
      "source": [
        "#Evaluatin\n",
        "print(\"[INFO]: Model godness...\")\n",
        "y_pred = pre_trained_vgg19.predict(x_test, batch_size=128)\n",
        "y_true=np.argmax(y_test,axis=1)\n",
        "print(classification_report(y_test.argmax(axis=1), y_pred.argmax(axis=1), target_names = classes_list ))"
      ],
      "execution_count": null,
      "outputs": []
    },
    {
      "cell_type": "markdown",
      "metadata": {
        "id": "CR4xUbL8B3tu"
      },
      "source": [
        "------------------------------------\n",
        "\n",
        "# resnet50\n",
        "\n",
        "https://www.tensorflow.org/api_docs/python/tf/keras/applications/resnet50/ResNet50\n",
        "\n",
        "\n",
        "let's \n",
        "-  not loading the top model, create it and modify the last layer to have 5 neurons for our 5 classes (this is done loading all but last layer).\n",
        "- the difference between loading or not the mop model consists of 2 layers:\n",
        "  - avg_pool (GlobalAveragePooling2 (None, 2048)\n",
        "  - predictions (Dense)             (None, 1000) **-5 in our case because we have to infer 5 different classes-**\n",
        "  So we'll load it without the top model and later add this 2 layers.\n",
        "- freeze layers\n",
        "- Estaba teniendo problemas con establecer Sequential() con la resnet. antes lo hacía como la primera celda muteada y daba error. abajo me sale bien, no entiendo muy bien por qué todavía (otra forma de ordenar capas)"
      ]
    },
    {
      "cell_type": "code",
      "metadata": {
        "id": "uvB-WDqfaAUr"
      },
      "source": [
        "from tensorflow.keras.layers import GlobalAveragePooling2D\n",
        "from keras.callbacks import ReduceLROnPlateau\n",
        "from tensorflow.keras.optimizers import SGD#, Adam"
      ],
      "execution_count": null,
      "outputs": []
    },
    {
      "cell_type": "code",
      "metadata": {
        "id": "oGN9dfchDhit"
      },
      "source": [
        "# resnet50 = ResNet50()\n",
        "# resnet50.summary()\n",
        "\n",
        "# resnet50 = ResNet50(include_top=False, weights='imagenet', input_shape=(128, 128, 3), classes = y_train.shape[1], classifier_activation='softmax')\n",
        "# resnet50.summary()"
      ],
      "execution_count": null,
      "outputs": []
    },
    {
      "cell_type": "code",
      "metadata": {
        "id": "IAMqmszHFoDN"
      },
      "source": [
        "pre_trained_resnet50 = Sequential()\n",
        "# NOTE that this layer will be set below as NOT TRAINABLE, i.e., use it as is\n",
        "pre_trained_resnet50.add(ResNet50(include_top=False, weights='imagenet', input_shape=(128, 128, 3), classes = y_train.shape[1], classifier_activation='softmax'))\n",
        "\n",
        "# Freeze the layers \n",
        "for layer in pre_trained_resnet50.layers:\n",
        "    layer.trainable = False\n",
        "\n",
        "# https://keras.io/api/layers/pooling_layers/global_average_pooling2d/\n",
        "pre_trained_resnet50.add(GlobalAveragePooling2D())\n",
        "\n",
        "#añadimos el top model\n",
        "'''la última capa es la de 1000 neuronas y la estoy sustituyendo por la mía de 5'''\n",
        "#pre_trained_resnet50.add(Dense(1024,activation=('softmax'))) \n",
        "pre_trained_resnet50.add(Dense(5,activation=('softmax'))) \n",
        "pre_trained_resnet50.summary()"
      ],
      "execution_count": null,
      "outputs": []
    },
    {
      "cell_type": "markdown",
      "metadata": {
        "id": "RSe1j5R1B3t5"
      },
      "source": [
        "- training"
      ]
    },
    {
      "cell_type": "code",
      "metadata": {
        "id": "-3Gc2Q7jB3t6"
      },
      "source": [
        "lrr= ReduceLROnPlateau(monitor='accuracy', factor=.001, patience=3, min_lr=1e-4) # \"val_acc \" warning\n",
        "#https://keras.io/api/callbacks/early_stopping/\n",
        "#early_stopping = tf.keras.callbacks.EarlyStopping(monitor='val_loss', patience=10)"
      ],
      "execution_count": null,
      "outputs": []
    },
    {
      "cell_type": "code",
      "metadata": {
        "id": "8nq9NObbB3t7"
      },
      "source": [
        "#Initializing the hyperparameters\n",
        "batch_size= 128\n",
        "epochs=200\n",
        "learn_rate=.01\n",
        "sgd=SGD(learning_rate=learn_rate,momentum=.9,nesterov=False)\n",
        "#adam=Adam(learning_rate=learn_rate, beta_1=0.9, beta_2=0.999, epsilon=None, decay=0.0, amsgrad=False)\n",
        "pre_trained_resnet50.compile(optimizer=sgd,loss='categorical_crossentropy',metrics=['accuracy'] )"
      ],
      "execution_count": null,
      "outputs": []
    },
    {
      "cell_type": "code",
      "metadata": {
        "id": "j-MJSVILB3t7"
      },
      "source": [
        "#Training the model - al usar esta config no tengo un array de val_accuracy, val_loss https://stackoverflow.com/questions/55746382/why-val-loss-and-val-acc-are-not-displaying\n",
        "\n",
        "model_resnet50= pre_trained_resnet50.fit_generator(\n",
        "    train_generator.flow(x_train, y_train, batch_size= batch_size),\n",
        "    epochs = epochs, \n",
        "    validation_data = val_generator.flow(x_val, y_val, batch_size = batch_size), \n",
        "    steps_per_epoch = len(x_train)//batch_size , # to avoid running out of data error\n",
        "    validation_steps  = len(x_test)//batch_size, # to avoid running out of data error\n",
        "    callbacks=[lrr], \n",
        "    verbose = 1\n",
        "    )"
      ],
      "execution_count": null,
      "outputs": []
    },
    {
      "cell_type": "code",
      "metadata": {
        "id": "uG082HnVB3t8"
      },
      "source": [
        "#save model (before fit_generator)\n",
        "pre_trained_resnet50.save(output_folder+\"resnet50-2021-11-06.h5\")"
      ],
      "execution_count": null,
      "outputs": []
    },
    {
      "cell_type": "code",
      "metadata": {
        "id": "CZqqHtKcB3t-"
      },
      "source": [
        "#Plotting the training and validation loss and accuracy\n",
        "f,ax=plt.subplots(2,1) \n",
        "\n",
        "#Loss\n",
        "ax[0].plot(np.arange(0, epochs), model_resnet50.history[\"loss\"], label=\"train_loss\")\n",
        "ax[0].plot(np.arange(0, epochs), model_resnet50.history[\"val_loss\"], label=\"val_loss\")\n",
        "ax[0].legend()\n",
        "plt.xlabel(\"Epoch #\")\n",
        "plt.ylabel(\"Loss/Accuracy\")\n",
        "#Accuracy\n",
        "ax[1].plot(np.arange(0, epochs), model_resnet50.history[\"accuracy\"], label=\"train_acc\")\n",
        "ax[1].plot(np.arange(0, epochs), model_resnet50.history[\"val_accuracy\"], label=\"val_acc\")\n",
        "ax[1].legend()\n",
        "#plt.legend()\n",
        "#plt.title(\"Training Loss and Accuracy\")\n",
        "plt.xlabel(\"Epoch #\")\n",
        "plt.ylabel(\"Loss/Accuracy\")"
      ],
      "execution_count": null,
      "outputs": []
    },
    {
      "cell_type": "code",
      "metadata": {
        "id": "g8LQg9XqB3t_"
      },
      "source": [
        "#Evaluatin\n",
        "print(\"[INFO]: Model godness...\")\n",
        "y_pred = pre_trained_resnet50.predict(x_test, batch_size=128)\n",
        "y_true=np.argmax(y_test,axis=1)\n",
        "print(classification_report(y_test.argmax(axis=1), y_pred.argmax(axis=1), target_names = classes_list ))"
      ],
      "execution_count": null,
      "outputs": []
    }
  ]
}