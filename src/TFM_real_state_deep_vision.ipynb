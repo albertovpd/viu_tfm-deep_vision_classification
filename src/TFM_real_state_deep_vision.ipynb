{
  "nbformat": 4,
  "nbformat_minor": 0,
  "metadata": {
    "accelerator": "GPU",
    "colab": {
      "name": "TFM-real_state-deep_vision.ipynb",
      "provenance": [],
      "collapsed_sections": []
    },
    "kernelspec": {
      "display_name": "Python 3",
      "name": "python3"
    },
    "language_info": {
      "name": "python"
    }
  },
  "cells": [
    {
      "cell_type": "markdown",
      "metadata": {
        "id": "hDYS919NYJnS"
      },
      "source": [
        "# TFM. Deep Visin applied to Real state.\n"
      ]
    },
    {
      "cell_type": "code",
      "metadata": {
        "colab": {
          "base_uri": "https://localhost:8080/"
        },
        "id": "lnTgtRXyFgQf",
        "outputId": "ace49bb1-07c5-4dd8-e33c-3d1e58323582"
      },
      "source": [
        "# google stuff\n",
        "from google.colab import drive\n",
        "drive.mount('/content/drive/', force_remount=True)"
      ],
      "execution_count": 2,
      "outputs": [
        {
          "output_type": "stream",
          "name": "stdout",
          "text": [
            "Mounted at /content/drive/\n"
          ]
        }
      ]
    },
    {
      "cell_type": "code",
      "metadata": {
        "colab": {
          "base_uri": "https://localhost:8080/"
        },
        "id": "X-OjRNxnu-lo",
        "outputId": "73728484-e0e7-41cd-962c-a8c52bcf6c11"
      },
      "source": [
        "%tensorflow_version 2.x\n",
        "import tensorflow as tf\n",
        "device_name = tf.test.gpu_device_name()\n",
        "if device_name != '/device:GPU:0':\n",
        "  raise SystemError('GPU device not found')\n",
        "print('Found GPU at: {}'.format(device_name))"
      ],
      "execution_count": 3,
      "outputs": [
        {
          "output_type": "stream",
          "name": "stdout",
          "text": [
            "Found GPU at: /device:GPU:0\n"
          ]
        }
      ]
    },
    {
      "cell_type": "markdown",
      "metadata": {
        "id": "4VR2oTMsT5R5"
      },
      "source": [
        "- libraries"
      ]
    },
    {
      "cell_type": "code",
      "metadata": {
        "id": "NAI9T4pWTfME"
      },
      "source": [
        "%tensorflow_version 2.x\n",
        "from sklearn.model_selection import train_test_split\n",
        "from sklearn.preprocessing import LabelBinarizer\n",
        "\n",
        "import tensorflow as tf\n",
        "from tensorflow.keras.applications import imagenet_utils\n",
        "from tensorflow.keras.preprocessing.image import ImageDataGenerator\n",
        "\n",
        "# architecture \n",
        "from tensorflow.keras.models import Sequential\n",
        "from tensorflow.keras import layers\n",
        "from keras.layers import GlobalMaxPooling2D,GlobalAveragePooling2D\n",
        "from tensorflow.keras import Model\n",
        "\n",
        "# metrics\n",
        "from sklearn.metrics import confusion_matrix\n",
        "from sklearn.metrics import classification_report\n",
        "\n",
        "\n",
        "# optimization\n",
        "from tensorflow.keras.optimizers import Adam\n",
        "from keras import regularizers\n",
        "from tensorflow.keras.layers import Input, Conv2D, Dense, Dropout, BatchNormalization, MaxPooling2D, Flatten, ZeroPadding2D\n",
        "from tensorflow.keras.regularizers import l1_l2, l2\n",
        "\n",
        "# pre-trained models\n",
        "from tensorflow.keras.applications import VGG16, ResNet50, VGG19\n",
        "\n",
        "import os\n",
        "import pickle\n",
        "import tarfile\n",
        "\n",
        "# counting classes with library\n",
        "from collections import Counter\n",
        "\n",
        "# viz & arrays\n",
        "import numpy as np\n",
        "import pandas as pd\n",
        "import matplotlib.pyplot as plt\n",
        "import matplotlib.image as mpimg\n",
        "%matplotlib inline"
      ],
      "execution_count": 4,
      "outputs": []
    },
    {
      "cell_type": "markdown",
      "metadata": {
        "id": "3_vhk7DsTuS-"
      },
      "source": [
        "- base directory"
      ]
    },
    {
      "cell_type": "code",
      "metadata": {
        "colab": {
          "base_uri": "https://localhost:8080/"
        },
        "id": "GNqmOv5jUtLN",
        "outputId": "f1ed5418-f550-4b5d-a409-0861887fe5d5"
      },
      "source": [
        "!ls \"/content/drive/My Drive/2-Estudios/viu-master_ai/tfm-deep_vision/\""
      ],
      "execution_count": 5,
      "outputs": [
        {
          "output_type": "stream",
          "name": "stdout",
          "text": [
            " AlbertoVargas-sistema_clasificacion_viviendas_imagenes.gslides\n",
            "'Dudas y seguimiento TFM.gdoc'\n",
            " input\n",
            " output\n",
            "'performance of NN.gdoc'\n",
            " src\n"
          ]
        }
      ]
    },
    {
      "cell_type": "code",
      "metadata": {
        "id": "nJakVe6hTvc7"
      },
      "source": [
        "base_folder = \"/content/drive/My Drive/2-Estudios/viu-master_ai/tfm-deep_vision/\"\n",
        "input_folder = base_folder+\"input/\"\n",
        "src_folder =  base_folder+\"src/\"\n",
        "output_folder = base_folder + \"/output/\""
      ],
      "execution_count": 6,
      "outputs": []
    },
    {
      "cell_type": "markdown",
      "metadata": {
        "id": "AhT4ucStG1Oy"
      },
      "source": [
        "- functions"
      ]
    },
    {
      "cell_type": "code",
      "metadata": {
        "id": "-HbqBwIc-Ust"
      },
      "source": [
        "# insert the directory\n",
        "import sys\n",
        "sys.path.insert(0,\"/content/drive/My Drive/2-Estudios/viu-master_ai/tfm-deep_vision/src/\")"
      ],
      "execution_count": 7,
      "outputs": []
    },
    {
      "cell_type": "code",
      "metadata": {
        "id": "vY2L-r1j9jex"
      },
      "source": [
        "from my_functions import freezing_layers"
      ],
      "execution_count": 8,
      "outputs": []
    },
    {
      "cell_type": "markdown",
      "metadata": {
        "id": "rv82I6XgW4Xr"
      },
      "source": [
        "# load pickling data allocated in Drive"
      ]
    },
    {
      "cell_type": "code",
      "metadata": {
        "id": "I_-1T12qUwbw"
      },
      "source": [
        "with open(input_folder+\"pickle_all_images_df.pickle\", \"rb\") as input_file:\n",
        "    data_x = pickle.load(input_file)\n",
        "with open(input_folder+\"pickle_all_classes.pickle\", \"rb\") as input_file:\n",
        "    data_y = pickle.load(input_file)"
      ],
      "execution_count": 9,
      "outputs": []
    },
    {
      "cell_type": "markdown",
      "metadata": {
        "id": "jvtNMgL5XNvJ"
      },
      "source": [
        "- some preview"
      ]
    },
    {
      "cell_type": "code",
      "metadata": {
        "colab": {
          "base_uri": "https://localhost:8080/"
        },
        "id": "TK9hZmmvnhuk",
        "outputId": "3b3f3861-3398-47bf-e02e-015732e17a96"
      },
      "source": [
        "print(Counter(data_y))"
      ],
      "execution_count": 10,
      "outputs": [
        {
          "output_type": "stream",
          "name": "stdout",
          "text": [
            "Counter({'Livingroom': 1273, 'Bedroom': 1248, 'Dinning': 1158, 'Kitchen': 965, 'Bathroom': 606})\n"
          ]
        }
      ]
    },
    {
      "cell_type": "code",
      "metadata": {
        "id": "h0sqnwHXzYPG"
      },
      "source": [
        "classes_list = list(Counter(data_y).keys())"
      ],
      "execution_count": 11,
      "outputs": []
    },
    {
      "cell_type": "markdown",
      "metadata": {
        "id": "z2mFBMbcnwYK"
      },
      "source": [
        "- i'll have to deal with this unbalanced classes later. \n",
        "- let's begin with the simplest stuff first"
      ]
    },
    {
      "cell_type": "code",
      "metadata": {
        "colab": {
          "base_uri": "https://localhost:8080/"
        },
        "id": "NPSuYmXIXEOf",
        "outputId": "5fb9173c-e86c-482d-a426-6e5e85480dd4"
      },
      "source": [
        "print(\"pics shape: \",data_x.shape,\n",
        "      \"\\nnumber of classes: \", len(set(data_y))\n",
        "      )"
      ],
      "execution_count": 12,
      "outputs": [
        {
          "output_type": "stream",
          "name": "stdout",
          "text": [
            "pics shape:  (5250, 128, 128, 3) \n",
            "number of classes:  5\n"
          ]
        }
      ]
    },
    {
      "cell_type": "code",
      "metadata": {
        "colab": {
          "base_uri": "https://localhost:8080/",
          "height": 285
        },
        "id": "gVaTkKsTXPy8",
        "outputId": "3000c923-6109-40e2-a9d3-5c3e35bd0f4b"
      },
      "source": [
        "# # showing some stuff \n",
        "print(data_y[42])\n",
        "imgplot = plt.imshow(data_x[42])\n",
        "plt.show()"
      ],
      "execution_count": 13,
      "outputs": [
        {
          "output_type": "stream",
          "name": "stdout",
          "text": [
            "Dinning\n"
          ]
        },
        {
          "output_type": "display_data",
          "data": {
            "image/png": "[encoded data removed]",
            "text/plain": [
              "<Figure size 432x288 with 1 Axes>"
            ]
          },
          "metadata": {
            "needs_background": "light"
          }
        }
      ]
    },
    {
      "cell_type": "markdown",
      "metadata": {
        "id": "11MeRxdDq2dE"
      },
      "source": [
        "- transforming y-label into numeric"
      ]
    },
    {
      "cell_type": "code",
      "metadata": {
        "id": "wPDqUdWYqT8b"
      },
      "source": [
        "# transforming labels into numeric\n",
        "y = np.unique(data_y)\n",
        "mapping = { key : value for key,value in zip(y,range(len(y)))}\n",
        "data_y_num = np.array([mapping[i] for i in data_y])"
      ],
      "execution_count": 14,
      "outputs": []
    },
    {
      "cell_type": "code",
      "metadata": {
        "id": "2xa6_PfLq9VF",
        "colab": {
          "base_uri": "https://localhost:8080/"
        },
        "outputId": "8135440a-4bc0-4b89-b765-8131abf9ddbd"
      },
      "source": [
        "test_size_1st_split = 0.3\n",
        "test_size_2nd_split= 0.5\n",
        "\n",
        "x_train, x_test, y_train, y_test = train_test_split(data_x, data_y_num, test_size=test_size_1st_split)\n",
        "x_val, x_test, y_val, y_test = train_test_split(x_test, y_test, test_size=test_size_2nd_split) \n",
        "allx= len(data_x)\n",
        "print(round(len(x_train)/allx,2), round(len(x_val)/allx,2), round(len(x_test)/allx,2))\n",
        "del data_y\n",
        "del data_x\n",
        "\n",
        "#One-hot encoding\n",
        "lb = LabelBinarizer()\n",
        "y_train = lb.fit_transform(y_train)\n",
        "y_test = lb.transform(y_test)\n",
        "y_val = lb.transform(y_val)"
      ],
      "execution_count": 15,
      "outputs": [
        {
          "output_type": "stream",
          "name": "stdout",
          "text": [
            "0.7 0.15 0.15\n"
          ]
        }
      ]
    },
    {
      "cell_type": "code",
      "metadata": {
        "colab": {
          "base_uri": "https://localhost:8080/"
        },
        "id": "y0F2d57AstAI",
        "outputId": "45026cd5-d298-4e98-df62-1f5aebb7ff61"
      },
      "source": [
        "print(\"train:  \", x_train.shape, y_train.shape,\n",
        "      \"\\ntest: \", x_test.shape,y_test.shape,\n",
        "      \"\\nval:  \", x_val.shape, y_val.shape)"
      ],
      "execution_count": 16,
      "outputs": [
        {
          "output_type": "stream",
          "name": "stdout",
          "text": [
            "train:   (3675, 128, 128, 3) (3675, 5) \n",
            "test:  (788, 128, 128, 3) (788, 5) \n",
            "val:   (787, 128, 128, 3) (787, 5)\n"
          ]
        }
      ]
    },
    {
      "cell_type": "code",
      "metadata": {
        "id": "vVbXD-Pqy84G"
      },
      "source": [
        "#Data Augmentation first\n",
        "train_generator = ImageDataGenerator(rotation_range=2, shear_range=0.2, vertical_flip=True, horizontal_flip=True, zoom_range=.1)\n",
        "val_generator = ImageDataGenerator(rotation_range=2, shear_range=0.2, vertical_flip=True, horizontal_flip=True, zoom_range=.1)\n",
        "test_generator = ImageDataGenerator(rotation_range=2, shear_range=0.2, vertical_flip=True, horizontal_flip= True, zoom_range=.1)\n",
        "\n",
        "#Fitting the augmentation defined above to the data\n",
        "train_generator.fit(x_train)\n",
        "val_generator.fit(x_val)\n",
        "test_generator.fit(x_test)"
      ],
      "execution_count": 17,
      "outputs": []
    },
    {
      "cell_type": "markdown",
      "metadata": {
        "id": "7HjH6u9a_StU"
      },
      "source": [
        "## VGG16\n",
        "https://www.tensorflow.org/api_docs/python/tf/keras/applications/vgg16/VGG16\n",
        "\n",
        "last layers of vgg16 are 2 dense layers of 4096 neurons and a last one of 1000 neurons (to classify 1000 different classes)\n",
        "https://miro.medium.com/max/470/1*3-TqqkRQ4rWLOMX-gvkYwA.png\n",
        "\n",
        "So, we'll do:\n",
        "- load all layers but the top model (last 3 dense layers). this will be the base model\n",
        "- freeze layers of base model (saving how they're trained)\n",
        "- we want to copy the vgg16 architecture, so we have to add manually the last layers: we'll add 2 dense layers of 4096 and change the last one designed to classifty 1000 classes for a 5-neurons layer.\n"
      ]
    },
    {
      "cell_type": "code",
      "metadata": {
        "colab": {
          "base_uri": "https://localhost:8080/"
        },
        "id": "ni4d-pJr_VFI",
        "outputId": "dfd5e47f-aee6-403d-96b9-a92aad56d741"
      },
      "source": [
        "# no incluyo el top (las últimas capas dense, que añado al final)\n",
        "base_model_vgg16 = VGG16(include_top=False, weights='imagenet', input_shape=(128, 128, 3), classes = y_train.shape[1], classifier_activation='softmax')\n",
        "pre_trained_vgg16 = Sequential() # to add more stuff\n",
        "\n",
        "'''\n",
        "antes lo añadía todo menos la última capa, pero como estamos trabajando sin el top model, no es necesario, las 2 últimas capas no están\n",
        "(base model acaba en block5_pool (MaxPooling2D) )\n",
        "'''\n",
        "for layer in base_model_vgg16.layers:#[:-1]: # not loading the last layer\n",
        "    pre_trained_vgg16.add(layer)    \n",
        "\n",
        "# Freeze the layers \n",
        "for layer in pre_trained_vgg16.layers:\n",
        "    layer.trainable = False\n",
        "\n",
        "# before the final layer has the shape (None, 8, 8, 5). I do need (0, 5)\n",
        "pre_trained_vgg16.add(Flatten())\n",
        "\n",
        "# emulating vgg16 architecture (but we'll train on this layers)\n",
        "pre_trained_vgg16.add(Dense(4096,activation=('relu')))\n",
        "pre_trained_vgg16.add(Dense(4096,activation=('relu'))) \n",
        "pre_trained_vgg16.add(Dense(5,activation=('softmax'))) \n",
        "pre_trained_vgg16.summary()\n",
        "print(len(pre_trained_vgg16.layers))"
      ],
      "execution_count": null,
      "outputs": [
        {
          "output_type": "stream",
          "name": "stdout",
          "text": [
            "Model: \"sequential_1\"\n",
            "_________________________________________________________________\n",
            "Layer (type)                 Output Shape              Param #   \n",
            "=================================================================\n",
            "block1_conv1 (Conv2D)        (None, 128, 128, 64)      1792      \n",
            "_________________________________________________________________\n",
            "block1_conv2 (Conv2D)        (None, 128, 128, 64)      36928     \n",
            "_________________________________________________________________\n",
            "block1_pool (MaxPooling2D)   (None, 64, 64, 64)        0         \n",
            "_________________________________________________________________\n",
            "block2_conv1 (Conv2D)        (None, 64, 64, 128)       73856     \n",
            "_________________________________________________________________\n",
            "block2_conv2 (Conv2D)        (None, 64, 64, 128)       147584    \n",
            "_________________________________________________________________\n",
            "block2_pool (MaxPooling2D)   (None, 32, 32, 128)       0         \n",
            "_________________________________________________________________\n",
            "block3_conv1 (Conv2D)        (None, 32, 32, 256)       295168    \n",
            "_________________________________________________________________\n",
            "block3_conv2 (Conv2D)        (None, 32, 32, 256)       590080    \n",
            "_________________________________________________________________\n",
            "block3_conv3 (Conv2D)        (None, 32, 32, 256)       590080    \n",
            "_________________________________________________________________\n",
            "block3_pool (MaxPooling2D)   (None, 16, 16, 256)       0         \n",
            "_________________________________________________________________\n",
            "block4_conv1 (Conv2D)        (None, 16, 16, 512)       1180160   \n",
            "_________________________________________________________________\n",
            "block4_conv2 (Conv2D)        (None, 16, 16, 512)       2359808   \n",
            "_________________________________________________________________\n",
            "block4_conv3 (Conv2D)        (None, 16, 16, 512)       2359808   \n",
            "_________________________________________________________________\n",
            "block4_pool (MaxPooling2D)   (None, 8, 8, 512)         0         \n",
            "_________________________________________________________________\n",
            "block5_conv1 (Conv2D)        (None, 8, 8, 512)         2359808   \n",
            "_________________________________________________________________\n",
            "block5_conv2 (Conv2D)        (None, 8, 8, 512)         2359808   \n",
            "_________________________________________________________________\n",
            "block5_conv3 (Conv2D)        (None, 8, 8, 512)         2359808   \n",
            "_________________________________________________________________\n",
            "block5_pool (MaxPooling2D)   (None, 4, 4, 512)         0         \n",
            "_________________________________________________________________\n",
            "flatten_1 (Flatten)          (None, 8192)              0         \n",
            "_________________________________________________________________\n",
            "dense_3 (Dense)              (None, 4096)              33558528  \n",
            "_________________________________________________________________\n",
            "dense_4 (Dense)              (None, 4096)              16781312  \n",
            "_________________________________________________________________\n",
            "dense_5 (Dense)              (None, 5)                 20485     \n",
            "=================================================================\n",
            "Total params: 65,075,013\n",
            "Trainable params: 50,360,325\n",
            "Non-trainable params: 14,714,688\n",
            "_________________________________________________________________\n",
            "22\n"
          ]
        }
      ]
    },
    {
      "cell_type": "markdown",
      "metadata": {
        "id": "DPh9UdLvxp4q"
      },
      "source": [
        "**training**\n",
        "\n",
        "- callbacks\n",
        "  - reducelronplateau - monitor the validation accuracy and if it seems to be a plateau in 3 epochs, it will reduce the learning rate by 0.01.\n",
        "  - Learning Rate Annealer - decreases the learning rate after a certain number of epochs if the error rate does not change. Here, through this technique\n",
        "- optimizers\n",
        "  - crossentroty: logaritmic metric from 0.99 (terrible) to 0 (too much perfect)=> https://machinelearningmastery.com/loss-and-loss-functions-for-training-deep-learning-neural-networks/\n"
      ]
    },
    {
      "cell_type": "code",
      "metadata": {
        "id": "2WmyRh5mzwJ5"
      },
      "source": [
        "from keras.callbacks import ReduceLROnPlateau\n",
        "\n",
        "lrr= ReduceLROnPlateau(monitor='accuracy', factor=.001, patience=3, min_lr=1e-4) # \"val_acc \" warning\n",
        "#https://keras.io/api/callbacks/early_stopping/\n",
        "#early_stopping = tf.keras.callbacks.EarlyStopping(monitor='val_loss', patience=10)"
      ],
      "execution_count": null,
      "outputs": []
    },
    {
      "cell_type": "code",
      "metadata": {
        "id": "4UGNYbAZyJAk"
      },
      "source": [
        "#Initializing the hyperparameters\n",
        "from tensorflow.keras.optimizers import SGD#, Adam\n",
        "batch_size= 128\n",
        "epochs=200\n",
        "learn_rate=.01\n",
        "sgd=SGD(learning_rate=learn_rate,momentum=.9,nesterov=False)\n",
        "#adam=Adam(learning_rate=learn_rate, beta_1=0.9, beta_2=0.999, epsilon=None, decay=0.0, amsgrad=False)\n",
        "pre_trained_vgg16.compile(optimizer=sgd,loss='categorical_crossentropy',metrics=['accuracy'] )"
      ],
      "execution_count": null,
      "outputs": []
    },
    {
      "cell_type": "code",
      "metadata": {
        "colab": {
          "base_uri": "https://localhost:8080/"
        },
        "id": "J4nHlAv2xpTB",
        "outputId": "0a5b91c0-dbe0-4f1b-f099-aeb2efd9fb3d"
      },
      "source": [
        "#Training the model - al usar esta config no tengo un array de val_accuracy, val_loss https://stackoverflow.com/questions/55746382/why-val-loss-and-val-acc-are-not-displaying\n",
        "model_vgg16= pre_trained_vgg16.fit_generator(\n",
        "    train_generator.flow(x_train, y_train, batch_size= batch_size),\n",
        "    epochs = epochs, \n",
        "    validation_data = val_generator.flow(x_val, y_val, batch_size = batch_size), \n",
        "    steps_per_epoch = len(x_train)//batch_size , # to avoid running out of data error\n",
        "    validation_steps  = len(x_test)//batch_size, # to avoid running out of data error\n",
        "    callbacks=[lrr], \n",
        "    verbose = 1\n",
        "    )"
      ],
      "execution_count": null,
      "outputs": [
        {
          "output_type": "stream",
          "name": "stderr",
          "text": [
            "/usr/local/lib/python3.7/dist-packages/keras/engine/training.py:1972: UserWarning: `Model.fit_generator` is deprecated and will be removed in a future version. Please use `Model.fit`, which supports generators.\n",
            "  warnings.warn('`Model.fit_generator` is deprecated and '\n"
          ]
        },
        {
          "output_type": "stream",
          "name": "stdout",
          "text": [
            "Epoch 1/200\n",
            "28/28 [==============================] - 22s 761ms/step - loss: 1.7155 - accuracy: 0.3332 - val_loss: 1.4460 - val_accuracy: 0.3542\n",
            "Epoch 2/200\n",
            "28/28 [==============================] - 20s 724ms/step - loss: 1.3360 - accuracy: 0.4277 - val_loss: 1.2305 - val_accuracy: 0.4753\n",
            "Epoch 3/200\n",
            "28/28 [==============================] - 20s 728ms/step - loss: 1.2008 - accuracy: 0.4982 - val_loss: 1.0956 - val_accuracy: 0.5312\n",
            "Epoch 4/200\n",
            "28/28 [==============================] - 20s 712ms/step - loss: 1.2019 - accuracy: 0.5111 - val_loss: 1.1389 - val_accuracy: 0.5599\n",
            "Epoch 5/200\n",
            "28/28 [==============================] - 20s 709ms/step - loss: 1.1005 - accuracy: 0.5520 - val_loss: 1.0923 - val_accuracy: 0.5273\n",
            "Epoch 6/200\n",
            "28/28 [==============================] - 20s 714ms/step - loss: 1.1373 - accuracy: 0.5282 - val_loss: 1.1022 - val_accuracy: 0.5299\n",
            "Epoch 7/200\n",
            "28/28 [==============================] - 20s 708ms/step - loss: 1.0186 - accuracy: 0.5816 - val_loss: 1.0947 - val_accuracy: 0.5339\n",
            "Epoch 8/200\n",
            "28/28 [==============================] - 20s 713ms/step - loss: 1.0383 - accuracy: 0.5873 - val_loss: 1.1601 - val_accuracy: 0.5339\n",
            "Epoch 9/200\n",
            "28/28 [==============================] - 20s 710ms/step - loss: 1.0616 - accuracy: 0.5650 - val_loss: 1.1046 - val_accuracy: 0.5625\n",
            "Epoch 10/200\n",
            "28/28 [==============================] - 20s 704ms/step - loss: 1.0303 - accuracy: 0.5963 - val_loss: 1.0622 - val_accuracy: 0.5833\n",
            "Epoch 11/200\n",
            "28/28 [==============================] - 20s 703ms/step - loss: 0.9756 - accuracy: 0.6115 - val_loss: 1.0393 - val_accuracy: 0.5794\n",
            "Epoch 12/200\n",
            "28/28 [==============================] - 20s 704ms/step - loss: 1.0128 - accuracy: 0.5983 - val_loss: 1.0203 - val_accuracy: 0.5938\n",
            "Epoch 13/200\n",
            "28/28 [==============================] - 20s 712ms/step - loss: 0.9681 - accuracy: 0.6197 - val_loss: 0.9610 - val_accuracy: 0.6081\n",
            "Epoch 14/200\n",
            "28/28 [==============================] - 20s 710ms/step - loss: 0.9524 - accuracy: 0.6078 - val_loss: 1.1320 - val_accuracy: 0.5430\n",
            "Epoch 15/200\n",
            "28/28 [==============================] - 20s 712ms/step - loss: 0.8990 - accuracy: 0.6456 - val_loss: 1.0905 - val_accuracy: 0.5677\n",
            "Epoch 16/200\n",
            "28/28 [==============================] - 20s 709ms/step - loss: 0.9349 - accuracy: 0.6298 - val_loss: 1.1425 - val_accuracy: 0.5690\n",
            "Epoch 17/200\n",
            "28/28 [==============================] - 20s 708ms/step - loss: 0.9640 - accuracy: 0.6276 - val_loss: 0.9673 - val_accuracy: 0.5951\n",
            "Epoch 18/200\n",
            "28/28 [==============================] - 20s 716ms/step - loss: 0.8959 - accuracy: 0.6451 - val_loss: 1.0315 - val_accuracy: 0.5859\n",
            "Epoch 19/200\n",
            "28/28 [==============================] - 20s 722ms/step - loss: 1.7188 - accuracy: 0.3789 - val_loss: 1.2034 - val_accuracy: 0.5052\n",
            "Epoch 20/200\n",
            "28/28 [==============================] - 20s 723ms/step - loss: 0.9107 - accuracy: 0.6341 - val_loss: 0.9578 - val_accuracy: 0.6120\n",
            "Epoch 21/200\n",
            "28/28 [==============================] - 20s 724ms/step - loss: 0.8370 - accuracy: 0.6837 - val_loss: 0.9300 - val_accuracy: 0.6276\n",
            "Epoch 22/200\n",
            "28/28 [==============================] - 20s 718ms/step - loss: 0.8324 - accuracy: 0.6842 - val_loss: 0.9517 - val_accuracy: 0.6185\n",
            "Epoch 23/200\n",
            "28/28 [==============================] - 20s 719ms/step - loss: 0.8257 - accuracy: 0.6842 - val_loss: 0.9131 - val_accuracy: 0.6328\n",
            "Epoch 24/200\n",
            "28/28 [==============================] - 20s 722ms/step - loss: 0.8121 - accuracy: 0.6966 - val_loss: 0.9413 - val_accuracy: 0.6029\n",
            "Epoch 25/200\n",
            "28/28 [==============================] - 20s 721ms/step - loss: 0.8037 - accuracy: 0.6950 - val_loss: 0.9411 - val_accuracy: 0.6224\n",
            "Epoch 26/200\n",
            "28/28 [==============================] - 20s 716ms/step - loss: 0.8020 - accuracy: 0.6983 - val_loss: 0.9121 - val_accuracy: 0.6276\n",
            "Epoch 27/200\n",
            "28/28 [==============================] - 20s 716ms/step - loss: 0.7967 - accuracy: 0.6981 - val_loss: 0.9130 - val_accuracy: 0.6172\n",
            "Epoch 28/200\n",
            "28/28 [==============================] - 20s 718ms/step - loss: 0.7971 - accuracy: 0.7000 - val_loss: 0.9227 - val_accuracy: 0.6224\n",
            "Epoch 29/200\n",
            "28/28 [==============================] - 20s 720ms/step - loss: 0.7956 - accuracy: 0.6927 - val_loss: 0.9412 - val_accuracy: 0.6172\n",
            "Epoch 30/200\n",
            "28/28 [==============================] - 20s 717ms/step - loss: 0.7868 - accuracy: 0.6997 - val_loss: 0.9095 - val_accuracy: 0.6354\n",
            "Epoch 31/200\n",
            "28/28 [==============================] - 20s 719ms/step - loss: 0.7993 - accuracy: 0.6944 - val_loss: 0.8822 - val_accuracy: 0.6523\n",
            "Epoch 32/200\n",
            "28/28 [==============================] - 20s 718ms/step - loss: 0.7901 - accuracy: 0.6947 - val_loss: 0.9203 - val_accuracy: 0.6302\n",
            "Epoch 33/200\n",
            "28/28 [==============================] - 20s 720ms/step - loss: 0.7934 - accuracy: 0.6916 - val_loss: 0.9198 - val_accuracy: 0.6328\n",
            "Epoch 34/200\n",
            "28/28 [==============================] - 20s 720ms/step - loss: 0.7724 - accuracy: 0.7006 - val_loss: 0.9174 - val_accuracy: 0.6354\n",
            "Epoch 35/200\n",
            "28/28 [==============================] - 20s 717ms/step - loss: 0.7873 - accuracy: 0.7000 - val_loss: 0.9134 - val_accuracy: 0.6224\n",
            "Epoch 36/200\n",
            "28/28 [==============================] - 20s 718ms/step - loss: 0.7789 - accuracy: 0.6981 - val_loss: 0.9132 - val_accuracy: 0.6159\n",
            "Epoch 37/200\n",
            "28/28 [==============================] - 20s 721ms/step - loss: 0.7802 - accuracy: 0.6989 - val_loss: 0.9139 - val_accuracy: 0.6211\n",
            "Epoch 38/200\n",
            "28/28 [==============================] - 20s 722ms/step - loss: 0.7812 - accuracy: 0.6893 - val_loss: 0.9212 - val_accuracy: 0.6354\n",
            "Epoch 39/200\n",
            "28/28 [==============================] - 20s 729ms/step - loss: 0.7784 - accuracy: 0.6995 - val_loss: 0.8989 - val_accuracy: 0.6120\n",
            "Epoch 40/200\n",
            "28/28 [==============================] - 20s 733ms/step - loss: 0.7820 - accuracy: 0.7009 - val_loss: 0.8918 - val_accuracy: 0.6315\n",
            "Epoch 41/200\n",
            "28/28 [==============================] - 20s 721ms/step - loss: 0.7846 - accuracy: 0.6941 - val_loss: 0.9092 - val_accuracy: 0.6445\n",
            "Epoch 42/200\n",
            "28/28 [==============================] - 20s 725ms/step - loss: 0.7686 - accuracy: 0.7065 - val_loss: 0.9260 - val_accuracy: 0.6263\n",
            "Epoch 43/200\n",
            "28/28 [==============================] - 20s 723ms/step - loss: 0.7657 - accuracy: 0.7028 - val_loss: 0.9199 - val_accuracy: 0.6315\n",
            "Epoch 44/200\n",
            "28/28 [==============================] - 20s 723ms/step - loss: 0.7718 - accuracy: 0.6947 - val_loss: 0.8691 - val_accuracy: 0.6497\n",
            "Epoch 45/200\n",
            "28/28 [==============================] - 20s 718ms/step - loss: 0.7724 - accuracy: 0.7003 - val_loss: 0.8880 - val_accuracy: 0.6302\n",
            "Epoch 46/200\n",
            "28/28 [==============================] - 20s 718ms/step - loss: 0.7681 - accuracy: 0.7079 - val_loss: 0.9440 - val_accuracy: 0.6146\n",
            "Epoch 47/200\n",
            "28/28 [==============================] - 20s 721ms/step - loss: 0.7607 - accuracy: 0.7119 - val_loss: 0.8952 - val_accuracy: 0.6250\n",
            "Epoch 48/200\n",
            "28/28 [==============================] - 20s 724ms/step - loss: 0.7672 - accuracy: 0.7068 - val_loss: 0.9115 - val_accuracy: 0.6302\n",
            "Epoch 49/200\n",
            "28/28 [==============================] - 20s 720ms/step - loss: 0.7749 - accuracy: 0.6983 - val_loss: 0.8967 - val_accuracy: 0.6380\n",
            "Epoch 50/200\n",
            "28/28 [==============================] - 20s 723ms/step - loss: 0.7616 - accuracy: 0.7124 - val_loss: 0.9326 - val_accuracy: 0.6276\n",
            "Epoch 51/200\n",
            "28/28 [==============================] - 20s 724ms/step - loss: 0.7685 - accuracy: 0.7096 - val_loss: 0.9098 - val_accuracy: 0.6432\n",
            "Epoch 52/200\n",
            "28/28 [==============================] - 20s 716ms/step - loss: 0.7739 - accuracy: 0.7012 - val_loss: 0.9107 - val_accuracy: 0.6497\n",
            "Epoch 53/200\n",
            "28/28 [==============================] - 20s 711ms/step - loss: 0.7624 - accuracy: 0.7031 - val_loss: 0.8767 - val_accuracy: 0.6549\n",
            "Epoch 54/200\n",
            "28/28 [==============================] - 20s 707ms/step - loss: 0.7791 - accuracy: 0.6986 - val_loss: 0.9196 - val_accuracy: 0.6354\n",
            "Epoch 55/200\n",
            "28/28 [==============================] - 20s 710ms/step - loss: 0.7635 - accuracy: 0.7009 - val_loss: 0.9102 - val_accuracy: 0.6328\n",
            "Epoch 56/200\n",
            "28/28 [==============================] - 20s 707ms/step - loss: 0.7631 - accuracy: 0.7040 - val_loss: 0.9233 - val_accuracy: 0.6159\n",
            "Epoch 57/200\n",
            "28/28 [==============================] - 20s 710ms/step - loss: 0.7635 - accuracy: 0.7020 - val_loss: 0.9089 - val_accuracy: 0.6302\n",
            "Epoch 58/200\n",
            "28/28 [==============================] - 20s 710ms/step - loss: 0.7709 - accuracy: 0.7037 - val_loss: 0.9185 - val_accuracy: 0.6237\n",
            "Epoch 59/200\n",
            "28/28 [==============================] - 20s 708ms/step - loss: 0.7652 - accuracy: 0.6997 - val_loss: 0.9205 - val_accuracy: 0.6302\n",
            "Epoch 60/200\n",
            "28/28 [==============================] - 20s 704ms/step - loss: 0.7775 - accuracy: 0.7040 - val_loss: 0.8959 - val_accuracy: 0.6393\n",
            "Epoch 61/200\n",
            "28/28 [==============================] - 20s 702ms/step - loss: 0.7466 - accuracy: 0.7107 - val_loss: 0.9009 - val_accuracy: 0.6289\n",
            "Epoch 62/200\n",
            "28/28 [==============================] - 20s 709ms/step - loss: 0.7506 - accuracy: 0.7093 - val_loss: 0.9024 - val_accuracy: 0.6159\n",
            "Epoch 63/200\n",
            "28/28 [==============================] - 20s 710ms/step - loss: 0.7487 - accuracy: 0.7059 - val_loss: 0.8978 - val_accuracy: 0.6432\n",
            "Epoch 64/200\n",
            "28/28 [==============================] - 20s 711ms/step - loss: 0.7565 - accuracy: 0.7093 - val_loss: 0.8876 - val_accuracy: 0.6341\n",
            "Epoch 65/200\n",
            "28/28 [==============================] - 20s 711ms/step - loss: 0.7487 - accuracy: 0.7169 - val_loss: 0.8670 - val_accuracy: 0.6458\n",
            "Epoch 66/200\n",
            "28/28 [==============================] - 20s 709ms/step - loss: 0.7534 - accuracy: 0.7088 - val_loss: 0.8689 - val_accuracy: 0.6562\n",
            "Epoch 67/200\n",
            "28/28 [==============================] - 20s 705ms/step - loss: 0.7552 - accuracy: 0.7113 - val_loss: 0.9265 - val_accuracy: 0.6354\n",
            "Epoch 68/200\n",
            "28/28 [==============================] - 20s 707ms/step - loss: 0.7502 - accuracy: 0.7124 - val_loss: 0.8951 - val_accuracy: 0.6393\n",
            "Epoch 69/200\n",
            "28/28 [==============================] - 20s 712ms/step - loss: 0.7492 - accuracy: 0.7107 - val_loss: 0.8971 - val_accuracy: 0.6315\n",
            "Epoch 70/200\n",
            "28/28 [==============================] - 20s 717ms/step - loss: 0.7454 - accuracy: 0.7012 - val_loss: 0.8928 - val_accuracy: 0.6328\n",
            "Epoch 71/200\n",
            "28/28 [==============================] - 20s 719ms/step - loss: 0.7544 - accuracy: 0.7184 - val_loss: 0.8875 - val_accuracy: 0.6393\n",
            "Epoch 72/200\n",
            "28/28 [==============================] - 20s 721ms/step - loss: 0.7545 - accuracy: 0.7079 - val_loss: 0.9033 - val_accuracy: 0.6393\n",
            "Epoch 73/200\n",
            "28/28 [==============================] - 20s 718ms/step - loss: 0.7457 - accuracy: 0.7090 - val_loss: 0.9000 - val_accuracy: 0.6367\n",
            "Epoch 74/200\n",
            "28/28 [==============================] - 20s 722ms/step - loss: 0.7541 - accuracy: 0.7130 - val_loss: 0.9041 - val_accuracy: 0.6354\n",
            "Epoch 75/200\n",
            "28/28 [==============================] - 20s 721ms/step - loss: 0.7491 - accuracy: 0.7153 - val_loss: 0.9035 - val_accuracy: 0.6328\n",
            "Epoch 76/200\n",
            "28/28 [==============================] - 20s 717ms/step - loss: 0.7399 - accuracy: 0.7167 - val_loss: 0.8942 - val_accuracy: 0.6250\n",
            "Epoch 77/200\n",
            "28/28 [==============================] - 20s 716ms/step - loss: 0.7446 - accuracy: 0.7082 - val_loss: 0.8882 - val_accuracy: 0.6406\n",
            "Epoch 78/200\n",
            "28/28 [==============================] - 20s 720ms/step - loss: 0.7461 - accuracy: 0.7076 - val_loss: 0.9160 - val_accuracy: 0.6302\n",
            "Epoch 79/200\n",
            "28/28 [==============================] - 20s 721ms/step - loss: 0.7520 - accuracy: 0.7110 - val_loss: 0.8689 - val_accuracy: 0.6380\n",
            "Epoch 80/200\n",
            "28/28 [==============================] - 20s 726ms/step - loss: 0.7519 - accuracy: 0.7034 - val_loss: 0.9110 - val_accuracy: 0.6185\n",
            "Epoch 81/200\n",
            "28/28 [==============================] - 20s 722ms/step - loss: 0.7461 - accuracy: 0.7126 - val_loss: 0.8904 - val_accuracy: 0.6289\n",
            "Epoch 82/200\n",
            "28/28 [==============================] - 20s 721ms/step - loss: 0.7416 - accuracy: 0.7144 - val_loss: 0.9031 - val_accuracy: 0.6458\n",
            "Epoch 83/200\n",
            "28/28 [==============================] - 20s 720ms/step - loss: 0.7451 - accuracy: 0.7122 - val_loss: 0.9013 - val_accuracy: 0.6250\n",
            "Epoch 84/200\n",
            "28/28 [==============================] - 20s 718ms/step - loss: 0.7448 - accuracy: 0.7184 - val_loss: 0.8992 - val_accuracy: 0.6341\n",
            "Epoch 85/200\n",
            "28/28 [==============================] - 20s 720ms/step - loss: 0.7445 - accuracy: 0.7110 - val_loss: 0.8951 - val_accuracy: 0.6341\n",
            "Epoch 86/200\n",
            "28/28 [==============================] - 20s 720ms/step - loss: 0.7368 - accuracy: 0.7105 - val_loss: 0.8802 - val_accuracy: 0.6510\n",
            "Epoch 87/200\n",
            "28/28 [==============================] - 20s 720ms/step - loss: 0.7417 - accuracy: 0.7237 - val_loss: 0.9338 - val_accuracy: 0.6211\n",
            "Epoch 88/200\n",
            "28/28 [==============================] - 20s 717ms/step - loss: 0.7447 - accuracy: 0.7043 - val_loss: 0.9123 - val_accuracy: 0.6250\n",
            "Epoch 89/200\n",
            "28/28 [==============================] - 20s 718ms/step - loss: 0.7420 - accuracy: 0.7116 - val_loss: 0.8794 - val_accuracy: 0.6302\n",
            "Epoch 90/200\n",
            "28/28 [==============================] - 20s 705ms/step - loss: 0.7529 - accuracy: 0.7099 - val_loss: 0.8940 - val_accuracy: 0.6419\n",
            "Epoch 91/200\n",
            "28/28 [==============================] - 20s 711ms/step - loss: 0.7369 - accuracy: 0.7147 - val_loss: 0.9144 - val_accuracy: 0.6315\n",
            "Epoch 92/200\n",
            "28/28 [==============================] - 20s 708ms/step - loss: 0.7411 - accuracy: 0.7167 - val_loss: 0.9030 - val_accuracy: 0.6328\n",
            "Epoch 93/200\n",
            "28/28 [==============================] - 20s 707ms/step - loss: 0.7561 - accuracy: 0.7158 - val_loss: 0.9147 - val_accuracy: 0.6315\n",
            "Epoch 94/200\n",
            "28/28 [==============================] - 20s 698ms/step - loss: 0.7409 - accuracy: 0.7209 - val_loss: 0.9038 - val_accuracy: 0.6354\n",
            "Epoch 95/200\n",
            "28/28 [==============================] - 20s 712ms/step - loss: 0.7406 - accuracy: 0.7172 - val_loss: 0.8738 - val_accuracy: 0.6380\n",
            "Epoch 96/200\n",
            "28/28 [==============================] - 20s 702ms/step - loss: 0.7416 - accuracy: 0.7144 - val_loss: 0.8988 - val_accuracy: 0.6315\n",
            "Epoch 97/200\n",
            "28/28 [==============================] - 20s 702ms/step - loss: 0.7305 - accuracy: 0.7220 - val_loss: 0.9080 - val_accuracy: 0.6146\n",
            "Epoch 98/200\n",
            "28/28 [==============================] - 20s 701ms/step - loss: 0.7309 - accuracy: 0.7164 - val_loss: 0.8962 - val_accuracy: 0.6328\n",
            "Epoch 99/200\n",
            "28/28 [==============================] - 20s 700ms/step - loss: 0.7511 - accuracy: 0.6986 - val_loss: 0.8930 - val_accuracy: 0.6380\n",
            "Epoch 100/200\n",
            "28/28 [==============================] - 20s 699ms/step - loss: 0.7387 - accuracy: 0.7113 - val_loss: 0.9160 - val_accuracy: 0.6445\n",
            "Epoch 101/200\n",
            "28/28 [==============================] - 20s 705ms/step - loss: 0.7288 - accuracy: 0.7215 - val_loss: 0.8905 - val_accuracy: 0.6445\n",
            "Epoch 102/200\n",
            "28/28 [==============================] - 19s 693ms/step - loss: 0.7315 - accuracy: 0.7268 - val_loss: 0.8917 - val_accuracy: 0.6458\n",
            "Epoch 103/200\n",
            "28/28 [==============================] - 19s 694ms/step - loss: 0.7350 - accuracy: 0.7153 - val_loss: 0.8624 - val_accuracy: 0.6549\n",
            "Epoch 104/200\n",
            "28/28 [==============================] - 20s 700ms/step - loss: 0.7217 - accuracy: 0.7198 - val_loss: 0.9075 - val_accuracy: 0.6445\n",
            "Epoch 105/200\n",
            "28/28 [==============================] - 20s 698ms/step - loss: 0.7368 - accuracy: 0.7168 - val_loss: 0.8700 - val_accuracy: 0.6458\n",
            "Epoch 106/200\n",
            "28/28 [==============================] - 19s 692ms/step - loss: 0.7301 - accuracy: 0.7203 - val_loss: 0.8920 - val_accuracy: 0.6419\n",
            "Epoch 107/200\n",
            "28/28 [==============================] - 20s 700ms/step - loss: 0.7266 - accuracy: 0.7167 - val_loss: 0.8930 - val_accuracy: 0.6328\n",
            "Epoch 108/200\n",
            "28/28 [==============================] - 20s 704ms/step - loss: 0.7289 - accuracy: 0.7200 - val_loss: 0.8935 - val_accuracy: 0.6419\n",
            "Epoch 109/200\n",
            "28/28 [==============================] - 20s 698ms/step - loss: 0.7240 - accuracy: 0.7198 - val_loss: 0.8915 - val_accuracy: 0.6497\n",
            "Epoch 110/200\n",
            "28/28 [==============================] - 20s 710ms/step - loss: 0.7175 - accuracy: 0.7279 - val_loss: 0.8934 - val_accuracy: 0.6432\n",
            "Epoch 111/200\n",
            "28/28 [==============================] - 20s 708ms/step - loss: 0.7194 - accuracy: 0.7299 - val_loss: 0.8916 - val_accuracy: 0.6589\n",
            "Epoch 112/200\n",
            "28/28 [==============================] - 20s 710ms/step - loss: 0.7345 - accuracy: 0.7209 - val_loss: 0.8589 - val_accuracy: 0.6576\n",
            "Epoch 113/200\n",
            "28/28 [==============================] - 20s 699ms/step - loss: 0.7341 - accuracy: 0.7215 - val_loss: 0.8813 - val_accuracy: 0.6341\n",
            "Epoch 114/200\n",
            "28/28 [==============================] - 20s 699ms/step - loss: 0.7220 - accuracy: 0.7209 - val_loss: 0.8980 - val_accuracy: 0.6380\n",
            "Epoch 115/200\n",
            "28/28 [==============================] - 20s 701ms/step - loss: 0.7326 - accuracy: 0.7172 - val_loss: 0.8793 - val_accuracy: 0.6237\n",
            "Epoch 116/200\n",
            "28/28 [==============================] - 20s 711ms/step - loss: 0.7250 - accuracy: 0.7119 - val_loss: 0.8587 - val_accuracy: 0.6549\n",
            "Epoch 117/200\n",
            "28/28 [==============================] - 20s 708ms/step - loss: 0.7274 - accuracy: 0.7200 - val_loss: 0.9214 - val_accuracy: 0.6224\n",
            "Epoch 118/200\n",
            "28/28 [==============================] - 20s 700ms/step - loss: 0.7266 - accuracy: 0.7206 - val_loss: 0.8869 - val_accuracy: 0.6367\n",
            "Epoch 119/200\n",
            "28/28 [==============================] - 20s 695ms/step - loss: 0.7091 - accuracy: 0.7260 - val_loss: 0.8830 - val_accuracy: 0.6406\n",
            "Epoch 120/200\n",
            "28/28 [==============================] - 19s 689ms/step - loss: 0.7272 - accuracy: 0.7184 - val_loss: 0.9043 - val_accuracy: 0.6120\n",
            "Epoch 121/200\n",
            "28/28 [==============================] - 20s 694ms/step - loss: 0.7186 - accuracy: 0.7186 - val_loss: 0.8883 - val_accuracy: 0.6393\n",
            "Epoch 122/200\n",
            "28/28 [==============================] - 20s 699ms/step - loss: 0.7243 - accuracy: 0.7248 - val_loss: 0.9296 - val_accuracy: 0.6367\n",
            "Epoch 123/200\n",
            "28/28 [==============================] - 20s 701ms/step - loss: 0.7269 - accuracy: 0.7181 - val_loss: 0.9008 - val_accuracy: 0.6354\n",
            "Epoch 124/200\n",
            "28/28 [==============================] - 20s 710ms/step - loss: 0.7366 - accuracy: 0.7220 - val_loss: 0.8708 - val_accuracy: 0.6471\n",
            "Epoch 125/200\n",
            "28/28 [==============================] - 20s 713ms/step - loss: 0.7147 - accuracy: 0.7231 - val_loss: 0.8806 - val_accuracy: 0.6458\n",
            "Epoch 126/200\n",
            "28/28 [==============================] - 20s 707ms/step - loss: 0.7090 - accuracy: 0.7305 - val_loss: 0.9017 - val_accuracy: 0.6393\n",
            "Epoch 127/200\n",
            "28/28 [==============================] - 20s 704ms/step - loss: 0.7284 - accuracy: 0.7169 - val_loss: 0.8854 - val_accuracy: 0.6615\n",
            "Epoch 128/200\n",
            "28/28 [==============================] - 20s 708ms/step - loss: 0.7281 - accuracy: 0.7189 - val_loss: 0.8879 - val_accuracy: 0.6458\n",
            "Epoch 129/200\n",
            "28/28 [==============================] - 20s 706ms/step - loss: 0.7241 - accuracy: 0.7130 - val_loss: 0.8987 - val_accuracy: 0.6471\n",
            "Epoch 130/200\n",
            "28/28 [==============================] - 20s 709ms/step - loss: 0.7319 - accuracy: 0.7220 - val_loss: 0.8663 - val_accuracy: 0.6497\n",
            "Epoch 131/200\n",
            "28/28 [==============================] - 20s 703ms/step - loss: 0.7321 - accuracy: 0.7192 - val_loss: 0.8684 - val_accuracy: 0.6497\n",
            "Epoch 132/200\n",
            "28/28 [==============================] - 20s 701ms/step - loss: 0.7341 - accuracy: 0.7200 - val_loss: 0.8716 - val_accuracy: 0.6471\n",
            "Epoch 133/200\n",
            "28/28 [==============================] - 20s 702ms/step - loss: 0.7195 - accuracy: 0.7226 - val_loss: 0.8656 - val_accuracy: 0.6445\n",
            "Epoch 134/200\n",
            "28/28 [==============================] - 20s 701ms/step - loss: 0.7150 - accuracy: 0.7246 - val_loss: 0.9156 - val_accuracy: 0.6276\n",
            "Epoch 135/200\n",
            "28/28 [==============================] - 20s 699ms/step - loss: 0.7281 - accuracy: 0.7231 - val_loss: 0.8621 - val_accuracy: 0.6615\n",
            "Epoch 136/200\n",
            "28/28 [==============================] - 20s 701ms/step - loss: 0.7271 - accuracy: 0.7229 - val_loss: 0.9003 - val_accuracy: 0.6549\n",
            "Epoch 137/200\n",
            "28/28 [==============================] - 20s 696ms/step - loss: 0.7118 - accuracy: 0.7260 - val_loss: 0.8728 - val_accuracy: 0.6471\n",
            "Epoch 138/200\n",
            "28/28 [==============================] - 20s 698ms/step - loss: 0.7108 - accuracy: 0.7302 - val_loss: 0.8818 - val_accuracy: 0.6393\n",
            "Epoch 139/200\n",
            "28/28 [==============================] - 20s 700ms/step - loss: 0.7155 - accuracy: 0.7254 - val_loss: 0.8528 - val_accuracy: 0.6576\n",
            "Epoch 140/200\n",
            "28/28 [==============================] - 20s 702ms/step - loss: 0.7113 - accuracy: 0.7254 - val_loss: 0.9267 - val_accuracy: 0.6341\n",
            "Epoch 141/200\n",
            "28/28 [==============================] - 20s 696ms/step - loss: 0.7300 - accuracy: 0.7167 - val_loss: 0.9120 - val_accuracy: 0.6328\n",
            "Epoch 142/200\n",
            "28/28 [==============================] - 20s 696ms/step - loss: 0.7133 - accuracy: 0.7246 - val_loss: 0.8701 - val_accuracy: 0.6367\n",
            "Epoch 143/200\n",
            "28/28 [==============================] - 20s 697ms/step - loss: 0.7335 - accuracy: 0.7169 - val_loss: 0.8754 - val_accuracy: 0.6471\n",
            "Epoch 144/200\n",
            "28/28 [==============================] - 19s 688ms/step - loss: 0.7086 - accuracy: 0.7291 - val_loss: 0.8905 - val_accuracy: 0.6615\n",
            "Epoch 145/200\n",
            "28/28 [==============================] - 19s 683ms/step - loss: 0.7117 - accuracy: 0.7251 - val_loss: 0.9059 - val_accuracy: 0.6315\n",
            "Epoch 146/200\n",
            "28/28 [==============================] - 19s 689ms/step - loss: 0.7234 - accuracy: 0.7172 - val_loss: 0.8857 - val_accuracy: 0.6445\n",
            "Epoch 147/200\n",
            "28/28 [==============================] - 19s 689ms/step - loss: 0.7203 - accuracy: 0.7257 - val_loss: 0.8877 - val_accuracy: 0.6510\n",
            "Epoch 148/200\n",
            "28/28 [==============================] - 20s 695ms/step - loss: 0.7084 - accuracy: 0.7220 - val_loss: 0.8996 - val_accuracy: 0.6419\n",
            "Epoch 149/200\n",
            "28/28 [==============================] - 19s 687ms/step - loss: 0.7179 - accuracy: 0.7200 - val_loss: 0.8834 - val_accuracy: 0.6458\n",
            "Epoch 150/200\n",
            "28/28 [==============================] - 19s 688ms/step - loss: 0.7190 - accuracy: 0.7251 - val_loss: 0.9044 - val_accuracy: 0.6289\n",
            "Epoch 151/200\n",
            "28/28 [==============================] - 20s 697ms/step - loss: 0.7090 - accuracy: 0.7257 - val_loss: 0.8842 - val_accuracy: 0.6484\n",
            "Epoch 152/200\n",
            "28/28 [==============================] - 20s 704ms/step - loss: 0.7055 - accuracy: 0.7257 - val_loss: 0.9018 - val_accuracy: 0.6367\n",
            "Epoch 153/200\n",
            "28/28 [==============================] - 20s 703ms/step - loss: 0.7043 - accuracy: 0.7260 - val_loss: 0.8753 - val_accuracy: 0.6419\n",
            "Epoch 154/200\n",
            "28/28 [==============================] - 19s 690ms/step - loss: 0.6964 - accuracy: 0.7347 - val_loss: 0.8803 - val_accuracy: 0.6380\n",
            "Epoch 155/200\n",
            "28/28 [==============================] - 19s 681ms/step - loss: 0.7128 - accuracy: 0.7237 - val_loss: 0.8973 - val_accuracy: 0.6419\n",
            "Epoch 156/200\n",
            "28/28 [==============================] - 19s 684ms/step - loss: 0.7115 - accuracy: 0.7248 - val_loss: 0.8739 - val_accuracy: 0.6328\n",
            "Epoch 157/200\n",
            "28/28 [==============================] - 19s 687ms/step - loss: 0.7059 - accuracy: 0.7262 - val_loss: 0.8411 - val_accuracy: 0.6719\n",
            "Epoch 158/200\n",
            "28/28 [==============================] - 19s 681ms/step - loss: 0.7132 - accuracy: 0.7265 - val_loss: 0.8657 - val_accuracy: 0.6484\n",
            "Epoch 159/200\n",
            "28/28 [==============================] - 19s 687ms/step - loss: 0.7102 - accuracy: 0.7316 - val_loss: 0.8783 - val_accuracy: 0.6562\n",
            "Epoch 160/200\n",
            "28/28 [==============================] - 19s 683ms/step - loss: 0.7072 - accuracy: 0.7333 - val_loss: 0.8874 - val_accuracy: 0.6315\n",
            "Epoch 161/200\n",
            "28/28 [==============================] - 19s 690ms/step - loss: 0.7227 - accuracy: 0.7260 - val_loss: 0.8563 - val_accuracy: 0.6667\n",
            "Epoch 162/200\n",
            "28/28 [==============================] - 19s 687ms/step - loss: 0.7197 - accuracy: 0.7288 - val_loss: 0.8728 - val_accuracy: 0.6667\n",
            "Epoch 163/200\n",
            "28/28 [==============================] - 19s 687ms/step - loss: 0.7182 - accuracy: 0.7198 - val_loss: 0.8887 - val_accuracy: 0.6510\n",
            "Epoch 164/200\n",
            "28/28 [==============================] - 19s 694ms/step - loss: 0.7087 - accuracy: 0.7319 - val_loss: 0.8651 - val_accuracy: 0.6458\n",
            "Epoch 165/200\n",
            "28/28 [==============================] - 19s 678ms/step - loss: 0.7067 - accuracy: 0.7254 - val_loss: 0.8616 - val_accuracy: 0.6654\n",
            "Epoch 166/200\n",
            "28/28 [==============================] - 19s 683ms/step - loss: 0.7187 - accuracy: 0.7189 - val_loss: 0.8869 - val_accuracy: 0.6419\n",
            "Epoch 167/200\n",
            "28/28 [==============================] - 19s 678ms/step - loss: 0.6988 - accuracy: 0.7296 - val_loss: 0.8824 - val_accuracy: 0.6510\n",
            "Epoch 168/200\n",
            "28/28 [==============================] - 19s 679ms/step - loss: 0.6914 - accuracy: 0.7344 - val_loss: 0.9231 - val_accuracy: 0.6263\n",
            "Epoch 169/200\n",
            "28/28 [==============================] - 19s 676ms/step - loss: 0.6913 - accuracy: 0.7375 - val_loss: 0.8878 - val_accuracy: 0.6510\n",
            "Epoch 170/200\n",
            "28/28 [==============================] - 19s 677ms/step - loss: 0.7091 - accuracy: 0.7293 - val_loss: 0.8802 - val_accuracy: 0.6510\n",
            "Epoch 171/200\n",
            "28/28 [==============================] - 19s 685ms/step - loss: 0.6971 - accuracy: 0.7322 - val_loss: 0.9018 - val_accuracy: 0.6419\n",
            "Epoch 172/200\n",
            "28/28 [==============================] - 19s 690ms/step - loss: 0.7158 - accuracy: 0.7293 - val_loss: 0.8769 - val_accuracy: 0.6393\n",
            "Epoch 173/200\n",
            "28/28 [==============================] - 19s 686ms/step - loss: 0.6970 - accuracy: 0.7324 - val_loss: 0.8729 - val_accuracy: 0.6693\n",
            "Epoch 174/200\n",
            "28/28 [==============================] - 19s 692ms/step - loss: 0.6991 - accuracy: 0.7347 - val_loss: 0.8753 - val_accuracy: 0.6458\n",
            "Epoch 175/200\n",
            "28/28 [==============================] - 19s 684ms/step - loss: 0.7008 - accuracy: 0.7313 - val_loss: 0.9161 - val_accuracy: 0.6315\n",
            "Epoch 176/200\n",
            "28/28 [==============================] - 19s 693ms/step - loss: 0.7031 - accuracy: 0.7333 - val_loss: 0.8824 - val_accuracy: 0.6471\n",
            "Epoch 177/200\n",
            "28/28 [==============================] - 19s 689ms/step - loss: 0.7062 - accuracy: 0.7296 - val_loss: 0.8724 - val_accuracy: 0.6432\n",
            "Epoch 178/200\n",
            "28/28 [==============================] - 19s 693ms/step - loss: 0.7000 - accuracy: 0.7268 - val_loss: 0.8616 - val_accuracy: 0.6549\n",
            "Epoch 179/200\n",
            "28/28 [==============================] - 20s 695ms/step - loss: 0.7044 - accuracy: 0.7353 - val_loss: 0.8593 - val_accuracy: 0.6549\n",
            "Epoch 180/200\n",
            "28/28 [==============================] - 19s 688ms/step - loss: 0.7032 - accuracy: 0.7415 - val_loss: 0.8907 - val_accuracy: 0.6510\n",
            "Epoch 181/200\n",
            "28/28 [==============================] - 19s 694ms/step - loss: 0.7068 - accuracy: 0.7265 - val_loss: 0.9266 - val_accuracy: 0.6159\n",
            "Epoch 182/200\n",
            "28/28 [==============================] - 19s 688ms/step - loss: 0.6949 - accuracy: 0.7375 - val_loss: 0.8731 - val_accuracy: 0.6497\n",
            "Epoch 183/200\n",
            "28/28 [==============================] - 19s 692ms/step - loss: 0.6991 - accuracy: 0.7333 - val_loss: 0.8791 - val_accuracy: 0.6523\n",
            "Epoch 184/200\n",
            "28/28 [==============================] - 19s 694ms/step - loss: 0.7059 - accuracy: 0.7268 - val_loss: 0.8997 - val_accuracy: 0.6458\n",
            "Epoch 185/200\n",
            "28/28 [==============================] - 19s 689ms/step - loss: 0.6869 - accuracy: 0.7330 - val_loss: 0.8802 - val_accuracy: 0.6628\n",
            "Epoch 186/200\n",
            "28/28 [==============================] - 20s 695ms/step - loss: 0.7014 - accuracy: 0.7271 - val_loss: 0.8856 - val_accuracy: 0.6471\n",
            "Epoch 187/200\n",
            "28/28 [==============================] - 19s 692ms/step - loss: 0.6944 - accuracy: 0.7374 - val_loss: 0.9114 - val_accuracy: 0.6289\n",
            "Epoch 188/200\n",
            "28/28 [==============================] - 19s 693ms/step - loss: 0.7039 - accuracy: 0.7378 - val_loss: 0.8931 - val_accuracy: 0.6393\n",
            "Epoch 189/200\n",
            "28/28 [==============================] - 19s 692ms/step - loss: 0.6976 - accuracy: 0.7353 - val_loss: 0.8735 - val_accuracy: 0.6458\n",
            "Epoch 190/200\n",
            "28/28 [==============================] - 19s 688ms/step - loss: 0.7006 - accuracy: 0.7316 - val_loss: 0.9024 - val_accuracy: 0.6419\n",
            "Epoch 191/200\n",
            "28/28 [==============================] - 19s 687ms/step - loss: 0.6988 - accuracy: 0.7356 - val_loss: 0.8583 - val_accuracy: 0.6641\n",
            "Epoch 192/200\n",
            "28/28 [==============================] - 19s 691ms/step - loss: 0.6931 - accuracy: 0.7344 - val_loss: 0.8866 - val_accuracy: 0.6536\n",
            "Epoch 193/200\n",
            "28/28 [==============================] - 19s 692ms/step - loss: 0.6836 - accuracy: 0.7387 - val_loss: 0.8950 - val_accuracy: 0.6406\n",
            "Epoch 194/200\n",
            "28/28 [==============================] - 20s 696ms/step - loss: 0.6927 - accuracy: 0.7322 - val_loss: 0.8946 - val_accuracy: 0.6250\n",
            "Epoch 195/200\n",
            "28/28 [==============================] - 19s 692ms/step - loss: 0.6904 - accuracy: 0.7361 - val_loss: 0.8535 - val_accuracy: 0.6888\n",
            "Epoch 196/200\n",
            "28/28 [==============================] - 19s 686ms/step - loss: 0.6944 - accuracy: 0.7361 - val_loss: 0.9001 - val_accuracy: 0.6315\n",
            "Epoch 197/200\n",
            "28/28 [==============================] - 19s 688ms/step - loss: 0.6925 - accuracy: 0.7389 - val_loss: 0.8923 - val_accuracy: 0.6458\n",
            "Epoch 198/200\n",
            "28/28 [==============================] - 19s 683ms/step - loss: 0.7046 - accuracy: 0.7310 - val_loss: 0.8761 - val_accuracy: 0.6641\n",
            "Epoch 199/200\n",
            "28/28 [==============================] - 19s 678ms/step - loss: 0.7106 - accuracy: 0.7280 - val_loss: 0.8955 - val_accuracy: 0.6315\n",
            "Epoch 200/200\n",
            "28/28 [==============================] - 19s 667ms/step - loss: 0.7003 - accuracy: 0.7257 - val_loss: 0.9035 - val_accuracy: 0.6406\n"
          ]
        }
      ]
    },
    {
      "cell_type": "code",
      "metadata": {
        "id": "S1M62kGY6Eh2"
      },
      "source": [
        "#save model (before fit_generator)\n",
        "name = \"20211010_vgg16\"\n",
        "pre_trained_vgg16.save(output_folder+name+\".h5\")"
      ],
      "execution_count": null,
      "outputs": []
    },
    {
      "cell_type": "code",
      "metadata": {
        "colab": {
          "base_uri": "https://localhost:8080/",
          "height": 297
        },
        "id": "Lvx7XQdbxi2j",
        "outputId": "83c6eec7-6b0a-4ccf-eb85-93c82125078b"
      },
      "source": [
        "#Plotting the training and validation loss and accuracy\n",
        "f,ax=plt.subplots(2,1) \n",
        "\n",
        "#Loss\n",
        "ax[0].plot(np.arange(0, epochs), model_vgg16.history[\"loss\"], label=\"train_loss\")\n",
        "ax[0].plot(np.arange(0, epochs), model_vgg16.history[\"val_loss\"], label=\"val_loss\")\n",
        "ax[0].legend()\n",
        "plt.xlabel(\"Epoch #\")\n",
        "plt.ylabel(\"Loss/Accuracy\")\n",
        "#Accuracy\n",
        "ax[1].plot(np.arange(0, epochs), model_vgg16.history[\"accuracy\"], label=\"train_acc\")\n",
        "ax[1].plot(np.arange(0, epochs), model_vgg16.history[\"val_accuracy\"], label=\"val_acc\")\n",
        "ax[1].legend()\n",
        "plt.xlabel(\"Epochs    #\"+\"-- \"+name+\"--\")\n",
        "plt.ylabel(\"Loss/Accuracy\")"
      ],
      "execution_count": null,
      "outputs": [
        {
          "output_type": "execute_result",
          "data": {
            "text/plain": [
              "Text(0, 0.5, 'Loss/Accuracy')"
            ]
          },
          "metadata": {},
          "execution_count": 53
        },
        {
          "output_type": "display_data",
          "data": {
            "image/png": "[encoded data removed]",
            "text/plain": [
              "<Figure size 432x288 with 2 Axes>"
            ]
          },
          "metadata": {
            "needs_background": "light"
          }
        }
      ]
    },
    {
      "cell_type": "code",
      "metadata": {
        "colab": {
          "base_uri": "https://localhost:8080/"
        },
        "id": "Opo2OaQCxi5X",
        "outputId": "de0909e0-08f0-4c30-86eb-879a236b3fb8"
      },
      "source": [
        "#Evaluatin\n",
        "print(\"[INFO]: Model godness...\")\n",
        "y_pred = pre_trained_vgg16.predict(x_test, batch_size=128)\n",
        "y_true=np.argmax(y_test,axis=1)\n",
        "print(classification_report(y_test.argmax(axis=1), y_pred.argmax(axis=1), target_names = classes_list ))"
      ],
      "execution_count": null,
      "outputs": [
        {
          "output_type": "stream",
          "name": "stdout",
          "text": [
            "[INFO]: Model godness...\n",
            "              precision    recall  f1-score   support\n",
            "\n",
            "     Dinning       0.67      0.53      0.59        86\n",
            "     Bedroom       0.76      0.73      0.74       201\n",
            "  Livingroom       0.57      0.72      0.63       156\n",
            "     Kitchen       0.65      0.74      0.69       156\n",
            "    Bathroom       0.58      0.47      0.52       189\n",
            "\n",
            "    accuracy                           0.64       788\n",
            "   macro avg       0.65      0.64      0.64       788\n",
            "weighted avg       0.65      0.64      0.64       788\n",
            "\n"
          ]
        }
      ]
    },
    {
      "cell_type": "code",
      "metadata": {
        "id": "sZk5jk6BsPGA"
      },
      "source": [
        "# no incluyo el top (las últimas capas dense, que añado al final)\n",
        "base_model_vgg16 = VGG16(include_top=False, weights='imagenet', input_shape=(128, 128, 3), classes = y_train.shape[1], classifier_activation='softmax')\n",
        "pre_trained_vgg16 = Sequential() # to add more stuff\n",
        "\n",
        "'''\n",
        "antes lo añadía todo menos la última capa, pero como estamos trabajando sin el top model, no es necesario, las 2 últimas capas no están\n",
        "(base model acaba en block5_pool (MaxPooling2D) )\n",
        "'''\n",
        "for layer in base_model_vgg16.layers:#[:-1]: # not loading the last layer\n",
        "    pre_trained_vgg16.add(layer)    \n",
        "\n",
        "# Freeze the layers \n",
        "for layer in pre_trained_vgg16.layers:\n",
        "    layer.trainable = False\n",
        "\n",
        "# before the final layer has the shape (None, 8, 8, 5). I do need (0, 5)\n",
        "pre_trained_vgg16.add(Flatten())\n",
        "\n",
        "# emulating vgg16 architecture (but we'll train on this layers)\n",
        "pre_trained_vgg16.add(Dense(4096,activation=('relu')))\n",
        "pre_trained_vgg16.add(Dense(4096,activation=('relu'))) \n",
        "pre_trained_vgg16.add(Dense(5,activation=('softmax'))) \n",
        "pre_trained_vgg16.summary()\n",
        "print(len(pre_trained_vgg16.layers))"
      ],
      "execution_count": null,
      "outputs": []
    },
    {
      "cell_type": "code",
      "metadata": {
        "id": "7I3j6eHe4UoS"
      },
      "source": [
        ""
      ],
      "execution_count": null,
      "outputs": []
    },
    {
      "cell_type": "markdown",
      "metadata": {
        "id": "CR4xUbL8B3tu"
      },
      "source": [
        "------------------------------------\n",
        "\n",
        "## resnet50\n",
        "\n",
        "https://www.tensorflow.org/api_docs/python/tf/keras/applications/resnet50/ResNet50\n",
        "\n",
        "\n",
        "let's \n",
        "-  not loading the top model, create it and modify the last layer to have 5 neurons for our 5 classes (this is done loading all but last layer).\n",
        "- the difference between loading or not the mop model consists of 2 layers:\n",
        "  - avg_pool (GlobalAveragePooling2 (None, 2048)\n",
        "  - predictions (Dense)             (None, 1000) **-5 in our case because we have to infer 5 different classes-**\n",
        "  So we'll load it without the top model and later add this 2 layers.\n",
        "- freeze layers\n",
        "- Estaba teniendo problemas con establecer Sequential() con la resnet. antes lo hacía como la primera celda muteada y daba error. abajo me sale bien, no entiendo muy bien por qué todavía (otra forma de ordenar capas)"
      ]
    },
    {
      "cell_type": "code",
      "metadata": {
        "id": "oGN9dfchDhit"
      },
      "source": [
        "#resnet50 = ResNet50()\n",
        "#resnet50.summary()\n",
        "\n",
        "# resnet50 = ResNet50(include_top=False, weights='imagenet', input_shape=(128, 128, 3), classes = y_train.shape[1], classifier_activation='softmax')\n",
        "# resnet50.summary()"
      ],
      "execution_count": 27,
      "outputs": []
    },
    {
      "cell_type": "code",
      "metadata": {
        "id": "IAMqmszHFoDN",
        "colab": {
          "base_uri": "https://localhost:8080/"
        },
        "outputId": "91b548b6-f365-4960-cf13-c65ba8cd5523"
      },
      "source": [
        "from tensorflow.keras.layers import GlobalAveragePooling2D\n",
        "pre_trained_resnet50 = Sequential()\n",
        "# NOTE that this layer will be set below as NOT TRAINABLE, i.e., use it as is\n",
        "pre_trained_resnet50.add(ResNet50(include_top=False, weights='imagenet', input_shape=(128, 128, 3), classes = y_train.shape[1], classifier_activation='softmax'))\n",
        "\n",
        "# Freeze the layers \n",
        "for layer in pre_trained_resnet50.layers:\n",
        "    layer.trainable = False\n",
        "\n",
        "# https://keras.io/api/layers/pooling_layers/global_average_pooling2d/\n",
        "pre_trained_resnet50.add(GlobalAveragePooling2D())\n",
        "\n",
        "#añadimos el top model\n",
        "'''la última capa es la de 1000 neuronas y la estoy sustituyendo por la mía de 5'''\n",
        "#pre_trained_resnet50.add(Dense(1024,activation=('softmax'))) \n",
        "pre_trained_resnet50.add(Dense(5,activation=('softmax'))) \n",
        "pre_trained_resnet50.summary()"
      ],
      "execution_count": 28,
      "outputs": [
        {
          "output_type": "stream",
          "name": "stdout",
          "text": [
            "Model: \"sequential_5\"\n",
            "_________________________________________________________________\n",
            "Layer (type)                 Output Shape              Param #   \n",
            "=================================================================\n",
            "resnet50 (Functional)        (None, 4, 4, 2048)        23587712  \n",
            "_________________________________________________________________\n",
            "global_average_pooling2d_5 ( (None, 2048)              0         \n",
            "_________________________________________________________________\n",
            "dense_7 (Dense)              (None, 5)                 10245     \n",
            "=================================================================\n",
            "Total params: 23,597,957\n",
            "Trainable params: 10,245\n",
            "Non-trainable params: 23,587,712\n",
            "_________________________________________________________________\n"
          ]
        }
      ]
    },
    {
      "cell_type": "markdown",
      "metadata": {
        "id": "RSe1j5R1B3t5"
      },
      "source": [
        "- training"
      ]
    },
    {
      "cell_type": "code",
      "metadata": {
        "id": "-3Gc2Q7jB3t6"
      },
      "source": [
        "from keras.callbacks import ReduceLROnPlateau\n",
        "\n",
        "lrr= ReduceLROnPlateau(monitor='accuracy', factor=.001, patience=3, min_lr=1e-4) # \"val_acc \" warning\n",
        "#https://keras.io/api/callbacks/early_stopping/\n",
        "#early_stopping = tf.keras.callbacks.EarlyStopping(monitor='val_loss', patience=10)"
      ],
      "execution_count": 29,
      "outputs": []
    },
    {
      "cell_type": "code",
      "metadata": {
        "id": "8nq9NObbB3t7"
      },
      "source": [
        "#Initializing the hyperparameters\n",
        "from tensorflow.keras.optimizers import SGD#, Adam\n",
        "batch_size= 128\n",
        "epochs=200\n",
        "learn_rate=.01\n",
        "sgd=SGD(learning_rate=learn_rate,momentum=.9,nesterov=False)\n",
        "#adam=Adam(learning_rate=learn_rate, beta_1=0.9, beta_2=0.999, epsilon=None, decay=0.0, amsgrad=False)\n",
        "pre_trained_resnet50.compile(optimizer=sgd,loss='categorical_crossentropy',metrics=['accuracy'] )"
      ],
      "execution_count": 31,
      "outputs": []
    },
    {
      "cell_type": "code",
      "metadata": {
        "id": "j-MJSVILB3t7",
        "colab": {
          "base_uri": "https://localhost:8080/"
        },
        "outputId": "122f81e5-28eb-49fa-df46-9e1267bf846b"
      },
      "source": [
        "#Training the model - al usar esta config no tengo un array de val_accuracy, val_loss https://stackoverflow.com/questions/55746382/why-val-loss-and-val-acc-are-not-displaying\n",
        "\n",
        "model_resnet50= pre_trained_resnet50.fit_generator(\n",
        "    train_generator.flow(x_train, y_train, batch_size= batch_size),\n",
        "    epochs = epochs, \n",
        "    validation_data = val_generator.flow(x_val, y_val, batch_size = batch_size), \n",
        "    steps_per_epoch = len(x_train)//batch_size , # to avoid running out of data error\n",
        "    validation_steps  = len(x_test)//batch_size, # to avoid running out of data error\n",
        "    callbacks=[lrr], \n",
        "    verbose = 1\n",
        "    )"
      ],
      "execution_count": 32,
      "outputs": [
        {
          "output_type": "stream",
          "name": "stderr",
          "text": [
            "/usr/local/lib/python3.7/dist-packages/keras/engine/training.py:1972: UserWarning: `Model.fit_generator` is deprecated and will be removed in a future version. Please use `Model.fit`, which supports generators.\n",
            "  warnings.warn('`Model.fit_generator` is deprecated and '\n"
          ]
        },
        {
          "output_type": "stream",
          "name": "stdout",
          "text": [
            "Epoch 1/200\n",
            "28/28 [==============================] - 54s 794ms/step - loss: 1.6768 - accuracy: 0.2337 - val_loss: 1.6983 - val_accuracy: 0.1966\n",
            "Epoch 2/200\n",
            "28/28 [==============================] - 20s 708ms/step - loss: 1.6785 - accuracy: 0.2210 - val_loss: 1.6089 - val_accuracy: 0.2552\n",
            "Epoch 3/200\n",
            "28/28 [==============================] - 20s 708ms/step - loss: 1.6611 - accuracy: 0.2323 - val_loss: 1.6196 - val_accuracy: 0.2565\n",
            "Epoch 4/200\n",
            "28/28 [==============================] - 20s 705ms/step - loss: 1.6779 - accuracy: 0.2365 - val_loss: 1.7421 - val_accuracy: 0.2109\n",
            "Epoch 5/200\n",
            "28/28 [==============================] - 20s 704ms/step - loss: 1.6937 - accuracy: 0.2301 - val_loss: 1.6781 - val_accuracy: 0.2161\n",
            "Epoch 6/200\n",
            "28/28 [==============================] - 20s 697ms/step - loss: 1.6574 - accuracy: 0.2441 - val_loss: 1.6103 - val_accuracy: 0.2526\n",
            "Epoch 7/200\n",
            "28/28 [==============================] - 20s 701ms/step - loss: 1.6982 - accuracy: 0.2413 - val_loss: 1.5633 - val_accuracy: 0.2422\n",
            "Epoch 8/200\n",
            "28/28 [==============================] - 20s 697ms/step - loss: 1.5723 - accuracy: 0.2563 - val_loss: 1.5925 - val_accuracy: 0.2214\n",
            "Epoch 9/200\n",
            "28/28 [==============================] - 20s 698ms/step - loss: 1.6096 - accuracy: 0.2478 - val_loss: 1.6238 - val_accuracy: 0.2083\n",
            "Epoch 10/200\n",
            "28/28 [==============================] - 20s 699ms/step - loss: 1.6344 - accuracy: 0.2422 - val_loss: 1.7331 - val_accuracy: 0.2188\n",
            "Epoch 11/200\n",
            "28/28 [==============================] - 20s 695ms/step - loss: 1.5492 - accuracy: 0.2878 - val_loss: 1.6687 - val_accuracy: 0.2643\n",
            "Epoch 12/200\n",
            "28/28 [==============================] - 20s 701ms/step - loss: 1.6370 - accuracy: 0.2582 - val_loss: 1.5737 - val_accuracy: 0.2760\n",
            "Epoch 13/200\n",
            "28/28 [==============================] - 20s 700ms/step - loss: 1.5815 - accuracy: 0.2678 - val_loss: 1.5666 - val_accuracy: 0.2383\n",
            "Epoch 14/200\n",
            "28/28 [==============================] - 20s 703ms/step - loss: 1.5594 - accuracy: 0.2783 - val_loss: 1.5775 - val_accuracy: 0.2526\n",
            "Epoch 15/200\n",
            "28/28 [==============================] - 20s 710ms/step - loss: 2.9875 - accuracy: 0.2264 - val_loss: 2.3038 - val_accuracy: 0.2747\n",
            "Epoch 16/200\n",
            "28/28 [==============================] - 20s 711ms/step - loss: 1.7115 - accuracy: 0.2687 - val_loss: 1.5798 - val_accuracy: 0.2539\n",
            "Epoch 17/200\n",
            "28/28 [==============================] - 20s 717ms/step - loss: 1.5151 - accuracy: 0.2972 - val_loss: 1.5234 - val_accuracy: 0.3034\n",
            "Epoch 18/200\n",
            "28/28 [==============================] - 20s 700ms/step - loss: 1.4992 - accuracy: 0.3104 - val_loss: 1.5238 - val_accuracy: 0.3034\n",
            "Epoch 19/200\n",
            "28/28 [==============================] - 20s 703ms/step - loss: 1.5001 - accuracy: 0.3177 - val_loss: 1.5252 - val_accuracy: 0.3086\n",
            "Epoch 20/200\n",
            "28/28 [==============================] - 20s 703ms/step - loss: 1.5025 - accuracy: 0.3180 - val_loss: 1.5260 - val_accuracy: 0.3034\n",
            "Epoch 21/200\n",
            "28/28 [==============================] - 19s 695ms/step - loss: 1.4978 - accuracy: 0.3175 - val_loss: 1.5202 - val_accuracy: 0.3177\n",
            "Epoch 22/200\n",
            "28/28 [==============================] - 20s 703ms/step - loss: 1.5014 - accuracy: 0.3132 - val_loss: 1.5251 - val_accuracy: 0.3060\n",
            "Epoch 23/200\n",
            "28/28 [==============================] - 20s 699ms/step - loss: 1.5027 - accuracy: 0.3169 - val_loss: 1.5271 - val_accuracy: 0.2995\n",
            "Epoch 24/200\n",
            "28/28 [==============================] - 19s 694ms/step - loss: 1.4992 - accuracy: 0.3141 - val_loss: 1.5302 - val_accuracy: 0.2786\n",
            "Epoch 25/200\n",
            "28/28 [==============================] - 20s 698ms/step - loss: 1.5011 - accuracy: 0.3115 - val_loss: 1.5234 - val_accuracy: 0.3060\n",
            "Epoch 26/200\n",
            "28/28 [==============================] - 19s 694ms/step - loss: 1.5006 - accuracy: 0.3169 - val_loss: 1.5176 - val_accuracy: 0.3268\n",
            "Epoch 27/200\n",
            "28/28 [==============================] - 19s 695ms/step - loss: 1.5017 - accuracy: 0.3206 - val_loss: 1.5187 - val_accuracy: 0.3034\n",
            "Epoch 28/200\n",
            "28/28 [==============================] - 19s 694ms/step - loss: 1.5023 - accuracy: 0.3158 - val_loss: 1.5283 - val_accuracy: 0.3021\n",
            "Epoch 29/200\n",
            "28/28 [==============================] - 20s 705ms/step - loss: 1.5013 - accuracy: 0.3065 - val_loss: 1.5160 - val_accuracy: 0.3203\n",
            "Epoch 30/200\n",
            "28/28 [==============================] - 20s 695ms/step - loss: 1.5007 - accuracy: 0.3110 - val_loss: 1.5251 - val_accuracy: 0.3112\n",
            "Epoch 31/200\n",
            "28/28 [==============================] - 19s 695ms/step - loss: 1.4996 - accuracy: 0.3163 - val_loss: 1.5202 - val_accuracy: 0.3190\n",
            "Epoch 32/200\n",
            "28/28 [==============================] - 20s 699ms/step - loss: 1.4979 - accuracy: 0.3197 - val_loss: 1.5246 - val_accuracy: 0.3138\n",
            "Epoch 33/200\n",
            "28/28 [==============================] - 20s 696ms/step - loss: 1.4998 - accuracy: 0.3172 - val_loss: 1.5276 - val_accuracy: 0.2995\n",
            "Epoch 34/200\n",
            "28/28 [==============================] - 20s 703ms/step - loss: 1.4998 - accuracy: 0.3200 - val_loss: 1.5254 - val_accuracy: 0.3177\n",
            "Epoch 35/200\n",
            "28/28 [==============================] - 20s 699ms/step - loss: 1.4989 - accuracy: 0.3282 - val_loss: 1.5257 - val_accuracy: 0.3216\n",
            "Epoch 36/200\n",
            "28/28 [==============================] - 20s 697ms/step - loss: 1.4979 - accuracy: 0.3234 - val_loss: 1.5263 - val_accuracy: 0.3073\n",
            "Epoch 37/200\n",
            "28/28 [==============================] - 20s 701ms/step - loss: 1.5003 - accuracy: 0.3084 - val_loss: 1.5205 - val_accuracy: 0.3190\n",
            "Epoch 38/200\n",
            "28/28 [==============================] - 19s 694ms/step - loss: 1.5014 - accuracy: 0.3222 - val_loss: 1.5204 - val_accuracy: 0.3073\n",
            "Epoch 39/200\n",
            "28/28 [==============================] - 19s 695ms/step - loss: 1.5018 - accuracy: 0.3079 - val_loss: 1.5264 - val_accuracy: 0.2891\n",
            "Epoch 40/200\n",
            "28/28 [==============================] - 19s 693ms/step - loss: 1.4981 - accuracy: 0.3214 - val_loss: 1.5233 - val_accuracy: 0.3333\n",
            "Epoch 41/200\n",
            "28/28 [==============================] - 19s 691ms/step - loss: 1.4982 - accuracy: 0.3222 - val_loss: 1.5332 - val_accuracy: 0.2969\n",
            "Epoch 42/200\n",
            "28/28 [==============================] - 20s 701ms/step - loss: 1.5007 - accuracy: 0.3191 - val_loss: 1.5262 - val_accuracy: 0.3047\n",
            "Epoch 43/200\n",
            "28/28 [==============================] - 19s 695ms/step - loss: 1.4983 - accuracy: 0.3087 - val_loss: 1.5241 - val_accuracy: 0.2969\n",
            "Epoch 44/200\n",
            "28/28 [==============================] - 19s 695ms/step - loss: 1.5000 - accuracy: 0.3211 - val_loss: 1.5234 - val_accuracy: 0.3086\n",
            "Epoch 45/200\n",
            "28/28 [==============================] - 19s 694ms/step - loss: 1.5002 - accuracy: 0.3217 - val_loss: 1.5241 - val_accuracy: 0.3021\n",
            "Epoch 46/200\n",
            "28/28 [==============================] - 19s 693ms/step - loss: 1.5013 - accuracy: 0.3220 - val_loss: 1.5221 - val_accuracy: 0.3203\n",
            "Epoch 47/200\n",
            "28/28 [==============================] - 19s 692ms/step - loss: 1.4981 - accuracy: 0.3239 - val_loss: 1.5224 - val_accuracy: 0.3177\n",
            "Epoch 48/200\n",
            "28/28 [==============================] - 19s 688ms/step - loss: 1.4960 - accuracy: 0.3200 - val_loss: 1.5249 - val_accuracy: 0.3138\n",
            "Epoch 49/200\n",
            "28/28 [==============================] - 20s 697ms/step - loss: 1.4994 - accuracy: 0.3124 - val_loss: 1.5254 - val_accuracy: 0.3073\n",
            "Epoch 50/200\n",
            "28/28 [==============================] - 19s 693ms/step - loss: 1.4975 - accuracy: 0.3183 - val_loss: 1.5303 - val_accuracy: 0.3099\n",
            "Epoch 51/200\n",
            "28/28 [==============================] - 19s 691ms/step - loss: 1.4977 - accuracy: 0.3259 - val_loss: 1.5191 - val_accuracy: 0.3255\n",
            "Epoch 52/200\n",
            "28/28 [==============================] - 19s 693ms/step - loss: 1.5004 - accuracy: 0.3186 - val_loss: 1.5267 - val_accuracy: 0.3060\n",
            "Epoch 53/200\n",
            "28/28 [==============================] - 19s 689ms/step - loss: 1.4994 - accuracy: 0.3206 - val_loss: 1.5250 - val_accuracy: 0.3216\n",
            "Epoch 54/200\n",
            "28/28 [==============================] - 19s 691ms/step - loss: 1.4990 - accuracy: 0.3112 - val_loss: 1.5253 - val_accuracy: 0.3112\n",
            "Epoch 55/200\n",
            "28/28 [==============================] - 19s 696ms/step - loss: 1.4987 - accuracy: 0.3191 - val_loss: 1.5209 - val_accuracy: 0.3073\n",
            "Epoch 56/200\n",
            "28/28 [==============================] - 19s 688ms/step - loss: 1.4996 - accuracy: 0.3172 - val_loss: 1.5278 - val_accuracy: 0.3099\n",
            "Epoch 57/200\n",
            "28/28 [==============================] - 20s 696ms/step - loss: 1.4996 - accuracy: 0.3214 - val_loss: 1.5222 - val_accuracy: 0.3021\n",
            "Epoch 58/200\n",
            "28/28 [==============================] - 19s 695ms/step - loss: 1.4996 - accuracy: 0.3169 - val_loss: 1.5219 - val_accuracy: 0.2995\n",
            "Epoch 59/200\n",
            "28/28 [==============================] - 20s 703ms/step - loss: 1.4974 - accuracy: 0.3107 - val_loss: 1.5228 - val_accuracy: 0.3047\n",
            "Epoch 60/200\n",
            "28/28 [==============================] - 19s 693ms/step - loss: 1.5006 - accuracy: 0.3214 - val_loss: 1.5177 - val_accuracy: 0.3333\n",
            "Epoch 61/200\n",
            "28/28 [==============================] - 19s 695ms/step - loss: 1.4988 - accuracy: 0.3189 - val_loss: 1.5248 - val_accuracy: 0.3021\n",
            "Epoch 62/200\n",
            "28/28 [==============================] - 19s 693ms/step - loss: 1.5002 - accuracy: 0.3096 - val_loss: 1.5282 - val_accuracy: 0.3060\n",
            "Epoch 63/200\n",
            "28/28 [==============================] - 19s 694ms/step - loss: 1.4990 - accuracy: 0.3265 - val_loss: 1.5251 - val_accuracy: 0.3177\n",
            "Epoch 64/200\n",
            "28/28 [==============================] - 20s 699ms/step - loss: 1.5001 - accuracy: 0.3138 - val_loss: 1.5225 - val_accuracy: 0.3008\n",
            "Epoch 65/200\n",
            "28/28 [==============================] - 20s 697ms/step - loss: 1.5018 - accuracy: 0.3129 - val_loss: 1.5244 - val_accuracy: 0.3229\n",
            "Epoch 66/200\n",
            "28/28 [==============================] - 19s 693ms/step - loss: 1.4981 - accuracy: 0.3163 - val_loss: 1.5221 - val_accuracy: 0.3047\n",
            "Epoch 67/200\n",
            "28/28 [==============================] - 20s 698ms/step - loss: 1.4972 - accuracy: 0.3149 - val_loss: 1.5234 - val_accuracy: 0.3060\n",
            "Epoch 68/200\n",
            "28/28 [==============================] - 19s 691ms/step - loss: 1.4963 - accuracy: 0.3276 - val_loss: 1.5248 - val_accuracy: 0.3034\n",
            "Epoch 69/200\n",
            "28/28 [==============================] - 19s 690ms/step - loss: 1.4988 - accuracy: 0.3217 - val_loss: 1.5208 - val_accuracy: 0.3034\n",
            "Epoch 70/200\n",
            "28/28 [==============================] - 19s 694ms/step - loss: 1.4991 - accuracy: 0.3112 - val_loss: 1.5221 - val_accuracy: 0.3359\n",
            "Epoch 71/200\n",
            "28/28 [==============================] - 19s 691ms/step - loss: 1.4979 - accuracy: 0.3253 - val_loss: 1.5223 - val_accuracy: 0.3255\n",
            "Epoch 72/200\n",
            "28/28 [==============================] - 19s 694ms/step - loss: 1.4991 - accuracy: 0.3175 - val_loss: 1.5309 - val_accuracy: 0.3047\n",
            "Epoch 73/200\n",
            "28/28 [==============================] - 19s 693ms/step - loss: 1.5011 - accuracy: 0.3155 - val_loss: 1.5326 - val_accuracy: 0.3060\n",
            "Epoch 74/200\n",
            "28/28 [==============================] - 19s 695ms/step - loss: 1.4977 - accuracy: 0.3206 - val_loss: 1.5285 - val_accuracy: 0.3034\n",
            "Epoch 75/200\n",
            "28/28 [==============================] - 19s 692ms/step - loss: 1.5001 - accuracy: 0.3155 - val_loss: 1.5262 - val_accuracy: 0.2995\n",
            "Epoch 76/200\n",
            "28/28 [==============================] - 19s 700ms/step - loss: 1.5016 - accuracy: 0.3124 - val_loss: 1.5240 - val_accuracy: 0.3060\n",
            "Epoch 77/200\n",
            "28/28 [==============================] - 19s 694ms/step - loss: 1.4989 - accuracy: 0.3225 - val_loss: 1.5265 - val_accuracy: 0.3060\n",
            "Epoch 78/200\n",
            "28/28 [==============================] - 19s 690ms/step - loss: 1.4988 - accuracy: 0.3265 - val_loss: 1.5126 - val_accuracy: 0.3255\n",
            "Epoch 79/200\n",
            "28/28 [==============================] - 19s 693ms/step - loss: 1.4990 - accuracy: 0.3203 - val_loss: 1.5261 - val_accuracy: 0.3112\n",
            "Epoch 80/200\n",
            "28/28 [==============================] - 19s 692ms/step - loss: 1.4969 - accuracy: 0.3239 - val_loss: 1.5195 - val_accuracy: 0.3047\n",
            "Epoch 81/200\n",
            "28/28 [==============================] - 19s 692ms/step - loss: 1.4999 - accuracy: 0.3217 - val_loss: 1.5304 - val_accuracy: 0.3138\n",
            "Epoch 82/200\n",
            "28/28 [==============================] - 20s 700ms/step - loss: 1.4982 - accuracy: 0.3195 - val_loss: 1.5225 - val_accuracy: 0.3086\n",
            "Epoch 83/200\n",
            "28/28 [==============================] - 19s 694ms/step - loss: 1.5022 - accuracy: 0.3087 - val_loss: 1.5263 - val_accuracy: 0.2995\n",
            "Epoch 84/200\n",
            "28/28 [==============================] - 20s 696ms/step - loss: 1.5004 - accuracy: 0.3172 - val_loss: 1.5172 - val_accuracy: 0.3125\n",
            "Epoch 85/200\n",
            "28/28 [==============================] - 19s 692ms/step - loss: 1.4976 - accuracy: 0.3144 - val_loss: 1.5300 - val_accuracy: 0.3281\n",
            "Epoch 86/200\n",
            "28/28 [==============================] - 19s 692ms/step - loss: 1.4999 - accuracy: 0.3183 - val_loss: 1.5205 - val_accuracy: 0.3125\n",
            "Epoch 87/200\n",
            "28/28 [==============================] - 20s 701ms/step - loss: 1.4989 - accuracy: 0.3270 - val_loss: 1.5298 - val_accuracy: 0.3008\n",
            "Epoch 88/200\n",
            "28/28 [==============================] - 20s 701ms/step - loss: 1.4950 - accuracy: 0.3166 - val_loss: 1.5271 - val_accuracy: 0.3008\n",
            "Epoch 89/200\n",
            "28/28 [==============================] - 20s 701ms/step - loss: 1.4951 - accuracy: 0.3293 - val_loss: 1.5249 - val_accuracy: 0.3060\n",
            "Epoch 90/200\n",
            "28/28 [==============================] - 20s 697ms/step - loss: 1.4984 - accuracy: 0.3169 - val_loss: 1.5230 - val_accuracy: 0.2982\n",
            "Epoch 91/200\n",
            "28/28 [==============================] - 20s 696ms/step - loss: 1.4972 - accuracy: 0.3194 - val_loss: 1.5289 - val_accuracy: 0.3177\n",
            "Epoch 92/200\n",
            "28/28 [==============================] - 20s 702ms/step - loss: 1.4977 - accuracy: 0.3208 - val_loss: 1.5218 - val_accuracy: 0.3203\n",
            "Epoch 93/200\n",
            "28/28 [==============================] - 20s 708ms/step - loss: 1.4971 - accuracy: 0.3237 - val_loss: 1.5256 - val_accuracy: 0.3008\n",
            "Epoch 94/200\n",
            "28/28 [==============================] - 20s 705ms/step - loss: 1.4987 - accuracy: 0.3169 - val_loss: 1.5281 - val_accuracy: 0.3008\n",
            "Epoch 95/200\n",
            "28/28 [==============================] - 20s 704ms/step - loss: 1.4977 - accuracy: 0.3197 - val_loss: 1.5245 - val_accuracy: 0.3138\n",
            "Epoch 96/200\n",
            "28/28 [==============================] - 20s 698ms/step - loss: 1.4979 - accuracy: 0.3239 - val_loss: 1.5219 - val_accuracy: 0.3021\n",
            "Epoch 97/200\n",
            "28/28 [==============================] - 20s 705ms/step - loss: 1.4981 - accuracy: 0.3158 - val_loss: 1.5272 - val_accuracy: 0.3125\n",
            "Epoch 98/200\n",
            "28/28 [==============================] - 20s 704ms/step - loss: 1.4973 - accuracy: 0.3160 - val_loss: 1.5282 - val_accuracy: 0.3060\n",
            "Epoch 99/200\n",
            "28/28 [==============================] - 20s 702ms/step - loss: 1.4983 - accuracy: 0.3152 - val_loss: 1.5244 - val_accuracy: 0.3060\n",
            "Epoch 100/200\n",
            "28/28 [==============================] - 20s 707ms/step - loss: 1.4989 - accuracy: 0.3155 - val_loss: 1.5250 - val_accuracy: 0.2982\n",
            "Epoch 101/200\n",
            "28/28 [==============================] - 20s 704ms/step - loss: 1.4982 - accuracy: 0.3169 - val_loss: 1.5229 - val_accuracy: 0.3216\n",
            "Epoch 102/200\n",
            "28/28 [==============================] - 20s 704ms/step - loss: 1.4999 - accuracy: 0.3141 - val_loss: 1.5254 - val_accuracy: 0.3346\n",
            "Epoch 103/200\n",
            "28/28 [==============================] - 20s 703ms/step - loss: 1.4989 - accuracy: 0.3183 - val_loss: 1.5200 - val_accuracy: 0.3242\n",
            "Epoch 104/200\n",
            "28/28 [==============================] - 20s 701ms/step - loss: 1.4993 - accuracy: 0.3158 - val_loss: 1.5235 - val_accuracy: 0.3203\n",
            "Epoch 105/200\n",
            "28/28 [==============================] - 20s 707ms/step - loss: 1.5004 - accuracy: 0.3112 - val_loss: 1.5234 - val_accuracy: 0.3164\n",
            "Epoch 106/200\n",
            "28/28 [==============================] - 20s 710ms/step - loss: 1.5024 - accuracy: 0.3121 - val_loss: 1.5178 - val_accuracy: 0.3242\n",
            "Epoch 107/200\n",
            "28/28 [==============================] - 20s 707ms/step - loss: 1.4979 - accuracy: 0.3169 - val_loss: 1.5243 - val_accuracy: 0.3229\n",
            "Epoch 108/200\n",
            "28/28 [==============================] - 20s 710ms/step - loss: 1.4962 - accuracy: 0.3186 - val_loss: 1.5175 - val_accuracy: 0.3424\n",
            "Epoch 109/200\n",
            "28/28 [==============================] - 20s 712ms/step - loss: 1.4981 - accuracy: 0.3167 - val_loss: 1.5273 - val_accuracy: 0.2982\n",
            "Epoch 110/200\n",
            "28/28 [==============================] - 20s 716ms/step - loss: 1.4964 - accuracy: 0.3231 - val_loss: 1.5244 - val_accuracy: 0.3229\n",
            "Epoch 111/200\n",
            "28/28 [==============================] - 20s 713ms/step - loss: 1.4973 - accuracy: 0.3155 - val_loss: 1.5229 - val_accuracy: 0.3034\n",
            "Epoch 112/200\n",
            "28/28 [==============================] - 20s 708ms/step - loss: 1.4942 - accuracy: 0.3225 - val_loss: 1.5252 - val_accuracy: 0.3138\n",
            "Epoch 113/200\n",
            "28/28 [==============================] - 20s 706ms/step - loss: 1.4996 - accuracy: 0.3245 - val_loss: 1.5211 - val_accuracy: 0.3216\n",
            "Epoch 114/200\n",
            "28/28 [==============================] - 20s 710ms/step - loss: 1.4936 - accuracy: 0.3194 - val_loss: 1.5248 - val_accuracy: 0.3151\n",
            "Epoch 115/200\n",
            "28/28 [==============================] - 20s 714ms/step - loss: 1.4973 - accuracy: 0.3217 - val_loss: 1.5205 - val_accuracy: 0.3034\n",
            "Epoch 116/200\n",
            "28/28 [==============================] - 20s 711ms/step - loss: 1.4985 - accuracy: 0.3183 - val_loss: 1.5254 - val_accuracy: 0.3255\n",
            "Epoch 117/200\n",
            "28/28 [==============================] - 20s 713ms/step - loss: 1.4971 - accuracy: 0.3141 - val_loss: 1.5229 - val_accuracy: 0.3151\n",
            "Epoch 118/200\n",
            "28/28 [==============================] - 20s 716ms/step - loss: 1.4976 - accuracy: 0.3282 - val_loss: 1.5192 - val_accuracy: 0.3151\n",
            "Epoch 119/200\n",
            "28/28 [==============================] - 20s 710ms/step - loss: 1.4969 - accuracy: 0.3172 - val_loss: 1.5336 - val_accuracy: 0.3008\n",
            "Epoch 120/200\n",
            "28/28 [==============================] - 20s 710ms/step - loss: 1.4989 - accuracy: 0.3166 - val_loss: 1.5215 - val_accuracy: 0.3216\n",
            "Epoch 121/200\n",
            "28/28 [==============================] - 20s 713ms/step - loss: 1.4969 - accuracy: 0.3166 - val_loss: 1.5194 - val_accuracy: 0.3516\n",
            "Epoch 122/200\n",
            "28/28 [==============================] - 20s 708ms/step - loss: 1.4980 - accuracy: 0.3169 - val_loss: 1.5232 - val_accuracy: 0.3086\n",
            "Epoch 123/200\n",
            "28/28 [==============================] - 20s 711ms/step - loss: 1.4962 - accuracy: 0.3160 - val_loss: 1.5228 - val_accuracy: 0.3086\n",
            "Epoch 124/200\n",
            "28/28 [==============================] - 20s 714ms/step - loss: 1.4976 - accuracy: 0.3175 - val_loss: 1.5199 - val_accuracy: 0.3242\n",
            "Epoch 125/200\n",
            "28/28 [==============================] - 20s 713ms/step - loss: 1.4984 - accuracy: 0.3169 - val_loss: 1.5196 - val_accuracy: 0.3138\n",
            "Epoch 126/200\n",
            "28/28 [==============================] - 20s 719ms/step - loss: 1.4951 - accuracy: 0.3251 - val_loss: 1.5201 - val_accuracy: 0.3385\n",
            "Epoch 127/200\n",
            "28/28 [==============================] - 20s 721ms/step - loss: 1.4968 - accuracy: 0.3220 - val_loss: 1.5204 - val_accuracy: 0.3164\n",
            "Epoch 128/200\n",
            "28/28 [==============================] - 20s 718ms/step - loss: 1.4970 - accuracy: 0.3327 - val_loss: 1.5245 - val_accuracy: 0.3099\n",
            "Epoch 129/200\n",
            "28/28 [==============================] - 20s 714ms/step - loss: 1.4956 - accuracy: 0.3211 - val_loss: 1.5229 - val_accuracy: 0.3086\n",
            "Epoch 130/200\n",
            "28/28 [==============================] - 20s 712ms/step - loss: 1.4991 - accuracy: 0.3149 - val_loss: 1.5226 - val_accuracy: 0.3047\n",
            "Epoch 131/200\n",
            "28/28 [==============================] - 20s 714ms/step - loss: 1.4974 - accuracy: 0.3183 - val_loss: 1.5211 - val_accuracy: 0.3255\n",
            "Epoch 132/200\n",
            "28/28 [==============================] - 20s 715ms/step - loss: 1.4966 - accuracy: 0.3155 - val_loss: 1.5234 - val_accuracy: 0.3255\n",
            "Epoch 133/200\n",
            "28/28 [==============================] - 20s 714ms/step - loss: 1.4978 - accuracy: 0.3208 - val_loss: 1.5248 - val_accuracy: 0.3099\n",
            "Epoch 134/200\n",
            "28/28 [==============================] - 20s 713ms/step - loss: 1.4969 - accuracy: 0.3194 - val_loss: 1.5255 - val_accuracy: 0.3216\n",
            "Epoch 135/200\n",
            "28/28 [==============================] - 20s 715ms/step - loss: 1.4957 - accuracy: 0.3206 - val_loss: 1.5262 - val_accuracy: 0.3047\n",
            "Epoch 136/200\n",
            "28/28 [==============================] - 20s 715ms/step - loss: 1.4999 - accuracy: 0.3214 - val_loss: 1.5265 - val_accuracy: 0.3294\n",
            "Epoch 137/200\n",
            "28/28 [==============================] - 20s 714ms/step - loss: 1.4983 - accuracy: 0.3186 - val_loss: 1.5182 - val_accuracy: 0.3203\n",
            "Epoch 138/200\n",
            "28/28 [==============================] - 20s 713ms/step - loss: 1.4972 - accuracy: 0.3222 - val_loss: 1.5215 - val_accuracy: 0.3151\n",
            "Epoch 139/200\n",
            "28/28 [==============================] - 20s 716ms/step - loss: 1.4974 - accuracy: 0.3265 - val_loss: 1.5211 - val_accuracy: 0.3164\n",
            "Epoch 140/200\n",
            "28/28 [==============================] - 20s 709ms/step - loss: 1.4968 - accuracy: 0.3180 - val_loss: 1.5179 - val_accuracy: 0.3086\n",
            "Epoch 141/200\n",
            "28/28 [==============================] - 20s 715ms/step - loss: 1.4986 - accuracy: 0.3132 - val_loss: 1.5213 - val_accuracy: 0.3112\n",
            "Epoch 142/200\n",
            "28/28 [==============================] - 20s 717ms/step - loss: 1.4980 - accuracy: 0.3169 - val_loss: 1.5243 - val_accuracy: 0.3021\n",
            "Epoch 143/200\n",
            "28/28 [==============================] - 20s 715ms/step - loss: 1.4938 - accuracy: 0.3203 - val_loss: 1.5245 - val_accuracy: 0.3021\n",
            "Epoch 144/200\n",
            "28/28 [==============================] - 20s 715ms/step - loss: 1.4975 - accuracy: 0.3206 - val_loss: 1.5265 - val_accuracy: 0.3151\n",
            "Epoch 145/200\n",
            "28/28 [==============================] - 20s 715ms/step - loss: 1.4955 - accuracy: 0.3242 - val_loss: 1.5209 - val_accuracy: 0.3203\n",
            "Epoch 146/200\n",
            "28/28 [==============================] - 20s 713ms/step - loss: 1.4992 - accuracy: 0.3242 - val_loss: 1.5257 - val_accuracy: 0.2930\n",
            "Epoch 147/200\n",
            "28/28 [==============================] - 20s 716ms/step - loss: 1.4970 - accuracy: 0.3310 - val_loss: 1.5239 - val_accuracy: 0.2904\n",
            "Epoch 148/200\n",
            "28/28 [==============================] - 20s 715ms/step - loss: 1.4958 - accuracy: 0.3245 - val_loss: 1.5233 - val_accuracy: 0.3216\n",
            "Epoch 149/200\n",
            "28/28 [==============================] - 20s 715ms/step - loss: 1.4991 - accuracy: 0.3163 - val_loss: 1.5272 - val_accuracy: 0.3242\n",
            "Epoch 150/200\n",
            "28/28 [==============================] - 20s 715ms/step - loss: 1.4986 - accuracy: 0.3121 - val_loss: 1.5211 - val_accuracy: 0.3190\n",
            "Epoch 151/200\n",
            "28/28 [==============================] - 20s 716ms/step - loss: 1.4988 - accuracy: 0.3248 - val_loss: 1.5230 - val_accuracy: 0.3216\n",
            "Epoch 152/200\n",
            "28/28 [==============================] - 20s 715ms/step - loss: 1.4963 - accuracy: 0.3144 - val_loss: 1.5208 - val_accuracy: 0.3164\n",
            "Epoch 153/200\n",
            "28/28 [==============================] - 20s 713ms/step - loss: 1.4994 - accuracy: 0.3158 - val_loss: 1.5258 - val_accuracy: 0.3060\n",
            "Epoch 154/200\n",
            "28/28 [==============================] - 20s 718ms/step - loss: 1.4951 - accuracy: 0.3251 - val_loss: 1.5197 - val_accuracy: 0.3216\n",
            "Epoch 155/200\n",
            "28/28 [==============================] - 20s 716ms/step - loss: 1.4967 - accuracy: 0.3180 - val_loss: 1.5199 - val_accuracy: 0.3086\n",
            "Epoch 156/200\n",
            "28/28 [==============================] - 20s 723ms/step - loss: 1.4981 - accuracy: 0.3129 - val_loss: 1.5229 - val_accuracy: 0.3073\n",
            "Epoch 157/200\n",
            "28/28 [==============================] - 20s 717ms/step - loss: 1.4978 - accuracy: 0.3290 - val_loss: 1.5206 - val_accuracy: 0.3008\n",
            "Epoch 158/200\n",
            "28/28 [==============================] - 20s 713ms/step - loss: 1.5017 - accuracy: 0.3197 - val_loss: 1.5228 - val_accuracy: 0.3216\n",
            "Epoch 159/200\n",
            "28/28 [==============================] - 20s 719ms/step - loss: 1.4972 - accuracy: 0.3152 - val_loss: 1.5213 - val_accuracy: 0.3359\n",
            "Epoch 160/200\n",
            "28/28 [==============================] - 20s 714ms/step - loss: 1.4936 - accuracy: 0.3228 - val_loss: 1.5214 - val_accuracy: 0.3216\n",
            "Epoch 161/200\n",
            "28/28 [==============================] - 20s 717ms/step - loss: 1.4968 - accuracy: 0.3200 - val_loss: 1.5232 - val_accuracy: 0.3099\n",
            "Epoch 162/200\n",
            "28/28 [==============================] - 20s 717ms/step - loss: 1.4964 - accuracy: 0.3191 - val_loss: 1.5258 - val_accuracy: 0.3099\n",
            "Epoch 163/200\n",
            "28/28 [==============================] - 20s 716ms/step - loss: 1.4987 - accuracy: 0.3158 - val_loss: 1.5267 - val_accuracy: 0.3047\n",
            "Epoch 164/200\n",
            "28/28 [==============================] - 20s 718ms/step - loss: 1.4988 - accuracy: 0.3194 - val_loss: 1.5226 - val_accuracy: 0.3060\n",
            "Epoch 165/200\n",
            "28/28 [==============================] - 20s 716ms/step - loss: 1.4990 - accuracy: 0.3172 - val_loss: 1.5145 - val_accuracy: 0.3099\n",
            "Epoch 166/200\n",
            "28/28 [==============================] - 20s 714ms/step - loss: 1.4970 - accuracy: 0.3279 - val_loss: 1.5163 - val_accuracy: 0.3073\n",
            "Epoch 167/200\n",
            "28/28 [==============================] - 20s 716ms/step - loss: 1.4959 - accuracy: 0.3194 - val_loss: 1.5202 - val_accuracy: 0.3008\n",
            "Epoch 168/200\n",
            "28/28 [==============================] - 20s 714ms/step - loss: 1.4959 - accuracy: 0.3228 - val_loss: 1.5234 - val_accuracy: 0.3073\n",
            "Epoch 169/200\n",
            "28/28 [==============================] - 20s 715ms/step - loss: 1.4986 - accuracy: 0.3152 - val_loss: 1.5228 - val_accuracy: 0.3073\n",
            "Epoch 170/200\n",
            "28/28 [==============================] - 20s 716ms/step - loss: 1.4954 - accuracy: 0.3183 - val_loss: 1.5284 - val_accuracy: 0.3086\n",
            "Epoch 171/200\n",
            "28/28 [==============================] - 20s 715ms/step - loss: 1.4965 - accuracy: 0.3186 - val_loss: 1.5278 - val_accuracy: 0.2943\n",
            "Epoch 172/200\n",
            "28/28 [==============================] - 20s 714ms/step - loss: 1.4976 - accuracy: 0.3124 - val_loss: 1.5155 - val_accuracy: 0.3151\n",
            "Epoch 173/200\n",
            "28/28 [==============================] - 20s 714ms/step - loss: 1.4947 - accuracy: 0.3228 - val_loss: 1.5172 - val_accuracy: 0.3229\n",
            "Epoch 174/200\n",
            "28/28 [==============================] - 20s 715ms/step - loss: 1.4980 - accuracy: 0.3197 - val_loss: 1.5166 - val_accuracy: 0.3177\n",
            "Epoch 175/200\n",
            "28/28 [==============================] - 20s 716ms/step - loss: 1.4974 - accuracy: 0.3220 - val_loss: 1.5247 - val_accuracy: 0.3047\n",
            "Epoch 176/200\n",
            "28/28 [==============================] - 20s 717ms/step - loss: 1.4981 - accuracy: 0.3079 - val_loss: 1.5230 - val_accuracy: 0.3177\n",
            "Epoch 177/200\n",
            "28/28 [==============================] - 20s 716ms/step - loss: 1.4954 - accuracy: 0.3175 - val_loss: 1.5310 - val_accuracy: 0.2995\n",
            "Epoch 178/200\n",
            "28/28 [==============================] - 20s 716ms/step - loss: 1.4957 - accuracy: 0.3166 - val_loss: 1.5213 - val_accuracy: 0.3008\n",
            "Epoch 179/200\n",
            "28/28 [==============================] - 20s 714ms/step - loss: 1.4972 - accuracy: 0.3265 - val_loss: 1.5238 - val_accuracy: 0.3164\n",
            "Epoch 180/200\n",
            "28/28 [==============================] - 20s 716ms/step - loss: 1.4983 - accuracy: 0.3208 - val_loss: 1.5197 - val_accuracy: 0.2956\n",
            "Epoch 181/200\n",
            "28/28 [==============================] - 20s 718ms/step - loss: 1.4999 - accuracy: 0.3121 - val_loss: 1.5278 - val_accuracy: 0.3190\n",
            "Epoch 182/200\n",
            "28/28 [==============================] - 20s 717ms/step - loss: 1.4966 - accuracy: 0.3296 - val_loss: 1.5220 - val_accuracy: 0.3203\n",
            "Epoch 183/200\n",
            "28/28 [==============================] - 20s 716ms/step - loss: 1.4959 - accuracy: 0.3259 - val_loss: 1.5200 - val_accuracy: 0.2943\n",
            "Epoch 184/200\n",
            "28/28 [==============================] - 20s 712ms/step - loss: 1.4964 - accuracy: 0.3169 - val_loss: 1.5245 - val_accuracy: 0.3125\n",
            "Epoch 185/200\n",
            "28/28 [==============================] - 20s 717ms/step - loss: 1.4967 - accuracy: 0.3175 - val_loss: 1.5137 - val_accuracy: 0.3372\n",
            "Epoch 186/200\n",
            "28/28 [==============================] - 20s 716ms/step - loss: 1.4967 - accuracy: 0.3172 - val_loss: 1.5190 - val_accuracy: 0.2956\n",
            "Epoch 187/200\n",
            "28/28 [==============================] - 20s 715ms/step - loss: 1.4993 - accuracy: 0.3175 - val_loss: 1.5256 - val_accuracy: 0.3125\n",
            "Epoch 188/200\n",
            "28/28 [==============================] - 20s 715ms/step - loss: 1.4947 - accuracy: 0.3234 - val_loss: 1.5279 - val_accuracy: 0.3073\n",
            "Epoch 189/200\n",
            "28/28 [==============================] - 20s 718ms/step - loss: 1.4948 - accuracy: 0.3214 - val_loss: 1.5280 - val_accuracy: 0.3086\n",
            "Epoch 190/200\n",
            "28/28 [==============================] - 20s 720ms/step - loss: 1.4955 - accuracy: 0.3228 - val_loss: 1.5168 - val_accuracy: 0.3034\n",
            "Epoch 191/200\n",
            "28/28 [==============================] - 20s 720ms/step - loss: 1.4978 - accuracy: 0.3096 - val_loss: 1.5267 - val_accuracy: 0.3008\n",
            "Epoch 192/200\n",
            "28/28 [==============================] - 20s 715ms/step - loss: 1.4957 - accuracy: 0.3318 - val_loss: 1.5224 - val_accuracy: 0.3125\n",
            "Epoch 193/200\n",
            "28/28 [==============================] - 20s 717ms/step - loss: 1.4965 - accuracy: 0.3214 - val_loss: 1.5213 - val_accuracy: 0.3164\n",
            "Epoch 194/200\n",
            "28/28 [==============================] - 20s 718ms/step - loss: 1.4978 - accuracy: 0.3234 - val_loss: 1.5263 - val_accuracy: 0.3099\n",
            "Epoch 195/200\n",
            "28/28 [==============================] - 20s 717ms/step - loss: 1.4969 - accuracy: 0.3206 - val_loss: 1.5266 - val_accuracy: 0.3073\n",
            "Epoch 196/200\n",
            "28/28 [==============================] - 20s 716ms/step - loss: 1.4955 - accuracy: 0.3262 - val_loss: 1.5205 - val_accuracy: 0.2995\n",
            "Epoch 197/200\n",
            "28/28 [==============================] - 20s 716ms/step - loss: 1.4964 - accuracy: 0.3163 - val_loss: 1.5222 - val_accuracy: 0.3242\n",
            "Epoch 198/200\n",
            "28/28 [==============================] - 20s 719ms/step - loss: 1.4935 - accuracy: 0.3228 - val_loss: 1.5261 - val_accuracy: 0.3086\n",
            "Epoch 199/200\n",
            "28/28 [==============================] - 20s 715ms/step - loss: 1.4974 - accuracy: 0.3194 - val_loss: 1.5192 - val_accuracy: 0.3021\n",
            "Epoch 200/200\n",
            "28/28 [==============================] - 20s 715ms/step - loss: 1.4997 - accuracy: 0.3166 - val_loss: 1.5201 - val_accuracy: 0.3086\n"
          ]
        }
      ]
    },
    {
      "cell_type": "code",
      "metadata": {
        "id": "uG082HnVB3t8",
        "colab": {
          "base_uri": "https://localhost:8080/"
        },
        "outputId": "69461376-49c2-4340-f4e3-fdf0f74369b9"
      },
      "source": [
        "#save model (before fit_generator)\n",
        "pre_trained_resnet50.save(output_folder+\"resnet50-2021-11-06.h5\")"
      ],
      "execution_count": 33,
      "outputs": [
        {
          "output_type": "stream",
          "name": "stderr",
          "text": [
            "/usr/local/lib/python3.7/dist-packages/keras/utils/generic_utils.py:497: CustomMaskWarning: Custom mask layers require a config and must override get_config. When loading, the custom mask layer must be passed to the custom_objects argument.\n",
            "  category=CustomMaskWarning)\n"
          ]
        }
      ]
    },
    {
      "cell_type": "code",
      "metadata": {
        "id": "CZqqHtKcB3t-",
        "colab": {
          "base_uri": "https://localhost:8080/",
          "height": 297
        },
        "outputId": "6315df89-1150-4981-a6f6-89b49892a7ff"
      },
      "source": [
        "#Plotting the training and validation loss and accuracy\n",
        "f,ax=plt.subplots(2,1) \n",
        "\n",
        "#Loss\n",
        "ax[0].plot(np.arange(0, epochs), model_resnet50.history[\"loss\"], label=\"train_loss\")\n",
        "ax[0].plot(np.arange(0, epochs), model_resnet50.history[\"val_loss\"], label=\"val_loss\")\n",
        "ax[0].legend()\n",
        "plt.xlabel(\"Epoch #\")\n",
        "plt.ylabel(\"Loss/Accuracy\")\n",
        "#Accuracy\n",
        "ax[1].plot(np.arange(0, epochs), model_resnet50.history[\"accuracy\"], label=\"train_acc\")\n",
        "ax[1].plot(np.arange(0, epochs), model_resnet50.history[\"val_accuracy\"], label=\"val_acc\")\n",
        "ax[1].legend()\n",
        "#plt.legend()\n",
        "#plt.title(\"Training Loss and Accuracy\")\n",
        "plt.xlabel(\"Epoch #\")\n",
        "plt.ylabel(\"Loss/Accuracy\")"
      ],
      "execution_count": 34,
      "outputs": [
        {
          "output_type": "execute_result",
          "data": {
            "text/plain": [
              "Text(0, 0.5, 'Loss/Accuracy')"
            ]
          },
          "metadata": {},
          "execution_count": 34
        },
        {
          "output_type": "display_data",
          "data": {
            "image/png": "[encoded data removed]",
            "text/plain": [
              "<Figure size 432x288 with 2 Axes>"
            ]
          },
          "metadata": {
            "needs_background": "light"
          }
        }
      ]
    },
    {
      "cell_type": "code",
      "metadata": {
        "id": "g8LQg9XqB3t_",
        "colab": {
          "base_uri": "https://localhost:8080/"
        },
        "outputId": "4ee8c150-56b8-45f4-bff6-c9b4b6984884"
      },
      "source": [
        "#Evaluatin\n",
        "print(\"[INFO]: Model godness...\")\n",
        "y_pred = pre_trained_resnet50.predict(x_test, batch_size=128)\n",
        "y_true=np.argmax(y_test,axis=1)\n",
        "print(classification_report(y_test.argmax(axis=1), y_pred.argmax(axis=1), target_names = classes_list ))"
      ],
      "execution_count": 35,
      "outputs": [
        {
          "output_type": "stream",
          "name": "stdout",
          "text": [
            "[INFO]: Model godness...\n",
            "              precision    recall  f1-score   support\n",
            "\n",
            "     Dinning       0.47      0.23      0.31        95\n",
            "     Bedroom       0.31      0.51      0.39       197\n",
            "  Livingroom       0.31      0.13      0.18       173\n",
            "     Kitchen       0.00      0.00      0.00       139\n",
            "    Bathroom       0.31      0.58      0.41       184\n",
            "\n",
            "    accuracy                           0.32       788\n",
            "   macro avg       0.28      0.29      0.26       788\n",
            "weighted avg       0.27      0.32      0.27       788\n",
            "\n"
          ]
        }
      ]
    },
    {
      "cell_type": "code",
      "metadata": {
        "id": "rLGRQxPVBwGx"
      },
      "source": [
        ""
      ],
      "execution_count": null,
      "outputs": []
    },
    {
      "cell_type": "markdown",
      "metadata": {
        "id": "bZ9bjZIUmrNY"
      },
      "source": [
        "## VGG19"
      ]
    },
    {
      "cell_type": "code",
      "metadata": {
        "id": "uLBFamwrawYQ"
      },
      "source": [
        "#Data Augmentation first\n",
        "train_generator = ImageDataGenerator(rotation_range=2, horizontal_flip=True, zoom_range=.1)\n",
        "val_generator = ImageDataGenerator(rotation_range=2, horizontal_flip=True, zoom_range=.1)\n",
        "test_generator = ImageDataGenerator(rotation_range=2, horizontal_flip= True, zoom_range=.1)\n",
        "\n",
        "#Fitting the augmentation defined above to the data\n",
        "train_generator.fit(x_train)\n",
        "val_generator.fit(x_val)\n",
        "test_generator.fit(x_test)"
      ],
      "execution_count": null,
      "outputs": []
    },
    {
      "cell_type": "code",
      "metadata": {
        "id": "PXYrLOFFa3iX"
      },
      "source": [
        "#Defining the VGG Convolutional Neural Net\n",
        "base_model_vgg = VGG19(include_top = False, weights = 'imagenet', input_shape = (128, 128, 3), classes = y_train.shape[1])\n",
        "base_model_vgg.summary()"
      ],
      "execution_count": null,
      "outputs": []
    },
    {
      "cell_type": "code",
      "metadata": {
        "id": "DRPff3G1EU2b"
      },
      "source": [
        "#freezing_layers(base_model_vgg,'block5_conv1')"
      ],
      "execution_count": null,
      "outputs": []
    },
    {
      "cell_type": "code",
      "metadata": {
        "id": "fnSUe57ia3lO"
      },
      "source": [
        "base_model_vgg.trainable = False  \n",
        "#Adding the final layers to the above base models where the actual classification is done in the dense layers\n",
        "pre_trained_vgg= Sequential()\n",
        "pre_trained_vgg.add(base_model_vgg) # adding pre-trained model\n",
        "pre_trained_vgg.add(Flatten()) \n",
        "#Adding the Dense layers along with activation and batch normalization\n",
        "pre_trained_vgg.add(Dense(1024,activation=('relu'),input_dim=512))\n",
        "pre_trained_vgg.add(Dense(512,activation=('relu'))) \n",
        "pre_trained_vgg.add(Dense(256,activation=('relu'))) \n",
        "pre_trained_vgg.add(Dropout(.3))\n",
        "pre_trained_vgg.add(Dense(128,activation=('relu')))\n",
        "pre_trained_vgg.add(Dropout(.2))\n",
        "pre_trained_vgg.add(Dense(5,activation=('softmax'))) \n",
        "\n",
        "#Checking the final model summary\n",
        "pre_trained_vgg.summary()"
      ],
      "execution_count": null,
      "outputs": []
    },
    {
      "cell_type": "markdown",
      "metadata": {
        "id": "ALcU46fL_fTx"
      },
      "source": [
        "### analytics india"
      ]
    },
    {
      "cell_type": "code",
      "metadata": {
        "id": "EBsEAjnCa3e4"
      },
      "source": [
        "#Learning Rate Annealer - decreases the learning rate after a certain number of epochs if the error rate does not change. Here, through this technique, \n",
        "# we will monitor the validation accuracy and if it seems to be a plateau in 3 epochs, it will reduce the learning rate by 0.01.\n",
        "from keras.callbacks import ReduceLROnPlateau\n",
        "\n",
        "lrr= ReduceLROnPlateau(monitor='accuracy', factor=.01, patience=3, min_lr=1e-5) # \"val_acc \" warning\n"
      ],
      "execution_count": null,
      "outputs": []
    },
    {
      "cell_type": "code",
      "metadata": {
        "id": "xO2j4ygra3oW"
      },
      "source": [
        "#Initializing the hyperparameters\n",
        "from tensorflow.keras.optimizers import SGD, Adam\n",
        "batch_size= 128\n",
        "epochs=50\n",
        "learn_rate=.001\n",
        "sgd=SGD(learning_rate=learn_rate,momentum=.9,nesterov=False)\n",
        "adam=Adam(learning_rate=learn_rate, beta_1=0.9, beta_2=0.999, epsilon=None, decay=0.0, amsgrad=False)\n",
        "# crossentroty: logaritmic metric from 0.99 (terrible) to 0 (too much perfect)=> https://machinelearningmastery.com/loss-and-loss-functions-for-training-deep-learning-neural-networks/\n",
        "pre_trained_vgg.compile(optimizer=adam,loss='categorical_crossentropy',metrics=['accuracy'])"
      ],
      "execution_count": null,
      "outputs": []
    },
    {
      "cell_type": "code",
      "metadata": {
        "id": "c_5qR_YMcAq4"
      },
      "source": [
        "#Training the model - al usar esta config no tengo un array de val_accuracy, val_loss https://stackoverflow.com/questions/55746382/why-val-loss-and-val-acc-are-not-displaying\n",
        "vgg19_pre = pre_trained_vgg.fit_generator(\n",
        "    train_generator.flow(x_train, y_train, batch_size= batch_size),\n",
        "    epochs = epochs, \n",
        "    validation_data = val_generator.flow(x_val, y_val, batch_size = batch_size), \n",
        "    steps_per_epoch = len(x_train)//batch_size , # to avoid running out of data error\n",
        "    validation_steps  = len(x_test)//batch_size, # to avoid running out of data error\n",
        "    callbacks=[lrr], \n",
        "    verbose = 1\n",
        "    )"
      ],
      "execution_count": null,
      "outputs": []
    },
    {
      "cell_type": "code",
      "metadata": {
        "id": "X2qBo4lgLwRi"
      },
      "source": [
        "!ls output_folder "
      ],
      "execution_count": null,
      "outputs": []
    },
    {
      "cell_type": "code",
      "metadata": {
        "id": "WEj-Qt0MLbTM"
      },
      "source": [
        "#save model\n",
        "pre_trained_vgg.save(output_folder+\"deepCNN_vgg19_1.h5\")"
      ],
      "execution_count": null,
      "outputs": []
    },
    {
      "cell_type": "code",
      "metadata": {
        "id": "S_OD-bDeN4MY"
      },
      "source": [
        "#Plotting the training and validation loss and accuracy\n",
        "f,ax=plt.subplots(2,1) \n",
        "\n",
        "#Loss\n",
        "ax[0].plot(np.arange(0, epochs), vgg19_pre.history[\"loss\"], label=\"train_loss\")\n",
        "ax[0].plot(np.arange(0, epochs), vgg19_pre.history[\"val_loss\"], label=\"val_loss\")\n",
        "ax[0].legend()\n",
        "plt.xlabel(\"Epoch #\")\n",
        "plt.ylabel(\"Loss/Accuracy\")\n",
        "#Accuracy\n",
        "ax[1].plot(np.arange(0, epochs), vgg19_pre.history[\"accuracy\"], label=\"train_acc\")\n",
        "ax[1].plot(np.arange(0, epochs), vgg19_pre.history[\"val_accuracy\"], label=\"val_acc\")\n",
        "ax[1].legend()\n",
        "#plt.legend()\n",
        "#plt.title(\"Training Loss and Accuracy\")\n",
        "plt.xlabel(\"Epoch #\")\n",
        "plt.ylabel(\"Loss/Accuracy\")"
      ],
      "execution_count": null,
      "outputs": []
    },
    {
      "cell_type": "code",
      "metadata": {
        "id": "NP0Cox2iOQuh"
      },
      "source": [
        "#Evaluatin\n",
        "print(\"[INFO]: Model godness...\")\n",
        "y_pred = pre_trained_vgg.predict(x_test, batch_size=128)\n",
        "y_true=np.argmax(y_test,axis=1)\n",
        "print(classification_report(y_test.argmax(axis=1), y_pred.argmax(axis=1), target_names = classes_list ))"
      ],
      "execution_count": null,
      "outputs": []
    },
    {
      "cell_type": "code",
      "metadata": {
        "id": "Oc8UR6fDmYgg"
      },
      "source": [
        ""
      ],
      "execution_count": null,
      "outputs": []
    }
  ]
}