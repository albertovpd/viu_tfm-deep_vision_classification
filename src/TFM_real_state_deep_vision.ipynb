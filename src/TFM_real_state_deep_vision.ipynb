{
  "nbformat": 4,
  "nbformat_minor": 0,
  "metadata": {
    "accelerator": "GPU",
    "colab": {
      "name": "TFM-real_state-deep_vision.ipynb",
      "provenance": [],
      "collapsed_sections": []
    },
    "kernelspec": {
      "display_name": "Python 3",
      "name": "python3"
    },
    "language_info": {
      "name": "python"
    }
  },
  "cells": [
    {
      "cell_type": "markdown",
      "metadata": {
        "id": "hDYS919NYJnS"
      },
      "source": [
        "# TFM. Deep Visin applied to Real state.\n",
        "\n",
        "- Tensorflow-GPU on Colab => https://colab.research.google.com/notebooks/gpu.ipynb#scrollTo=oM_8ELnJq_wd\n",
        "- Why using GPU for Deep Learning => https://towardsdatascience.com/what-is-a-gpu-and-do-you-need-one-in-deep-learning-718b9597aa0d\n",
        "\n",
        "\n",
        "Developer stuff:\n",
        "- https://github.com/users/albertovpd/projects/8\n",
        "- https://github.com/albertovpd/viu-fundamentos_redes_neuronales/tree/main/colabs/tasks\n",
        "- https://github.com/albertovpd/viu-fundamentos_redes_neuronales/blob/main/colabs/clase_2y3-Introduccion_a_Deep_Learning_Colab_ipynb.ipynb\n",
        "\n",
        "- https://analyticsindiamag.com/transfer-learning-for-multi-class-image-classification-using-deep-convolutional-neural-network/\n",
        "- https://machinelearningmastery.com/learning-curves-for-diagnosing-machine-learning-model-performance/\n",
        "- https://towardsdatascience.com/handling-overfitting-in-deep-learning-models-c760ee047c6e\n",
        "- https://www.kaggle.com/ryanholbrook/overfitting-and-underfitting\n"
      ]
    },
    {
      "cell_type": "code",
      "metadata": {
        "colab": {
          "base_uri": "https://localhost:8080/"
        },
        "id": "X-OjRNxnu-lo",
        "outputId": "042ae34d-acd0-40e7-bec0-803c6a7977e8"
      },
      "source": [
        "%tensorflow_version 2.x\n",
        "import tensorflow as tf\n",
        "device_name = tf.test.gpu_device_name()\n",
        "if device_name != '/device:GPU:0':\n",
        "  raise SystemError('GPU device not found')\n",
        "print('Found GPU at: {}'.format(device_name))"
      ],
      "execution_count": 1,
      "outputs": [
        {
          "output_type": "stream",
          "name": "stdout",
          "text": [
            "Found GPU at: /device:GPU:0\n"
          ]
        }
      ]
    },
    {
      "cell_type": "markdown",
      "metadata": {
        "id": "4VR2oTMsT5R5"
      },
      "source": [
        "- libraries"
      ]
    },
    {
      "cell_type": "code",
      "metadata": {
        "colab": {
          "base_uri": "https://localhost:8080/"
        },
        "id": "NAI9T4pWTfME",
        "outputId": "d2b04d08-1352-464f-d1ca-1ed6df422751"
      },
      "source": [
        "%tensorflow_version 2.x\n",
        "from sklearn.model_selection import train_test_split\n",
        "from sklearn.preprocessing import LabelBinarizer\n",
        "\n",
        "import tensorflow as tf\n",
        "from tensorflow.keras.applications import imagenet_utils\n",
        "from tensorflow.keras.preprocessing.image import ImageDataGenerator\n",
        "\n",
        "# architecture\n",
        "from tensorflow.keras.models import Sequential\n",
        "from tensorflow.keras import layers\n",
        "from sklearn.metrics import classification_report\n",
        "from tensorflow.keras import Model\n",
        "\n",
        "# optimization\n",
        "from tensorflow.keras.optimizers import Adam\n",
        "from keras import regularizers\n",
        "from tensorflow.keras.layers import Input, Conv2D, Dense, Dropout, BatchNormalization, MaxPooling2D, Flatten, ZeroPadding2D\n",
        "from tensorflow.keras.regularizers import l1_l2, l2\n",
        "\n",
        "# pre-trained models\n",
        "from tensorflow.keras.applications import VGG19\n",
        "from tensorflow.keras.applications import ResNet50\n",
        "\n",
        "\n",
        "\n",
        "from google.colab import drive\n",
        "drive.mount('/content/drive/', force_remount=True)"
      ],
      "execution_count": 2,
      "outputs": [
        {
          "output_type": "stream",
          "name": "stdout",
          "text": [
            "Mounted at /content/drive/\n"
          ]
        }
      ]
    },
    {
      "cell_type": "markdown",
      "metadata": {
        "id": "3_vhk7DsTuS-"
      },
      "source": [
        "- base directory"
      ]
    },
    {
      "cell_type": "code",
      "metadata": {
        "colab": {
          "base_uri": "https://localhost:8080/"
        },
        "id": "GNqmOv5jUtLN",
        "outputId": "641e021f-8e35-408d-8785-ffdd06f336b5"
      },
      "source": [
        "!ls \"/content/drive/My Drive/2-Estudios/viu-master_ai/tfm-deep_vision/\""
      ],
      "execution_count": 3,
      "outputs": [
        {
          "output_type": "stream",
          "name": "stdout",
          "text": [
            "AlbertoVargas-sistema_clasificacion_viviendas_imagenes.gslides\toutput\n",
            "input\t\t\t\t\t\t\t\tsrc\n"
          ]
        }
      ]
    },
    {
      "cell_type": "code",
      "metadata": {
        "id": "nJakVe6hTvc7"
      },
      "source": [
        "base_folder = \"/content/drive/My Drive/2-Estudios/viu-master_ai/tfm-deep_vision/\"\n",
        "input_folder = base_folder+\"input/\"\n",
        "src_folder =  base_folder+\"src/\"\n",
        "output_folder = base_folder + \"/output/\""
      ],
      "execution_count": 4,
      "outputs": []
    },
    {
      "cell_type": "markdown",
      "metadata": {
        "id": "rv82I6XgW4Xr"
      },
      "source": [
        "# load pickling data allocated in Drive"
      ]
    },
    {
      "cell_type": "code",
      "metadata": {
        "id": "fdteCnPnW3ST"
      },
      "source": [
        "import os\n",
        "import numpy as np\n",
        "import pandas as pd\n",
        "import matplotlib.pyplot as plt\n",
        "import matplotlib.image as mpimg\n",
        "import tarfile\n",
        "import pickle\n",
        "%matplotlib inline"
      ],
      "execution_count": 5,
      "outputs": []
    },
    {
      "cell_type": "code",
      "metadata": {
        "id": "I_-1T12qUwbw"
      },
      "source": [
        "with open(input_folder+\"pickle_all_images_df.pickle\", \"rb\") as input_file:\n",
        "    data_x = pickle.load(input_file)\n",
        "with open(input_folder+\"pickle_all_classes.pickle\", \"rb\") as input_file:\n",
        "    data_y = pickle.load(input_file)"
      ],
      "execution_count": 6,
      "outputs": []
    },
    {
      "cell_type": "markdown",
      "metadata": {
        "id": "jvtNMgL5XNvJ"
      },
      "source": [
        "- some preview"
      ]
    },
    {
      "cell_type": "code",
      "metadata": {
        "colab": {
          "base_uri": "https://localhost:8080/"
        },
        "id": "TK9hZmmvnhuk",
        "outputId": "f39b7c9e-9eb9-46c1-ffd5-04fa1f5564d0"
      },
      "source": [
        "from collections import Counter\n",
        "print(Counter(data_y))"
      ],
      "execution_count": 7,
      "outputs": [
        {
          "output_type": "stream",
          "name": "stdout",
          "text": [
            "Counter({'Livingroom': 1273, 'Bedroom': 1248, 'Dinning': 1158, 'Kitchen': 965, 'Bathroom': 606})\n"
          ]
        }
      ]
    },
    {
      "cell_type": "code",
      "metadata": {
        "id": "h0sqnwHXzYPG"
      },
      "source": [
        "classes_list = list(Counter(data_y).keys())"
      ],
      "execution_count": 8,
      "outputs": []
    },
    {
      "cell_type": "markdown",
      "metadata": {
        "id": "z2mFBMbcnwYK"
      },
      "source": [
        "- i'll have to deal with this unbalanced classes later. \n",
        "- let's begin with the simplest stuff first"
      ]
    },
    {
      "cell_type": "code",
      "metadata": {
        "colab": {
          "base_uri": "https://localhost:8080/"
        },
        "id": "NPSuYmXIXEOf",
        "outputId": "9cb16ccf-5100-4da9-f203-6b5d6141d8cb"
      },
      "source": [
        "print(\"pics shape: \",data_x.shape,\n",
        "      \"\\nnumber of classes: \", len(set(data_y))\n",
        "      )"
      ],
      "execution_count": 9,
      "outputs": [
        {
          "output_type": "stream",
          "name": "stdout",
          "text": [
            "pics shape:  (5250, 128, 128, 3) \n",
            "number of classes:  5\n"
          ]
        }
      ]
    },
    {
      "cell_type": "code",
      "metadata": {
        "colab": {
          "base_uri": "https://localhost:8080/",
          "height": 285
        },
        "id": "gVaTkKsTXPy8",
        "outputId": "27a27009-af20-4c4e-f71d-87a67e588880"
      },
      "source": [
        "# showing some stuff \n",
        "print(data_y[42])\n",
        "imgplot = plt.imshow(data_x[42])\n",
        "plt.show()"
      ],
      "execution_count": 10,
      "outputs": [
        {
          "output_type": "stream",
          "name": "stdout",
          "text": [
            "Dinning\n"
          ]
        },
        {
          "output_type": "display_data",
          "data": {
            "image/png": "[encoded data removed]",
            "text/plain": [
              "<Figure size 432x288 with 1 Axes>"
            ]
          },
          "metadata": {
            "needs_background": "light"
          }
        }
      ]
    },
    {
      "cell_type": "markdown",
      "metadata": {
        "id": "11MeRxdDq2dE"
      },
      "source": [
        "- we have to transform y-label into numeric"
      ]
    },
    {
      "cell_type": "code",
      "metadata": {
        "id": "wPDqUdWYqT8b"
      },
      "source": [
        "# transforming labels into numeric\n",
        "y = np.unique(data_y)\n",
        "mapping = { key : value for key,value in zip(y,range(len(y)))}\n",
        "data_y_num = np.array([mapping[i] for i in data_y])"
      ],
      "execution_count": 11,
      "outputs": []
    },
    {
      "cell_type": "code",
      "metadata": {
        "id": "2xa6_PfLq9VF",
        "colab": {
          "base_uri": "https://localhost:8080/"
        },
        "outputId": "99d8ea2f-064f-4c1c-fb20-a12fdc07cf66"
      },
      "source": [
        "#train_ratio = 0.7\n",
        "#validation_ratio = 0.15\n",
        "#test_ratio = 0.15\n",
        "\n",
        "x_train, x_test, y_train, y_test = train_test_split(data_x, data_y_num, test_size=0.3)\n",
        "x_val, x_test, y_val, y_test = train_test_split(x_test, y_test, test_size=0.5) \n",
        "allx= len(data_x)\n",
        "print(round(len(x_train)/allx,2), round(len(x_val)/allx,2), round(len(x_test)/allx,2))\n",
        "del data_y\n",
        "del data_x\n",
        "\n",
        "#One-hot encoding\n",
        "lb = LabelBinarizer()\n",
        "y_train = lb.fit_transform(y_train)\n",
        "y_test = lb.transform(y_test)\n",
        "y_val = lb.transform(y_val)"
      ],
      "execution_count": 12,
      "outputs": [
        {
          "output_type": "stream",
          "name": "stdout",
          "text": [
            "0.7 0.15 0.15\n"
          ]
        }
      ]
    },
    {
      "cell_type": "code",
      "metadata": {
        "colab": {
          "base_uri": "https://localhost:8080/"
        },
        "id": "y0F2d57AstAI",
        "outputId": "5c215550-3146-45ff-d566-2f1fdd3b9b68"
      },
      "source": [
        "print(\"train:  \", x_train.shape, y_train.shape,\n",
        "      \"\\ntest: \", x_test.shape,y_test.shape,\n",
        "      \"\\nval:  \", x_val.shape, y_val.shape)"
      ],
      "execution_count": 13,
      "outputs": [
        {
          "output_type": "stream",
          "name": "stdout",
          "text": [
            "train:   (3675, 128, 128, 3) (3675, 5) \n",
            "test:  (788, 128, 128, 3) (788, 5) \n",
            "val:   (787, 128, 128, 3) (787, 5)\n"
          ]
        }
      ]
    },
    {
      "cell_type": "markdown",
      "metadata": {
        "id": "nxC0ef8nX1MA"
      },
      "source": [
        "---------------------------------------------------\n",
        "\n",
        "# Step 1. Pretrained NN performance.\n",
        "\n",
        "- Basic NN start:\n",
        "    - Alexnet\n",
        "    - ResNet\n",
        "    - SqueezeNet\n",
        "    - EfficientNet\n",
        "    - any other I think it could be great\n",
        "    - vgg19\n",
        "    "
      ]
    },
    {
      "cell_type": "markdown",
      "metadata": {
        "id": "bZ9bjZIUmrNY"
      },
      "source": [
        "## VVG19"
      ]
    },
    {
      "cell_type": "markdown",
      "metadata": {
        "id": "itrAfwXtaurH"
      },
      "source": [
        "- analytics india"
      ]
    },
    {
      "cell_type": "code",
      "metadata": {
        "id": "uLBFamwrawYQ"
      },
      "source": [
        "#Image Data Augmentation\n",
        "train_generator = ImageDataGenerator(rotation_range=2, horizontal_flip=True, zoom_range=.1)\n",
        "val_generator = ImageDataGenerator(rotation_range=2, horizontal_flip=True, zoom_range=.1)\n",
        "test_generator = ImageDataGenerator(rotation_range=2, horizontal_flip= True, zoom_range=.1)\n",
        "\n",
        "#Fitting the augmentation defined above to the data\n",
        "train_generator.fit(x_train)\n",
        "val_generator.fit(x_val)\n",
        "test_generator.fit(x_test)"
      ],
      "execution_count": 14,
      "outputs": []
    },
    {
      "cell_type": "code",
      "metadata": {
        "id": "PXYrLOFFa3iX"
      },
      "source": [
        "#Defining the VGG Convolutional Neural Net\n",
        "base_model = VGG19(include_top = False, weights = 'imagenet', input_shape = (128, 128, 3), classes = y_train.shape[1])"
      ],
      "execution_count": 36,
      "outputs": []
    },
    {
      "cell_type": "code",
      "metadata": {
        "colab": {
          "base_uri": "https://localhost:8080/"
        },
        "id": "fnSUe57ia3lO",
        "outputId": "499a2a3a-ce2d-418e-9608-e9ff62dbd8ae"
      },
      "source": [
        "#Adding the final layers to the above base models where the actual classification is done in the dense layers\n",
        "model= Sequential()\n",
        "model.add(base_model) \n",
        "model.add(Flatten()) \n",
        "#Adding the Dense layers along with activation and batch normalization\n",
        "model.add(Dense(1024,activation=('relu'),input_dim=512))\n",
        "model.add(Dense(512,activation=('relu'))) \n",
        "model.add(Dense(256,activation=('relu'))) \n",
        "model.add(Dropout(.3))\n",
        "model.add(Dense(128,activation=('relu')))\n",
        "model.add(Dropout(.2))\n",
        "model.add(Dense(5,activation=('softmax'))) \n",
        "\n",
        "#Checking the final model summary\n",
        "model.summary()"
      ],
      "execution_count": 37,
      "outputs": [
        {
          "output_type": "stream",
          "name": "stdout",
          "text": [
            "Model: \"sequential_4\"\n",
            "_________________________________________________________________\n",
            "Layer (type)                 Output Shape              Param #   \n",
            "=================================================================\n",
            "vgg19 (Functional)           (None, 4, 4, 512)         20024384  \n",
            "_________________________________________________________________\n",
            "flatten_3 (Flatten)          (None, 8192)              0         \n",
            "_________________________________________________________________\n",
            "dense_13 (Dense)             (None, 1024)              8389632   \n",
            "_________________________________________________________________\n",
            "dense_14 (Dense)             (None, 512)               524800    \n",
            "_________________________________________________________________\n",
            "dense_15 (Dense)             (None, 256)               131328    \n",
            "_________________________________________________________________\n",
            "dropout_4 (Dropout)          (None, 256)               0         \n",
            "_________________________________________________________________\n",
            "dense_16 (Dense)             (None, 128)               32896     \n",
            "_________________________________________________________________\n",
            "dropout_5 (Dropout)          (None, 128)               0         \n",
            "_________________________________________________________________\n",
            "dense_17 (Dense)             (None, 5)                 645       \n",
            "=================================================================\n",
            "Total params: 29,103,685\n",
            "Trainable params: 29,103,685\n",
            "Non-trainable params: 0\n",
            "_________________________________________________________________\n"
          ]
        }
      ]
    },
    {
      "cell_type": "code",
      "metadata": {
        "id": "EBsEAjnCa3e4"
      },
      "source": [
        "#Learning Rate Annealer - decreases the learning rate after a certain number of epochs if the error rate does not change. Here, through this technique, \n",
        "# we will monitor the validation accuracy and if it seems to be a plateau in 3 epochs, it will reduce the learning rate by 0.01.\n",
        "from keras.callbacks import ReduceLROnPlateau\n",
        "lrr= ReduceLROnPlateau(monitor='accuracy', factor=.01, patience=3, min_lr=1e-5) # \"val_acc \" warning"
      ],
      "execution_count": 35,
      "outputs": []
    },
    {
      "cell_type": "code",
      "metadata": {
        "id": "xO2j4ygra3oW"
      },
      "source": [
        "#Initializing the hyperparameters\n",
        "from tensorflow.keras.optimizers import SGD, Adam\n",
        "batch_size= 100\n",
        "epochs=50\n",
        "learn_rate=.001\n",
        "sgd=SGD(learning_rate=learn_rate,momentum=.9,nesterov=False)\n",
        "adam=Adam(learning_rate=learn_rate, beta_1=0.9, beta_2=0.999, epsilon=None, decay=0.0, amsgrad=False)\n",
        "# crossentroty: logaritmic metric from 0.99 (terrible) to 0 (too much perfect)=> https://machinelearningmastery.com/loss-and-loss-functions-for-training-deep-learning-neural-networks/\n",
        "model.compile(optimizer=sgd,loss='categorical_crossentropy',metrics=['accuracy'])"
      ],
      "execution_count": 66,
      "outputs": []
    },
    {
      "cell_type": "code",
      "metadata": {
        "colab": {
          "base_uri": "https://localhost:8080/"
        },
        "id": "c_5qR_YMcAq4",
        "outputId": "78f70084-96a3-4f21-b02e-2701039771d8"
      },
      "source": [
        "#Training the model\n",
        "model.fit_generator(\n",
        "    train_generator.flow(x_train, y_train, batch_size= batch_size),\n",
        "    epochs = epochs, \n",
        "    steps_per_epoch = x_train.shape[0]//batch_size, \n",
        "    validation_data = val_generator.flow(x_val, y_val, batch_size = batch_size), \n",
        "    validation_steps = 250, \n",
        "    callbacks=[lrr], \n",
        "    verbose = 1\n",
        "    )"
      ],
      "execution_count": 67,
      "outputs": [
        {
          "output_type": "stream",
          "name": "stderr",
          "text": [
            "/usr/local/lib/python3.7/dist-packages/keras/engine/training.py:1972: UserWarning: `Model.fit_generator` is deprecated and will be removed in a future version. Please use `Model.fit`, which supports generators.\n",
            "  warnings.warn('`Model.fit_generator` is deprecated and '\n"
          ]
        },
        {
          "output_type": "stream",
          "name": "stdout",
          "text": [
            "Epoch 1/50\n",
            "36/36 [==============================] - ETA: 0s - loss: 0.0318 - accuracy: 0.9913WARNING:tensorflow:Your input ran out of data; interrupting training. Make sure that your dataset or generator can generate at least `steps_per_epoch * epochs` batches (in this case, 250 batches). You may need to use the repeat() function when building your dataset.\n",
            "36/36 [==============================] - 23s 607ms/step - loss: 0.0318 - accuracy: 0.9913 - val_loss: 0.7904 - val_accuracy: 0.8310\n",
            "Epoch 2/50\n",
            "36/36 [==============================] - 19s 510ms/step - loss: 0.0522 - accuracy: 0.9835\n",
            "Epoch 3/50\n",
            "36/36 [==============================] - 19s 515ms/step - loss: 0.1115 - accuracy: 0.9611\n",
            "Epoch 4/50\n",
            "36/36 [==============================] - 19s 520ms/step - loss: 0.0653 - accuracy: 0.9773\n",
            "Epoch 5/50\n",
            "36/36 [==============================] - 19s 517ms/step - loss: 0.2828 - accuracy: 0.9113\n",
            "Epoch 6/50\n",
            "36/36 [==============================] - 19s 522ms/step - loss: 0.0518 - accuracy: 0.9857\n",
            "Epoch 7/50\n",
            "36/36 [==============================] - 19s 524ms/step - loss: 0.0384 - accuracy: 0.9899\n",
            "Epoch 8/50\n",
            "36/36 [==============================] - 19s 524ms/step - loss: 0.0414 - accuracy: 0.9874\n",
            "Epoch 9/50\n",
            "36/36 [==============================] - 19s 521ms/step - loss: 0.0376 - accuracy: 0.9885\n",
            "Epoch 10/50\n",
            "36/36 [==============================] - 19s 522ms/step - loss: 0.0343 - accuracy: 0.9919\n",
            "Epoch 11/50\n",
            "36/36 [==============================] - 19s 520ms/step - loss: 0.0330 - accuracy: 0.9927\n",
            "Epoch 12/50\n",
            "36/36 [==============================] - 19s 523ms/step - loss: 0.0262 - accuracy: 0.9947\n",
            "Epoch 13/50\n",
            "36/36 [==============================] - 19s 523ms/step - loss: 0.0317 - accuracy: 0.9924\n",
            "Epoch 14/50\n",
            "36/36 [==============================] - 19s 521ms/step - loss: 0.0268 - accuracy: 0.9936\n",
            "Epoch 15/50\n",
            "36/36 [==============================] - 19s 520ms/step - loss: 0.0274 - accuracy: 0.9930\n",
            "Epoch 16/50\n",
            "36/36 [==============================] - 19s 522ms/step - loss: 0.0219 - accuracy: 0.9950\n",
            "Epoch 17/50\n",
            "36/36 [==============================] - 19s 521ms/step - loss: 0.0306 - accuracy: 0.9916\n",
            "Epoch 18/50\n",
            "36/36 [==============================] - 19s 519ms/step - loss: 0.0255 - accuracy: 0.9944\n",
            "Epoch 19/50\n",
            "36/36 [==============================] - 19s 521ms/step - loss: 0.0222 - accuracy: 0.9955\n",
            "Epoch 20/50\n",
            "36/36 [==============================] - 19s 522ms/step - loss: 0.0245 - accuracy: 0.9938\n",
            "Epoch 21/50\n",
            "36/36 [==============================] - 19s 523ms/step - loss: 0.0200 - accuracy: 0.9958\n",
            "Epoch 22/50\n",
            "36/36 [==============================] - 19s 519ms/step - loss: 0.0221 - accuracy: 0.9941\n",
            "Epoch 23/50\n",
            "36/36 [==============================] - 19s 522ms/step - loss: 0.0207 - accuracy: 0.9955\n",
            "Epoch 24/50\n",
            "36/36 [==============================] - 19s 523ms/step - loss: 0.0246 - accuracy: 0.9933\n",
            "Epoch 25/50\n",
            "36/36 [==============================] - 19s 519ms/step - loss: 0.0201 - accuracy: 0.9955\n",
            "Epoch 26/50\n",
            "36/36 [==============================] - 19s 522ms/step - loss: 0.0227 - accuracy: 0.9941\n",
            "Epoch 27/50\n",
            "36/36 [==============================] - 19s 522ms/step - loss: 0.0206 - accuracy: 0.9944\n",
            "Epoch 28/50\n",
            "36/36 [==============================] - 19s 525ms/step - loss: 0.0187 - accuracy: 0.9958\n",
            "Epoch 29/50\n",
            "36/36 [==============================] - 19s 522ms/step - loss: 0.0202 - accuracy: 0.9955\n",
            "Epoch 30/50\n",
            "36/36 [==============================] - 19s 521ms/step - loss: 0.0214 - accuracy: 0.9933\n",
            "Epoch 31/50\n",
            "36/36 [==============================] - 19s 521ms/step - loss: 0.0182 - accuracy: 0.9966\n",
            "Epoch 32/50\n",
            "36/36 [==============================] - 19s 521ms/step - loss: 0.0199 - accuracy: 0.9947\n",
            "Epoch 33/50\n",
            "36/36 [==============================] - 19s 519ms/step - loss: 0.0213 - accuracy: 0.9950\n",
            "Epoch 34/50\n",
            "36/36 [==============================] - 19s 521ms/step - loss: 0.0192 - accuracy: 0.9950\n",
            "Epoch 35/50\n",
            "36/36 [==============================] - 19s 519ms/step - loss: 0.0219 - accuracy: 0.9938\n",
            "Epoch 36/50\n",
            "36/36 [==============================] - 19s 521ms/step - loss: 0.0198 - accuracy: 0.9952\n",
            "Epoch 37/50\n",
            "36/36 [==============================] - 19s 524ms/step - loss: 0.0194 - accuracy: 0.9947\n",
            "Epoch 38/50\n",
            "36/36 [==============================] - 19s 522ms/step - loss: 0.0182 - accuracy: 0.9964\n",
            "Epoch 39/50\n",
            "36/36 [==============================] - 19s 523ms/step - loss: 0.0193 - accuracy: 0.9961\n",
            "Epoch 40/50\n",
            "36/36 [==============================] - 19s 522ms/step - loss: 0.0179 - accuracy: 0.9961\n",
            "Epoch 41/50\n",
            "36/36 [==============================] - 19s 520ms/step - loss: 0.0191 - accuracy: 0.9958\n",
            "Epoch 42/50\n",
            "36/36 [==============================] - 19s 520ms/step - loss: 0.0203 - accuracy: 0.9955\n",
            "Epoch 43/50\n",
            "36/36 [==============================] - 19s 524ms/step - loss: 0.0159 - accuracy: 0.9966\n",
            "Epoch 44/50\n",
            "36/36 [==============================] - 19s 522ms/step - loss: 0.0174 - accuracy: 0.9961\n",
            "Epoch 45/50\n",
            "36/36 [==============================] - 19s 521ms/step - loss: 0.0190 - accuracy: 0.9955\n",
            "Epoch 46/50\n",
            "36/36 [==============================] - 19s 520ms/step - loss: 0.0193 - accuracy: 0.9955\n",
            "Epoch 47/50\n",
            "36/36 [==============================] - 19s 521ms/step - loss: 0.0196 - accuracy: 0.9952\n",
            "Epoch 48/50\n",
            "36/36 [==============================] - 19s 521ms/step - loss: 0.0176 - accuracy: 0.9969\n",
            "Epoch 49/50\n",
            "36/36 [==============================] - 19s 525ms/step - loss: 0.0163 - accuracy: 0.9964\n",
            "Epoch 50/50\n",
            "36/36 [==============================] - 19s 520ms/step - loss: 0.0158 - accuracy: 0.9964\n"
          ]
        },
        {
          "output_type": "execute_result",
          "data": {
            "text/plain": [
              "<keras.callbacks.History at 0x7fe7a1841910>"
            ]
          },
          "metadata": {},
          "execution_count": 67
        }
      ]
    },
    {
      "cell_type": "code",
      "metadata": {
        "colab": {
          "base_uri": "https://localhost:8080/",
          "height": 296
        },
        "id": "0H2rIYkjcAuP",
        "outputId": "02c0b662-a6d8-4cea-9c8d-cfae4b4b8c9e"
      },
      "source": [
        "#Plotting the training and validation loss and accuracy\n",
        "f,ax=plt.subplots(2,1) \n",
        "\n",
        "#Loss\n",
        "ax[0].plot(model.history.history['loss'],color='b',label='Training Loss')\n",
        "ax[0].plot(model.history.history['val_loss'],color='r',label='Validation Loss')\n",
        "ax[0].legend()\n",
        "plt.xlabel(\"Epoch #\")\n",
        "plt.ylabel(\"Loss/Accuracy\")\n",
        "#Accuracy\n",
        "ax[1].plot(model.history.history['accuracy'],color='b',label='Training  Accuracy')\n",
        "ax[1].plot(model.history.history['val_accuracy'],color='r',label='Validation Accuracy')\n",
        "ax[1].legend()\n",
        "#plt.legend()\n",
        "#plt.title(\"Training Loss and Accuracy\")\n",
        "plt.xlabel(\"Epoch #\")\n",
        "plt.ylabel(\"Loss/Accuracy\")"
      ],
      "execution_count": 68,
      "outputs": [
        {
          "output_type": "execute_result",
          "data": {
            "text/plain": [
              "Text(0, 0.5, 'Loss/Accuracy')"
            ]
          },
          "metadata": {},
          "execution_count": 68
        },
        {
          "output_type": "display_data",
          "data": {
            "image/png": "[encoded data removed]",
            "text/plain": [
              "<Figure size 432x288 with 2 Axes>"
            ]
          },
          "metadata": {
            "needs_background": "light"
          }
        }
      ]
    },
    {
      "cell_type": "code",
      "metadata": {
        "colab": {
          "base_uri": "https://localhost:8080/"
        },
        "id": "C1n-dR6Go2sP",
        "outputId": "382e8194-1200-4177-b0c2-670db2c1dca0"
      },
      "source": [
        "history2 = model.fit(x_train,y_train,epochs=20,validation_data=val_generator.flow(x_val, y_val, batch_size = batch_size))"
      ],
      "execution_count": 72,
      "outputs": [
        {
          "output_type": "stream",
          "name": "stdout",
          "text": [
            "Epoch 1/20\n",
            "115/115 [==============================] - 22s 189ms/step - loss: 0.0083 - accuracy: 0.9970 - val_loss: 0.7402 - val_accuracy: 0.8335\n",
            "Epoch 2/20\n",
            "115/115 [==============================] - 22s 191ms/step - loss: 0.0106 - accuracy: 0.9970 - val_loss: 0.7490 - val_accuracy: 0.8450\n",
            "Epoch 3/20\n",
            "115/115 [==============================] - 22s 194ms/step - loss: 0.0105 - accuracy: 0.9967 - val_loss: 0.7271 - val_accuracy: 0.8437\n",
            "Epoch 4/20\n",
            "115/115 [==============================] - 22s 194ms/step - loss: 0.0091 - accuracy: 0.9978 - val_loss: 0.6820 - val_accuracy: 0.8539\n",
            "Epoch 5/20\n",
            "115/115 [==============================] - 22s 193ms/step - loss: 0.0094 - accuracy: 0.9962 - val_loss: 0.7434 - val_accuracy: 0.8399\n",
            "Epoch 6/20\n",
            "115/115 [==============================] - 22s 193ms/step - loss: 0.0085 - accuracy: 0.9978 - val_loss: 0.7751 - val_accuracy: 0.8450\n",
            "Epoch 7/20\n",
            "115/115 [==============================] - 22s 193ms/step - loss: 0.0086 - accuracy: 0.9965 - val_loss: 0.6682 - val_accuracy: 0.8539\n",
            "Epoch 8/20\n",
            "115/115 [==============================] - 22s 194ms/step - loss: 0.0085 - accuracy: 0.9970 - val_loss: 0.7609 - val_accuracy: 0.8348\n",
            "Epoch 9/20\n",
            "115/115 [==============================] - 22s 193ms/step - loss: 0.0097 - accuracy: 0.9962 - val_loss: 0.7390 - val_accuracy: 0.8551\n",
            "Epoch 10/20\n",
            "115/115 [==============================] - 22s 194ms/step - loss: 0.0099 - accuracy: 0.9965 - val_loss: 0.7404 - val_accuracy: 0.8450\n",
            "Epoch 11/20\n",
            "115/115 [==============================] - 22s 193ms/step - loss: 0.0084 - accuracy: 0.9967 - val_loss: 0.7277 - val_accuracy: 0.8475\n",
            "Epoch 12/20\n",
            "115/115 [==============================] - 22s 193ms/step - loss: 0.0078 - accuracy: 0.9976 - val_loss: 0.7499 - val_accuracy: 0.8437\n",
            "Epoch 13/20\n",
            "115/115 [==============================] - 22s 193ms/step - loss: 0.0081 - accuracy: 0.9978 - val_loss: 0.7799 - val_accuracy: 0.8386\n",
            "Epoch 14/20\n",
            "115/115 [==============================] - 22s 193ms/step - loss: 0.0073 - accuracy: 0.9976 - val_loss: 0.7488 - val_accuracy: 0.8590\n",
            "Epoch 15/20\n",
            "115/115 [==============================] - 22s 192ms/step - loss: 0.0081 - accuracy: 0.9984 - val_loss: 0.7300 - val_accuracy: 0.8526\n",
            "Epoch 16/20\n",
            "115/115 [==============================] - 22s 194ms/step - loss: 0.0089 - accuracy: 0.9962 - val_loss: 0.7330 - val_accuracy: 0.8450\n",
            "Epoch 17/20\n",
            "115/115 [==============================] - 22s 196ms/step - loss: 0.0080 - accuracy: 0.9973 - val_loss: 0.7556 - val_accuracy: 0.8475\n",
            "Epoch 18/20\n",
            "115/115 [==============================] - 22s 195ms/step - loss: 0.0089 - accuracy: 0.9962 - val_loss: 0.7771 - val_accuracy: 0.8412\n",
            "Epoch 19/20\n",
            "115/115 [==============================] - 22s 194ms/step - loss: 0.0079 - accuracy: 0.9970 - val_loss: 0.7638 - val_accuracy: 0.8450\n",
            "Epoch 20/20\n",
            "115/115 [==============================] - 22s 194ms/step - loss: 0.0097 - accuracy: 0.9956 - val_loss: 0.7764 - val_accuracy: 0.8424\n"
          ]
        }
      ]
    },
    {
      "cell_type": "code",
      "metadata": {
        "colab": {
          "base_uri": "https://localhost:8080/",
          "height": 297
        },
        "id": "_XDb612Io20y",
        "outputId": "228db542-5abf-421a-ebf5-c1a07a00859f"
      },
      "source": [
        "plt.subplot(211)\n",
        "plt.plot(history2.history['accuracy'])\n",
        "plt.plot(history2.history['val_accuracy'])\n",
        "plt.title('Model Accuracy')\n",
        "plt.ylabel('Accuracy')\n",
        "plt.xlabel('Epoch')\n",
        "plt.legend(['Training', 'Validation'], loc='lower right')\n",
        "\n",
        "plt.subplot(212)\n",
        "plt.plot(history2.history['loss'])\n",
        "plt.plot(history2.history['val_loss'])\n",
        "plt.title('Model Loss')\n",
        "plt.ylabel('Loss')\n",
        "plt.xlabel('Epoch')\n",
        "plt.legend(['Training', 'Validation'], loc='upper right')\n",
        "\n",
        "plt.tight_layout()\n",
        "plt.show()"
      ],
      "execution_count": 73,
      "outputs": [
        {
          "output_type": "display_data",
          "data": {
            "image/png": "[encoded data removed]",
            "text/plain": [
              "<Figure size 432x288 with 2 Axes>"
            ]
          },
          "metadata": {
            "needs_background": "light"
          }
        }
      ]
    },
    {
      "cell_type": "code",
      "metadata": {
        "id": "fh9U6Jqfo8T8"
      },
      "source": [
        "#Training the model\n",
        "model.fit_generator(\n",
        "    train_generator.flow(x_train, y_train, batch_size= batch_size),\n",
        "    epochs = epochs, \n",
        "    steps_per_epoch = x_train.shape[0]//batch_size, \n",
        "    validation_data = val_generator.flow(x_val, y_val, batch_size = batch_size), \n",
        "    validation_steps = 250, \n",
        "    callbacks=[lrr], \n",
        "    verbose = 1\n",
        "    )\n",
        "history3 = model.fit_generator(\n",
        "    train_generator.flow(x_train, y_train, batch_size= batch_size),\n",
        "    x_train,y_train,epochs=20,validation_data=val_generator.flow(x_val, y_val, batch_size = batch_size))"
      ],
      "execution_count": null,
      "outputs": []
    },
    {
      "cell_type": "code",
      "metadata": {
        "id": "IbOOSeieo8WX"
      },
      "source": [
        ""
      ],
      "execution_count": null,
      "outputs": []
    },
    {
      "cell_type": "code",
      "metadata": {
        "id": "xVn_j11to8dk"
      },
      "source": [
        ""
      ],
      "execution_count": null,
      "outputs": []
    },
    {
      "cell_type": "code",
      "metadata": {
        "id": "SosCr_THo8gO"
      },
      "source": [
        ""
      ],
      "execution_count": null,
      "outputs": []
    },
    {
      "cell_type": "code",
      "metadata": {
        "id": "xEYFv0Qao8j9"
      },
      "source": [
        "c"
      ],
      "execution_count": null,
      "outputs": []
    },
    {
      "cell_type": "code",
      "metadata": {
        "id": "BG-Zg4Jro235"
      },
      "source": [
        ""
      ],
      "execution_count": null,
      "outputs": []
    },
    {
      "cell_type": "code",
      "metadata": {
        "id": "oCWF_n6wo27D"
      },
      "source": [
        ""
      ],
      "execution_count": null,
      "outputs": []
    },
    {
      "cell_type": "code",
      "metadata": {
        "id": "vAHAJg6Io2-V"
      },
      "source": [
        ""
      ],
      "execution_count": null,
      "outputs": []
    },
    {
      "cell_type": "code",
      "metadata": {
        "id": "XfCu8q20o3B6"
      },
      "source": [
        ""
      ],
      "execution_count": null,
      "outputs": []
    },
    {
      "cell_type": "code",
      "metadata": {
        "colab": {
          "base_uri": "https://localhost:8080/"
        },
        "id": "uTEaMJQRi3UG",
        "outputId": "5ff79d56-e415-4c23-8d68-b983a52ac10a"
      },
      "source": [
        "model.history.history[\"val_accuracy\"]"
      ],
      "execution_count": 47,
      "outputs": [
        {
          "output_type": "execute_result",
          "data": {
            "text/plain": [
              "[0.4828462600708008]"
            ]
          },
          "metadata": {},
          "execution_count": 47
        }
      ]
    },
    {
      "cell_type": "code",
      "metadata": {
        "id": "tg-x5dg-cAz3"
      },
      "source": [
        "#Making prediction\n",
        "y_pred=model.predict_classes(x_test)\n",
        "y_true=np.argmax(y_test,axis=1)"
      ],
      "execution_count": null,
      "outputs": []
    },
    {
      "cell_type": "code",
      "metadata": {
        "id": "Owq_T4phcA2d"
      },
      "source": [
        ""
      ],
      "execution_count": null,
      "outputs": []
    },
    {
      "cell_type": "code",
      "metadata": {
        "id": "VQ9Vj7M0cA5o"
      },
      "source": [
        ""
      ],
      "execution_count": null,
      "outputs": []
    },
    {
      "cell_type": "markdown",
      "metadata": {
        "id": "ZlmvEPk_asW4"
      },
      "source": [
        "- clase"
      ]
    },
    {
      "cell_type": "code",
      "metadata": {
        "id": "T60x7JSQrOGS"
      },
      "source": [
        "# https://www.tensorflow.org/api_docs/python/tf/keras/applications/vgg19/VGG19\n",
        "base_model_vgg = VGG19(include_top = False, weights = 'imagenet', input_shape = (128,128,3), \n",
        "                       classes= y_train.shape[1]) \n",
        "##base_model_vgg.summary()"
      ],
      "execution_count": null,
      "outputs": []
    },
    {
      "cell_type": "markdown",
      "metadata": {
        "id": "ORTr9jK6u3yq"
      },
      "source": [
        "- transfer learning"
      ]
    },
    {
      "cell_type": "code",
      "metadata": {
        "colab": {
          "base_uri": "https://localhost:8080/"
        },
        "id": "rqn_bGferOPC",
        "outputId": "28560781-585c-4ae5-be1b-8878ead89846"
      },
      "source": [
        "base_model_vgg.trainable = False  \n",
        "\n",
        "pre_trained_model_vgg = Sequential()\n",
        "pre_trained_model_vgg.add(base_model_vgg)\n",
        "pre_trained_model_vgg.add(layers.Flatten())\n",
        "pre_trained_model_vgg.add(Dense(1024,activation=('relu'),input_dim=512))\n",
        "pre_trained_model_vgg.add(Dense(512,activation=('relu'))) \n",
        "pre_trained_model_vgg.add(Dense(256,activation=('relu'))) \n",
        "pre_trained_model_vgg.add(Dropout(.2))\n",
        "pre_trained_model_vgg.add(Dense(128,activation=('relu')))\n",
        "pre_trained_model_vgg.add(Dense(64,activation=('relu')))\n",
        "pre_trained_model_vgg.add(Dropout(.2))\n",
        "pre_trained_model_vgg.add(Dense(16,activation=('relu'))) # binary\n",
        "pre_trained_model_vgg.add(Dropout(.3))\n",
        "pre_trained_model_vgg.add(Dense(5,activation=('softmax'))) # is used as the activation function in the output layer of neural network models that predict a multinomial probability distribution.\n",
        " \n",
        "#Checking the final model summary\n",
        "pre_trained_model_vgg.summary()"
      ],
      "execution_count": null,
      "outputs": [
        {
          "output_type": "stream",
          "name": "stdout",
          "text": [
            "Model: \"sequential_2\"\n",
            "_________________________________________________________________\n",
            "Layer (type)                 Output Shape              Param #   \n",
            "=================================================================\n",
            "vgg19 (Functional)           (None, 4, 4, 512)         20024384  \n",
            "_________________________________________________________________\n",
            "flatten_1 (Flatten)          (None, 8192)              0         \n",
            "_________________________________________________________________\n",
            "dense_4 (Dense)              (None, 1024)              8389632   \n",
            "_________________________________________________________________\n",
            "dense_5 (Dense)              (None, 512)               524800    \n",
            "_________________________________________________________________\n",
            "dense_6 (Dense)              (None, 256)               131328    \n",
            "_________________________________________________________________\n",
            "dropout_1 (Dropout)          (None, 256)               0         \n",
            "_________________________________________________________________\n",
            "dense_7 (Dense)              (None, 128)               32896     \n",
            "_________________________________________________________________\n",
            "dense_8 (Dense)              (None, 64)                8256      \n",
            "_________________________________________________________________\n",
            "dropout_2 (Dropout)          (None, 64)                0         \n",
            "_________________________________________________________________\n",
            "dense_9 (Dense)              (None, 16)                1040      \n",
            "_________________________________________________________________\n",
            "dropout_3 (Dropout)          (None, 16)                0         \n",
            "_________________________________________________________________\n",
            "dense_10 (Dense)             (None, 5)                 85        \n",
            "=================================================================\n",
            "Total params: 29,112,421\n",
            "Trainable params: 9,088,037\n",
            "Non-trainable params: 20,024,384\n",
            "_________________________________________________________________\n"
          ]
        }
      ]
    },
    {
      "cell_type": "markdown",
      "metadata": {
        "id": "dQYgcWrtyPSC"
      },
      "source": [
        "- training"
      ]
    },
    {
      "cell_type": "code",
      "metadata": {
        "id": "m9mYp096yWDb"
      },
      "source": [
        "#Learning Rate Annealer \n",
        "# The learning rate annealer decreases the learning rate after a certain number of epochs if the error rate does not change. Here, through this technique, \n",
        "#we will monitor the validation accuracy and if it seems to be a plateau in 3 epochs, it will reduce the learning rate by 0.01.\n",
        "lra= ReduceLROnPlateau(monitor='val_acc', factor=.01, patience=3, min_lr=1e-5)"
      ],
      "execution_count": null,
      "outputs": []
    },
    {
      "cell_type": "code",
      "metadata": {
        "id": "lW79_yCcyTfC"
      },
      "source": [
        "number_eps = 100\n",
        "#Compilamos el modelo\n",
        "pre_trained_model_vgg.compile(loss = \"categorical_crossentropy\", \n",
        "                              optimizer = Adam(learning_rate = 3e-4 , decay=0, beta_1 = 0.9, beta_2 = 0.999, epsilon = 1e-08), \n",
        "                              metrics = [\"accuracy\"]) #lr = 0.0005\n",
        "\n",
        "#Entrenamiento\n",
        "mira bien el flag de validation_split, que estás pre-spliteando antes cabesa\n",
        "vgg_pre = pre_trained_model_vgg.fit(x_train, y_train, batch_size=128, epochs=number_eps, validation_split=0.2) \n",
        "# for data augmentation model.fit_generator(train_generator.flow(x_train, y_train, batch_siz e= batch_size),epochs = epochs, steps_per_epoch = x_train.shape[0]//batch_size, validation_data = val_generator.flow(x_val, y_val, batch_size = batch_size), validation_steps = 250, callbacks=[lrr], verbose = 1)\n",
        "\n",
        "#Guardar modelo\n",
        "pre_trained_model_vgg.save(output_folder+\"deepCNN_vgg_1.h5\")\n",
        "\n",
        "#Evaluación del modelo\n",
        "print(\"[INFO]: Evaluando el modelo...\")\n",
        "predictions = pre_trained_model_vgg.predict(x_test, batch_size=128)\n",
        "print(classification_report(y_test.argmax(axis=1), predictions.argmax(axis=1), target_names = classes_list))\n"
      ],
      "execution_count": null,
      "outputs": []
    },
    {
      "cell_type": "code",
      "metadata": {
        "colab": {
          "base_uri": "https://localhost:8080/",
          "height": 547
        },
        "id": "b-9vmuJO4gY8",
        "outputId": "224ab669-0f4e-498d-8620-76cf03e87dee"
      },
      "source": [
        "number_eps = 100\n",
        "#Gráficas\n",
        "plt.style.use(\"ggplot\")\n",
        "plt.figure()\n",
        "plt.plot(np.arange(0, number_eps), vgg_pre.history[\"loss\"], label=\"train_loss\")\n",
        "plt.plot(np.arange(0, number_eps), vgg_pre.history[\"accuracy\"], label=\"train_acc\")\n",
        "plt.legend()\n",
        "plt.show()\n",
        "plt.plot(np.arange(0, number_eps), vgg_pre.history[\"val_loss\"], label=\"val_loss\")\n",
        "plt.plot(np.arange(0, number_eps), vgg_pre.history[\"val_accuracy\"], label=\"val_acc\")\n",
        "plt.title(\"Training Loss and Accuracy\")\n",
        "plt.xlabel(\"Epoch #\")\n",
        "plt.ylabel(\"Loss/Accuracy\")\n",
        "plt.legend()\n",
        "plt.show()"
      ],
      "execution_count": null,
      "outputs": [
        {
          "output_type": "display_data",
          "data": {
            "image/png": "[encoded data removed]",
            "text/plain": [
              "<Figure size 432x288 with 1 Axes>"
            ]
          },
          "metadata": {}
        },
        {
          "output_type": "display_data",
          "data": {
            "image/png": "[encoded data removed]",
            "text/plain": [
              "<Figure size 432x288 with 1 Axes>"
            ]
          },
          "metadata": {}
        }
      ]
    },
    {
      "cell_type": "code",
      "metadata": {
        "id": "I80lM5nn1wQH"
      },
      "source": [
        "mete la confusion matrix de las clases que siempre mola https://analyticsindiamag.com/transfer-learning-for-multi-class-image-classification-using-deep-convolutional-neural-network/"
      ],
      "execution_count": null,
      "outputs": []
    },
    {
      "cell_type": "markdown",
      "metadata": {
        "id": "LBorCPhS08mR"
      },
      "source": [
        "- data augmentation for the same architecture"
      ]
    },
    {
      "cell_type": "code",
      "metadata": {
        "id": "Oc8UR6fDmYgg"
      },
      "source": [
        ""
      ],
      "execution_count": null,
      "outputs": []
    }
  ]
}