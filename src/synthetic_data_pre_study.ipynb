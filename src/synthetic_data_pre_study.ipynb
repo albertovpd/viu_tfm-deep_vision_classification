{
 "cells": [
  {
   "cell_type": "markdown",
   "metadata": {
    "id": "EPEYaS0dA_Pd"
   },
   "source": [
    "# Synthetic data. Previous study.\n",
    "\n",
    "Main branch => https://github.com/albertovpd/viu_tfm-deep_vision_classification/tree/synthetic_data_study\n",
    "\n",
    "With a confusion matrix and a classification report we're able to see the weaknesses of our models regarding the classes. Nevertheless, how do you check what images are particulary hard to classify correctly?\n",
    "\n",
    "This notebook answers that question. In previous branches of the project:\n",
    "- 150pics of each classes were taken to create the test set.\n",
    "- the rest:\n",
    "  - were shuffled and divided into train set (80%), validation set (20%). This process were repeated 5 times, to create 5 subfolders with different configurations of train and validation set => https://github.com/albertovpd/viu_tfm-deep_vision_classification/tree/kfolds_validation\n",
    "\n",
    "  - the same model was trained with and validated with this 5 subfolders, saving a different configuration each time.\n",
    "\n",
    "Now I'm going to check in all folders, what pictures are misclassified by all models. Those will be *the hardest pictures to classify*, and I'll work on create synthetic data for those ones.\n",
    "\n",
    "\n",
    "\n"
   ]
  },
  {
   "cell_type": "code",
   "execution_count": null,
   "metadata": {
    "colab": {
     "base_uri": "https://localhost:8080/"
    },
    "id": "UnrItHohA1UI",
    "outputId": "609ee67f-53bb-48e0-c6ce-ba1bafba91d5"
   },
   "outputs": [
    {
     "name": "stdout",
     "output_type": "stream",
     "text": [
      "Mounted at /content/drive/\n"
     ]
    }
   ],
   "source": [
    "# Google Drive stuff\n",
    "from google.colab import drive\n",
    "drive.mount('/content/drive/', force_remount=True)"
   ]
  },
  {
   "cell_type": "code",
   "execution_count": null,
   "metadata": {
    "colab": {
     "base_uri": "https://localhost:8080/"
    },
    "id": "QXg1WfU_B6SI",
    "outputId": "58eaced8-7b51-4123-b958-d45813ba241f"
   },
   "outputs": [
    {
     "name": "stdout",
     "output_type": "stream",
     "text": [
      "Tue Mar 22 09:55:16 2022       \n",
      "+-----------------------------------------------------------------------------+\n",
      "| NVIDIA-SMI 460.32.03    Driver Version: 460.32.03    CUDA Version: 11.2     |\n",
      "|-------------------------------+----------------------+----------------------+\n",
      "| GPU  Name        Persistence-M| Bus-Id        Disp.A | Volatile Uncorr. ECC |\n",
      "| Fan  Temp  Perf  Pwr:Usage/Cap|         Memory-Usage | GPU-Util  Compute M. |\n",
      "|                               |                      |               MIG M. |\n",
      "|===============================+======================+======================|\n",
      "|   0  A100-SXM4-40GB      Off  | 00000000:00:04.0 Off |                    0 |\n",
      "| N/A   33C    P0    46W / 400W |      0MiB / 40536MiB |      0%      Default |\n",
      "|                               |                      |             Disabled |\n",
      "+-------------------------------+----------------------+----------------------+\n",
      "                                                                               \n",
      "+-----------------------------------------------------------------------------+\n",
      "| Processes:                                                                  |\n",
      "|  GPU   GI   CI        PID   Type   Process name                  GPU Memory |\n",
      "|        ID   ID                                                   Usage      |\n",
      "|=============================================================================|\n",
      "|  No running processes found                                                 |\n",
      "+-----------------------------------------------------------------------------+\n"
     ]
    }
   ],
   "source": [
    "gpu_info = !nvidia-smi\n",
    "gpu_info = '\\n'.join(gpu_info)\n",
    "if gpu_info.find('failed') >= 0:\n",
    "  print('Not connected to a GPU')\n",
    "else:\n",
    "  print(gpu_info)"
   ]
  },
  {
   "cell_type": "code",
   "execution_count": null,
   "metadata": {
    "colab": {
     "base_uri": "https://localhost:8080/"
    },
    "id": "-I_tE0o9CCGh",
    "outputId": "df514893-89e9-4da8-8c0f-50f7fcf84402"
   },
   "outputs": [
    {
     "name": "stdout",
     "output_type": "stream",
     "text": [
      "Found GPU at: /device:GPU:0\n"
     ]
    }
   ],
   "source": [
    "# tf\n",
    "%tensorflow_version 2.x\n",
    "import tensorflow as tf\n",
    "device_name = tf.test.gpu_device_name()\n",
    "if device_name != '/device:GPU:0':\n",
    "  raise SystemError('GPU device not found')\n",
    "print('Found GPU at: {}'.format(device_name))"
   ]
  },
  {
   "cell_type": "markdown",
   "metadata": {
    "id": "RQ-gURRuCOla"
   },
   "source": [
    "- libs"
   ]
  },
  {
   "cell_type": "code",
   "execution_count": null,
   "metadata": {
    "id": "dpShKkBeCL48"
   },
   "outputs": [],
   "source": [
    "%tensorflow_version 2.x\n",
    "# batch ingestion of pics without pickle\n",
    "from tensorflow.keras.preprocessing import image_dataset_from_directory\n",
    "\n",
    "# nns\n",
    "from tensorflow.keras.applications import ResNet50 \n",
    "\n",
    "from tensorflow.keras import Model\n",
    "from tensorflow.keras.models import load_model # Sequential\n",
    "from tensorflow.keras import layers \n",
    "\n",
    "# optimization\n",
    "from tensorflow.keras.optimizers import SGD #Adam\n",
    "from tensorflow.keras.losses import SparseCategoricalCrossentropy, categorical_crossentropy\n",
    "from tensorflow.keras.callbacks import EarlyStopping\n",
    "\n",
    "# nn architectures, metrics, viz & reports => written in my_functions202202 file\n",
    "import sys\n",
    "sys.path.append(\"/content/drive/My Drive/2-Estudios/viu-master_ai/tfm-deep_vision/src\")\n",
    "from misclassification_functions import inferences_target_list, get_misclassified, get_list_of_files\n",
    "\n",
    "import numpy as np\n",
    "%matplotlib inline\n",
    "\n",
    "# navigating through folders\n",
    "import os\n",
    "\n",
    "# to copy files from one path to another folder\n",
    "import shutil"
   ]
  },
  {
   "cell_type": "markdown",
   "metadata": {
    "id": "z9du-AOzCVQ5"
   },
   "source": [
    "- paths"
   ]
  },
  {
   "cell_type": "code",
   "execution_count": null,
   "metadata": {
    "id": "cU4Q7459CTE1"
   },
   "outputs": [],
   "source": [
    "base_folder = \"/content/drive/My Drive/2-Estudios/viu-master_ai/tfm-deep_vision/\"\n",
    "test_folder = base_folder+\"input/dataset_1test_5trainval_folders/test_ds/\"\n",
    "\n",
    "# input\n",
    "reg_input = base_folder+\"input/dataset_1test_5trainval_folders/train_val_ds/trainval_regular_partitions/\"\n",
    "misclassified_folder = base_folder+\"input/dataset_1test_5trainval_folders/misclassifications/\"\n",
    "\n",
    "# models stored in \n",
    "output_folder = base_folder + \"/output/\""
   ]
  },
  {
   "cell_type": "markdown",
   "metadata": {
    "id": "k4Hw9GwnDfpa"
   },
   "source": [
    "- create folder for pictures misclassified for all models"
   ]
  },
  {
   "cell_type": "code",
   "execution_count": null,
   "metadata": {
    "id": "R0bmyB9IbIPV"
   },
   "outputs": [],
   "source": [
    "# create a folder with 5 subfolders, 1 for each class\n",
    "for cls in class_names:\n",
    "    folder = misclassified_folder+ cls\n",
    "    os.makedirs(misclassified_folder+ cls, exist_ok=True)\n",
    "    print(folder[49:])"
   ]
  },
  {
   "cell_type": "markdown",
   "metadata": {
    "id": "RdQj8JY5DV-p"
   },
   "source": [
    "- common parameters"
   ]
  },
  {
   "cell_type": "code",
   "execution_count": null,
   "metadata": {
    "id": "fLqarfuvDvYi"
   },
   "outputs": [],
   "source": [
    "image_size = (128,128)\n",
    "batch_size = 128\n",
    "epochs = 250\n",
    "opt = SGD(momentum=0.9) "
   ]
  },
  {
   "cell_type": "markdown",
   "metadata": {
    "id": "ZDQ3SKLuGrll"
   },
   "source": [
    "- models!"
   ]
  },
  {
   "cell_type": "code",
   "execution_count": null,
   "metadata": {
    "id": "Bo73Ppaoa0mS"
   },
   "outputs": [],
   "source": [
    "# available models\n",
    "onlyfiles = [f for f in os.listdir(output_folder) if (os.path.isfile(os.path.join(output_folder, f)) & (\".h5\" in f) )]\n",
    "for files in sorted(onlyfiles):\n",
    "    print(files)"
   ]
  },
  {
   "cell_type": "code",
   "execution_count": null,
   "metadata": {
    "id": "mq54z9khFNLI"
   },
   "outputs": [],
   "source": [
    "# build a dict with the models I want\n",
    "models_dict = {\"resnet50_NOdataAug_dropoutFirst007_regKfolds_fold0.h5\": load_model(output_folder+\"resnet50_NOdataAug_dropoutFirst007_regKfolds_fold0.h5\"),\n",
    "               \"resnet50_NOdataAug_dropoutFirst007_regKfolds_fold1.h5\": load_model(output_folder+\"resnet50_NOdataAug_dropoutFirst007_regKfolds_fold1.h5\"),\n",
    "               \"resnet50_NOdataAug_dropoutFirst007_regKfolds_fold2.h5\": load_model(output_folder+\"resnet50_NOdataAug_dropoutFirst007_regKfolds_fold2.h5\"),\n",
    "               \"resnet50_NOdataAug_dropoutFirst007_regKfolds_fold3.h5\": load_model(output_folder+\"resnet50_NOdataAug_dropoutFirst007_regKfolds_fold3.h5\"),\n",
    "               \"resnet50_NOdataAug_dropoutFirst007_regKfolds_fold4.h5\": load_model(output_folder+\"resnet50_NOdataAug_dropoutFirst007_regKfolds_fold4.h5\")\n",
    "              }"
   ]
  },
  {
   "cell_type": "code",
   "execution_count": null,
   "metadata": {
    "colab": {
     "base_uri": "https://localhost:8080/"
    },
    "id": "fYZy7-D_ImDa",
    "outputId": "b7f8ff4a-4cc5-41fc-c24b-b013cc32954b"
   },
   "outputs": [
    {
     "data": {
      "text/plain": [
       "['fold2', 'fold4', 'fold0', 'fold3', 'fold1']"
      ]
     },
     "execution_count": 11,
     "metadata": {},
     "output_type": "execute_result"
    }
   ],
   "source": [
    "folders = os.listdir(reg_input)\n",
    "folders"
   ]
  },
  {
   "cell_type": "markdown",
   "metadata": {
    "id": "jWcNu_5dk1dp"
   },
   "source": [
    "- train set folders (it's just folders with a subfolder called train_set (one for each class) in which we evaluate all models)"
   ]
  },
  {
   "cell_type": "code",
   "execution_count": null,
   "metadata": {
    "colab": {
     "base_uri": "https://localhost:8080/"
    },
    "id": "nrnMLMpIja6S",
    "outputId": "f968e660-c4e4-44f5-e030-0a9845fd8613"
   },
   "outputs": [
    {
     "name": "stdout",
     "output_type": "stream",
     "text": [
      "===> fold2\n",
      "Found 3598 files belonging to 5 classes.\n",
      "elements misclassified in fold2 for model resnet50_NOdataAug_dropoutFirst007_regKfolds_fold0.h5:  714\n",
      "elements misclassified in fold2 for model resnet50_NOdataAug_dropoutFirst007_regKfolds_fold1.h5:  692\n",
      "elements misclassified in fold2 for model resnet50_NOdataAug_dropoutFirst007_regKfolds_fold2.h5:  384\n",
      "elements misclassified in fold2 for model resnet50_NOdataAug_dropoutFirst007_regKfolds_fold3.h5:  722\n",
      "elements misclassified in fold2 for model resnet50_NOdataAug_dropoutFirst007_regKfolds_fold4.h5:  271\n",
      "- total misclassified in fold2 for all models:  167\n",
      "===> fold4\n",
      "Found 3598 files belonging to 5 classes.\n",
      "elements misclassified in fold4 for model resnet50_NOdataAug_dropoutFirst007_regKfolds_fold0.h5:  695\n",
      "elements misclassified in fold4 for model resnet50_NOdataAug_dropoutFirst007_regKfolds_fold1.h5:  691\n",
      "elements misclassified in fold4 for model resnet50_NOdataAug_dropoutFirst007_regKfolds_fold2.h5:  468\n",
      "elements misclassified in fold4 for model resnet50_NOdataAug_dropoutFirst007_regKfolds_fold3.h5:  694\n",
      "elements misclassified in fold4 for model resnet50_NOdataAug_dropoutFirst007_regKfolds_fold4.h5:  190\n",
      "- total misclassified in fold4 for all models:  148\n",
      "===> fold0\n",
      "Found 3598 files belonging to 5 classes.\n",
      "elements misclassified in fold0 for model resnet50_NOdataAug_dropoutFirst007_regKfolds_fold0.h5:  593\n",
      "elements misclassified in fold0 for model resnet50_NOdataAug_dropoutFirst007_regKfolds_fold1.h5:  684\n",
      "elements misclassified in fold0 for model resnet50_NOdataAug_dropoutFirst007_regKfolds_fold2.h5:  469\n",
      "elements misclassified in fold0 for model resnet50_NOdataAug_dropoutFirst007_regKfolds_fold3.h5:  709\n",
      "elements misclassified in fold0 for model resnet50_NOdataAug_dropoutFirst007_regKfolds_fold4.h5:  288\n",
      "- total misclassified in fold0 for all models:  173\n",
      "===> fold3\n",
      "Found 3598 files belonging to 5 classes.\n",
      "elements misclassified in fold3 for model resnet50_NOdataAug_dropoutFirst007_regKfolds_fold0.h5:  709\n",
      "elements misclassified in fold3 for model resnet50_NOdataAug_dropoutFirst007_regKfolds_fold1.h5:  696\n",
      "elements misclassified in fold3 for model resnet50_NOdataAug_dropoutFirst007_regKfolds_fold2.h5:  465\n",
      "elements misclassified in fold3 for model resnet50_NOdataAug_dropoutFirst007_regKfolds_fold3.h5:  614\n",
      "elements misclassified in fold3 for model resnet50_NOdataAug_dropoutFirst007_regKfolds_fold4.h5:  285\n",
      "- total misclassified in fold3 for all models:  175\n",
      "===> fold1\n",
      "Found 3598 files belonging to 5 classes.\n",
      "elements misclassified in fold1 for model resnet50_NOdataAug_dropoutFirst007_regKfolds_fold0.h5:  693\n",
      "elements misclassified in fold1 for model resnet50_NOdataAug_dropoutFirst007_regKfolds_fold1.h5:  577\n",
      "elements misclassified in fold1 for model resnet50_NOdataAug_dropoutFirst007_regKfolds_fold2.h5:  434\n",
      "elements misclassified in fold1 for model resnet50_NOdataAug_dropoutFirst007_regKfolds_fold3.h5:  706\n",
      "elements misclassified in fold1 for model resnet50_NOdataAug_dropoutFirst007_regKfolds_fold4.h5:  276\n",
      "- total misclassified in fold1 for all models:  168\n"
     ]
    }
   ],
   "source": [
    "for f in folders:\n",
    "  print(\"===>\", f)\n",
    "  misclassified_train_folders=[]\n",
    "  # -- train dataset for each folder\n",
    "  train_path = reg_input+f+\"/\"+'train_ds/'\n",
    "  # print(\"\\n train dataset:\", \"\\n\", train_path)\n",
    "  train_ds = image_dataset_from_directory(\n",
    "            train_path,\n",
    "            class_names=[\"Bedroom\",\"Bathroom\",\"Dinning\",\"Livingroom\",\"Kitchen\"],\n",
    "            seed=None,\n",
    "            validation_split=None, \n",
    "            subset=None,\n",
    "            image_size= image_size,\n",
    "            batch_size= batch_size,\n",
    "            color_mode='rgb',\n",
    "            shuffle=False \n",
    "            )        \n",
    "  # list of paths for analysed images\n",
    "  pic_list = get_list_of_files(train_path)\n",
    "\n",
    "  for nn in models_dict:\n",
    "        # inferences and real values\n",
    "        y_pred, y_target = inferences_target_list(models_dict[nn], train_ds)\n",
    "        \n",
    "        # misclassified ones\n",
    "        misclassified = get_misclassified(y_pred, y_target)\n",
    "        print(\"elements misclassified in {} for model {}: \".format(f, nn), len(misclassified))\n",
    "        misclassified_train_folders.append(misclassified)\n",
    "\n",
    "  # get the indexes of common misclassified pics in the same folder for all models \n",
    "  common_misclassified = list(set.intersection(*map(set, misclassified_train_folders)))  \n",
    "  print(\"- total common misclassified in {} for all models: \".format(f), len(common_misclassified))\n",
    "\n",
    "  # labels associated to that indexes, for testing \n",
    "  # target_misclassified = [y_target[i] for i in common_misclassified]\n",
    "  # pred_misclassified = [y_pred[i] for i in common_misclassified]\n",
    "\n",
    "  # get associated to that indexes\n",
    "  pic_list_misclassified = [pic_list[i] for i in common_misclassified]\n",
    "\n",
    "  # copy that pics to the global misclassification folder\n",
    "  relocating_misclassified(common_misclassified)"
   ]
  },
  {
   "cell_type": "code",
   "execution_count": null,
   "metadata": {
    "colab": {
     "base_uri": "https://localhost:8080/"
    },
    "id": "bo09-mMimH75",
    "outputId": "6a55de2c-bc17-4551-9438-4a4bcb93cdfb"
   },
   "outputs": [
    {
     "data": {
      "text/plain": [
       "778"
      ]
     },
     "execution_count": 13,
     "metadata": {},
     "output_type": "execute_result"
    }
   ],
   "source": [
    "# shutil.copy won't duplicate an existing record in a destination fodler, it will overwrite it\n",
    "sum([len(files) for r, d, files in os.walk(misclassified_folder)])"
   ]
  },
  {
   "cell_type": "markdown",
   "metadata": {
    "id": "dsziPuMRlBf9"
   },
   "source": [
    "- validation set folders (it's just folders with subfolder called val_set (one for each class) in which we evaluate all models)"
   ]
  },
  {
   "cell_type": "code",
   "execution_count": null,
   "metadata": {
    "colab": {
     "base_uri": "https://localhost:8080/"
    },
    "id": "6oQR58T7jH18",
    "outputId": "34b7c66f-5e55-4a16-f7c0-837c38d42e68"
   },
   "outputs": [
    {
     "name": "stdout",
     "output_type": "stream",
     "text": [
      "fold2\n",
      "Found 902 files belonging to 5 classes.\n",
      "elements misclassified in fold2 for model resnet50_NOdataAug_dropoutFirst007_regKfolds_fold0.h5:  173\n",
      "elements misclassified in fold2 for model resnet50_NOdataAug_dropoutFirst007_regKfolds_fold1.h5:  178\n",
      "elements misclassified in fold2 for model resnet50_NOdataAug_dropoutFirst007_regKfolds_fold2.h5:  208\n",
      "elements misclassified in fold2 for model resnet50_NOdataAug_dropoutFirst007_regKfolds_fold3.h5:  167\n",
      "elements misclassified in fold2 for model resnet50_NOdataAug_dropoutFirst007_regKfolds_fold4.h5:  99\n",
      "- total misclassified in fold2 for all models:  61\n",
      "61\n",
      "fold4\n",
      "Found 911 files belonging to 5 classes.\n",
      "elements misclassified in fold4 for model resnet50_NOdataAug_dropoutFirst007_regKfolds_fold0.h5:  193\n",
      "elements misclassified in fold4 for model resnet50_NOdataAug_dropoutFirst007_regKfolds_fold1.h5:  182\n",
      "elements misclassified in fold4 for model resnet50_NOdataAug_dropoutFirst007_regKfolds_fold2.h5:  125\n",
      "elements misclassified in fold4 for model resnet50_NOdataAug_dropoutFirst007_regKfolds_fold3.h5:  196\n",
      "elements misclassified in fold4 for model resnet50_NOdataAug_dropoutFirst007_regKfolds_fold4.h5:  182\n",
      "- total misclassified in fold4 for all models:  81\n",
      "81\n",
      "fold0\n",
      "Found 902 files belonging to 5 classes.\n",
      "elements misclassified in fold0 for model resnet50_NOdataAug_dropoutFirst007_regKfolds_fold0.h5:  294\n",
      "elements misclassified in fold0 for model resnet50_NOdataAug_dropoutFirst007_regKfolds_fold1.h5:  186\n",
      "elements misclassified in fold0 for model resnet50_NOdataAug_dropoutFirst007_regKfolds_fold2.h5:  123\n",
      "elements misclassified in fold0 for model resnet50_NOdataAug_dropoutFirst007_regKfolds_fold3.h5:  180\n",
      "elements misclassified in fold0 for model resnet50_NOdataAug_dropoutFirst007_regKfolds_fold4.h5:  82\n",
      "- total misclassified in fold0 for all models:  55\n",
      "55\n",
      "fold3\n",
      "Found 902 files belonging to 5 classes.\n",
      "elements misclassified in fold3 for model resnet50_NOdataAug_dropoutFirst007_regKfolds_fold0.h5:  178\n",
      "elements misclassified in fold3 for model resnet50_NOdataAug_dropoutFirst007_regKfolds_fold1.h5:  174\n",
      "elements misclassified in fold3 for model resnet50_NOdataAug_dropoutFirst007_regKfolds_fold2.h5:  127\n",
      "elements misclassified in fold3 for model resnet50_NOdataAug_dropoutFirst007_regKfolds_fold3.h5:  275\n",
      "elements misclassified in fold3 for model resnet50_NOdataAug_dropoutFirst007_regKfolds_fold4.h5:  85\n",
      "- total misclassified in fold3 for all models:  53\n",
      "53\n",
      "fold1\n",
      "Found 902 files belonging to 5 classes.\n",
      "elements misclassified in fold1 for model resnet50_NOdataAug_dropoutFirst007_regKfolds_fold0.h5:  194\n",
      "elements misclassified in fold1 for model resnet50_NOdataAug_dropoutFirst007_regKfolds_fold1.h5:  293\n",
      "elements misclassified in fold1 for model resnet50_NOdataAug_dropoutFirst007_regKfolds_fold2.h5:  158\n",
      "elements misclassified in fold1 for model resnet50_NOdataAug_dropoutFirst007_regKfolds_fold3.h5:  183\n",
      "elements misclassified in fold1 for model resnet50_NOdataAug_dropoutFirst007_regKfolds_fold4.h5:  94\n",
      "- total misclassified in fold1 for all models:  60\n",
      "60\n"
     ]
    }
   ],
   "source": [
    "\n",
    "for f in folders:\n",
    "  print(f)\n",
    "  misclassified_val_folders=[]\n",
    "  # --validation dataset for each folder\n",
    "  val_path = reg_input+f+\"/\"+\"val_ds\"\n",
    "  val_ds = image_dataset_from_directory(\n",
    "          val_path,\n",
    "          class_names=[\"Bedroom\",\"Bathroom\",\"Dinning\",\"Livingroom\",\"Kitchen\"],\n",
    "          seed=None,\n",
    "          validation_split=None, \n",
    "          subset=None,\n",
    "          image_size= image_size,\n",
    "          batch_size= batch_size,\n",
    "          color_mode='rgb',\n",
    "          shuffle=False \n",
    "      )      \n",
    "  # list of paths for analysed images\n",
    "  pic_list_val = get_list_of_files(val_path)\n",
    "\n",
    "  for nn in models_dict:\n",
    "      # inferences and real values\n",
    "      y_pred_val, y_target_val = inferences_target_list(models_dict[nn], val_ds)\n",
    "      \n",
    "      # misclassified ones\n",
    "      misclassified_val = get_misclassified(y_pred_val, y_target_val)\n",
    "      print(\"elements misclassified in {} for model {}: \".format(f, nn), len(misclassified_val))\n",
    "      misclassified_val_folders.append(misclassified_val)\n",
    "\n",
    "  # get the indexes of common misclassified pics in the same folder for all models \n",
    "  common_misclassified_val = list(set.intersection(*map(set, misclassified_val_folders)))\n",
    "  print(\"- total common misclassified in {} for all models: \".format(f), len(common_misclassified_val))\n",
    "\n",
    "  # associated paths to that indexes\n",
    "  pic_list_misclassified_val = [pic_list_val[i] for i in common_misclassified_val]\n",
    "  print(len(pic_list_misclassified_val))\n",
    "\n",
    "  # copy that pics to the global misclassification folder\n",
    "  relocating_misclassified(common_misclassified_val)"
   ]
  },
  {
   "cell_type": "code",
   "execution_count": null,
   "metadata": {
    "colab": {
     "base_uri": "https://localhost:8080/"
    },
    "id": "xPUgGtyMi9UJ",
    "outputId": "5dd212fb-80c2-4ad7-a206-fb1b124ed741"
   },
   "outputs": [
    {
     "data": {
      "text/plain": [
       "1007"
      ]
     },
     "execution_count": 15,
     "metadata": {},
     "output_type": "execute_result"
    }
   ],
   "source": [
    "sum([len(files) for r, d, files in os.walk(misclassified_folder)])"
   ]
  },
  {
   "cell_type": "markdown",
   "metadata": {
    "id": "XpH5n9pwD-Qm"
   },
   "source": [
    "- test set folder (a folder with 5 subfolders, one for each class). Every folder have 150 pics that don't appear in the train/validation folders."
   ]
  },
  {
   "cell_type": "code",
   "execution_count": null,
   "metadata": {
    "colab": {
     "base_uri": "https://localhost:8080/"
    },
    "id": "E8pRqzyCEdge",
    "outputId": "3a87cbea-b5a0-4c00-d15f-c0bb5a13294b"
   },
   "outputs": [
    {
     "name": "stdout",
     "output_type": "stream",
     "text": [
      "Found 750 files belonging to 5 classes.\n",
      "elements misclassified in test dataset for model resnet50_NOdataAug_dropoutFirst007_regKfolds_fold0.h5:  234\n",
      "elements misclassified in test dataset for model resnet50_NOdataAug_dropoutFirst007_regKfolds_fold1.h5:  221\n",
      "elements misclassified in test dataset for model resnet50_NOdataAug_dropoutFirst007_regKfolds_fold2.h5:  220\n",
      "elements misclassified in test dataset for model resnet50_NOdataAug_dropoutFirst007_regKfolds_fold3.h5:  234\n",
      "elements misclassified in test dataset for model resnet50_NOdataAug_dropoutFirst007_regKfolds_fold4.h5:  215\n",
      "- total common misclassified in test dataset for all models:  134\n",
      "134\n"
     ]
    }
   ],
   "source": [
    "test_ds = image_dataset_from_directory(\n",
    "    test_folder,\n",
    "      class_names=[\"Bedroom\",\"Bathroom\",\"Dinning\",\"Livingroom\",\"Kitchen\"],\n",
    "      seed=None,\n",
    "      validation_split=None, \n",
    "      subset=None,\n",
    "      image_size= image_size,\n",
    "      batch_size= batch_size,\n",
    "      color_mode='rgb',\n",
    "      shuffle=False \n",
    "  )     \n",
    "# list of paths for analysed images\n",
    "pic_list = get_list_of_files(test_folder)\n",
    "misclassified_test_folder = []\n",
    "for nn in models_dict:\n",
    "      # inferences and real values\n",
    "      y_pred_test, y_target_test = inferences_target_list(models_dict[nn], test_ds)\n",
    "      \n",
    "      # misclassified ones\n",
    "      misclassified_test = get_misclassified(y_pred_test, y_target_test)\n",
    "      print(\"elements misclassified in test dataset for model {}: \".format(nn), len(misclassified_test))\n",
    "      misclassified_test_folder.append(misclassified_test)\n",
    "\n",
    "# get the indexes of common misclassified pics in the same folder for all models \n",
    "common_misclassified_test = list(set.intersection(*map(set, misclassified_test_folder)))  \n",
    "print(\"- total common misclassified in test dataset for all models: \", len(common_misclassified_test))\n",
    "\n",
    "# get associated to that indexes\n",
    "pic_list_misclassified_test = [pic_list[i] for i in common_misclassified_test]\n",
    "print(len(pic_list_misclassified_test))\n",
    "\n",
    "# copy that pics to the global misclassification folder\n",
    "relocating_misclassified(common_misclassified_test)"
   ]
  },
  {
   "cell_type": "code",
   "execution_count": null,
   "metadata": {
    "colab": {
     "base_uri": "https://localhost:8080/"
    },
    "id": "9XwmBoneFVdg",
    "outputId": "de408916-07ec-4766-c4dc-579c861f7cce"
   },
   "outputs": [
    {
     "data": {
      "text/plain": [
       "1141"
      ]
     },
     "execution_count": 16,
     "metadata": {},
     "output_type": "execute_result"
    }
   ],
   "source": [
    "sum([len(files) for r, d, files in os.walk(misclassified_folder)])"
   ]
  },
  {
   "cell_type": "code",
   "execution_count": null,
   "metadata": {
    "id": "9Klh9lVfgqbr"
   },
   "outputs": [],
   "source": []
  }
 ],
 "metadata": {
  "accelerator": "GPU",
  "colab": {
   "background_execution": "on",
   "collapsed_sections": [
    "5PkNYT54jJS-"
   ],
   "name": "synthetic_data_pre-study.ipynb",
   "provenance": []
  },
  "kernelspec": {
   "display_name": "Python 3",
   "language": "python",
   "name": "python3"
  },
  "language_info": {
   "codemirror_mode": {
    "name": "ipython",
    "version": 3
   },
   "file_extension": ".py",
   "mimetype": "text/x-python",
   "name": "python",
   "nbconvert_exporter": "python",
   "pygments_lexer": "ipython3",
   "version": "3.7.6"
  }
 },
 "nbformat": 4,
 "nbformat_minor": 4
}
