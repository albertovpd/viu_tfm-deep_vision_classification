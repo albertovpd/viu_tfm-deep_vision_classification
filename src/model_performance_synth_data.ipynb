{
  "nbformat": 4,
  "nbformat_minor": 0,
  "metadata": {
    "colab": {
      "name": "model_performance_synth_data.ipynb",
      "provenance": [],
      "background_execution": "on"
    },
    "kernelspec": {
      "name": "python3",
      "display_name": "Python 3"
    },
    "language_info": {
      "name": "python"
    },
    "accelerator": "GPU"
  },
  "cells": [
    {
      "cell_type": "markdown",
      "source": [
        "# Studying a model performance with synthetic data\n",
        "\n",
        "Synthetic data have been created for each class, using as input the pictures that all models misclassify. The idea is the following: Maybe having more pics similar to the misclassified ones we can improve the performance of the model in that areas.\n",
        "\n",
        "- There are a test set with 150 real pics of each class.\n",
        "- Now, for each class, there are other 3 train/validation folders:\n",
        "  - With all real pics and 50 synthetic pics\n",
        "  - With all real pics and 250 synthetic pics\n",
        "  - With all real pics and 480 synthetic pics\n",
        "\n",
        "\n",
        "There is model that already have ran over the very same test set, and the very same train/validation set with real images.\n",
        "\n",
        "- The study of what pics were generated synthetically can be found here => https://github.com/albertovpd/viu_tfm-deep_vision_classification/tree/synthetic_data_study\n",
        "\n",
        "- They were created using the pytorch implementation of this repo => https://github.com/mit-han-lab/data-efficient-gans"
      ],
      "metadata": {
        "id": "cCn8cLHwd8Ra"
      }
    },
    {
      "cell_type": "code",
      "execution_count": 1,
      "metadata": {
        "colab": {
          "base_uri": "https://localhost:8080/"
        },
        "id": "OBryx7Rud2O5",
        "outputId": "78fb5efc-1926-48e7-8d07-7e7a78572b84"
      },
      "outputs": [
        {
          "output_type": "stream",
          "name": "stdout",
          "text": [
            "Mounted at /content/drive/\n"
          ]
        }
      ],
      "source": [
        "# Google Drive stuff\n",
        "from google.colab import drive\n",
        "drive.mount('/content/drive/', force_remount=True)"
      ]
    },
    {
      "cell_type": "code",
      "source": [
        "gpu_info = !nvidia-smi\n",
        "gpu_info = '\\n'.join(gpu_info)\n",
        "if gpu_info.find('failed') >= 0:\n",
        "  print('Not connected to a GPU')\n",
        "else:\n",
        "  print(gpu_info)"
      ],
      "metadata": {
        "colab": {
          "base_uri": "https://localhost:8080/"
        },
        "id": "5YgXFc0ggMMx",
        "outputId": "8ff363e1-7493-4d28-9780-92bd128639e5"
      },
      "execution_count": 2,
      "outputs": [
        {
          "output_type": "stream",
          "name": "stdout",
          "text": [
            "Mon May 16 10:55:36 2022       \n",
            "+-----------------------------------------------------------------------------+\n",
            "| NVIDIA-SMI 460.32.03    Driver Version: 460.32.03    CUDA Version: 11.2     |\n",
            "|-------------------------------+----------------------+----------------------+\n",
            "| GPU  Name        Persistence-M| Bus-Id        Disp.A | Volatile Uncorr. ECC |\n",
            "| Fan  Temp  Perf  Pwr:Usage/Cap|         Memory-Usage | GPU-Util  Compute M. |\n",
            "|                               |                      |               MIG M. |\n",
            "|===============================+======================+======================|\n",
            "|   0  A100-SXM4-40GB      Off  | 00000000:00:04.0 Off |                    0 |\n",
            "| N/A   35C    P0    44W / 400W |      0MiB / 40536MiB |      0%      Default |\n",
            "|                               |                      |             Disabled |\n",
            "+-------------------------------+----------------------+----------------------+\n",
            "                                                                               \n",
            "+-----------------------------------------------------------------------------+\n",
            "| Processes:                                                                  |\n",
            "|  GPU   GI   CI        PID   Type   Process name                  GPU Memory |\n",
            "|        ID   ID                                                   Usage      |\n",
            "|=============================================================================|\n",
            "|  No running processes found                                                 |\n",
            "+-----------------------------------------------------------------------------+\n"
          ]
        }
      ]
    },
    {
      "cell_type": "code",
      "source": [
        "# tf\n",
        "%tensorflow_version 2.x\n",
        "import tensorflow as tf\n",
        "device_name = tf.test.gpu_device_name()\n",
        "if device_name != '/device:GPU:0':\n",
        "  raise SystemError('GPU device not found')\n",
        "print('Found GPU at: {}'.format(device_name))"
      ],
      "metadata": {
        "colab": {
          "base_uri": "https://localhost:8080/"
        },
        "id": "78UU0z1RgWa2",
        "outputId": "34741aff-3d26-420a-8530-5a677fadb8cb"
      },
      "execution_count": 3,
      "outputs": [
        {
          "output_type": "stream",
          "name": "stdout",
          "text": [
            "Found GPU at: /device:GPU:0\n"
          ]
        }
      ]
    },
    {
      "cell_type": "markdown",
      "source": [
        "- libraries"
      ],
      "metadata": {
        "id": "DrcDoo6PgugA"
      }
    },
    {
      "cell_type": "code",
      "source": [
        "%tensorflow_version 2.x\n",
        "# batch ingestion of pics without pickle\n",
        "from tensorflow.keras.preprocessing import image_dataset_from_directory\n",
        "\n",
        "# nns\n",
        "from tensorflow.keras.applications import ResNet50 \n",
        "\n",
        "from tensorflow.keras import Model\n",
        "from tensorflow.keras.models import load_model # Sequential\n",
        "from tensorflow.keras import layers \n",
        "\n",
        "# optimization\n",
        "from tensorflow.keras.optimizers import SGD #Adam\n",
        "from tensorflow.keras.losses import SparseCategoricalCrossentropy, categorical_crossentropy\n",
        "from tensorflow.keras.callbacks import EarlyStopping\n",
        "\n",
        "# nn architectures, metrics, viz & reports => written in my_functions202202 file\n",
        "import sys\n",
        "sys.path.append(\"/content/drive/My Drive/2-Estudios/viu-master_ai/tfm-deep_vision/src\")\n",
        "from my_functions202202 import generic_last_2layers, plotting_model, model_evaluation, classification_report_pic, confusion_matrix_report\n",
        "\n",
        "import numpy as np\n",
        "%matplotlib inline\n",
        "\n",
        "# navigating through folder\n",
        "import os"
      ],
      "metadata": {
        "id": "6s5uRoIUgnYB"
      },
      "execution_count": 4,
      "outputs": []
    },
    {
      "cell_type": "markdown",
      "source": [
        "- paths"
      ],
      "metadata": {
        "id": "xjxSsBrghLpa"
      }
    },
    {
      "cell_type": "code",
      "source": [
        "base_folder = \"/content/drive/My Drive/2-Estudios/viu-master_ai/tfm-deep_vision/\"\n",
        "test_folder = base_folder+\"input/dataset_synth_data-1test_3trainval/test_ds/\" \n",
        "print(test_folder)\n",
        "# regular folders for train set\n",
        "trainval_input = base_folder+\"input/dataset_synth_data-1test_3trainval/train_val_ds/\"\n",
        "irreg_input = base_folder+\"input/dataset_1test_5trainval_folders/train_val_ds/trainval_irregular_partitions/\"\n",
        "src_folder =  base_folder+\"src/\"\n",
        "output_folder = base_folder + \"/output/\""
      ],
      "metadata": {
        "colab": {
          "base_uri": "https://localhost:8080/"
        },
        "id": "3H_hdZiohIaj",
        "outputId": "2989d6ea-08d7-4774-a90f-b722b590087b"
      },
      "execution_count": 5,
      "outputs": [
        {
          "output_type": "stream",
          "name": "stdout",
          "text": [
            "/content/drive/My Drive/2-Estudios/viu-master_ai/tfm-deep_vision/input/dataset_synth_data-1test_3trainval/test_ds/\n"
          ]
        }
      ]
    },
    {
      "cell_type": "code",
      "source": [
        ""
      ],
      "metadata": {
        "id": "QArJxPADhlXP"
      },
      "execution_count": null,
      "outputs": []
    }
  ]
}